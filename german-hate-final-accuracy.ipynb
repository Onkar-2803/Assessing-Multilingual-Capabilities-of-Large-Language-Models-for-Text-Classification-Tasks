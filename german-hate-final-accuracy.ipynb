{
 "cells": [
  {
   "cell_type": "code",
   "execution_count": 1,
   "id": "69aaaa1d",
   "metadata": {},
   "outputs": [],
   "source": [
    "import pandas as pd"
   ]
  },
  {
   "cell_type": "code",
   "execution_count": 2,
   "id": "05c4f89a",
   "metadata": {},
   "outputs": [],
   "source": [
    "test_all = pd.read_csv('test_german.csv')"
   ]
  },
  {
   "cell_type": "code",
   "execution_count": 3,
   "id": "449e7339",
   "metadata": {},
   "outputs": [
    {
     "data": {
      "text/plain": [
       "100"
      ]
     },
     "execution_count": 3,
     "metadata": {},
     "output_type": "execute_result"
    }
   ],
   "source": [
    "len(test_all)"
   ]
  },
  {
   "cell_type": "code",
   "execution_count": 4,
   "id": "c1912d9f",
   "metadata": {},
   "outputs": [
    {
     "data": {
      "text/html": [
       "<div>\n",
       "<style scoped>\n",
       "    .dataframe tbody tr th:only-of-type {\n",
       "        vertical-align: middle;\n",
       "    }\n",
       "\n",
       "    .dataframe tbody tr th {\n",
       "        vertical-align: top;\n",
       "    }\n",
       "\n",
       "    .dataframe thead th {\n",
       "        text-align: right;\n",
       "    }\n",
       "</style>\n",
       "<table border=\"1\" class=\"dataframe\">\n",
       "  <thead>\n",
       "    <tr style=\"text-align: right;\">\n",
       "      <th></th>\n",
       "      <th>c_text</th>\n",
       "      <th>hate_speech</th>\n",
       "    </tr>\n",
       "  </thead>\n",
       "  <tbody>\n",
       "    <tr>\n",
       "      <th>0</th>\n",
       "      <td>@SchwarzePalmen Dann werft mal @eckert_officia...</td>\n",
       "      <td>1.0</td>\n",
       "    </tr>\n",
       "    <tr>\n",
       "      <th>1</th>\n",
       "      <td>@Anemalon19 Gehts noch schlimmer Antifa auch n...</td>\n",
       "      <td>1.0</td>\n",
       "    </tr>\n",
       "    <tr>\n",
       "      <th>2</th>\n",
       "      <td>https://t.co/cs5KoavBp8 \\n\\nNRW Lusche \\nihr s...</td>\n",
       "      <td>1.0</td>\n",
       "    </tr>\n",
       "    <tr>\n",
       "      <th>3</th>\n",
       "      <td>@zvioxx @Yunus6197313228 @michnicht61 @MineaxV...</td>\n",
       "      <td>1.0</td>\n",
       "    </tr>\n",
       "    <tr>\n",
       "      <th>4</th>\n",
       "      <td>@Uwe_Junge_MdL Uwe, Du und Deine rechtsextreme...</td>\n",
       "      <td>1.0</td>\n",
       "    </tr>\n",
       "    <tr>\n",
       "      <th>...</th>\n",
       "      <td>...</td>\n",
       "      <td>...</td>\n",
       "    </tr>\n",
       "    <tr>\n",
       "      <th>95</th>\n",
       "      <td>@janboehm Ich hoffe, dass man so hart auch lin...</td>\n",
       "      <td>0.0</td>\n",
       "    </tr>\n",
       "    <tr>\n",
       "      <th>96</th>\n",
       "      <td>@BCasapietra @LibertyLucas26 @greenpeace_de Ma...</td>\n",
       "      <td>0.0</td>\n",
       "    </tr>\n",
       "    <tr>\n",
       "      <th>97</th>\n",
       "      <td>@jimmycd69 @Gewaltpeter @davidbest95 @greenpea...</td>\n",
       "      <td>0.0</td>\n",
       "    </tr>\n",
       "    <tr>\n",
       "      <th>98</th>\n",
       "      <td>@Steffgen1 @Crosshead16 @utopia235 @SteffenSch...</td>\n",
       "      <td>0.0</td>\n",
       "    </tr>\n",
       "    <tr>\n",
       "      <th>99</th>\n",
       "      <td>@Sondergesandter @Karl_Lauterbach ...und Astra...</td>\n",
       "      <td>0.0</td>\n",
       "    </tr>\n",
       "  </tbody>\n",
       "</table>\n",
       "<p>100 rows × 2 columns</p>\n",
       "</div>"
      ],
      "text/plain": [
       "                                               c_text  hate_speech\n",
       "0   @SchwarzePalmen Dann werft mal @eckert_officia...          1.0\n",
       "1   @Anemalon19 Gehts noch schlimmer Antifa auch n...          1.0\n",
       "2   https://t.co/cs5KoavBp8 \\n\\nNRW Lusche \\nihr s...          1.0\n",
       "3   @zvioxx @Yunus6197313228 @michnicht61 @MineaxV...          1.0\n",
       "4   @Uwe_Junge_MdL Uwe, Du und Deine rechtsextreme...          1.0\n",
       "..                                                ...          ...\n",
       "95  @janboehm Ich hoffe, dass man so hart auch lin...          0.0\n",
       "96  @BCasapietra @LibertyLucas26 @greenpeace_de Ma...          0.0\n",
       "97  @jimmycd69 @Gewaltpeter @davidbest95 @greenpea...          0.0\n",
       "98  @Steffgen1 @Crosshead16 @utopia235 @SteffenSch...          0.0\n",
       "99  @Sondergesandter @Karl_Lauterbach ...und Astra...          0.0\n",
       "\n",
       "[100 rows x 2 columns]"
      ]
     },
     "execution_count": 4,
     "metadata": {},
     "output_type": "execute_result"
    }
   ],
   "source": [
    "test_all"
   ]
  },
  {
   "cell_type": "code",
   "execution_count": 5,
   "id": "34f02f37",
   "metadata": {},
   "outputs": [],
   "source": [
    "labels = []\n",
    "for _y in test_all['hate_speech']:\n",
    "    if _y == 1:\n",
    "        labels.append('Hate')\n",
    "    else:\n",
    "        labels.append('Non-Hate')\n",
    "test_all['hate_speech'] = labels"
   ]
  },
  {
   "cell_type": "code",
   "execution_count": 6,
   "id": "e3d132b8",
   "metadata": {},
   "outputs": [
    {
     "data": {
      "text/html": [
       "<div>\n",
       "<style scoped>\n",
       "    .dataframe tbody tr th:only-of-type {\n",
       "        vertical-align: middle;\n",
       "    }\n",
       "\n",
       "    .dataframe tbody tr th {\n",
       "        vertical-align: top;\n",
       "    }\n",
       "\n",
       "    .dataframe thead th {\n",
       "        text-align: right;\n",
       "    }\n",
       "</style>\n",
       "<table border=\"1\" class=\"dataframe\">\n",
       "  <thead>\n",
       "    <tr style=\"text-align: right;\">\n",
       "      <th></th>\n",
       "      <th>c_text</th>\n",
       "      <th>hate_speech</th>\n",
       "    </tr>\n",
       "  </thead>\n",
       "  <tbody>\n",
       "    <tr>\n",
       "      <th>0</th>\n",
       "      <td>@SchwarzePalmen Dann werft mal @eckert_officia...</td>\n",
       "      <td>Hate</td>\n",
       "    </tr>\n",
       "    <tr>\n",
       "      <th>1</th>\n",
       "      <td>@Anemalon19 Gehts noch schlimmer Antifa auch n...</td>\n",
       "      <td>Hate</td>\n",
       "    </tr>\n",
       "    <tr>\n",
       "      <th>2</th>\n",
       "      <td>https://t.co/cs5KoavBp8 \\n\\nNRW Lusche \\nihr s...</td>\n",
       "      <td>Hate</td>\n",
       "    </tr>\n",
       "    <tr>\n",
       "      <th>3</th>\n",
       "      <td>@zvioxx @Yunus6197313228 @michnicht61 @MineaxV...</td>\n",
       "      <td>Hate</td>\n",
       "    </tr>\n",
       "    <tr>\n",
       "      <th>4</th>\n",
       "      <td>@Uwe_Junge_MdL Uwe, Du und Deine rechtsextreme...</td>\n",
       "      <td>Hate</td>\n",
       "    </tr>\n",
       "    <tr>\n",
       "      <th>...</th>\n",
       "      <td>...</td>\n",
       "      <td>...</td>\n",
       "    </tr>\n",
       "    <tr>\n",
       "      <th>95</th>\n",
       "      <td>@janboehm Ich hoffe, dass man so hart auch lin...</td>\n",
       "      <td>Non-Hate</td>\n",
       "    </tr>\n",
       "    <tr>\n",
       "      <th>96</th>\n",
       "      <td>@BCasapietra @LibertyLucas26 @greenpeace_de Ma...</td>\n",
       "      <td>Non-Hate</td>\n",
       "    </tr>\n",
       "    <tr>\n",
       "      <th>97</th>\n",
       "      <td>@jimmycd69 @Gewaltpeter @davidbest95 @greenpea...</td>\n",
       "      <td>Non-Hate</td>\n",
       "    </tr>\n",
       "    <tr>\n",
       "      <th>98</th>\n",
       "      <td>@Steffgen1 @Crosshead16 @utopia235 @SteffenSch...</td>\n",
       "      <td>Non-Hate</td>\n",
       "    </tr>\n",
       "    <tr>\n",
       "      <th>99</th>\n",
       "      <td>@Sondergesandter @Karl_Lauterbach ...und Astra...</td>\n",
       "      <td>Non-Hate</td>\n",
       "    </tr>\n",
       "  </tbody>\n",
       "</table>\n",
       "<p>100 rows × 2 columns</p>\n",
       "</div>"
      ],
      "text/plain": [
       "                                               c_text hate_speech\n",
       "0   @SchwarzePalmen Dann werft mal @eckert_officia...        Hate\n",
       "1   @Anemalon19 Gehts noch schlimmer Antifa auch n...        Hate\n",
       "2   https://t.co/cs5KoavBp8 \\n\\nNRW Lusche \\nihr s...        Hate\n",
       "3   @zvioxx @Yunus6197313228 @michnicht61 @MineaxV...        Hate\n",
       "4   @Uwe_Junge_MdL Uwe, Du und Deine rechtsextreme...        Hate\n",
       "..                                                ...         ...\n",
       "95  @janboehm Ich hoffe, dass man so hart auch lin...    Non-Hate\n",
       "96  @BCasapietra @LibertyLucas26 @greenpeace_de Ma...    Non-Hate\n",
       "97  @jimmycd69 @Gewaltpeter @davidbest95 @greenpea...    Non-Hate\n",
       "98  @Steffgen1 @Crosshead16 @utopia235 @SteffenSch...    Non-Hate\n",
       "99  @Sondergesandter @Karl_Lauterbach ...und Astra...    Non-Hate\n",
       "\n",
       "[100 rows x 2 columns]"
      ]
     },
     "execution_count": 6,
     "metadata": {},
     "output_type": "execute_result"
    }
   ],
   "source": [
    "test_all"
   ]
  },
  {
   "cell_type": "code",
   "execution_count": 7,
   "id": "5ace60c5",
   "metadata": {},
   "outputs": [],
   "source": [
    "ground_truth = pd.DataFrame()\n",
    "ground_truth['label'] = test_all['hate_speech']\n",
    "\n",
    "ground_truth.to_csv('results/truth.txt')"
   ]
  },
  {
   "cell_type": "code",
   "execution_count": 14,
   "id": "0d7c287c",
   "metadata": {},
   "outputs": [],
   "source": [
    "import pandas as pd\n",
    "\n",
    "ground_truth = pd.read_csv('results/truth.txt')\n",
    "\n",
    "truth = list(ground_truth['label'])"
   ]
  },
  {
   "cell_type": "code",
   "execution_count": 15,
   "id": "51d6c420",
   "metadata": {},
   "outputs": [],
   "source": [
    "from sklearn.metrics import classification_report"
   ]
  },
  {
   "cell_type": "code",
   "execution_count": 16,
   "id": "7a75147d",
   "metadata": {},
   "outputs": [],
   "source": [
    "from sklearn.metrics import accuracy_score, precision_score, recall_score, f1_score, classification_report\n",
    "\n",
    "def calculate_metrics(actual, predicted):\n",
    "    accuracy = accuracy_score(actual, predicted)\n",
    "    precision = precision_score(actual, predicted, average='macro')\n",
    "    recall = recall_score(actual, predicted, average='macro')\n",
    "    f1_macro = f1_score(actual, predicted, average='macro')\n",
    "    f1_micro = f1_score(actual, predicted, average='micro')\n",
    "    print(\"Accuracy: \", accuracy)\n",
    "    print(\"Precision: \", precision)\n",
    "    print(\"Recall: \", recall)\n",
    "    print(\"f1_macro: \", f1_macro)\n",
    "    print(\"f1_micro: \", f1_micro)"
   ]
  },
  {
   "cell_type": "code",
   "execution_count": 19,
   "id": "40499475",
   "metadata": {},
   "outputs": [],
   "source": [
    "def generate_report(filePath, preprocessFunc = None):\n",
    "    preds = []\n",
    "    with open(filePath) as file:\n",
    "        for line in file: \n",
    "            line = line.strip() #or some other preprocessing\n",
    "            preds.append(line) #storing everything in memory!\n",
    "            \n",
    "    if preprocessFunc is not None:\n",
    "        preds = preprocessFunc(preds)\n",
    "    \n",
    "    assert len(set(truth)) == len(set(preds))\n",
    "    \n",
    "#     preds = le.transform(preds)\n",
    "    \n",
    "    calculate_metrics(truth, preds)\n",
    "    \n",
    "#     return report"
   ]
  },
  {
   "cell_type": "code",
   "execution_count": 21,
   "id": "c38ef42c",
   "metadata": {},
   "outputs": [
    {
     "name": "stdout",
     "output_type": "stream",
     "text": [
      "MODEL: chatgpt\n",
      "Accuracy:  0.83\n",
      "Precision:  0.8333333333333334\n",
      "Recall:  0.8300000000000001\n",
      "f1_macro:  0.8295739348370927\n",
      "f1_micro:  0.83\n",
      "None\n",
      "MODEL: perplexity\n",
      "Accuracy:  0.77\n",
      "Precision:  0.805291723202171\n",
      "Recall:  0.77\n",
      "f1_macro:  0.7631551848419318\n",
      "f1_micro:  0.7699999999999999\n",
      "None\n",
      "MODEL: huggingchat\n",
      "Accuracy:  0.65\n",
      "Precision:  0.7260397830018083\n",
      "Recall:  0.6499999999999999\n",
      "f1_macro:  0.6178622120318811\n",
      "f1_micro:  0.65\n",
      "None\n"
     ]
    }
   ],
   "source": [
    "files = [ 'chatgpt', 'perplexity', 'huggingchat']\n",
    "\n",
    "for fi in files:\n",
    "    print(f'MODEL: {fi}')\n",
    "    report = generate_report(f'results/{fi}.txt', None)\n",
    "    print(report)"
   ]
  },
  {
   "cell_type": "code",
   "execution_count": 10,
   "id": "18f72304",
   "metadata": {},
   "outputs": [],
   "source": [
    "def generate_report(filePath, preprocessFunc = None):\n",
    "    lines = []\n",
    "    with open(filePath) as file:\n",
    "        for line in file: \n",
    "            line = line.strip() #or some other preprocessing\n",
    "            lines.append(line) #storing everything in memory!\n",
    "            \n",
    "    if preprocessFunc is not None:\n",
    "        preds = preprocessFunc(lines)\n",
    "    \n",
    "    truth = []\n",
    "    for t in truthLabels:\n",
    "        if t == 'Hate':\n",
    "            truth.append(1)\n",
    "        else:\n",
    "            truth.append(0)\n",
    "\n",
    "    \n",
    "    preds = []\n",
    "    for t in lines:\n",
    "        if t == 'Hate':\n",
    "            preds.append(1)\n",
    "        else:\n",
    "            preds.append(0)\n",
    "    \n",
    "#     print(truth)\n",
    "#     print(preds)\n",
    "    report = classification_report(truth, preds)\n",
    "    \n",
    "    return report"
   ]
  },
  {
   "cell_type": "code",
   "execution_count": 83,
   "id": "15350977",
   "metadata": {},
   "outputs": [],
   "source": [
    "lines = []\n",
    "with open('results/chatgpt.txt') as file:\n",
    "    for line in file: \n",
    "        line = line.strip() #or some other preprocessing\n",
    "        lines.append(line) #storing everything in memory!"
   ]
  },
  {
   "cell_type": "code",
   "execution_count": 84,
   "id": "e97425d8",
   "metadata": {},
   "outputs": [
    {
     "data": {
      "text/plain": [
       "['1. Hate',\n",
       " '2. Hate',\n",
       " '3. Non-Hate',\n",
       " '4. Hate',\n",
       " '5. Hate',\n",
       " '5. Non-Hate',\n",
       " '6. Non-Hate',\n",
       " '7. Hate',\n",
       " '8. Hate',\n",
       " '9. Hate',\n",
       " '10. Hate',\n",
       " '11. Hate',\n",
       " '12. Hate',\n",
       " '13. Hate',\n",
       " '14. Hate',\n",
       " '15. Non-Hate',\n",
       " '16. Hate',\n",
       " '17. Hate',\n",
       " '18. Hate',\n",
       " '19. Hate',\n",
       " '20. Hate',\n",
       " '21. Hate',\n",
       " '22. Hate',\n",
       " '23. Hate',\n",
       " '24. Hate',\n",
       " '25. Hate',\n",
       " '26. Hate',\n",
       " '27. Hate',\n",
       " '28. Hate',\n",
       " '29. Hate',\n",
       " '30. Hate',\n",
       " '31. Hate',\n",
       " '32. Hate',\n",
       " '33. Hate',\n",
       " '34. Hate',\n",
       " '35. Hate',\n",
       " '36. Hate',\n",
       " '37. Non-Hate',\n",
       " '38. Hate',\n",
       " '39. Hate',\n",
       " '40. Non-Hate',\n",
       " '41. Hate',\n",
       " '42. Hate',\n",
       " '43. Hate',\n",
       " '44. Hate',\n",
       " '45. Hate',\n",
       " '46. Hate',\n",
       " '47. Hate',\n",
       " '48. Hate',\n",
       " '49. Hate',\n",
       " '50. Non-Hate',\n",
       " '51. Non-Hate',\n",
       " '52. Non-Hate',\n",
       " '53. Non-Hate',\n",
       " '54. Non-Hate',\n",
       " '55. Non-Hate',\n",
       " '56. Non-Hate',\n",
       " '57. Non-Hate',\n",
       " '58. Non-Hate',\n",
       " '59. Non-Hate',\n",
       " '60. Hate',\n",
       " '61. Non-Hate',\n",
       " '62. Non-Hate',\n",
       " '63. Non-Hate',\n",
       " '64. Non-Hate',\n",
       " '65. Hate',\n",
       " '66. Non-Hate',\n",
       " '67. Non-Hate',\n",
       " '68. Non-Hate',\n",
       " '69. Hate',\n",
       " '70. Non-Hate',\n",
       " '71. Non-Hate',\n",
       " '72. Non-Hate',\n",
       " '73. Non-Hate',\n",
       " '74. Hate',\n",
       " '75. Non-Hate',\n",
       " '76. Hate',\n",
       " '77. Hate',\n",
       " '78. Non-Hate',\n",
       " '79. Non-Hate',\n",
       " '80. Non-Hate',\n",
       " '81. Hate',\n",
       " '82. Non-Hate',\n",
       " '83. Hate',\n",
       " '84. Non-Hate',\n",
       " '85. Non-Hate',\n",
       " '86. Non-Hate',\n",
       " '87. Non-Hate',\n",
       " '88. Non-Hate',\n",
       " '89. Non-Hate',\n",
       " '90. Non-Hate',\n",
       " '91. Non-Hate',\n",
       " '92. Hate',\n",
       " '93. Non-Hate',\n",
       " '94. Non-Hate',\n",
       " '95. Hate',\n",
       " '96. Non-Hate',\n",
       " '97. Non-Hate',\n",
       " '98. Non-Hate',\n",
       " '99. Hate']"
      ]
     },
     "execution_count": 84,
     "metadata": {},
     "output_type": "execute_result"
    }
   ],
   "source": [
    "lines"
   ]
  },
  {
   "cell_type": "code",
   "execution_count": 76,
   "id": "c61bcc7b",
   "metadata": {},
   "outputs": [],
   "source": [
    "def preprocessFunc(lines):\n",
    "    return [line[3:].lstrip() for line in lines]"
   ]
  },
  {
   "cell_type": "code",
   "execution_count": 85,
   "id": "24b97b54",
   "metadata": {},
   "outputs": [
    {
     "name": "stdout",
     "output_type": "stream",
     "text": [
      "[1, 1, 1, 1, 1, 1, 1, 1, 1, 1, 1, 1, 1, 1, 1, 1, 1, 1, 1, 1, 1, 1, 1, 1, 1, 1, 1, 1, 1, 1, 1, 1, 1, 1, 1, 1, 1, 1, 1, 1, 1, 1, 1, 1, 1, 1, 1, 1, 1, 1, 0, 0, 0, 0, 0, 0, 0, 0, 0, 0, 0, 0, 0, 0, 0, 0, 0, 0, 0, 0, 0, 0, 0, 0, 0, 0, 0, 0, 0, 0, 0, 0, 0, 0, 0, 0, 0, 0, 0, 0, 0, 0, 0, 0, 0, 0, 0, 0, 0, 0]\n",
      "[1, 1, 0, 1, 1, 0, 0, 1, 1, 1, 1, 1, 1, 1, 1, 0, 1, 1, 1, 1, 1, 1, 1, 1, 1, 1, 1, 1, 1, 1, 1, 1, 1, 1, 1, 1, 1, 0, 1, 1, 0, 1, 1, 1, 1, 1, 1, 1, 1, 1, 0, 0, 0, 0, 0, 0, 0, 0, 0, 0, 1, 0, 0, 0, 0, 1, 0, 0, 0, 1, 0, 0, 0, 0, 1, 0, 1, 1, 0, 0, 0, 1, 0, 1, 0, 0, 0, 0, 0, 0, 0, 0, 1, 0, 0, 1, 0, 0, 0, 1]\n"
     ]
    }
   ],
   "source": [
    "report = generate_report('results/chatgpt.txt', None)"
   ]
  },
  {
   "cell_type": "code",
   "execution_count": 86,
   "id": "3d2d3767",
   "metadata": {},
   "outputs": [
    {
     "name": "stdout",
     "output_type": "stream",
     "text": [
      "              precision    recall  f1-score   support\n",
      "\n",
      "           0       0.87      0.78      0.82        50\n",
      "           1       0.80      0.88      0.84        50\n",
      "\n",
      "    accuracy                           0.83       100\n",
      "   macro avg       0.83      0.83      0.83       100\n",
      "weighted avg       0.83      0.83      0.83       100\n",
      "\n"
     ]
    }
   ],
   "source": [
    "print(report)"
   ]
  },
  {
   "cell_type": "code",
   "execution_count": 79,
   "id": "7c21b530",
   "metadata": {},
   "outputs": [
    {
     "name": "stdout",
     "output_type": "stream",
     "text": [
      "[1, 1, 1, 1, 1, 1, 1, 1, 1, 1, 1, 1, 1, 1, 1, 1, 1, 1, 1, 1, 1, 1, 1, 1, 1, 1, 1, 1, 1, 1, 1, 1, 1, 1, 1, 1, 1, 1, 1, 1, 1, 1, 1, 1, 1, 1, 1, 1, 1, 1, 0, 0, 0, 0, 0, 0, 0, 0, 0, 0, 0, 0, 0, 0, 0, 0, 0, 0, 0, 0, 0, 0, 0, 0, 0, 0, 0, 0, 0, 0, 0, 0, 0, 0, 0, 0, 0, 0, 0, 0, 0, 0, 0, 0, 0, 0, 0, 0, 0, 0]\n",
      "[1, 1, 1, 1, 1, 0, 0, 0, 1, 1, 1, 1, 1, 1, 1, 1, 1, 1, 1, 1, 1, 1, 1, 1, 1, 1, 1, 1, 1, 1, 1, 1, 1, 1, 1, 1, 1, 1, 1, 1, 1, 1, 1, 1, 1, 1, 1, 1, 1, 1, 0, 0, 0, 0, 1, 1, 0, 0, 1, 1, 1, 1, 0, 1, 1, 1, 0, 0, 0, 1, 0, 0, 1, 0, 1, 1, 1, 1, 0, 0, 1, 0, 0, 1, 0, 1, 0, 0, 0, 1, 0, 0, 0, 0, 0, 1, 0, 0, 0, 0]\n"
     ]
    }
   ],
   "source": [
    "report = generate_report('results/perplexity.txt', None)"
   ]
  },
  {
   "cell_type": "code",
   "execution_count": 80,
   "id": "0076f7be",
   "metadata": {},
   "outputs": [
    {
     "name": "stdout",
     "output_type": "stream",
     "text": [
      "              precision    recall  f1-score   support\n",
      "\n",
      "           0       0.91      0.60      0.72        50\n",
      "           1       0.70      0.94      0.80        50\n",
      "\n",
      "    accuracy                           0.77       100\n",
      "   macro avg       0.81      0.77      0.76       100\n",
      "weighted avg       0.81      0.77      0.76       100\n",
      "\n"
     ]
    }
   ],
   "source": [
    "print(report)"
   ]
  },
  {
   "cell_type": "code",
   "execution_count": 81,
   "id": "9a03788d",
   "metadata": {},
   "outputs": [
    {
     "name": "stdout",
     "output_type": "stream",
     "text": [
      "/Users/ekdnam/Documents/SP23/CSE291/project/german/hate\r\n"
     ]
    }
   ],
   "source": [
    "!pwd"
   ]
  },
  {
   "cell_type": "code",
   "execution_count": 82,
   "id": "0716a2a9",
   "metadata": {},
   "outputs": [
    {
     "name": "stdout",
     "output_type": "stream",
     "text": [
      "[1, 1, 1, 1, 1, 1, 1, 1, 1, 1, 1, 1, 1, 1, 1, 1, 1, 1, 1, 1, 1, 1, 1, 1, 1, 1, 1, 1, 1, 1, 1, 1, 1, 1, 1, 1, 1, 1, 1, 1, 1, 1, 1, 1, 1, 1, 1, 1, 1, 1, 0, 0, 0, 0, 0, 0, 0, 0, 0, 0, 0, 0, 0, 0, 0, 0, 0, 0, 0, 0, 0, 0, 0, 0, 0, 0, 0, 0, 0, 0, 0, 0, 0, 0, 0, 0, 0, 0, 0, 0, 0, 0, 0, 0, 0, 0, 0, 0, 0, 0]\n",
      "[1, 1, 1, 1, 1, 1, 1, 0, 1, 1, 1, 0, 1, 1, 1, 1, 1, 1, 1, 1, 1, 1, 1, 1, 1, 1, 1, 1, 1, 1, 1, 1, 1, 1, 1, 1, 1, 1, 1, 1, 0, 1, 1, 1, 1, 1, 1, 1, 1, 1, 1, 0, 1, 1, 0, 1, 0, 1, 1, 1, 1, 0, 1, 1, 1, 0, 0, 1, 0, 1, 1, 1, 1, 1, 0, 1, 0, 1, 1, 0, 0, 1, 0, 1, 0, 1, 0, 1, 1, 0, 0, 1, 1, 1, 1, 1, 0, 1, 0, 1]\n",
      "              precision    recall  f1-score   support\n",
      "\n",
      "           0       0.86      0.36      0.51        50\n",
      "           1       0.59      0.94      0.73        50\n",
      "\n",
      "    accuracy                           0.65       100\n",
      "   macro avg       0.73      0.65      0.62       100\n",
      "weighted avg       0.73      0.65      0.62       100\n",
      "\n"
     ]
    }
   ],
   "source": [
    "report = generate_report('results/huggingchat.txt', None)\n",
    "print(report)"
   ]
  },
  {
   "cell_type": "code",
   "execution_count": 1,
   "id": "1c91bd46",
   "metadata": {},
   "outputs": [
    {
     "name": "stdout",
     "output_type": "stream",
     "text": [
      "/Users/ekdnam/Documents/SP23/CSE291/project/german/hate\r\n"
     ]
    }
   ],
   "source": [
    "!pwd"
   ]
  },
  {
   "cell_type": "code",
   "execution_count": 11,
   "id": "608d3484",
   "metadata": {},
   "outputs": [
    {
     "name": "stdout",
     "output_type": "stream",
     "text": [
      "MODEL: perplexity\n",
      "              precision    recall  f1-score   support\n",
      "\n",
      "           0       0.91      0.60      0.72        50\n",
      "           1       0.70      0.94      0.80        50\n",
      "\n",
      "    accuracy                           0.77       100\n",
      "   macro avg       0.81      0.77      0.76       100\n",
      "weighted avg       0.81      0.77      0.76       100\n",
      "\n",
      "MODEL: chatgpt\n",
      "              precision    recall  f1-score   support\n",
      "\n",
      "           0       0.87      0.78      0.82        50\n",
      "           1       0.80      0.88      0.84        50\n",
      "\n",
      "    accuracy                           0.83       100\n",
      "   macro avg       0.83      0.83      0.83       100\n",
      "weighted avg       0.83      0.83      0.83       100\n",
      "\n",
      "MODEL: huggingchat\n",
      "              precision    recall  f1-score   support\n",
      "\n",
      "           0       0.86      0.36      0.51        50\n",
      "           1       0.59      0.94      0.73        50\n",
      "\n",
      "    accuracy                           0.65       100\n",
      "   macro avg       0.73      0.65      0.62       100\n",
      "weighted avg       0.73      0.65      0.62       100\n",
      "\n"
     ]
    }
   ],
   "source": [
    "files = ['perplexity', 'chatgpt', 'huggingchat']\n",
    "\n",
    "for fi in files:\n",
    "    print(f'MODEL: {fi}')\n",
    "    report = generate_report(f'results/{fi}.txt', None)\n",
    "    print(report)"
   ]
  },
  {
   "cell_type": "code",
   "execution_count": 12,
   "id": "e9e6bafa",
   "metadata": {},
   "outputs": [
    {
     "name": "stdout",
     "output_type": "stream",
     "text": [
      "/Users/ekdnam/Documents/SP23/CSE291/project/german/hate\r\n"
     ]
    }
   ],
   "source": [
    "!pwd"
   ]
  },
  {
   "cell_type": "code",
   "execution_count": null,
   "id": "9a1a7fea",
   "metadata": {},
   "outputs": [],
   "source": []
  }
 ],
 "metadata": {
  "kernelspec": {
   "display_name": "Python 3 (ipykernel)",
   "language": "python",
   "name": "python3"
  },
  "language_info": {
   "codemirror_mode": {
    "name": "ipython",
    "version": 3
   },
   "file_extension": ".py",
   "mimetype": "text/x-python",
   "name": "python",
   "nbconvert_exporter": "python",
   "pygments_lexer": "ipython3",
   "version": "3.10.11"
  }
 },
 "nbformat": 4,
 "nbformat_minor": 5
}
