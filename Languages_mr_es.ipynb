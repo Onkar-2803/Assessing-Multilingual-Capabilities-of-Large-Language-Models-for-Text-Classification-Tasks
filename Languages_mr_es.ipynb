{
  "nbformat": 4,
  "nbformat_minor": 0,
  "metadata": {
    "colab": {
      "provenance": [],
      "collapsed_sections": [
        "Gp70xn8kJMyU",
        "ScqxNVetkTmw",
        "58qPIiZcm4LD",
        "NrPgFP0YnUqd",
        "3rNWpNkXD4Ph",
        "lj_nFJZJfHRY",
        "7uocIVwKJPRu",
        "JeZn1x6lfJ4K",
        "bTvxGZJ5fXyi",
        "Io5ouAPLhpRd",
        "A6FjQxVkjBoW",
        "leeeoF7Y49aB",
        "tFYWLMbp-GXD",
        "0lH9vniO-vD-",
        "vCpeLRRPAHUo",
        "Avj_MZkPBfPn",
        "KsJI3a9cRI9P",
        "tsmjxPIoSR0h",
        "5zeBZWMDS55t",
        "MAtga_4YTQoG",
        "dJNtxwniVjpy",
        "Pv9nnpavWtEu",
        "-umNgciqZk_T",
        "ijMHXGzXaSn5"
      ],
      "gpuType": "T4"
    },
    "kernelspec": {
      "name": "python3",
      "display_name": "Python 3"
    },
    "language_info": {
      "name": "python"
    },
    "accelerator": "GPU",
    "gpuClass": "standard",
    "widgets": {
      "application/vnd.jupyter.widget-state+json": {
        "6dd2d6ec8f8e4622b4c1a6572800094d": {
          "model_module": "@jupyter-widgets/controls",
          "model_name": "HBoxModel",
          "model_module_version": "1.5.0",
          "state": {
            "_dom_classes": [],
            "_model_module": "@jupyter-widgets/controls",
            "_model_module_version": "1.5.0",
            "_model_name": "HBoxModel",
            "_view_count": null,
            "_view_module": "@jupyter-widgets/controls",
            "_view_module_version": "1.5.0",
            "_view_name": "HBoxView",
            "box_style": "",
            "children": [
              "IPY_MODEL_281249128b1346b680982a68794066a1",
              "IPY_MODEL_8daddcaefc204fa5bacbca4d7e10f25f",
              "IPY_MODEL_4b25714f81754da892c473456ee44c78"
            ],
            "layout": "IPY_MODEL_3417666f2756425f9309f596a170b16c"
          }
        },
        "281249128b1346b680982a68794066a1": {
          "model_module": "@jupyter-widgets/controls",
          "model_name": "HTMLModel",
          "model_module_version": "1.5.0",
          "state": {
            "_dom_classes": [],
            "_model_module": "@jupyter-widgets/controls",
            "_model_module_version": "1.5.0",
            "_model_name": "HTMLModel",
            "_view_count": null,
            "_view_module": "@jupyter-widgets/controls",
            "_view_module_version": "1.5.0",
            "_view_name": "HTMLView",
            "description": "",
            "description_tooltip": null,
            "layout": "IPY_MODEL_5e1a346e21254e468f5e0c4a57c09fe3",
            "placeholder": "​",
            "style": "IPY_MODEL_ca7cce0a25a9409daf55225df397ab9a",
            "value": "Downloading (…)lve/main/config.json: 100%"
          }
        },
        "8daddcaefc204fa5bacbca4d7e10f25f": {
          "model_module": "@jupyter-widgets/controls",
          "model_name": "FloatProgressModel",
          "model_module_version": "1.5.0",
          "state": {
            "_dom_classes": [],
            "_model_module": "@jupyter-widgets/controls",
            "_model_module_version": "1.5.0",
            "_model_name": "FloatProgressModel",
            "_view_count": null,
            "_view_module": "@jupyter-widgets/controls",
            "_view_module_version": "1.5.0",
            "_view_name": "ProgressView",
            "bar_style": "success",
            "description": "",
            "description_tooltip": null,
            "layout": "IPY_MODEL_7b860bc194c544799650e8411b556e87",
            "max": 892,
            "min": 0,
            "orientation": "horizontal",
            "style": "IPY_MODEL_179f81a1472542e4af04f09fb7e1e89f",
            "value": 892
          }
        },
        "4b25714f81754da892c473456ee44c78": {
          "model_module": "@jupyter-widgets/controls",
          "model_name": "HTMLModel",
          "model_module_version": "1.5.0",
          "state": {
            "_dom_classes": [],
            "_model_module": "@jupyter-widgets/controls",
            "_model_module_version": "1.5.0",
            "_model_name": "HTMLModel",
            "_view_count": null,
            "_view_module": "@jupyter-widgets/controls",
            "_view_module_version": "1.5.0",
            "_view_name": "HTMLView",
            "description": "",
            "description_tooltip": null,
            "layout": "IPY_MODEL_338a8c596f3a477fade89cd703ae2f0b",
            "placeholder": "​",
            "style": "IPY_MODEL_2ef8a81d9f0149c996a12ccb4d2af999",
            "value": " 892/892 [00:00&lt;00:00, 39.1kB/s]"
          }
        },
        "3417666f2756425f9309f596a170b16c": {
          "model_module": "@jupyter-widgets/base",
          "model_name": "LayoutModel",
          "model_module_version": "1.2.0",
          "state": {
            "_model_module": "@jupyter-widgets/base",
            "_model_module_version": "1.2.0",
            "_model_name": "LayoutModel",
            "_view_count": null,
            "_view_module": "@jupyter-widgets/base",
            "_view_module_version": "1.2.0",
            "_view_name": "LayoutView",
            "align_content": null,
            "align_items": null,
            "align_self": null,
            "border": null,
            "bottom": null,
            "display": null,
            "flex": null,
            "flex_flow": null,
            "grid_area": null,
            "grid_auto_columns": null,
            "grid_auto_flow": null,
            "grid_auto_rows": null,
            "grid_column": null,
            "grid_gap": null,
            "grid_row": null,
            "grid_template_areas": null,
            "grid_template_columns": null,
            "grid_template_rows": null,
            "height": null,
            "justify_content": null,
            "justify_items": null,
            "left": null,
            "margin": null,
            "max_height": null,
            "max_width": null,
            "min_height": null,
            "min_width": null,
            "object_fit": null,
            "object_position": null,
            "order": null,
            "overflow": null,
            "overflow_x": null,
            "overflow_y": null,
            "padding": null,
            "right": null,
            "top": null,
            "visibility": null,
            "width": null
          }
        },
        "5e1a346e21254e468f5e0c4a57c09fe3": {
          "model_module": "@jupyter-widgets/base",
          "model_name": "LayoutModel",
          "model_module_version": "1.2.0",
          "state": {
            "_model_module": "@jupyter-widgets/base",
            "_model_module_version": "1.2.0",
            "_model_name": "LayoutModel",
            "_view_count": null,
            "_view_module": "@jupyter-widgets/base",
            "_view_module_version": "1.2.0",
            "_view_name": "LayoutView",
            "align_content": null,
            "align_items": null,
            "align_self": null,
            "border": null,
            "bottom": null,
            "display": null,
            "flex": null,
            "flex_flow": null,
            "grid_area": null,
            "grid_auto_columns": null,
            "grid_auto_flow": null,
            "grid_auto_rows": null,
            "grid_column": null,
            "grid_gap": null,
            "grid_row": null,
            "grid_template_areas": null,
            "grid_template_columns": null,
            "grid_template_rows": null,
            "height": null,
            "justify_content": null,
            "justify_items": null,
            "left": null,
            "margin": null,
            "max_height": null,
            "max_width": null,
            "min_height": null,
            "min_width": null,
            "object_fit": null,
            "object_position": null,
            "order": null,
            "overflow": null,
            "overflow_x": null,
            "overflow_y": null,
            "padding": null,
            "right": null,
            "top": null,
            "visibility": null,
            "width": null
          }
        },
        "ca7cce0a25a9409daf55225df397ab9a": {
          "model_module": "@jupyter-widgets/controls",
          "model_name": "DescriptionStyleModel",
          "model_module_version": "1.5.0",
          "state": {
            "_model_module": "@jupyter-widgets/controls",
            "_model_module_version": "1.5.0",
            "_model_name": "DescriptionStyleModel",
            "_view_count": null,
            "_view_module": "@jupyter-widgets/base",
            "_view_module_version": "1.2.0",
            "_view_name": "StyleView",
            "description_width": ""
          }
        },
        "7b860bc194c544799650e8411b556e87": {
          "model_module": "@jupyter-widgets/base",
          "model_name": "LayoutModel",
          "model_module_version": "1.2.0",
          "state": {
            "_model_module": "@jupyter-widgets/base",
            "_model_module_version": "1.2.0",
            "_model_name": "LayoutModel",
            "_view_count": null,
            "_view_module": "@jupyter-widgets/base",
            "_view_module_version": "1.2.0",
            "_view_name": "LayoutView",
            "align_content": null,
            "align_items": null,
            "align_self": null,
            "border": null,
            "bottom": null,
            "display": null,
            "flex": null,
            "flex_flow": null,
            "grid_area": null,
            "grid_auto_columns": null,
            "grid_auto_flow": null,
            "grid_auto_rows": null,
            "grid_column": null,
            "grid_gap": null,
            "grid_row": null,
            "grid_template_areas": null,
            "grid_template_columns": null,
            "grid_template_rows": null,
            "height": null,
            "justify_content": null,
            "justify_items": null,
            "left": null,
            "margin": null,
            "max_height": null,
            "max_width": null,
            "min_height": null,
            "min_width": null,
            "object_fit": null,
            "object_position": null,
            "order": null,
            "overflow": null,
            "overflow_x": null,
            "overflow_y": null,
            "padding": null,
            "right": null,
            "top": null,
            "visibility": null,
            "width": null
          }
        },
        "179f81a1472542e4af04f09fb7e1e89f": {
          "model_module": "@jupyter-widgets/controls",
          "model_name": "ProgressStyleModel",
          "model_module_version": "1.5.0",
          "state": {
            "_model_module": "@jupyter-widgets/controls",
            "_model_module_version": "1.5.0",
            "_model_name": "ProgressStyleModel",
            "_view_count": null,
            "_view_module": "@jupyter-widgets/base",
            "_view_module_version": "1.2.0",
            "_view_name": "StyleView",
            "bar_color": null,
            "description_width": ""
          }
        },
        "338a8c596f3a477fade89cd703ae2f0b": {
          "model_module": "@jupyter-widgets/base",
          "model_name": "LayoutModel",
          "model_module_version": "1.2.0",
          "state": {
            "_model_module": "@jupyter-widgets/base",
            "_model_module_version": "1.2.0",
            "_model_name": "LayoutModel",
            "_view_count": null,
            "_view_module": "@jupyter-widgets/base",
            "_view_module_version": "1.2.0",
            "_view_name": "LayoutView",
            "align_content": null,
            "align_items": null,
            "align_self": null,
            "border": null,
            "bottom": null,
            "display": null,
            "flex": null,
            "flex_flow": null,
            "grid_area": null,
            "grid_auto_columns": null,
            "grid_auto_flow": null,
            "grid_auto_rows": null,
            "grid_column": null,
            "grid_gap": null,
            "grid_row": null,
            "grid_template_areas": null,
            "grid_template_columns": null,
            "grid_template_rows": null,
            "height": null,
            "justify_content": null,
            "justify_items": null,
            "left": null,
            "margin": null,
            "max_height": null,
            "max_width": null,
            "min_height": null,
            "min_width": null,
            "object_fit": null,
            "object_position": null,
            "order": null,
            "overflow": null,
            "overflow_x": null,
            "overflow_y": null,
            "padding": null,
            "right": null,
            "top": null,
            "visibility": null,
            "width": null
          }
        },
        "2ef8a81d9f0149c996a12ccb4d2af999": {
          "model_module": "@jupyter-widgets/controls",
          "model_name": "DescriptionStyleModel",
          "model_module_version": "1.5.0",
          "state": {
            "_model_module": "@jupyter-widgets/controls",
            "_model_module_version": "1.5.0",
            "_model_name": "DescriptionStyleModel",
            "_view_count": null,
            "_view_module": "@jupyter-widgets/base",
            "_view_module_version": "1.2.0",
            "_view_name": "StyleView",
            "description_width": ""
          }
        },
        "ecdeb46f49044f86b2ffcf902139ea50": {
          "model_module": "@jupyter-widgets/controls",
          "model_name": "HBoxModel",
          "model_module_version": "1.5.0",
          "state": {
            "_dom_classes": [],
            "_model_module": "@jupyter-widgets/controls",
            "_model_module_version": "1.5.0",
            "_model_name": "HBoxModel",
            "_view_count": null,
            "_view_module": "@jupyter-widgets/controls",
            "_view_module_version": "1.5.0",
            "_view_name": "HBoxView",
            "box_style": "",
            "children": [
              "IPY_MODEL_1734867134474de8afcd6731e766f522",
              "IPY_MODEL_ea2fc03ba7d6448eb7c78028c3d64a92",
              "IPY_MODEL_05d6bc7039a1408e8cf926ed3cfff29c"
            ],
            "layout": "IPY_MODEL_44ffc94e6b144aa9b14788cc0b146736"
          }
        },
        "1734867134474de8afcd6731e766f522": {
          "model_module": "@jupyter-widgets/controls",
          "model_name": "HTMLModel",
          "model_module_version": "1.5.0",
          "state": {
            "_dom_classes": [],
            "_model_module": "@jupyter-widgets/controls",
            "_model_module_version": "1.5.0",
            "_model_name": "HTMLModel",
            "_view_count": null,
            "_view_module": "@jupyter-widgets/controls",
            "_view_module_version": "1.5.0",
            "_view_name": "HTMLView",
            "description": "",
            "description_tooltip": null,
            "layout": "IPY_MODEL_bd51b382e5d54959919d548446766c3f",
            "placeholder": "​",
            "style": "IPY_MODEL_344aa99c54bb42e08d821acf4f3cfa38",
            "value": "Downloading pytorch_model.bin: 100%"
          }
        },
        "ea2fc03ba7d6448eb7c78028c3d64a92": {
          "model_module": "@jupyter-widgets/controls",
          "model_name": "FloatProgressModel",
          "model_module_version": "1.5.0",
          "state": {
            "_dom_classes": [],
            "_model_module": "@jupyter-widgets/controls",
            "_model_module_version": "1.5.0",
            "_model_name": "FloatProgressModel",
            "_view_count": null,
            "_view_module": "@jupyter-widgets/controls",
            "_view_module_version": "1.5.0",
            "_view_name": "ProgressView",
            "bar_style": "success",
            "description": "",
            "description_tooltip": null,
            "layout": "IPY_MODEL_6b0dd7943f0647f7b75106937e022237",
            "max": 711502125,
            "min": 0,
            "orientation": "horizontal",
            "style": "IPY_MODEL_6bddf3745efe4e80b02f7007bd52e51e",
            "value": 711502125
          }
        },
        "05d6bc7039a1408e8cf926ed3cfff29c": {
          "model_module": "@jupyter-widgets/controls",
          "model_name": "HTMLModel",
          "model_module_version": "1.5.0",
          "state": {
            "_dom_classes": [],
            "_model_module": "@jupyter-widgets/controls",
            "_model_module_version": "1.5.0",
            "_model_name": "HTMLModel",
            "_view_count": null,
            "_view_module": "@jupyter-widgets/controls",
            "_view_module_version": "1.5.0",
            "_view_name": "HTMLView",
            "description": "",
            "description_tooltip": null,
            "layout": "IPY_MODEL_d1ef9b664479421e9f7b56cbffda04db",
            "placeholder": "​",
            "style": "IPY_MODEL_c03def38569a4e17a25a7957e4bf10eb",
            "value": " 712M/712M [00:11&lt;00:00, 73.1MB/s]"
          }
        },
        "44ffc94e6b144aa9b14788cc0b146736": {
          "model_module": "@jupyter-widgets/base",
          "model_name": "LayoutModel",
          "model_module_version": "1.2.0",
          "state": {
            "_model_module": "@jupyter-widgets/base",
            "_model_module_version": "1.2.0",
            "_model_name": "LayoutModel",
            "_view_count": null,
            "_view_module": "@jupyter-widgets/base",
            "_view_module_version": "1.2.0",
            "_view_name": "LayoutView",
            "align_content": null,
            "align_items": null,
            "align_self": null,
            "border": null,
            "bottom": null,
            "display": null,
            "flex": null,
            "flex_flow": null,
            "grid_area": null,
            "grid_auto_columns": null,
            "grid_auto_flow": null,
            "grid_auto_rows": null,
            "grid_column": null,
            "grid_gap": null,
            "grid_row": null,
            "grid_template_areas": null,
            "grid_template_columns": null,
            "grid_template_rows": null,
            "height": null,
            "justify_content": null,
            "justify_items": null,
            "left": null,
            "margin": null,
            "max_height": null,
            "max_width": null,
            "min_height": null,
            "min_width": null,
            "object_fit": null,
            "object_position": null,
            "order": null,
            "overflow": null,
            "overflow_x": null,
            "overflow_y": null,
            "padding": null,
            "right": null,
            "top": null,
            "visibility": null,
            "width": null
          }
        },
        "bd51b382e5d54959919d548446766c3f": {
          "model_module": "@jupyter-widgets/base",
          "model_name": "LayoutModel",
          "model_module_version": "1.2.0",
          "state": {
            "_model_module": "@jupyter-widgets/base",
            "_model_module_version": "1.2.0",
            "_model_name": "LayoutModel",
            "_view_count": null,
            "_view_module": "@jupyter-widgets/base",
            "_view_module_version": "1.2.0",
            "_view_name": "LayoutView",
            "align_content": null,
            "align_items": null,
            "align_self": null,
            "border": null,
            "bottom": null,
            "display": null,
            "flex": null,
            "flex_flow": null,
            "grid_area": null,
            "grid_auto_columns": null,
            "grid_auto_flow": null,
            "grid_auto_rows": null,
            "grid_column": null,
            "grid_gap": null,
            "grid_row": null,
            "grid_template_areas": null,
            "grid_template_columns": null,
            "grid_template_rows": null,
            "height": null,
            "justify_content": null,
            "justify_items": null,
            "left": null,
            "margin": null,
            "max_height": null,
            "max_width": null,
            "min_height": null,
            "min_width": null,
            "object_fit": null,
            "object_position": null,
            "order": null,
            "overflow": null,
            "overflow_x": null,
            "overflow_y": null,
            "padding": null,
            "right": null,
            "top": null,
            "visibility": null,
            "width": null
          }
        },
        "344aa99c54bb42e08d821acf4f3cfa38": {
          "model_module": "@jupyter-widgets/controls",
          "model_name": "DescriptionStyleModel",
          "model_module_version": "1.5.0",
          "state": {
            "_model_module": "@jupyter-widgets/controls",
            "_model_module_version": "1.5.0",
            "_model_name": "DescriptionStyleModel",
            "_view_count": null,
            "_view_module": "@jupyter-widgets/base",
            "_view_module_version": "1.2.0",
            "_view_name": "StyleView",
            "description_width": ""
          }
        },
        "6b0dd7943f0647f7b75106937e022237": {
          "model_module": "@jupyter-widgets/base",
          "model_name": "LayoutModel",
          "model_module_version": "1.2.0",
          "state": {
            "_model_module": "@jupyter-widgets/base",
            "_model_module_version": "1.2.0",
            "_model_name": "LayoutModel",
            "_view_count": null,
            "_view_module": "@jupyter-widgets/base",
            "_view_module_version": "1.2.0",
            "_view_name": "LayoutView",
            "align_content": null,
            "align_items": null,
            "align_self": null,
            "border": null,
            "bottom": null,
            "display": null,
            "flex": null,
            "flex_flow": null,
            "grid_area": null,
            "grid_auto_columns": null,
            "grid_auto_flow": null,
            "grid_auto_rows": null,
            "grid_column": null,
            "grid_gap": null,
            "grid_row": null,
            "grid_template_areas": null,
            "grid_template_columns": null,
            "grid_template_rows": null,
            "height": null,
            "justify_content": null,
            "justify_items": null,
            "left": null,
            "margin": null,
            "max_height": null,
            "max_width": null,
            "min_height": null,
            "min_width": null,
            "object_fit": null,
            "object_position": null,
            "order": null,
            "overflow": null,
            "overflow_x": null,
            "overflow_y": null,
            "padding": null,
            "right": null,
            "top": null,
            "visibility": null,
            "width": null
          }
        },
        "6bddf3745efe4e80b02f7007bd52e51e": {
          "model_module": "@jupyter-widgets/controls",
          "model_name": "ProgressStyleModel",
          "model_module_version": "1.5.0",
          "state": {
            "_model_module": "@jupyter-widgets/controls",
            "_model_module_version": "1.5.0",
            "_model_name": "ProgressStyleModel",
            "_view_count": null,
            "_view_module": "@jupyter-widgets/base",
            "_view_module_version": "1.2.0",
            "_view_name": "StyleView",
            "bar_color": null,
            "description_width": ""
          }
        },
        "d1ef9b664479421e9f7b56cbffda04db": {
          "model_module": "@jupyter-widgets/base",
          "model_name": "LayoutModel",
          "model_module_version": "1.2.0",
          "state": {
            "_model_module": "@jupyter-widgets/base",
            "_model_module_version": "1.2.0",
            "_model_name": "LayoutModel",
            "_view_count": null,
            "_view_module": "@jupyter-widgets/base",
            "_view_module_version": "1.2.0",
            "_view_name": "LayoutView",
            "align_content": null,
            "align_items": null,
            "align_self": null,
            "border": null,
            "bottom": null,
            "display": null,
            "flex": null,
            "flex_flow": null,
            "grid_area": null,
            "grid_auto_columns": null,
            "grid_auto_flow": null,
            "grid_auto_rows": null,
            "grid_column": null,
            "grid_gap": null,
            "grid_row": null,
            "grid_template_areas": null,
            "grid_template_columns": null,
            "grid_template_rows": null,
            "height": null,
            "justify_content": null,
            "justify_items": null,
            "left": null,
            "margin": null,
            "max_height": null,
            "max_width": null,
            "min_height": null,
            "min_width": null,
            "object_fit": null,
            "object_position": null,
            "order": null,
            "overflow": null,
            "overflow_x": null,
            "overflow_y": null,
            "padding": null,
            "right": null,
            "top": null,
            "visibility": null,
            "width": null
          }
        },
        "c03def38569a4e17a25a7957e4bf10eb": {
          "model_module": "@jupyter-widgets/controls",
          "model_name": "DescriptionStyleModel",
          "model_module_version": "1.5.0",
          "state": {
            "_model_module": "@jupyter-widgets/controls",
            "_model_module_version": "1.5.0",
            "_model_name": "DescriptionStyleModel",
            "_view_count": null,
            "_view_module": "@jupyter-widgets/base",
            "_view_module_version": "1.2.0",
            "_view_name": "StyleView",
            "description_width": ""
          }
        },
        "e5f2eb874bf149f1bc068f334810cbb8": {
          "model_module": "@jupyter-widgets/controls",
          "model_name": "HBoxModel",
          "model_module_version": "1.5.0",
          "state": {
            "_dom_classes": [],
            "_model_module": "@jupyter-widgets/controls",
            "_model_module_version": "1.5.0",
            "_model_name": "HBoxModel",
            "_view_count": null,
            "_view_module": "@jupyter-widgets/controls",
            "_view_module_version": "1.5.0",
            "_view_name": "HBoxView",
            "box_style": "",
            "children": [
              "IPY_MODEL_4658034f972c445aa5224ad185218862",
              "IPY_MODEL_a68332b168a145389f298b5c31ae8b1c",
              "IPY_MODEL_01fba53cb5d746a6b22ef616631427e8"
            ],
            "layout": "IPY_MODEL_e4cc69c9570e4c11b3491c7890b824bd"
          }
        },
        "4658034f972c445aa5224ad185218862": {
          "model_module": "@jupyter-widgets/controls",
          "model_name": "HTMLModel",
          "model_module_version": "1.5.0",
          "state": {
            "_dom_classes": [],
            "_model_module": "@jupyter-widgets/controls",
            "_model_module_version": "1.5.0",
            "_model_name": "HTMLModel",
            "_view_count": null,
            "_view_module": "@jupyter-widgets/controls",
            "_view_module_version": "1.5.0",
            "_view_name": "HTMLView",
            "description": "",
            "description_tooltip": null,
            "layout": "IPY_MODEL_d9d628c72ac34d178aded014c0fd3e72",
            "placeholder": "​",
            "style": "IPY_MODEL_b68e2defc5c24a0587d3f024493bef6e",
            "value": "Downloading (…)okenizer_config.json: 100%"
          }
        },
        "a68332b168a145389f298b5c31ae8b1c": {
          "model_module": "@jupyter-widgets/controls",
          "model_name": "FloatProgressModel",
          "model_module_version": "1.5.0",
          "state": {
            "_dom_classes": [],
            "_model_module": "@jupyter-widgets/controls",
            "_model_module_version": "1.5.0",
            "_model_name": "FloatProgressModel",
            "_view_count": null,
            "_view_module": "@jupyter-widgets/controls",
            "_view_module_version": "1.5.0",
            "_view_name": "ProgressView",
            "bar_style": "success",
            "description": "",
            "description_tooltip": null,
            "layout": "IPY_MODEL_d6daa031d5ea47b59386bf2e885b84d4",
            "max": 305,
            "min": 0,
            "orientation": "horizontal",
            "style": "IPY_MODEL_8bd05e064e9f45c68918df05ce772ee4",
            "value": 305
          }
        },
        "01fba53cb5d746a6b22ef616631427e8": {
          "model_module": "@jupyter-widgets/controls",
          "model_name": "HTMLModel",
          "model_module_version": "1.5.0",
          "state": {
            "_dom_classes": [],
            "_model_module": "@jupyter-widgets/controls",
            "_model_module_version": "1.5.0",
            "_model_name": "HTMLModel",
            "_view_count": null,
            "_view_module": "@jupyter-widgets/controls",
            "_view_module_version": "1.5.0",
            "_view_name": "HTMLView",
            "description": "",
            "description_tooltip": null,
            "layout": "IPY_MODEL_25fd602014d44f729284a6f2239a554b",
            "placeholder": "​",
            "style": "IPY_MODEL_9e7a20a063fc41f497c836c52b9677d9",
            "value": " 305/305 [00:00&lt;00:00, 3.96kB/s]"
          }
        },
        "e4cc69c9570e4c11b3491c7890b824bd": {
          "model_module": "@jupyter-widgets/base",
          "model_name": "LayoutModel",
          "model_module_version": "1.2.0",
          "state": {
            "_model_module": "@jupyter-widgets/base",
            "_model_module_version": "1.2.0",
            "_model_name": "LayoutModel",
            "_view_count": null,
            "_view_module": "@jupyter-widgets/base",
            "_view_module_version": "1.2.0",
            "_view_name": "LayoutView",
            "align_content": null,
            "align_items": null,
            "align_self": null,
            "border": null,
            "bottom": null,
            "display": null,
            "flex": null,
            "flex_flow": null,
            "grid_area": null,
            "grid_auto_columns": null,
            "grid_auto_flow": null,
            "grid_auto_rows": null,
            "grid_column": null,
            "grid_gap": null,
            "grid_row": null,
            "grid_template_areas": null,
            "grid_template_columns": null,
            "grid_template_rows": null,
            "height": null,
            "justify_content": null,
            "justify_items": null,
            "left": null,
            "margin": null,
            "max_height": null,
            "max_width": null,
            "min_height": null,
            "min_width": null,
            "object_fit": null,
            "object_position": null,
            "order": null,
            "overflow": null,
            "overflow_x": null,
            "overflow_y": null,
            "padding": null,
            "right": null,
            "top": null,
            "visibility": null,
            "width": null
          }
        },
        "d9d628c72ac34d178aded014c0fd3e72": {
          "model_module": "@jupyter-widgets/base",
          "model_name": "LayoutModel",
          "model_module_version": "1.2.0",
          "state": {
            "_model_module": "@jupyter-widgets/base",
            "_model_module_version": "1.2.0",
            "_model_name": "LayoutModel",
            "_view_count": null,
            "_view_module": "@jupyter-widgets/base",
            "_view_module_version": "1.2.0",
            "_view_name": "LayoutView",
            "align_content": null,
            "align_items": null,
            "align_self": null,
            "border": null,
            "bottom": null,
            "display": null,
            "flex": null,
            "flex_flow": null,
            "grid_area": null,
            "grid_auto_columns": null,
            "grid_auto_flow": null,
            "grid_auto_rows": null,
            "grid_column": null,
            "grid_gap": null,
            "grid_row": null,
            "grid_template_areas": null,
            "grid_template_columns": null,
            "grid_template_rows": null,
            "height": null,
            "justify_content": null,
            "justify_items": null,
            "left": null,
            "margin": null,
            "max_height": null,
            "max_width": null,
            "min_height": null,
            "min_width": null,
            "object_fit": null,
            "object_position": null,
            "order": null,
            "overflow": null,
            "overflow_x": null,
            "overflow_y": null,
            "padding": null,
            "right": null,
            "top": null,
            "visibility": null,
            "width": null
          }
        },
        "b68e2defc5c24a0587d3f024493bef6e": {
          "model_module": "@jupyter-widgets/controls",
          "model_name": "DescriptionStyleModel",
          "model_module_version": "1.5.0",
          "state": {
            "_model_module": "@jupyter-widgets/controls",
            "_model_module_version": "1.5.0",
            "_model_name": "DescriptionStyleModel",
            "_view_count": null,
            "_view_module": "@jupyter-widgets/base",
            "_view_module_version": "1.2.0",
            "_view_name": "StyleView",
            "description_width": ""
          }
        },
        "d6daa031d5ea47b59386bf2e885b84d4": {
          "model_module": "@jupyter-widgets/base",
          "model_name": "LayoutModel",
          "model_module_version": "1.2.0",
          "state": {
            "_model_module": "@jupyter-widgets/base",
            "_model_module_version": "1.2.0",
            "_model_name": "LayoutModel",
            "_view_count": null,
            "_view_module": "@jupyter-widgets/base",
            "_view_module_version": "1.2.0",
            "_view_name": "LayoutView",
            "align_content": null,
            "align_items": null,
            "align_self": null,
            "border": null,
            "bottom": null,
            "display": null,
            "flex": null,
            "flex_flow": null,
            "grid_area": null,
            "grid_auto_columns": null,
            "grid_auto_flow": null,
            "grid_auto_rows": null,
            "grid_column": null,
            "grid_gap": null,
            "grid_row": null,
            "grid_template_areas": null,
            "grid_template_columns": null,
            "grid_template_rows": null,
            "height": null,
            "justify_content": null,
            "justify_items": null,
            "left": null,
            "margin": null,
            "max_height": null,
            "max_width": null,
            "min_height": null,
            "min_width": null,
            "object_fit": null,
            "object_position": null,
            "order": null,
            "overflow": null,
            "overflow_x": null,
            "overflow_y": null,
            "padding": null,
            "right": null,
            "top": null,
            "visibility": null,
            "width": null
          }
        },
        "8bd05e064e9f45c68918df05ce772ee4": {
          "model_module": "@jupyter-widgets/controls",
          "model_name": "ProgressStyleModel",
          "model_module_version": "1.5.0",
          "state": {
            "_model_module": "@jupyter-widgets/controls",
            "_model_module_version": "1.5.0",
            "_model_name": "ProgressStyleModel",
            "_view_count": null,
            "_view_module": "@jupyter-widgets/base",
            "_view_module_version": "1.2.0",
            "_view_name": "StyleView",
            "bar_color": null,
            "description_width": ""
          }
        },
        "25fd602014d44f729284a6f2239a554b": {
          "model_module": "@jupyter-widgets/base",
          "model_name": "LayoutModel",
          "model_module_version": "1.2.0",
          "state": {
            "_model_module": "@jupyter-widgets/base",
            "_model_module_version": "1.2.0",
            "_model_name": "LayoutModel",
            "_view_count": null,
            "_view_module": "@jupyter-widgets/base",
            "_view_module_version": "1.2.0",
            "_view_name": "LayoutView",
            "align_content": null,
            "align_items": null,
            "align_self": null,
            "border": null,
            "bottom": null,
            "display": null,
            "flex": null,
            "flex_flow": null,
            "grid_area": null,
            "grid_auto_columns": null,
            "grid_auto_flow": null,
            "grid_auto_rows": null,
            "grid_column": null,
            "grid_gap": null,
            "grid_row": null,
            "grid_template_areas": null,
            "grid_template_columns": null,
            "grid_template_rows": null,
            "height": null,
            "justify_content": null,
            "justify_items": null,
            "left": null,
            "margin": null,
            "max_height": null,
            "max_width": null,
            "min_height": null,
            "min_width": null,
            "object_fit": null,
            "object_position": null,
            "order": null,
            "overflow": null,
            "overflow_x": null,
            "overflow_y": null,
            "padding": null,
            "right": null,
            "top": null,
            "visibility": null,
            "width": null
          }
        },
        "9e7a20a063fc41f497c836c52b9677d9": {
          "model_module": "@jupyter-widgets/controls",
          "model_name": "DescriptionStyleModel",
          "model_module_version": "1.5.0",
          "state": {
            "_model_module": "@jupyter-widgets/controls",
            "_model_module_version": "1.5.0",
            "_model_name": "DescriptionStyleModel",
            "_view_count": null,
            "_view_module": "@jupyter-widgets/base",
            "_view_module_version": "1.2.0",
            "_view_name": "StyleView",
            "description_width": ""
          }
        },
        "4536403898a64abd945eb8e3272f4587": {
          "model_module": "@jupyter-widgets/controls",
          "model_name": "HBoxModel",
          "model_module_version": "1.5.0",
          "state": {
            "_dom_classes": [],
            "_model_module": "@jupyter-widgets/controls",
            "_model_module_version": "1.5.0",
            "_model_name": "HBoxModel",
            "_view_count": null,
            "_view_module": "@jupyter-widgets/controls",
            "_view_module_version": "1.5.0",
            "_view_name": "HBoxView",
            "box_style": "",
            "children": [
              "IPY_MODEL_b35c0f946daa431080edac93d64ef9df",
              "IPY_MODEL_662aad5f8aaa491c9106cf32cda501ed",
              "IPY_MODEL_c83500e573b942749f93175aeee5cb1c"
            ],
            "layout": "IPY_MODEL_c9ca5b4628564bfcbaa210406f70c166"
          }
        },
        "b35c0f946daa431080edac93d64ef9df": {
          "model_module": "@jupyter-widgets/controls",
          "model_name": "HTMLModel",
          "model_module_version": "1.5.0",
          "state": {
            "_dom_classes": [],
            "_model_module": "@jupyter-widgets/controls",
            "_model_module_version": "1.5.0",
            "_model_name": "HTMLModel",
            "_view_count": null,
            "_view_module": "@jupyter-widgets/controls",
            "_view_module_version": "1.5.0",
            "_view_name": "HTMLView",
            "description": "",
            "description_tooltip": null,
            "layout": "IPY_MODEL_65d9a0aff17f4b5fa38d1d96421c4fd0",
            "placeholder": "​",
            "style": "IPY_MODEL_696efb629e65417991f21035b1b8ed0f",
            "value": "Downloading (…)solve/main/vocab.txt: 100%"
          }
        },
        "662aad5f8aaa491c9106cf32cda501ed": {
          "model_module": "@jupyter-widgets/controls",
          "model_name": "FloatProgressModel",
          "model_module_version": "1.5.0",
          "state": {
            "_dom_classes": [],
            "_model_module": "@jupyter-widgets/controls",
            "_model_module_version": "1.5.0",
            "_model_name": "FloatProgressModel",
            "_view_count": null,
            "_view_module": "@jupyter-widgets/controls",
            "_view_module_version": "1.5.0",
            "_view_name": "ProgressView",
            "bar_style": "success",
            "description": "",
            "description_tooltip": null,
            "layout": "IPY_MODEL_8222bb3326cb465abd042fdd120ff5f8",
            "max": 995526,
            "min": 0,
            "orientation": "horizontal",
            "style": "IPY_MODEL_701baf2f8fd84b859695bd2c8cc66182",
            "value": 995526
          }
        },
        "c83500e573b942749f93175aeee5cb1c": {
          "model_module": "@jupyter-widgets/controls",
          "model_name": "HTMLModel",
          "model_module_version": "1.5.0",
          "state": {
            "_dom_classes": [],
            "_model_module": "@jupyter-widgets/controls",
            "_model_module_version": "1.5.0",
            "_model_name": "HTMLModel",
            "_view_count": null,
            "_view_module": "@jupyter-widgets/controls",
            "_view_module_version": "1.5.0",
            "_view_name": "HTMLView",
            "description": "",
            "description_tooltip": null,
            "layout": "IPY_MODEL_ebfce5255ce64f5a89c615d1b14e93b8",
            "placeholder": "​",
            "style": "IPY_MODEL_709e10967f484ef7bfb2b4c0362471a5",
            "value": " 996k/996k [00:00&lt;00:00, 10.0MB/s]"
          }
        },
        "c9ca5b4628564bfcbaa210406f70c166": {
          "model_module": "@jupyter-widgets/base",
          "model_name": "LayoutModel",
          "model_module_version": "1.2.0",
          "state": {
            "_model_module": "@jupyter-widgets/base",
            "_model_module_version": "1.2.0",
            "_model_name": "LayoutModel",
            "_view_count": null,
            "_view_module": "@jupyter-widgets/base",
            "_view_module_version": "1.2.0",
            "_view_name": "LayoutView",
            "align_content": null,
            "align_items": null,
            "align_self": null,
            "border": null,
            "bottom": null,
            "display": null,
            "flex": null,
            "flex_flow": null,
            "grid_area": null,
            "grid_auto_columns": null,
            "grid_auto_flow": null,
            "grid_auto_rows": null,
            "grid_column": null,
            "grid_gap": null,
            "grid_row": null,
            "grid_template_areas": null,
            "grid_template_columns": null,
            "grid_template_rows": null,
            "height": null,
            "justify_content": null,
            "justify_items": null,
            "left": null,
            "margin": null,
            "max_height": null,
            "max_width": null,
            "min_height": null,
            "min_width": null,
            "object_fit": null,
            "object_position": null,
            "order": null,
            "overflow": null,
            "overflow_x": null,
            "overflow_y": null,
            "padding": null,
            "right": null,
            "top": null,
            "visibility": null,
            "width": null
          }
        },
        "65d9a0aff17f4b5fa38d1d96421c4fd0": {
          "model_module": "@jupyter-widgets/base",
          "model_name": "LayoutModel",
          "model_module_version": "1.2.0",
          "state": {
            "_model_module": "@jupyter-widgets/base",
            "_model_module_version": "1.2.0",
            "_model_name": "LayoutModel",
            "_view_count": null,
            "_view_module": "@jupyter-widgets/base",
            "_view_module_version": "1.2.0",
            "_view_name": "LayoutView",
            "align_content": null,
            "align_items": null,
            "align_self": null,
            "border": null,
            "bottom": null,
            "display": null,
            "flex": null,
            "flex_flow": null,
            "grid_area": null,
            "grid_auto_columns": null,
            "grid_auto_flow": null,
            "grid_auto_rows": null,
            "grid_column": null,
            "grid_gap": null,
            "grid_row": null,
            "grid_template_areas": null,
            "grid_template_columns": null,
            "grid_template_rows": null,
            "height": null,
            "justify_content": null,
            "justify_items": null,
            "left": null,
            "margin": null,
            "max_height": null,
            "max_width": null,
            "min_height": null,
            "min_width": null,
            "object_fit": null,
            "object_position": null,
            "order": null,
            "overflow": null,
            "overflow_x": null,
            "overflow_y": null,
            "padding": null,
            "right": null,
            "top": null,
            "visibility": null,
            "width": null
          }
        },
        "696efb629e65417991f21035b1b8ed0f": {
          "model_module": "@jupyter-widgets/controls",
          "model_name": "DescriptionStyleModel",
          "model_module_version": "1.5.0",
          "state": {
            "_model_module": "@jupyter-widgets/controls",
            "_model_module_version": "1.5.0",
            "_model_name": "DescriptionStyleModel",
            "_view_count": null,
            "_view_module": "@jupyter-widgets/base",
            "_view_module_version": "1.2.0",
            "_view_name": "StyleView",
            "description_width": ""
          }
        },
        "8222bb3326cb465abd042fdd120ff5f8": {
          "model_module": "@jupyter-widgets/base",
          "model_name": "LayoutModel",
          "model_module_version": "1.2.0",
          "state": {
            "_model_module": "@jupyter-widgets/base",
            "_model_module_version": "1.2.0",
            "_model_name": "LayoutModel",
            "_view_count": null,
            "_view_module": "@jupyter-widgets/base",
            "_view_module_version": "1.2.0",
            "_view_name": "LayoutView",
            "align_content": null,
            "align_items": null,
            "align_self": null,
            "border": null,
            "bottom": null,
            "display": null,
            "flex": null,
            "flex_flow": null,
            "grid_area": null,
            "grid_auto_columns": null,
            "grid_auto_flow": null,
            "grid_auto_rows": null,
            "grid_column": null,
            "grid_gap": null,
            "grid_row": null,
            "grid_template_areas": null,
            "grid_template_columns": null,
            "grid_template_rows": null,
            "height": null,
            "justify_content": null,
            "justify_items": null,
            "left": null,
            "margin": null,
            "max_height": null,
            "max_width": null,
            "min_height": null,
            "min_width": null,
            "object_fit": null,
            "object_position": null,
            "order": null,
            "overflow": null,
            "overflow_x": null,
            "overflow_y": null,
            "padding": null,
            "right": null,
            "top": null,
            "visibility": null,
            "width": null
          }
        },
        "701baf2f8fd84b859695bd2c8cc66182": {
          "model_module": "@jupyter-widgets/controls",
          "model_name": "ProgressStyleModel",
          "model_module_version": "1.5.0",
          "state": {
            "_model_module": "@jupyter-widgets/controls",
            "_model_module_version": "1.5.0",
            "_model_name": "ProgressStyleModel",
            "_view_count": null,
            "_view_module": "@jupyter-widgets/base",
            "_view_module_version": "1.2.0",
            "_view_name": "StyleView",
            "bar_color": null,
            "description_width": ""
          }
        },
        "ebfce5255ce64f5a89c615d1b14e93b8": {
          "model_module": "@jupyter-widgets/base",
          "model_name": "LayoutModel",
          "model_module_version": "1.2.0",
          "state": {
            "_model_module": "@jupyter-widgets/base",
            "_model_module_version": "1.2.0",
            "_model_name": "LayoutModel",
            "_view_count": null,
            "_view_module": "@jupyter-widgets/base",
            "_view_module_version": "1.2.0",
            "_view_name": "LayoutView",
            "align_content": null,
            "align_items": null,
            "align_self": null,
            "border": null,
            "bottom": null,
            "display": null,
            "flex": null,
            "flex_flow": null,
            "grid_area": null,
            "grid_auto_columns": null,
            "grid_auto_flow": null,
            "grid_auto_rows": null,
            "grid_column": null,
            "grid_gap": null,
            "grid_row": null,
            "grid_template_areas": null,
            "grid_template_columns": null,
            "grid_template_rows": null,
            "height": null,
            "justify_content": null,
            "justify_items": null,
            "left": null,
            "margin": null,
            "max_height": null,
            "max_width": null,
            "min_height": null,
            "min_width": null,
            "object_fit": null,
            "object_position": null,
            "order": null,
            "overflow": null,
            "overflow_x": null,
            "overflow_y": null,
            "padding": null,
            "right": null,
            "top": null,
            "visibility": null,
            "width": null
          }
        },
        "709e10967f484ef7bfb2b4c0362471a5": {
          "model_module": "@jupyter-widgets/controls",
          "model_name": "DescriptionStyleModel",
          "model_module_version": "1.5.0",
          "state": {
            "_model_module": "@jupyter-widgets/controls",
            "_model_module_version": "1.5.0",
            "_model_name": "DescriptionStyleModel",
            "_view_count": null,
            "_view_module": "@jupyter-widgets/base",
            "_view_module_version": "1.2.0",
            "_view_name": "StyleView",
            "description_width": ""
          }
        },
        "6505c33e36fc40559cef3644e58eaaad": {
          "model_module": "@jupyter-widgets/controls",
          "model_name": "HBoxModel",
          "model_module_version": "1.5.0",
          "state": {
            "_dom_classes": [],
            "_model_module": "@jupyter-widgets/controls",
            "_model_module_version": "1.5.0",
            "_model_name": "HBoxModel",
            "_view_count": null,
            "_view_module": "@jupyter-widgets/controls",
            "_view_module_version": "1.5.0",
            "_view_name": "HBoxView",
            "box_style": "",
            "children": [
              "IPY_MODEL_a3d05163c0bf497e82cd1dfa235a1c4c",
              "IPY_MODEL_b1cef4c55bcb47c4913e454da073cf8f",
              "IPY_MODEL_7337b8952dac4f4080e4038970e49fb8"
            ],
            "layout": "IPY_MODEL_0dfb1abe213940849d299499ada4ee8a"
          }
        },
        "a3d05163c0bf497e82cd1dfa235a1c4c": {
          "model_module": "@jupyter-widgets/controls",
          "model_name": "HTMLModel",
          "model_module_version": "1.5.0",
          "state": {
            "_dom_classes": [],
            "_model_module": "@jupyter-widgets/controls",
            "_model_module_version": "1.5.0",
            "_model_name": "HTMLModel",
            "_view_count": null,
            "_view_module": "@jupyter-widgets/controls",
            "_view_module_version": "1.5.0",
            "_view_name": "HTMLView",
            "description": "",
            "description_tooltip": null,
            "layout": "IPY_MODEL_9287e35797bf49c39f3abe8a7a2feee4",
            "placeholder": "​",
            "style": "IPY_MODEL_31c88e1e6abc47b691338cde5becbb0c",
            "value": "Downloading (…)/main/tokenizer.json: 100%"
          }
        },
        "b1cef4c55bcb47c4913e454da073cf8f": {
          "model_module": "@jupyter-widgets/controls",
          "model_name": "FloatProgressModel",
          "model_module_version": "1.5.0",
          "state": {
            "_dom_classes": [],
            "_model_module": "@jupyter-widgets/controls",
            "_model_module_version": "1.5.0",
            "_model_name": "FloatProgressModel",
            "_view_count": null,
            "_view_module": "@jupyter-widgets/controls",
            "_view_module_version": "1.5.0",
            "_view_name": "ProgressView",
            "bar_style": "success",
            "description": "",
            "description_tooltip": null,
            "layout": "IPY_MODEL_e7450badd6a94feab13e60aa03bac2bc",
            "max": 2919362,
            "min": 0,
            "orientation": "horizontal",
            "style": "IPY_MODEL_4fd6284459444051ad96d9a0850c760e",
            "value": 2919362
          }
        },
        "7337b8952dac4f4080e4038970e49fb8": {
          "model_module": "@jupyter-widgets/controls",
          "model_name": "HTMLModel",
          "model_module_version": "1.5.0",
          "state": {
            "_dom_classes": [],
            "_model_module": "@jupyter-widgets/controls",
            "_model_module_version": "1.5.0",
            "_model_name": "HTMLModel",
            "_view_count": null,
            "_view_module": "@jupyter-widgets/controls",
            "_view_module_version": "1.5.0",
            "_view_name": "HTMLView",
            "description": "",
            "description_tooltip": null,
            "layout": "IPY_MODEL_c13ed775c658438994618be2f5d2840b",
            "placeholder": "​",
            "style": "IPY_MODEL_9d642becfd7a4dfe8ef5fad4782efac8",
            "value": " 2.92M/2.92M [00:00&lt;00:00, 24.1MB/s]"
          }
        },
        "0dfb1abe213940849d299499ada4ee8a": {
          "model_module": "@jupyter-widgets/base",
          "model_name": "LayoutModel",
          "model_module_version": "1.2.0",
          "state": {
            "_model_module": "@jupyter-widgets/base",
            "_model_module_version": "1.2.0",
            "_model_name": "LayoutModel",
            "_view_count": null,
            "_view_module": "@jupyter-widgets/base",
            "_view_module_version": "1.2.0",
            "_view_name": "LayoutView",
            "align_content": null,
            "align_items": null,
            "align_self": null,
            "border": null,
            "bottom": null,
            "display": null,
            "flex": null,
            "flex_flow": null,
            "grid_area": null,
            "grid_auto_columns": null,
            "grid_auto_flow": null,
            "grid_auto_rows": null,
            "grid_column": null,
            "grid_gap": null,
            "grid_row": null,
            "grid_template_areas": null,
            "grid_template_columns": null,
            "grid_template_rows": null,
            "height": null,
            "justify_content": null,
            "justify_items": null,
            "left": null,
            "margin": null,
            "max_height": null,
            "max_width": null,
            "min_height": null,
            "min_width": null,
            "object_fit": null,
            "object_position": null,
            "order": null,
            "overflow": null,
            "overflow_x": null,
            "overflow_y": null,
            "padding": null,
            "right": null,
            "top": null,
            "visibility": null,
            "width": null
          }
        },
        "9287e35797bf49c39f3abe8a7a2feee4": {
          "model_module": "@jupyter-widgets/base",
          "model_name": "LayoutModel",
          "model_module_version": "1.2.0",
          "state": {
            "_model_module": "@jupyter-widgets/base",
            "_model_module_version": "1.2.0",
            "_model_name": "LayoutModel",
            "_view_count": null,
            "_view_module": "@jupyter-widgets/base",
            "_view_module_version": "1.2.0",
            "_view_name": "LayoutView",
            "align_content": null,
            "align_items": null,
            "align_self": null,
            "border": null,
            "bottom": null,
            "display": null,
            "flex": null,
            "flex_flow": null,
            "grid_area": null,
            "grid_auto_columns": null,
            "grid_auto_flow": null,
            "grid_auto_rows": null,
            "grid_column": null,
            "grid_gap": null,
            "grid_row": null,
            "grid_template_areas": null,
            "grid_template_columns": null,
            "grid_template_rows": null,
            "height": null,
            "justify_content": null,
            "justify_items": null,
            "left": null,
            "margin": null,
            "max_height": null,
            "max_width": null,
            "min_height": null,
            "min_width": null,
            "object_fit": null,
            "object_position": null,
            "order": null,
            "overflow": null,
            "overflow_x": null,
            "overflow_y": null,
            "padding": null,
            "right": null,
            "top": null,
            "visibility": null,
            "width": null
          }
        },
        "31c88e1e6abc47b691338cde5becbb0c": {
          "model_module": "@jupyter-widgets/controls",
          "model_name": "DescriptionStyleModel",
          "model_module_version": "1.5.0",
          "state": {
            "_model_module": "@jupyter-widgets/controls",
            "_model_module_version": "1.5.0",
            "_model_name": "DescriptionStyleModel",
            "_view_count": null,
            "_view_module": "@jupyter-widgets/base",
            "_view_module_version": "1.2.0",
            "_view_name": "StyleView",
            "description_width": ""
          }
        },
        "e7450badd6a94feab13e60aa03bac2bc": {
          "model_module": "@jupyter-widgets/base",
          "model_name": "LayoutModel",
          "model_module_version": "1.2.0",
          "state": {
            "_model_module": "@jupyter-widgets/base",
            "_model_module_version": "1.2.0",
            "_model_name": "LayoutModel",
            "_view_count": null,
            "_view_module": "@jupyter-widgets/base",
            "_view_module_version": "1.2.0",
            "_view_name": "LayoutView",
            "align_content": null,
            "align_items": null,
            "align_self": null,
            "border": null,
            "bottom": null,
            "display": null,
            "flex": null,
            "flex_flow": null,
            "grid_area": null,
            "grid_auto_columns": null,
            "grid_auto_flow": null,
            "grid_auto_rows": null,
            "grid_column": null,
            "grid_gap": null,
            "grid_row": null,
            "grid_template_areas": null,
            "grid_template_columns": null,
            "grid_template_rows": null,
            "height": null,
            "justify_content": null,
            "justify_items": null,
            "left": null,
            "margin": null,
            "max_height": null,
            "max_width": null,
            "min_height": null,
            "min_width": null,
            "object_fit": null,
            "object_position": null,
            "order": null,
            "overflow": null,
            "overflow_x": null,
            "overflow_y": null,
            "padding": null,
            "right": null,
            "top": null,
            "visibility": null,
            "width": null
          }
        },
        "4fd6284459444051ad96d9a0850c760e": {
          "model_module": "@jupyter-widgets/controls",
          "model_name": "ProgressStyleModel",
          "model_module_version": "1.5.0",
          "state": {
            "_model_module": "@jupyter-widgets/controls",
            "_model_module_version": "1.5.0",
            "_model_name": "ProgressStyleModel",
            "_view_count": null,
            "_view_module": "@jupyter-widgets/base",
            "_view_module_version": "1.2.0",
            "_view_name": "StyleView",
            "bar_color": null,
            "description_width": ""
          }
        },
        "c13ed775c658438994618be2f5d2840b": {
          "model_module": "@jupyter-widgets/base",
          "model_name": "LayoutModel",
          "model_module_version": "1.2.0",
          "state": {
            "_model_module": "@jupyter-widgets/base",
            "_model_module_version": "1.2.0",
            "_model_name": "LayoutModel",
            "_view_count": null,
            "_view_module": "@jupyter-widgets/base",
            "_view_module_version": "1.2.0",
            "_view_name": "LayoutView",
            "align_content": null,
            "align_items": null,
            "align_self": null,
            "border": null,
            "bottom": null,
            "display": null,
            "flex": null,
            "flex_flow": null,
            "grid_area": null,
            "grid_auto_columns": null,
            "grid_auto_flow": null,
            "grid_auto_rows": null,
            "grid_column": null,
            "grid_gap": null,
            "grid_row": null,
            "grid_template_areas": null,
            "grid_template_columns": null,
            "grid_template_rows": null,
            "height": null,
            "justify_content": null,
            "justify_items": null,
            "left": null,
            "margin": null,
            "max_height": null,
            "max_width": null,
            "min_height": null,
            "min_width": null,
            "object_fit": null,
            "object_position": null,
            "order": null,
            "overflow": null,
            "overflow_x": null,
            "overflow_y": null,
            "padding": null,
            "right": null,
            "top": null,
            "visibility": null,
            "width": null
          }
        },
        "9d642becfd7a4dfe8ef5fad4782efac8": {
          "model_module": "@jupyter-widgets/controls",
          "model_name": "DescriptionStyleModel",
          "model_module_version": "1.5.0",
          "state": {
            "_model_module": "@jupyter-widgets/controls",
            "_model_module_version": "1.5.0",
            "_model_name": "DescriptionStyleModel",
            "_view_count": null,
            "_view_module": "@jupyter-widgets/base",
            "_view_module_version": "1.2.0",
            "_view_name": "StyleView",
            "description_width": ""
          }
        },
        "75a20bd84200460381861cc2289cf7c7": {
          "model_module": "@jupyter-widgets/controls",
          "model_name": "HBoxModel",
          "model_module_version": "1.5.0",
          "state": {
            "_dom_classes": [],
            "_model_module": "@jupyter-widgets/controls",
            "_model_module_version": "1.5.0",
            "_model_name": "HBoxModel",
            "_view_count": null,
            "_view_module": "@jupyter-widgets/controls",
            "_view_module_version": "1.5.0",
            "_view_name": "HBoxView",
            "box_style": "",
            "children": [
              "IPY_MODEL_53e0c3e5b3024c9594c3522bb5036a8d",
              "IPY_MODEL_2a8780dcb7954f8a9aea1a1fc8181818",
              "IPY_MODEL_a9574a8008e64465873485109e59ad57"
            ],
            "layout": "IPY_MODEL_8dd4ec5b28bd4ec58c2ad04805ff6460"
          }
        },
        "53e0c3e5b3024c9594c3522bb5036a8d": {
          "model_module": "@jupyter-widgets/controls",
          "model_name": "HTMLModel",
          "model_module_version": "1.5.0",
          "state": {
            "_dom_classes": [],
            "_model_module": "@jupyter-widgets/controls",
            "_model_module_version": "1.5.0",
            "_model_name": "HTMLModel",
            "_view_count": null,
            "_view_module": "@jupyter-widgets/controls",
            "_view_module_version": "1.5.0",
            "_view_name": "HTMLView",
            "description": "",
            "description_tooltip": null,
            "layout": "IPY_MODEL_801b9fde6623463f82bc7b76ca9d2a27",
            "placeholder": "​",
            "style": "IPY_MODEL_1da3fd4364a14cb4ae997379163f790a",
            "value": "Downloading (…)cial_tokens_map.json: 100%"
          }
        },
        "2a8780dcb7954f8a9aea1a1fc8181818": {
          "model_module": "@jupyter-widgets/controls",
          "model_name": "FloatProgressModel",
          "model_module_version": "1.5.0",
          "state": {
            "_dom_classes": [],
            "_model_module": "@jupyter-widgets/controls",
            "_model_module_version": "1.5.0",
            "_model_name": "FloatProgressModel",
            "_view_count": null,
            "_view_module": "@jupyter-widgets/controls",
            "_view_module_version": "1.5.0",
            "_view_name": "ProgressView",
            "bar_style": "success",
            "description": "",
            "description_tooltip": null,
            "layout": "IPY_MODEL_91b5cc475f9e4f1f85a2cb7bf91a608d",
            "max": 112,
            "min": 0,
            "orientation": "horizontal",
            "style": "IPY_MODEL_08b22fdb318d44769628a662424dc8d4",
            "value": 112
          }
        },
        "a9574a8008e64465873485109e59ad57": {
          "model_module": "@jupyter-widgets/controls",
          "model_name": "HTMLModel",
          "model_module_version": "1.5.0",
          "state": {
            "_dom_classes": [],
            "_model_module": "@jupyter-widgets/controls",
            "_model_module_version": "1.5.0",
            "_model_name": "HTMLModel",
            "_view_count": null,
            "_view_module": "@jupyter-widgets/controls",
            "_view_module_version": "1.5.0",
            "_view_name": "HTMLView",
            "description": "",
            "description_tooltip": null,
            "layout": "IPY_MODEL_6a39f3b1a4d94340bfbec7ed294b378f",
            "placeholder": "​",
            "style": "IPY_MODEL_b75dc04ff8e04b1785591a6774f54d17",
            "value": " 112/112 [00:00&lt;00:00, 1.96kB/s]"
          }
        },
        "8dd4ec5b28bd4ec58c2ad04805ff6460": {
          "model_module": "@jupyter-widgets/base",
          "model_name": "LayoutModel",
          "model_module_version": "1.2.0",
          "state": {
            "_model_module": "@jupyter-widgets/base",
            "_model_module_version": "1.2.0",
            "_model_name": "LayoutModel",
            "_view_count": null,
            "_view_module": "@jupyter-widgets/base",
            "_view_module_version": "1.2.0",
            "_view_name": "LayoutView",
            "align_content": null,
            "align_items": null,
            "align_self": null,
            "border": null,
            "bottom": null,
            "display": null,
            "flex": null,
            "flex_flow": null,
            "grid_area": null,
            "grid_auto_columns": null,
            "grid_auto_flow": null,
            "grid_auto_rows": null,
            "grid_column": null,
            "grid_gap": null,
            "grid_row": null,
            "grid_template_areas": null,
            "grid_template_columns": null,
            "grid_template_rows": null,
            "height": null,
            "justify_content": null,
            "justify_items": null,
            "left": null,
            "margin": null,
            "max_height": null,
            "max_width": null,
            "min_height": null,
            "min_width": null,
            "object_fit": null,
            "object_position": null,
            "order": null,
            "overflow": null,
            "overflow_x": null,
            "overflow_y": null,
            "padding": null,
            "right": null,
            "top": null,
            "visibility": null,
            "width": null
          }
        },
        "801b9fde6623463f82bc7b76ca9d2a27": {
          "model_module": "@jupyter-widgets/base",
          "model_name": "LayoutModel",
          "model_module_version": "1.2.0",
          "state": {
            "_model_module": "@jupyter-widgets/base",
            "_model_module_version": "1.2.0",
            "_model_name": "LayoutModel",
            "_view_count": null,
            "_view_module": "@jupyter-widgets/base",
            "_view_module_version": "1.2.0",
            "_view_name": "LayoutView",
            "align_content": null,
            "align_items": null,
            "align_self": null,
            "border": null,
            "bottom": null,
            "display": null,
            "flex": null,
            "flex_flow": null,
            "grid_area": null,
            "grid_auto_columns": null,
            "grid_auto_flow": null,
            "grid_auto_rows": null,
            "grid_column": null,
            "grid_gap": null,
            "grid_row": null,
            "grid_template_areas": null,
            "grid_template_columns": null,
            "grid_template_rows": null,
            "height": null,
            "justify_content": null,
            "justify_items": null,
            "left": null,
            "margin": null,
            "max_height": null,
            "max_width": null,
            "min_height": null,
            "min_width": null,
            "object_fit": null,
            "object_position": null,
            "order": null,
            "overflow": null,
            "overflow_x": null,
            "overflow_y": null,
            "padding": null,
            "right": null,
            "top": null,
            "visibility": null,
            "width": null
          }
        },
        "1da3fd4364a14cb4ae997379163f790a": {
          "model_module": "@jupyter-widgets/controls",
          "model_name": "DescriptionStyleModel",
          "model_module_version": "1.5.0",
          "state": {
            "_model_module": "@jupyter-widgets/controls",
            "_model_module_version": "1.5.0",
            "_model_name": "DescriptionStyleModel",
            "_view_count": null,
            "_view_module": "@jupyter-widgets/base",
            "_view_module_version": "1.2.0",
            "_view_name": "StyleView",
            "description_width": ""
          }
        },
        "91b5cc475f9e4f1f85a2cb7bf91a608d": {
          "model_module": "@jupyter-widgets/base",
          "model_name": "LayoutModel",
          "model_module_version": "1.2.0",
          "state": {
            "_model_module": "@jupyter-widgets/base",
            "_model_module_version": "1.2.0",
            "_model_name": "LayoutModel",
            "_view_count": null,
            "_view_module": "@jupyter-widgets/base",
            "_view_module_version": "1.2.0",
            "_view_name": "LayoutView",
            "align_content": null,
            "align_items": null,
            "align_self": null,
            "border": null,
            "bottom": null,
            "display": null,
            "flex": null,
            "flex_flow": null,
            "grid_area": null,
            "grid_auto_columns": null,
            "grid_auto_flow": null,
            "grid_auto_rows": null,
            "grid_column": null,
            "grid_gap": null,
            "grid_row": null,
            "grid_template_areas": null,
            "grid_template_columns": null,
            "grid_template_rows": null,
            "height": null,
            "justify_content": null,
            "justify_items": null,
            "left": null,
            "margin": null,
            "max_height": null,
            "max_width": null,
            "min_height": null,
            "min_width": null,
            "object_fit": null,
            "object_position": null,
            "order": null,
            "overflow": null,
            "overflow_x": null,
            "overflow_y": null,
            "padding": null,
            "right": null,
            "top": null,
            "visibility": null,
            "width": null
          }
        },
        "08b22fdb318d44769628a662424dc8d4": {
          "model_module": "@jupyter-widgets/controls",
          "model_name": "ProgressStyleModel",
          "model_module_version": "1.5.0",
          "state": {
            "_model_module": "@jupyter-widgets/controls",
            "_model_module_version": "1.5.0",
            "_model_name": "ProgressStyleModel",
            "_view_count": null,
            "_view_module": "@jupyter-widgets/base",
            "_view_module_version": "1.2.0",
            "_view_name": "StyleView",
            "bar_color": null,
            "description_width": ""
          }
        },
        "6a39f3b1a4d94340bfbec7ed294b378f": {
          "model_module": "@jupyter-widgets/base",
          "model_name": "LayoutModel",
          "model_module_version": "1.2.0",
          "state": {
            "_model_module": "@jupyter-widgets/base",
            "_model_module_version": "1.2.0",
            "_model_name": "LayoutModel",
            "_view_count": null,
            "_view_module": "@jupyter-widgets/base",
            "_view_module_version": "1.2.0",
            "_view_name": "LayoutView",
            "align_content": null,
            "align_items": null,
            "align_self": null,
            "border": null,
            "bottom": null,
            "display": null,
            "flex": null,
            "flex_flow": null,
            "grid_area": null,
            "grid_auto_columns": null,
            "grid_auto_flow": null,
            "grid_auto_rows": null,
            "grid_column": null,
            "grid_gap": null,
            "grid_row": null,
            "grid_template_areas": null,
            "grid_template_columns": null,
            "grid_template_rows": null,
            "height": null,
            "justify_content": null,
            "justify_items": null,
            "left": null,
            "margin": null,
            "max_height": null,
            "max_width": null,
            "min_height": null,
            "min_width": null,
            "object_fit": null,
            "object_position": null,
            "order": null,
            "overflow": null,
            "overflow_x": null,
            "overflow_y": null,
            "padding": null,
            "right": null,
            "top": null,
            "visibility": null,
            "width": null
          }
        },
        "b75dc04ff8e04b1785591a6774f54d17": {
          "model_module": "@jupyter-widgets/controls",
          "model_name": "DescriptionStyleModel",
          "model_module_version": "1.5.0",
          "state": {
            "_model_module": "@jupyter-widgets/controls",
            "_model_module_version": "1.5.0",
            "_model_name": "DescriptionStyleModel",
            "_view_count": null,
            "_view_module": "@jupyter-widgets/base",
            "_view_module_version": "1.2.0",
            "_view_name": "StyleView",
            "description_width": ""
          }
        },
        "eafe471e26f04e69aa6286ec998ab5fd": {
          "model_module": "@jupyter-widgets/controls",
          "model_name": "HBoxModel",
          "model_module_version": "1.5.0",
          "state": {
            "_dom_classes": [],
            "_model_module": "@jupyter-widgets/controls",
            "_model_module_version": "1.5.0",
            "_model_name": "HBoxModel",
            "_view_count": null,
            "_view_module": "@jupyter-widgets/controls",
            "_view_module_version": "1.5.0",
            "_view_name": "HBoxView",
            "box_style": "",
            "children": [
              "IPY_MODEL_0c7fe55e534940f4bea713c76938dcb6",
              "IPY_MODEL_e8970b8910fa495ab83d1a37a602e9a9",
              "IPY_MODEL_ee174b3007034faaa9919c98762ccbf7"
            ],
            "layout": "IPY_MODEL_34dee4a5db9e40c49c2736d7c3759237"
          }
        },
        "0c7fe55e534940f4bea713c76938dcb6": {
          "model_module": "@jupyter-widgets/controls",
          "model_name": "HTMLModel",
          "model_module_version": "1.5.0",
          "state": {
            "_dom_classes": [],
            "_model_module": "@jupyter-widgets/controls",
            "_model_module_version": "1.5.0",
            "_model_name": "HTMLModel",
            "_view_count": null,
            "_view_module": "@jupyter-widgets/controls",
            "_view_module_version": "1.5.0",
            "_view_name": "HTMLView",
            "description": "",
            "description_tooltip": null,
            "layout": "IPY_MODEL_166e6393979a408d82446b03384fae0a",
            "placeholder": "​",
            "style": "IPY_MODEL_11362767bb29409c90c7906fbbd431aa",
            "value": "  1%"
          }
        },
        "e8970b8910fa495ab83d1a37a602e9a9": {
          "model_module": "@jupyter-widgets/controls",
          "model_name": "FloatProgressModel",
          "model_module_version": "1.5.0",
          "state": {
            "_dom_classes": [],
            "_model_module": "@jupyter-widgets/controls",
            "_model_module_version": "1.5.0",
            "_model_name": "FloatProgressModel",
            "_view_count": null,
            "_view_module": "@jupyter-widgets/controls",
            "_view_module_version": "1.5.0",
            "_view_name": "ProgressView",
            "bar_style": "danger",
            "description": "",
            "description_tooltip": null,
            "layout": "IPY_MODEL_848b7d8b487242539f3c539c72793b28",
            "max": 100,
            "min": 0,
            "orientation": "horizontal",
            "style": "IPY_MODEL_1a2cedca04e84386aea96441940bd2ef",
            "value": 1
          }
        },
        "ee174b3007034faaa9919c98762ccbf7": {
          "model_module": "@jupyter-widgets/controls",
          "model_name": "HTMLModel",
          "model_module_version": "1.5.0",
          "state": {
            "_dom_classes": [],
            "_model_module": "@jupyter-widgets/controls",
            "_model_module_version": "1.5.0",
            "_model_name": "HTMLModel",
            "_view_count": null,
            "_view_module": "@jupyter-widgets/controls",
            "_view_module_version": "1.5.0",
            "_view_name": "HTMLView",
            "description": "",
            "description_tooltip": null,
            "layout": "IPY_MODEL_f8c98a5f539143f2a143f54affb39b07",
            "placeholder": "​",
            "style": "IPY_MODEL_19c6a0a5e5e4445a97e9cc7932ebd758",
            "value": " 1/100 [00:00&lt;00:40,  2.47it/s]"
          }
        },
        "34dee4a5db9e40c49c2736d7c3759237": {
          "model_module": "@jupyter-widgets/base",
          "model_name": "LayoutModel",
          "model_module_version": "1.2.0",
          "state": {
            "_model_module": "@jupyter-widgets/base",
            "_model_module_version": "1.2.0",
            "_model_name": "LayoutModel",
            "_view_count": null,
            "_view_module": "@jupyter-widgets/base",
            "_view_module_version": "1.2.0",
            "_view_name": "LayoutView",
            "align_content": null,
            "align_items": null,
            "align_self": null,
            "border": null,
            "bottom": null,
            "display": null,
            "flex": null,
            "flex_flow": null,
            "grid_area": null,
            "grid_auto_columns": null,
            "grid_auto_flow": null,
            "grid_auto_rows": null,
            "grid_column": null,
            "grid_gap": null,
            "grid_row": null,
            "grid_template_areas": null,
            "grid_template_columns": null,
            "grid_template_rows": null,
            "height": null,
            "justify_content": null,
            "justify_items": null,
            "left": null,
            "margin": null,
            "max_height": null,
            "max_width": null,
            "min_height": null,
            "min_width": null,
            "object_fit": null,
            "object_position": null,
            "order": null,
            "overflow": null,
            "overflow_x": null,
            "overflow_y": null,
            "padding": null,
            "right": null,
            "top": null,
            "visibility": null,
            "width": null
          }
        },
        "166e6393979a408d82446b03384fae0a": {
          "model_module": "@jupyter-widgets/base",
          "model_name": "LayoutModel",
          "model_module_version": "1.2.0",
          "state": {
            "_model_module": "@jupyter-widgets/base",
            "_model_module_version": "1.2.0",
            "_model_name": "LayoutModel",
            "_view_count": null,
            "_view_module": "@jupyter-widgets/base",
            "_view_module_version": "1.2.0",
            "_view_name": "LayoutView",
            "align_content": null,
            "align_items": null,
            "align_self": null,
            "border": null,
            "bottom": null,
            "display": null,
            "flex": null,
            "flex_flow": null,
            "grid_area": null,
            "grid_auto_columns": null,
            "grid_auto_flow": null,
            "grid_auto_rows": null,
            "grid_column": null,
            "grid_gap": null,
            "grid_row": null,
            "grid_template_areas": null,
            "grid_template_columns": null,
            "grid_template_rows": null,
            "height": null,
            "justify_content": null,
            "justify_items": null,
            "left": null,
            "margin": null,
            "max_height": null,
            "max_width": null,
            "min_height": null,
            "min_width": null,
            "object_fit": null,
            "object_position": null,
            "order": null,
            "overflow": null,
            "overflow_x": null,
            "overflow_y": null,
            "padding": null,
            "right": null,
            "top": null,
            "visibility": null,
            "width": null
          }
        },
        "11362767bb29409c90c7906fbbd431aa": {
          "model_module": "@jupyter-widgets/controls",
          "model_name": "DescriptionStyleModel",
          "model_module_version": "1.5.0",
          "state": {
            "_model_module": "@jupyter-widgets/controls",
            "_model_module_version": "1.5.0",
            "_model_name": "DescriptionStyleModel",
            "_view_count": null,
            "_view_module": "@jupyter-widgets/base",
            "_view_module_version": "1.2.0",
            "_view_name": "StyleView",
            "description_width": ""
          }
        },
        "848b7d8b487242539f3c539c72793b28": {
          "model_module": "@jupyter-widgets/base",
          "model_name": "LayoutModel",
          "model_module_version": "1.2.0",
          "state": {
            "_model_module": "@jupyter-widgets/base",
            "_model_module_version": "1.2.0",
            "_model_name": "LayoutModel",
            "_view_count": null,
            "_view_module": "@jupyter-widgets/base",
            "_view_module_version": "1.2.0",
            "_view_name": "LayoutView",
            "align_content": null,
            "align_items": null,
            "align_self": null,
            "border": null,
            "bottom": null,
            "display": null,
            "flex": null,
            "flex_flow": null,
            "grid_area": null,
            "grid_auto_columns": null,
            "grid_auto_flow": null,
            "grid_auto_rows": null,
            "grid_column": null,
            "grid_gap": null,
            "grid_row": null,
            "grid_template_areas": null,
            "grid_template_columns": null,
            "grid_template_rows": null,
            "height": null,
            "justify_content": null,
            "justify_items": null,
            "left": null,
            "margin": null,
            "max_height": null,
            "max_width": null,
            "min_height": null,
            "min_width": null,
            "object_fit": null,
            "object_position": null,
            "order": null,
            "overflow": null,
            "overflow_x": null,
            "overflow_y": null,
            "padding": null,
            "right": null,
            "top": null,
            "visibility": null,
            "width": null
          }
        },
        "1a2cedca04e84386aea96441940bd2ef": {
          "model_module": "@jupyter-widgets/controls",
          "model_name": "ProgressStyleModel",
          "model_module_version": "1.5.0",
          "state": {
            "_model_module": "@jupyter-widgets/controls",
            "_model_module_version": "1.5.0",
            "_model_name": "ProgressStyleModel",
            "_view_count": null,
            "_view_module": "@jupyter-widgets/base",
            "_view_module_version": "1.2.0",
            "_view_name": "StyleView",
            "bar_color": null,
            "description_width": ""
          }
        },
        "f8c98a5f539143f2a143f54affb39b07": {
          "model_module": "@jupyter-widgets/base",
          "model_name": "LayoutModel",
          "model_module_version": "1.2.0",
          "state": {
            "_model_module": "@jupyter-widgets/base",
            "_model_module_version": "1.2.0",
            "_model_name": "LayoutModel",
            "_view_count": null,
            "_view_module": "@jupyter-widgets/base",
            "_view_module_version": "1.2.0",
            "_view_name": "LayoutView",
            "align_content": null,
            "align_items": null,
            "align_self": null,
            "border": null,
            "bottom": null,
            "display": null,
            "flex": null,
            "flex_flow": null,
            "grid_area": null,
            "grid_auto_columns": null,
            "grid_auto_flow": null,
            "grid_auto_rows": null,
            "grid_column": null,
            "grid_gap": null,
            "grid_row": null,
            "grid_template_areas": null,
            "grid_template_columns": null,
            "grid_template_rows": null,
            "height": null,
            "justify_content": null,
            "justify_items": null,
            "left": null,
            "margin": null,
            "max_height": null,
            "max_width": null,
            "min_height": null,
            "min_width": null,
            "object_fit": null,
            "object_position": null,
            "order": null,
            "overflow": null,
            "overflow_x": null,
            "overflow_y": null,
            "padding": null,
            "right": null,
            "top": null,
            "visibility": null,
            "width": null
          }
        },
        "19c6a0a5e5e4445a97e9cc7932ebd758": {
          "model_module": "@jupyter-widgets/controls",
          "model_name": "DescriptionStyleModel",
          "model_module_version": "1.5.0",
          "state": {
            "_model_module": "@jupyter-widgets/controls",
            "_model_module_version": "1.5.0",
            "_model_name": "DescriptionStyleModel",
            "_view_count": null,
            "_view_module": "@jupyter-widgets/base",
            "_view_module_version": "1.2.0",
            "_view_name": "StyleView",
            "description_width": ""
          }
        },
        "1c1958be74c8419bb38f389c13a00347": {
          "model_module": "@jupyter-widgets/controls",
          "model_name": "HBoxModel",
          "model_module_version": "1.5.0",
          "state": {
            "_dom_classes": [],
            "_model_module": "@jupyter-widgets/controls",
            "_model_module_version": "1.5.0",
            "_model_name": "HBoxModel",
            "_view_count": null,
            "_view_module": "@jupyter-widgets/controls",
            "_view_module_version": "1.5.0",
            "_view_name": "HBoxView",
            "box_style": "",
            "children": [
              "IPY_MODEL_320a7f46edb140efaec19c08978f4389",
              "IPY_MODEL_c0defeac11704ee297fa8aaf0fd1a641",
              "IPY_MODEL_febdb827f2a94eab9a7d8586af6c760c"
            ],
            "layout": "IPY_MODEL_4df0dea9872f40c2b0ce3072cac14e5c"
          }
        },
        "320a7f46edb140efaec19c08978f4389": {
          "model_module": "@jupyter-widgets/controls",
          "model_name": "HTMLModel",
          "model_module_version": "1.5.0",
          "state": {
            "_dom_classes": [],
            "_model_module": "@jupyter-widgets/controls",
            "_model_module_version": "1.5.0",
            "_model_name": "HTMLModel",
            "_view_count": null,
            "_view_module": "@jupyter-widgets/controls",
            "_view_module_version": "1.5.0",
            "_view_name": "HTMLView",
            "description": "",
            "description_tooltip": null,
            "layout": "IPY_MODEL_526f6551fd1a41ef908a3196497dd5aa",
            "placeholder": "​",
            "style": "IPY_MODEL_a5212029faa349ed8c9e86ad51331533",
            "value": "100%"
          }
        },
        "c0defeac11704ee297fa8aaf0fd1a641": {
          "model_module": "@jupyter-widgets/controls",
          "model_name": "FloatProgressModel",
          "model_module_version": "1.5.0",
          "state": {
            "_dom_classes": [],
            "_model_module": "@jupyter-widgets/controls",
            "_model_module_version": "1.5.0",
            "_model_name": "FloatProgressModel",
            "_view_count": null,
            "_view_module": "@jupyter-widgets/controls",
            "_view_module_version": "1.5.0",
            "_view_name": "ProgressView",
            "bar_style": "success",
            "description": "",
            "description_tooltip": null,
            "layout": "IPY_MODEL_7bae88fe214f4ecd9ca8e5327b6d31f5",
            "max": 13,
            "min": 0,
            "orientation": "horizontal",
            "style": "IPY_MODEL_db26833c39d04f80b0efb7154b7ee508",
            "value": 13
          }
        },
        "febdb827f2a94eab9a7d8586af6c760c": {
          "model_module": "@jupyter-widgets/controls",
          "model_name": "HTMLModel",
          "model_module_version": "1.5.0",
          "state": {
            "_dom_classes": [],
            "_model_module": "@jupyter-widgets/controls",
            "_model_module_version": "1.5.0",
            "_model_name": "HTMLModel",
            "_view_count": null,
            "_view_module": "@jupyter-widgets/controls",
            "_view_module_version": "1.5.0",
            "_view_name": "HTMLView",
            "description": "",
            "description_tooltip": null,
            "layout": "IPY_MODEL_4b03da14abf14c4d9ff303a14b85878a",
            "placeholder": "​",
            "style": "IPY_MODEL_cf46008f308e4ffc92b751d1519a9014",
            "value": " 13/13 [00:03&lt;00:00,  7.05it/s]"
          }
        },
        "4df0dea9872f40c2b0ce3072cac14e5c": {
          "model_module": "@jupyter-widgets/base",
          "model_name": "LayoutModel",
          "model_module_version": "1.2.0",
          "state": {
            "_model_module": "@jupyter-widgets/base",
            "_model_module_version": "1.2.0",
            "_model_name": "LayoutModel",
            "_view_count": null,
            "_view_module": "@jupyter-widgets/base",
            "_view_module_version": "1.2.0",
            "_view_name": "LayoutView",
            "align_content": null,
            "align_items": null,
            "align_self": null,
            "border": null,
            "bottom": null,
            "display": null,
            "flex": null,
            "flex_flow": null,
            "grid_area": null,
            "grid_auto_columns": null,
            "grid_auto_flow": null,
            "grid_auto_rows": null,
            "grid_column": null,
            "grid_gap": null,
            "grid_row": null,
            "grid_template_areas": null,
            "grid_template_columns": null,
            "grid_template_rows": null,
            "height": null,
            "justify_content": null,
            "justify_items": null,
            "left": null,
            "margin": null,
            "max_height": null,
            "max_width": null,
            "min_height": null,
            "min_width": null,
            "object_fit": null,
            "object_position": null,
            "order": null,
            "overflow": null,
            "overflow_x": null,
            "overflow_y": null,
            "padding": null,
            "right": null,
            "top": null,
            "visibility": null,
            "width": null
          }
        },
        "526f6551fd1a41ef908a3196497dd5aa": {
          "model_module": "@jupyter-widgets/base",
          "model_name": "LayoutModel",
          "model_module_version": "1.2.0",
          "state": {
            "_model_module": "@jupyter-widgets/base",
            "_model_module_version": "1.2.0",
            "_model_name": "LayoutModel",
            "_view_count": null,
            "_view_module": "@jupyter-widgets/base",
            "_view_module_version": "1.2.0",
            "_view_name": "LayoutView",
            "align_content": null,
            "align_items": null,
            "align_self": null,
            "border": null,
            "bottom": null,
            "display": null,
            "flex": null,
            "flex_flow": null,
            "grid_area": null,
            "grid_auto_columns": null,
            "grid_auto_flow": null,
            "grid_auto_rows": null,
            "grid_column": null,
            "grid_gap": null,
            "grid_row": null,
            "grid_template_areas": null,
            "grid_template_columns": null,
            "grid_template_rows": null,
            "height": null,
            "justify_content": null,
            "justify_items": null,
            "left": null,
            "margin": null,
            "max_height": null,
            "max_width": null,
            "min_height": null,
            "min_width": null,
            "object_fit": null,
            "object_position": null,
            "order": null,
            "overflow": null,
            "overflow_x": null,
            "overflow_y": null,
            "padding": null,
            "right": null,
            "top": null,
            "visibility": null,
            "width": null
          }
        },
        "a5212029faa349ed8c9e86ad51331533": {
          "model_module": "@jupyter-widgets/controls",
          "model_name": "DescriptionStyleModel",
          "model_module_version": "1.5.0",
          "state": {
            "_model_module": "@jupyter-widgets/controls",
            "_model_module_version": "1.5.0",
            "_model_name": "DescriptionStyleModel",
            "_view_count": null,
            "_view_module": "@jupyter-widgets/base",
            "_view_module_version": "1.2.0",
            "_view_name": "StyleView",
            "description_width": ""
          }
        },
        "7bae88fe214f4ecd9ca8e5327b6d31f5": {
          "model_module": "@jupyter-widgets/base",
          "model_name": "LayoutModel",
          "model_module_version": "1.2.0",
          "state": {
            "_model_module": "@jupyter-widgets/base",
            "_model_module_version": "1.2.0",
            "_model_name": "LayoutModel",
            "_view_count": null,
            "_view_module": "@jupyter-widgets/base",
            "_view_module_version": "1.2.0",
            "_view_name": "LayoutView",
            "align_content": null,
            "align_items": null,
            "align_self": null,
            "border": null,
            "bottom": null,
            "display": null,
            "flex": null,
            "flex_flow": null,
            "grid_area": null,
            "grid_auto_columns": null,
            "grid_auto_flow": null,
            "grid_auto_rows": null,
            "grid_column": null,
            "grid_gap": null,
            "grid_row": null,
            "grid_template_areas": null,
            "grid_template_columns": null,
            "grid_template_rows": null,
            "height": null,
            "justify_content": null,
            "justify_items": null,
            "left": null,
            "margin": null,
            "max_height": null,
            "max_width": null,
            "min_height": null,
            "min_width": null,
            "object_fit": null,
            "object_position": null,
            "order": null,
            "overflow": null,
            "overflow_x": null,
            "overflow_y": null,
            "padding": null,
            "right": null,
            "top": null,
            "visibility": null,
            "width": null
          }
        },
        "db26833c39d04f80b0efb7154b7ee508": {
          "model_module": "@jupyter-widgets/controls",
          "model_name": "ProgressStyleModel",
          "model_module_version": "1.5.0",
          "state": {
            "_model_module": "@jupyter-widgets/controls",
            "_model_module_version": "1.5.0",
            "_model_name": "ProgressStyleModel",
            "_view_count": null,
            "_view_module": "@jupyter-widgets/base",
            "_view_module_version": "1.2.0",
            "_view_name": "StyleView",
            "bar_color": null,
            "description_width": ""
          }
        },
        "4b03da14abf14c4d9ff303a14b85878a": {
          "model_module": "@jupyter-widgets/base",
          "model_name": "LayoutModel",
          "model_module_version": "1.2.0",
          "state": {
            "_model_module": "@jupyter-widgets/base",
            "_model_module_version": "1.2.0",
            "_model_name": "LayoutModel",
            "_view_count": null,
            "_view_module": "@jupyter-widgets/base",
            "_view_module_version": "1.2.0",
            "_view_name": "LayoutView",
            "align_content": null,
            "align_items": null,
            "align_self": null,
            "border": null,
            "bottom": null,
            "display": null,
            "flex": null,
            "flex_flow": null,
            "grid_area": null,
            "grid_auto_columns": null,
            "grid_auto_flow": null,
            "grid_auto_rows": null,
            "grid_column": null,
            "grid_gap": null,
            "grid_row": null,
            "grid_template_areas": null,
            "grid_template_columns": null,
            "grid_template_rows": null,
            "height": null,
            "justify_content": null,
            "justify_items": null,
            "left": null,
            "margin": null,
            "max_height": null,
            "max_width": null,
            "min_height": null,
            "min_width": null,
            "object_fit": null,
            "object_position": null,
            "order": null,
            "overflow": null,
            "overflow_x": null,
            "overflow_y": null,
            "padding": null,
            "right": null,
            "top": null,
            "visibility": null,
            "width": null
          }
        },
        "cf46008f308e4ffc92b751d1519a9014": {
          "model_module": "@jupyter-widgets/controls",
          "model_name": "DescriptionStyleModel",
          "model_module_version": "1.5.0",
          "state": {
            "_model_module": "@jupyter-widgets/controls",
            "_model_module_version": "1.5.0",
            "_model_name": "DescriptionStyleModel",
            "_view_count": null,
            "_view_module": "@jupyter-widgets/base",
            "_view_module_version": "1.2.0",
            "_view_name": "StyleView",
            "description_width": ""
          }
        },
        "753899f146844dfd96f1cedfc4272c98": {
          "model_module": "@jupyter-widgets/controls",
          "model_name": "HBoxModel",
          "model_module_version": "1.5.0",
          "state": {
            "_dom_classes": [],
            "_model_module": "@jupyter-widgets/controls",
            "_model_module_version": "1.5.0",
            "_model_name": "HBoxModel",
            "_view_count": null,
            "_view_module": "@jupyter-widgets/controls",
            "_view_module_version": "1.5.0",
            "_view_name": "HBoxView",
            "box_style": "",
            "children": [
              "IPY_MODEL_b7c3107ca15548939cffd462b80d8462",
              "IPY_MODEL_9d2f2a562eae498fb430e6cb96b8198f",
              "IPY_MODEL_a71f15e45e0f41149b9e5ccdc9ba3c0c"
            ],
            "layout": "IPY_MODEL_9baffc5ab9594a5685ec38af42c1d805"
          }
        },
        "b7c3107ca15548939cffd462b80d8462": {
          "model_module": "@jupyter-widgets/controls",
          "model_name": "HTMLModel",
          "model_module_version": "1.5.0",
          "state": {
            "_dom_classes": [],
            "_model_module": "@jupyter-widgets/controls",
            "_model_module_version": "1.5.0",
            "_model_name": "HTMLModel",
            "_view_count": null,
            "_view_module": "@jupyter-widgets/controls",
            "_view_module_version": "1.5.0",
            "_view_name": "HTMLView",
            "description": "",
            "description_tooltip": null,
            "layout": "IPY_MODEL_b01bb48475df4ca9a50d3f54085097e5",
            "placeholder": "​",
            "style": "IPY_MODEL_fec0345bd04249cfb86925de44472483",
            "value": "Downloading (…)lve/main/config.json: 100%"
          }
        },
        "9d2f2a562eae498fb430e6cb96b8198f": {
          "model_module": "@jupyter-widgets/controls",
          "model_name": "FloatProgressModel",
          "model_module_version": "1.5.0",
          "state": {
            "_dom_classes": [],
            "_model_module": "@jupyter-widgets/controls",
            "_model_module_version": "1.5.0",
            "_model_name": "FloatProgressModel",
            "_view_count": null,
            "_view_module": "@jupyter-widgets/controls",
            "_view_module_version": "1.5.0",
            "_view_name": "ProgressView",
            "bar_style": "success",
            "description": "",
            "description_tooltip": null,
            "layout": "IPY_MODEL_40beff31c8de4cb59a1dd54a85ea76a1",
            "max": 981,
            "min": 0,
            "orientation": "horizontal",
            "style": "IPY_MODEL_13d4b1ab2ad94de0bf59ecf808535b82",
            "value": 981
          }
        },
        "a71f15e45e0f41149b9e5ccdc9ba3c0c": {
          "model_module": "@jupyter-widgets/controls",
          "model_name": "HTMLModel",
          "model_module_version": "1.5.0",
          "state": {
            "_dom_classes": [],
            "_model_module": "@jupyter-widgets/controls",
            "_model_module_version": "1.5.0",
            "_model_name": "HTMLModel",
            "_view_count": null,
            "_view_module": "@jupyter-widgets/controls",
            "_view_module_version": "1.5.0",
            "_view_name": "HTMLView",
            "description": "",
            "description_tooltip": null,
            "layout": "IPY_MODEL_539e1f95caee43ac86a452c8f2ea7821",
            "placeholder": "​",
            "style": "IPY_MODEL_fc083c6b1c9c48d0a135a88e568bc41c",
            "value": " 981/981 [00:00&lt;00:00, 28.9kB/s]"
          }
        },
        "9baffc5ab9594a5685ec38af42c1d805": {
          "model_module": "@jupyter-widgets/base",
          "model_name": "LayoutModel",
          "model_module_version": "1.2.0",
          "state": {
            "_model_module": "@jupyter-widgets/base",
            "_model_module_version": "1.2.0",
            "_model_name": "LayoutModel",
            "_view_count": null,
            "_view_module": "@jupyter-widgets/base",
            "_view_module_version": "1.2.0",
            "_view_name": "LayoutView",
            "align_content": null,
            "align_items": null,
            "align_self": null,
            "border": null,
            "bottom": null,
            "display": null,
            "flex": null,
            "flex_flow": null,
            "grid_area": null,
            "grid_auto_columns": null,
            "grid_auto_flow": null,
            "grid_auto_rows": null,
            "grid_column": null,
            "grid_gap": null,
            "grid_row": null,
            "grid_template_areas": null,
            "grid_template_columns": null,
            "grid_template_rows": null,
            "height": null,
            "justify_content": null,
            "justify_items": null,
            "left": null,
            "margin": null,
            "max_height": null,
            "max_width": null,
            "min_height": null,
            "min_width": null,
            "object_fit": null,
            "object_position": null,
            "order": null,
            "overflow": null,
            "overflow_x": null,
            "overflow_y": null,
            "padding": null,
            "right": null,
            "top": null,
            "visibility": null,
            "width": null
          }
        },
        "b01bb48475df4ca9a50d3f54085097e5": {
          "model_module": "@jupyter-widgets/base",
          "model_name": "LayoutModel",
          "model_module_version": "1.2.0",
          "state": {
            "_model_module": "@jupyter-widgets/base",
            "_model_module_version": "1.2.0",
            "_model_name": "LayoutModel",
            "_view_count": null,
            "_view_module": "@jupyter-widgets/base",
            "_view_module_version": "1.2.0",
            "_view_name": "LayoutView",
            "align_content": null,
            "align_items": null,
            "align_self": null,
            "border": null,
            "bottom": null,
            "display": null,
            "flex": null,
            "flex_flow": null,
            "grid_area": null,
            "grid_auto_columns": null,
            "grid_auto_flow": null,
            "grid_auto_rows": null,
            "grid_column": null,
            "grid_gap": null,
            "grid_row": null,
            "grid_template_areas": null,
            "grid_template_columns": null,
            "grid_template_rows": null,
            "height": null,
            "justify_content": null,
            "justify_items": null,
            "left": null,
            "margin": null,
            "max_height": null,
            "max_width": null,
            "min_height": null,
            "min_width": null,
            "object_fit": null,
            "object_position": null,
            "order": null,
            "overflow": null,
            "overflow_x": null,
            "overflow_y": null,
            "padding": null,
            "right": null,
            "top": null,
            "visibility": null,
            "width": null
          }
        },
        "fec0345bd04249cfb86925de44472483": {
          "model_module": "@jupyter-widgets/controls",
          "model_name": "DescriptionStyleModel",
          "model_module_version": "1.5.0",
          "state": {
            "_model_module": "@jupyter-widgets/controls",
            "_model_module_version": "1.5.0",
            "_model_name": "DescriptionStyleModel",
            "_view_count": null,
            "_view_module": "@jupyter-widgets/base",
            "_view_module_version": "1.2.0",
            "_view_name": "StyleView",
            "description_width": ""
          }
        },
        "40beff31c8de4cb59a1dd54a85ea76a1": {
          "model_module": "@jupyter-widgets/base",
          "model_name": "LayoutModel",
          "model_module_version": "1.2.0",
          "state": {
            "_model_module": "@jupyter-widgets/base",
            "_model_module_version": "1.2.0",
            "_model_name": "LayoutModel",
            "_view_count": null,
            "_view_module": "@jupyter-widgets/base",
            "_view_module_version": "1.2.0",
            "_view_name": "LayoutView",
            "align_content": null,
            "align_items": null,
            "align_self": null,
            "border": null,
            "bottom": null,
            "display": null,
            "flex": null,
            "flex_flow": null,
            "grid_area": null,
            "grid_auto_columns": null,
            "grid_auto_flow": null,
            "grid_auto_rows": null,
            "grid_column": null,
            "grid_gap": null,
            "grid_row": null,
            "grid_template_areas": null,
            "grid_template_columns": null,
            "grid_template_rows": null,
            "height": null,
            "justify_content": null,
            "justify_items": null,
            "left": null,
            "margin": null,
            "max_height": null,
            "max_width": null,
            "min_height": null,
            "min_width": null,
            "object_fit": null,
            "object_position": null,
            "order": null,
            "overflow": null,
            "overflow_x": null,
            "overflow_y": null,
            "padding": null,
            "right": null,
            "top": null,
            "visibility": null,
            "width": null
          }
        },
        "13d4b1ab2ad94de0bf59ecf808535b82": {
          "model_module": "@jupyter-widgets/controls",
          "model_name": "ProgressStyleModel",
          "model_module_version": "1.5.0",
          "state": {
            "_model_module": "@jupyter-widgets/controls",
            "_model_module_version": "1.5.0",
            "_model_name": "ProgressStyleModel",
            "_view_count": null,
            "_view_module": "@jupyter-widgets/base",
            "_view_module_version": "1.2.0",
            "_view_name": "StyleView",
            "bar_color": null,
            "description_width": ""
          }
        },
        "539e1f95caee43ac86a452c8f2ea7821": {
          "model_module": "@jupyter-widgets/base",
          "model_name": "LayoutModel",
          "model_module_version": "1.2.0",
          "state": {
            "_model_module": "@jupyter-widgets/base",
            "_model_module_version": "1.2.0",
            "_model_name": "LayoutModel",
            "_view_count": null,
            "_view_module": "@jupyter-widgets/base",
            "_view_module_version": "1.2.0",
            "_view_name": "LayoutView",
            "align_content": null,
            "align_items": null,
            "align_self": null,
            "border": null,
            "bottom": null,
            "display": null,
            "flex": null,
            "flex_flow": null,
            "grid_area": null,
            "grid_auto_columns": null,
            "grid_auto_flow": null,
            "grid_auto_rows": null,
            "grid_column": null,
            "grid_gap": null,
            "grid_row": null,
            "grid_template_areas": null,
            "grid_template_columns": null,
            "grid_template_rows": null,
            "height": null,
            "justify_content": null,
            "justify_items": null,
            "left": null,
            "margin": null,
            "max_height": null,
            "max_width": null,
            "min_height": null,
            "min_width": null,
            "object_fit": null,
            "object_position": null,
            "order": null,
            "overflow": null,
            "overflow_x": null,
            "overflow_y": null,
            "padding": null,
            "right": null,
            "top": null,
            "visibility": null,
            "width": null
          }
        },
        "fc083c6b1c9c48d0a135a88e568bc41c": {
          "model_module": "@jupyter-widgets/controls",
          "model_name": "DescriptionStyleModel",
          "model_module_version": "1.5.0",
          "state": {
            "_model_module": "@jupyter-widgets/controls",
            "_model_module_version": "1.5.0",
            "_model_name": "DescriptionStyleModel",
            "_view_count": null,
            "_view_module": "@jupyter-widgets/base",
            "_view_module_version": "1.2.0",
            "_view_name": "StyleView",
            "description_width": ""
          }
        },
        "73a254954f464f0c95b4f8e346658b1a": {
          "model_module": "@jupyter-widgets/controls",
          "model_name": "HBoxModel",
          "model_module_version": "1.5.0",
          "state": {
            "_dom_classes": [],
            "_model_module": "@jupyter-widgets/controls",
            "_model_module_version": "1.5.0",
            "_model_name": "HBoxModel",
            "_view_count": null,
            "_view_module": "@jupyter-widgets/controls",
            "_view_module_version": "1.5.0",
            "_view_name": "HBoxView",
            "box_style": "",
            "children": [
              "IPY_MODEL_720790a9ca4f4470beb7b2ecd1067f38",
              "IPY_MODEL_aac87493c08442f49936eaa914a467a9",
              "IPY_MODEL_609a36d5e0ce40589280f5e973ce2fe6"
            ],
            "layout": "IPY_MODEL_d3859221116c4e28bd870c7e36cf4259"
          }
        },
        "720790a9ca4f4470beb7b2ecd1067f38": {
          "model_module": "@jupyter-widgets/controls",
          "model_name": "HTMLModel",
          "model_module_version": "1.5.0",
          "state": {
            "_dom_classes": [],
            "_model_module": "@jupyter-widgets/controls",
            "_model_module_version": "1.5.0",
            "_model_name": "HTMLModel",
            "_view_count": null,
            "_view_module": "@jupyter-widgets/controls",
            "_view_module_version": "1.5.0",
            "_view_name": "HTMLView",
            "description": "",
            "description_tooltip": null,
            "layout": "IPY_MODEL_2352736c468d440f82f299b29740d3fe",
            "placeholder": "​",
            "style": "IPY_MODEL_b20dcf6fed7e40faa690e1b343d20100",
            "value": "Downloading pytorch_model.bin: 100%"
          }
        },
        "aac87493c08442f49936eaa914a467a9": {
          "model_module": "@jupyter-widgets/controls",
          "model_name": "FloatProgressModel",
          "model_module_version": "1.5.0",
          "state": {
            "_dom_classes": [],
            "_model_module": "@jupyter-widgets/controls",
            "_model_module_version": "1.5.0",
            "_model_name": "FloatProgressModel",
            "_view_count": null,
            "_view_module": "@jupyter-widgets/controls",
            "_view_module_version": "1.5.0",
            "_view_name": "ProgressView",
            "bar_style": "success",
            "description": "",
            "description_tooltip": null,
            "layout": "IPY_MODEL_f083649128504358905b88491f4b53dd",
            "max": 133799339,
            "min": 0,
            "orientation": "horizontal",
            "style": "IPY_MODEL_7580c969a5934dd4958c39b038eaea9a",
            "value": 133799339
          }
        },
        "609a36d5e0ce40589280f5e973ce2fe6": {
          "model_module": "@jupyter-widgets/controls",
          "model_name": "HTMLModel",
          "model_module_version": "1.5.0",
          "state": {
            "_dom_classes": [],
            "_model_module": "@jupyter-widgets/controls",
            "_model_module_version": "1.5.0",
            "_model_name": "HTMLModel",
            "_view_count": null,
            "_view_module": "@jupyter-widgets/controls",
            "_view_module_version": "1.5.0",
            "_view_name": "HTMLView",
            "description": "",
            "description_tooltip": null,
            "layout": "IPY_MODEL_cc8ff66e6d5e448bb209f32a75ec776f",
            "placeholder": "​",
            "style": "IPY_MODEL_4ff2d709172f456397868249e8721d67",
            "value": " 134M/134M [00:08&lt;00:00, 16.4MB/s]"
          }
        },
        "d3859221116c4e28bd870c7e36cf4259": {
          "model_module": "@jupyter-widgets/base",
          "model_name": "LayoutModel",
          "model_module_version": "1.2.0",
          "state": {
            "_model_module": "@jupyter-widgets/base",
            "_model_module_version": "1.2.0",
            "_model_name": "LayoutModel",
            "_view_count": null,
            "_view_module": "@jupyter-widgets/base",
            "_view_module_version": "1.2.0",
            "_view_name": "LayoutView",
            "align_content": null,
            "align_items": null,
            "align_self": null,
            "border": null,
            "bottom": null,
            "display": null,
            "flex": null,
            "flex_flow": null,
            "grid_area": null,
            "grid_auto_columns": null,
            "grid_auto_flow": null,
            "grid_auto_rows": null,
            "grid_column": null,
            "grid_gap": null,
            "grid_row": null,
            "grid_template_areas": null,
            "grid_template_columns": null,
            "grid_template_rows": null,
            "height": null,
            "justify_content": null,
            "justify_items": null,
            "left": null,
            "margin": null,
            "max_height": null,
            "max_width": null,
            "min_height": null,
            "min_width": null,
            "object_fit": null,
            "object_position": null,
            "order": null,
            "overflow": null,
            "overflow_x": null,
            "overflow_y": null,
            "padding": null,
            "right": null,
            "top": null,
            "visibility": null,
            "width": null
          }
        },
        "2352736c468d440f82f299b29740d3fe": {
          "model_module": "@jupyter-widgets/base",
          "model_name": "LayoutModel",
          "model_module_version": "1.2.0",
          "state": {
            "_model_module": "@jupyter-widgets/base",
            "_model_module_version": "1.2.0",
            "_model_name": "LayoutModel",
            "_view_count": null,
            "_view_module": "@jupyter-widgets/base",
            "_view_module_version": "1.2.0",
            "_view_name": "LayoutView",
            "align_content": null,
            "align_items": null,
            "align_self": null,
            "border": null,
            "bottom": null,
            "display": null,
            "flex": null,
            "flex_flow": null,
            "grid_area": null,
            "grid_auto_columns": null,
            "grid_auto_flow": null,
            "grid_auto_rows": null,
            "grid_column": null,
            "grid_gap": null,
            "grid_row": null,
            "grid_template_areas": null,
            "grid_template_columns": null,
            "grid_template_rows": null,
            "height": null,
            "justify_content": null,
            "justify_items": null,
            "left": null,
            "margin": null,
            "max_height": null,
            "max_width": null,
            "min_height": null,
            "min_width": null,
            "object_fit": null,
            "object_position": null,
            "order": null,
            "overflow": null,
            "overflow_x": null,
            "overflow_y": null,
            "padding": null,
            "right": null,
            "top": null,
            "visibility": null,
            "width": null
          }
        },
        "b20dcf6fed7e40faa690e1b343d20100": {
          "model_module": "@jupyter-widgets/controls",
          "model_name": "DescriptionStyleModel",
          "model_module_version": "1.5.0",
          "state": {
            "_model_module": "@jupyter-widgets/controls",
            "_model_module_version": "1.5.0",
            "_model_name": "DescriptionStyleModel",
            "_view_count": null,
            "_view_module": "@jupyter-widgets/base",
            "_view_module_version": "1.2.0",
            "_view_name": "StyleView",
            "description_width": ""
          }
        },
        "f083649128504358905b88491f4b53dd": {
          "model_module": "@jupyter-widgets/base",
          "model_name": "LayoutModel",
          "model_module_version": "1.2.0",
          "state": {
            "_model_module": "@jupyter-widgets/base",
            "_model_module_version": "1.2.0",
            "_model_name": "LayoutModel",
            "_view_count": null,
            "_view_module": "@jupyter-widgets/base",
            "_view_module_version": "1.2.0",
            "_view_name": "LayoutView",
            "align_content": null,
            "align_items": null,
            "align_self": null,
            "border": null,
            "bottom": null,
            "display": null,
            "flex": null,
            "flex_flow": null,
            "grid_area": null,
            "grid_auto_columns": null,
            "grid_auto_flow": null,
            "grid_auto_rows": null,
            "grid_column": null,
            "grid_gap": null,
            "grid_row": null,
            "grid_template_areas": null,
            "grid_template_columns": null,
            "grid_template_rows": null,
            "height": null,
            "justify_content": null,
            "justify_items": null,
            "left": null,
            "margin": null,
            "max_height": null,
            "max_width": null,
            "min_height": null,
            "min_width": null,
            "object_fit": null,
            "object_position": null,
            "order": null,
            "overflow": null,
            "overflow_x": null,
            "overflow_y": null,
            "padding": null,
            "right": null,
            "top": null,
            "visibility": null,
            "width": null
          }
        },
        "7580c969a5934dd4958c39b038eaea9a": {
          "model_module": "@jupyter-widgets/controls",
          "model_name": "ProgressStyleModel",
          "model_module_version": "1.5.0",
          "state": {
            "_model_module": "@jupyter-widgets/controls",
            "_model_module_version": "1.5.0",
            "_model_name": "ProgressStyleModel",
            "_view_count": null,
            "_view_module": "@jupyter-widgets/base",
            "_view_module_version": "1.2.0",
            "_view_name": "StyleView",
            "bar_color": null,
            "description_width": ""
          }
        },
        "cc8ff66e6d5e448bb209f32a75ec776f": {
          "model_module": "@jupyter-widgets/base",
          "model_name": "LayoutModel",
          "model_module_version": "1.2.0",
          "state": {
            "_model_module": "@jupyter-widgets/base",
            "_model_module_version": "1.2.0",
            "_model_name": "LayoutModel",
            "_view_count": null,
            "_view_module": "@jupyter-widgets/base",
            "_view_module_version": "1.2.0",
            "_view_name": "LayoutView",
            "align_content": null,
            "align_items": null,
            "align_self": null,
            "border": null,
            "bottom": null,
            "display": null,
            "flex": null,
            "flex_flow": null,
            "grid_area": null,
            "grid_auto_columns": null,
            "grid_auto_flow": null,
            "grid_auto_rows": null,
            "grid_column": null,
            "grid_gap": null,
            "grid_row": null,
            "grid_template_areas": null,
            "grid_template_columns": null,
            "grid_template_rows": null,
            "height": null,
            "justify_content": null,
            "justify_items": null,
            "left": null,
            "margin": null,
            "max_height": null,
            "max_width": null,
            "min_height": null,
            "min_width": null,
            "object_fit": null,
            "object_position": null,
            "order": null,
            "overflow": null,
            "overflow_x": null,
            "overflow_y": null,
            "padding": null,
            "right": null,
            "top": null,
            "visibility": null,
            "width": null
          }
        },
        "4ff2d709172f456397868249e8721d67": {
          "model_module": "@jupyter-widgets/controls",
          "model_name": "DescriptionStyleModel",
          "model_module_version": "1.5.0",
          "state": {
            "_model_module": "@jupyter-widgets/controls",
            "_model_module_version": "1.5.0",
            "_model_name": "DescriptionStyleModel",
            "_view_count": null,
            "_view_module": "@jupyter-widgets/base",
            "_view_module_version": "1.2.0",
            "_view_name": "StyleView",
            "description_width": ""
          }
        },
        "0b752557d06e4fb0b14fceb00f20fcc8": {
          "model_module": "@jupyter-widgets/controls",
          "model_name": "HBoxModel",
          "model_module_version": "1.5.0",
          "state": {
            "_dom_classes": [],
            "_model_module": "@jupyter-widgets/controls",
            "_model_module_version": "1.5.0",
            "_model_name": "HBoxModel",
            "_view_count": null,
            "_view_module": "@jupyter-widgets/controls",
            "_view_module_version": "1.5.0",
            "_view_name": "HBoxView",
            "box_style": "",
            "children": [
              "IPY_MODEL_1c9edafb67f04331b444e502b69f0e4f",
              "IPY_MODEL_abf9af30bd6e4edeabda2d1b54019afd",
              "IPY_MODEL_71b50b90c5ff447caace89f15520f1a9"
            ],
            "layout": "IPY_MODEL_0777e27ab3ab4614b9242dd10429b79f"
          }
        },
        "1c9edafb67f04331b444e502b69f0e4f": {
          "model_module": "@jupyter-widgets/controls",
          "model_name": "HTMLModel",
          "model_module_version": "1.5.0",
          "state": {
            "_dom_classes": [],
            "_model_module": "@jupyter-widgets/controls",
            "_model_module_version": "1.5.0",
            "_model_name": "HTMLModel",
            "_view_count": null,
            "_view_module": "@jupyter-widgets/controls",
            "_view_module_version": "1.5.0",
            "_view_name": "HTMLView",
            "description": "",
            "description_tooltip": null,
            "layout": "IPY_MODEL_8b637ba0dde54d5e96c0661b7aaff439",
            "placeholder": "​",
            "style": "IPY_MODEL_41396743f8b6422995b7249ab618c35e",
            "value": "Downloading spiece.model: 100%"
          }
        },
        "abf9af30bd6e4edeabda2d1b54019afd": {
          "model_module": "@jupyter-widgets/controls",
          "model_name": "FloatProgressModel",
          "model_module_version": "1.5.0",
          "state": {
            "_dom_classes": [],
            "_model_module": "@jupyter-widgets/controls",
            "_model_module_version": "1.5.0",
            "_model_name": "FloatProgressModel",
            "_view_count": null,
            "_view_module": "@jupyter-widgets/controls",
            "_view_module_version": "1.5.0",
            "_view_name": "ProgressView",
            "bar_style": "success",
            "description": "",
            "description_tooltip": null,
            "layout": "IPY_MODEL_94c0916ae44145c1a756036a800904ce",
            "max": 5646064,
            "min": 0,
            "orientation": "horizontal",
            "style": "IPY_MODEL_33c669d09e4744ff8fe74a569e2b6f70",
            "value": 5646064
          }
        },
        "71b50b90c5ff447caace89f15520f1a9": {
          "model_module": "@jupyter-widgets/controls",
          "model_name": "HTMLModel",
          "model_module_version": "1.5.0",
          "state": {
            "_dom_classes": [],
            "_model_module": "@jupyter-widgets/controls",
            "_model_module_version": "1.5.0",
            "_model_name": "HTMLModel",
            "_view_count": null,
            "_view_module": "@jupyter-widgets/controls",
            "_view_module_version": "1.5.0",
            "_view_name": "HTMLView",
            "description": "",
            "description_tooltip": null,
            "layout": "IPY_MODEL_c312109fb59244ff8b369b880bf1a2e2",
            "placeholder": "​",
            "style": "IPY_MODEL_0fb652f3b962448ebe06c7306ddb55a7",
            "value": " 5.65M/5.65M [00:01&lt;00:00, 3.40MB/s]"
          }
        },
        "0777e27ab3ab4614b9242dd10429b79f": {
          "model_module": "@jupyter-widgets/base",
          "model_name": "LayoutModel",
          "model_module_version": "1.2.0",
          "state": {
            "_model_module": "@jupyter-widgets/base",
            "_model_module_version": "1.2.0",
            "_model_name": "LayoutModel",
            "_view_count": null,
            "_view_module": "@jupyter-widgets/base",
            "_view_module_version": "1.2.0",
            "_view_name": "LayoutView",
            "align_content": null,
            "align_items": null,
            "align_self": null,
            "border": null,
            "bottom": null,
            "display": null,
            "flex": null,
            "flex_flow": null,
            "grid_area": null,
            "grid_auto_columns": null,
            "grid_auto_flow": null,
            "grid_auto_rows": null,
            "grid_column": null,
            "grid_gap": null,
            "grid_row": null,
            "grid_template_areas": null,
            "grid_template_columns": null,
            "grid_template_rows": null,
            "height": null,
            "justify_content": null,
            "justify_items": null,
            "left": null,
            "margin": null,
            "max_height": null,
            "max_width": null,
            "min_height": null,
            "min_width": null,
            "object_fit": null,
            "object_position": null,
            "order": null,
            "overflow": null,
            "overflow_x": null,
            "overflow_y": null,
            "padding": null,
            "right": null,
            "top": null,
            "visibility": null,
            "width": null
          }
        },
        "8b637ba0dde54d5e96c0661b7aaff439": {
          "model_module": "@jupyter-widgets/base",
          "model_name": "LayoutModel",
          "model_module_version": "1.2.0",
          "state": {
            "_model_module": "@jupyter-widgets/base",
            "_model_module_version": "1.2.0",
            "_model_name": "LayoutModel",
            "_view_count": null,
            "_view_module": "@jupyter-widgets/base",
            "_view_module_version": "1.2.0",
            "_view_name": "LayoutView",
            "align_content": null,
            "align_items": null,
            "align_self": null,
            "border": null,
            "bottom": null,
            "display": null,
            "flex": null,
            "flex_flow": null,
            "grid_area": null,
            "grid_auto_columns": null,
            "grid_auto_flow": null,
            "grid_auto_rows": null,
            "grid_column": null,
            "grid_gap": null,
            "grid_row": null,
            "grid_template_areas": null,
            "grid_template_columns": null,
            "grid_template_rows": null,
            "height": null,
            "justify_content": null,
            "justify_items": null,
            "left": null,
            "margin": null,
            "max_height": null,
            "max_width": null,
            "min_height": null,
            "min_width": null,
            "object_fit": null,
            "object_position": null,
            "order": null,
            "overflow": null,
            "overflow_x": null,
            "overflow_y": null,
            "padding": null,
            "right": null,
            "top": null,
            "visibility": null,
            "width": null
          }
        },
        "41396743f8b6422995b7249ab618c35e": {
          "model_module": "@jupyter-widgets/controls",
          "model_name": "DescriptionStyleModel",
          "model_module_version": "1.5.0",
          "state": {
            "_model_module": "@jupyter-widgets/controls",
            "_model_module_version": "1.5.0",
            "_model_name": "DescriptionStyleModel",
            "_view_count": null,
            "_view_module": "@jupyter-widgets/base",
            "_view_module_version": "1.2.0",
            "_view_name": "StyleView",
            "description_width": ""
          }
        },
        "94c0916ae44145c1a756036a800904ce": {
          "model_module": "@jupyter-widgets/base",
          "model_name": "LayoutModel",
          "model_module_version": "1.2.0",
          "state": {
            "_model_module": "@jupyter-widgets/base",
            "_model_module_version": "1.2.0",
            "_model_name": "LayoutModel",
            "_view_count": null,
            "_view_module": "@jupyter-widgets/base",
            "_view_module_version": "1.2.0",
            "_view_name": "LayoutView",
            "align_content": null,
            "align_items": null,
            "align_self": null,
            "border": null,
            "bottom": null,
            "display": null,
            "flex": null,
            "flex_flow": null,
            "grid_area": null,
            "grid_auto_columns": null,
            "grid_auto_flow": null,
            "grid_auto_rows": null,
            "grid_column": null,
            "grid_gap": null,
            "grid_row": null,
            "grid_template_areas": null,
            "grid_template_columns": null,
            "grid_template_rows": null,
            "height": null,
            "justify_content": null,
            "justify_items": null,
            "left": null,
            "margin": null,
            "max_height": null,
            "max_width": null,
            "min_height": null,
            "min_width": null,
            "object_fit": null,
            "object_position": null,
            "order": null,
            "overflow": null,
            "overflow_x": null,
            "overflow_y": null,
            "padding": null,
            "right": null,
            "top": null,
            "visibility": null,
            "width": null
          }
        },
        "33c669d09e4744ff8fe74a569e2b6f70": {
          "model_module": "@jupyter-widgets/controls",
          "model_name": "ProgressStyleModel",
          "model_module_version": "1.5.0",
          "state": {
            "_model_module": "@jupyter-widgets/controls",
            "_model_module_version": "1.5.0",
            "_model_name": "ProgressStyleModel",
            "_view_count": null,
            "_view_module": "@jupyter-widgets/base",
            "_view_module_version": "1.2.0",
            "_view_name": "StyleView",
            "bar_color": null,
            "description_width": ""
          }
        },
        "c312109fb59244ff8b369b880bf1a2e2": {
          "model_module": "@jupyter-widgets/base",
          "model_name": "LayoutModel",
          "model_module_version": "1.2.0",
          "state": {
            "_model_module": "@jupyter-widgets/base",
            "_model_module_version": "1.2.0",
            "_model_name": "LayoutModel",
            "_view_count": null,
            "_view_module": "@jupyter-widgets/base",
            "_view_module_version": "1.2.0",
            "_view_name": "LayoutView",
            "align_content": null,
            "align_items": null,
            "align_self": null,
            "border": null,
            "bottom": null,
            "display": null,
            "flex": null,
            "flex_flow": null,
            "grid_area": null,
            "grid_auto_columns": null,
            "grid_auto_flow": null,
            "grid_auto_rows": null,
            "grid_column": null,
            "grid_gap": null,
            "grid_row": null,
            "grid_template_areas": null,
            "grid_template_columns": null,
            "grid_template_rows": null,
            "height": null,
            "justify_content": null,
            "justify_items": null,
            "left": null,
            "margin": null,
            "max_height": null,
            "max_width": null,
            "min_height": null,
            "min_width": null,
            "object_fit": null,
            "object_position": null,
            "order": null,
            "overflow": null,
            "overflow_x": null,
            "overflow_y": null,
            "padding": null,
            "right": null,
            "top": null,
            "visibility": null,
            "width": null
          }
        },
        "0fb652f3b962448ebe06c7306ddb55a7": {
          "model_module": "@jupyter-widgets/controls",
          "model_name": "DescriptionStyleModel",
          "model_module_version": "1.5.0",
          "state": {
            "_model_module": "@jupyter-widgets/controls",
            "_model_module_version": "1.5.0",
            "_model_name": "DescriptionStyleModel",
            "_view_count": null,
            "_view_module": "@jupyter-widgets/base",
            "_view_module_version": "1.2.0",
            "_view_name": "StyleView",
            "description_width": ""
          }
        },
        "617821c16e4e4cb0a98e20e9a58e240e": {
          "model_module": "@jupyter-widgets/controls",
          "model_name": "HBoxModel",
          "model_module_version": "1.5.0",
          "state": {
            "_dom_classes": [],
            "_model_module": "@jupyter-widgets/controls",
            "_model_module_version": "1.5.0",
            "_model_name": "HBoxModel",
            "_view_count": null,
            "_view_module": "@jupyter-widgets/controls",
            "_view_module_version": "1.5.0",
            "_view_name": "HBoxView",
            "box_style": "",
            "children": [
              "IPY_MODEL_14afc6206555417889dbd2be9dc3ff3e",
              "IPY_MODEL_f2a5a286c7de4b399809e7f3e80140ce",
              "IPY_MODEL_74b284ac96c54a119b794762d5789894"
            ],
            "layout": "IPY_MODEL_d9acdd31971f4721b5ba8834adcc342f"
          }
        },
        "14afc6206555417889dbd2be9dc3ff3e": {
          "model_module": "@jupyter-widgets/controls",
          "model_name": "HTMLModel",
          "model_module_version": "1.5.0",
          "state": {
            "_dom_classes": [],
            "_model_module": "@jupyter-widgets/controls",
            "_model_module_version": "1.5.0",
            "_model_name": "HTMLModel",
            "_view_count": null,
            "_view_module": "@jupyter-widgets/controls",
            "_view_module_version": "1.5.0",
            "_view_name": "HTMLView",
            "description": "",
            "description_tooltip": null,
            "layout": "IPY_MODEL_37c8c84b11314173a1d4218a28ddefe4",
            "placeholder": "​",
            "style": "IPY_MODEL_67c45e571e7149d6a2839aa4bc77fc65",
            "value": "Downloading (…)cial_tokens_map.json: 100%"
          }
        },
        "f2a5a286c7de4b399809e7f3e80140ce": {
          "model_module": "@jupyter-widgets/controls",
          "model_name": "FloatProgressModel",
          "model_module_version": "1.5.0",
          "state": {
            "_dom_classes": [],
            "_model_module": "@jupyter-widgets/controls",
            "_model_module_version": "1.5.0",
            "_model_name": "FloatProgressModel",
            "_view_count": null,
            "_view_module": "@jupyter-widgets/controls",
            "_view_module_version": "1.5.0",
            "_view_name": "ProgressView",
            "bar_style": "success",
            "description": "",
            "description_tooltip": null,
            "layout": "IPY_MODEL_0eaeff66dd7f4d09961af63a7a069aea",
            "max": 244,
            "min": 0,
            "orientation": "horizontal",
            "style": "IPY_MODEL_18503dbd3b9b4e2eadc025ae0d10d3fe",
            "value": 244
          }
        },
        "74b284ac96c54a119b794762d5789894": {
          "model_module": "@jupyter-widgets/controls",
          "model_name": "HTMLModel",
          "model_module_version": "1.5.0",
          "state": {
            "_dom_classes": [],
            "_model_module": "@jupyter-widgets/controls",
            "_model_module_version": "1.5.0",
            "_model_name": "HTMLModel",
            "_view_count": null,
            "_view_module": "@jupyter-widgets/controls",
            "_view_module_version": "1.5.0",
            "_view_name": "HTMLView",
            "description": "",
            "description_tooltip": null,
            "layout": "IPY_MODEL_a8c192cada4140d3ac5fb5e38d1d75a3",
            "placeholder": "​",
            "style": "IPY_MODEL_fd578d80dbc946699faef8c4f8493671",
            "value": " 244/244 [00:00&lt;00:00, 20.4kB/s]"
          }
        },
        "d9acdd31971f4721b5ba8834adcc342f": {
          "model_module": "@jupyter-widgets/base",
          "model_name": "LayoutModel",
          "model_module_version": "1.2.0",
          "state": {
            "_model_module": "@jupyter-widgets/base",
            "_model_module_version": "1.2.0",
            "_model_name": "LayoutModel",
            "_view_count": null,
            "_view_module": "@jupyter-widgets/base",
            "_view_module_version": "1.2.0",
            "_view_name": "LayoutView",
            "align_content": null,
            "align_items": null,
            "align_self": null,
            "border": null,
            "bottom": null,
            "display": null,
            "flex": null,
            "flex_flow": null,
            "grid_area": null,
            "grid_auto_columns": null,
            "grid_auto_flow": null,
            "grid_auto_rows": null,
            "grid_column": null,
            "grid_gap": null,
            "grid_row": null,
            "grid_template_areas": null,
            "grid_template_columns": null,
            "grid_template_rows": null,
            "height": null,
            "justify_content": null,
            "justify_items": null,
            "left": null,
            "margin": null,
            "max_height": null,
            "max_width": null,
            "min_height": null,
            "min_width": null,
            "object_fit": null,
            "object_position": null,
            "order": null,
            "overflow": null,
            "overflow_x": null,
            "overflow_y": null,
            "padding": null,
            "right": null,
            "top": null,
            "visibility": null,
            "width": null
          }
        },
        "37c8c84b11314173a1d4218a28ddefe4": {
          "model_module": "@jupyter-widgets/base",
          "model_name": "LayoutModel",
          "model_module_version": "1.2.0",
          "state": {
            "_model_module": "@jupyter-widgets/base",
            "_model_module_version": "1.2.0",
            "_model_name": "LayoutModel",
            "_view_count": null,
            "_view_module": "@jupyter-widgets/base",
            "_view_module_version": "1.2.0",
            "_view_name": "LayoutView",
            "align_content": null,
            "align_items": null,
            "align_self": null,
            "border": null,
            "bottom": null,
            "display": null,
            "flex": null,
            "flex_flow": null,
            "grid_area": null,
            "grid_auto_columns": null,
            "grid_auto_flow": null,
            "grid_auto_rows": null,
            "grid_column": null,
            "grid_gap": null,
            "grid_row": null,
            "grid_template_areas": null,
            "grid_template_columns": null,
            "grid_template_rows": null,
            "height": null,
            "justify_content": null,
            "justify_items": null,
            "left": null,
            "margin": null,
            "max_height": null,
            "max_width": null,
            "min_height": null,
            "min_width": null,
            "object_fit": null,
            "object_position": null,
            "order": null,
            "overflow": null,
            "overflow_x": null,
            "overflow_y": null,
            "padding": null,
            "right": null,
            "top": null,
            "visibility": null,
            "width": null
          }
        },
        "67c45e571e7149d6a2839aa4bc77fc65": {
          "model_module": "@jupyter-widgets/controls",
          "model_name": "DescriptionStyleModel",
          "model_module_version": "1.5.0",
          "state": {
            "_model_module": "@jupyter-widgets/controls",
            "_model_module_version": "1.5.0",
            "_model_name": "DescriptionStyleModel",
            "_view_count": null,
            "_view_module": "@jupyter-widgets/base",
            "_view_module_version": "1.2.0",
            "_view_name": "StyleView",
            "description_width": ""
          }
        },
        "0eaeff66dd7f4d09961af63a7a069aea": {
          "model_module": "@jupyter-widgets/base",
          "model_name": "LayoutModel",
          "model_module_version": "1.2.0",
          "state": {
            "_model_module": "@jupyter-widgets/base",
            "_model_module_version": "1.2.0",
            "_model_name": "LayoutModel",
            "_view_count": null,
            "_view_module": "@jupyter-widgets/base",
            "_view_module_version": "1.2.0",
            "_view_name": "LayoutView",
            "align_content": null,
            "align_items": null,
            "align_self": null,
            "border": null,
            "bottom": null,
            "display": null,
            "flex": null,
            "flex_flow": null,
            "grid_area": null,
            "grid_auto_columns": null,
            "grid_auto_flow": null,
            "grid_auto_rows": null,
            "grid_column": null,
            "grid_gap": null,
            "grid_row": null,
            "grid_template_areas": null,
            "grid_template_columns": null,
            "grid_template_rows": null,
            "height": null,
            "justify_content": null,
            "justify_items": null,
            "left": null,
            "margin": null,
            "max_height": null,
            "max_width": null,
            "min_height": null,
            "min_width": null,
            "object_fit": null,
            "object_position": null,
            "order": null,
            "overflow": null,
            "overflow_x": null,
            "overflow_y": null,
            "padding": null,
            "right": null,
            "top": null,
            "visibility": null,
            "width": null
          }
        },
        "18503dbd3b9b4e2eadc025ae0d10d3fe": {
          "model_module": "@jupyter-widgets/controls",
          "model_name": "ProgressStyleModel",
          "model_module_version": "1.5.0",
          "state": {
            "_model_module": "@jupyter-widgets/controls",
            "_model_module_version": "1.5.0",
            "_model_name": "ProgressStyleModel",
            "_view_count": null,
            "_view_module": "@jupyter-widgets/base",
            "_view_module_version": "1.2.0",
            "_view_name": "StyleView",
            "bar_color": null,
            "description_width": ""
          }
        },
        "a8c192cada4140d3ac5fb5e38d1d75a3": {
          "model_module": "@jupyter-widgets/base",
          "model_name": "LayoutModel",
          "model_module_version": "1.2.0",
          "state": {
            "_model_module": "@jupyter-widgets/base",
            "_model_module_version": "1.2.0",
            "_model_name": "LayoutModel",
            "_view_count": null,
            "_view_module": "@jupyter-widgets/base",
            "_view_module_version": "1.2.0",
            "_view_name": "LayoutView",
            "align_content": null,
            "align_items": null,
            "align_self": null,
            "border": null,
            "bottom": null,
            "display": null,
            "flex": null,
            "flex_flow": null,
            "grid_area": null,
            "grid_auto_columns": null,
            "grid_auto_flow": null,
            "grid_auto_rows": null,
            "grid_column": null,
            "grid_gap": null,
            "grid_row": null,
            "grid_template_areas": null,
            "grid_template_columns": null,
            "grid_template_rows": null,
            "height": null,
            "justify_content": null,
            "justify_items": null,
            "left": null,
            "margin": null,
            "max_height": null,
            "max_width": null,
            "min_height": null,
            "min_width": null,
            "object_fit": null,
            "object_position": null,
            "order": null,
            "overflow": null,
            "overflow_x": null,
            "overflow_y": null,
            "padding": null,
            "right": null,
            "top": null,
            "visibility": null,
            "width": null
          }
        },
        "fd578d80dbc946699faef8c4f8493671": {
          "model_module": "@jupyter-widgets/controls",
          "model_name": "DescriptionStyleModel",
          "model_module_version": "1.5.0",
          "state": {
            "_model_module": "@jupyter-widgets/controls",
            "_model_module_version": "1.5.0",
            "_model_name": "DescriptionStyleModel",
            "_view_count": null,
            "_view_module": "@jupyter-widgets/base",
            "_view_module_version": "1.2.0",
            "_view_name": "StyleView",
            "description_width": ""
          }
        },
        "bd5bc2f2c3384b4397e8600bf1411e0d": {
          "model_module": "@jupyter-widgets/controls",
          "model_name": "HBoxModel",
          "model_module_version": "1.5.0",
          "state": {
            "_dom_classes": [],
            "_model_module": "@jupyter-widgets/controls",
            "_model_module_version": "1.5.0",
            "_model_name": "HBoxModel",
            "_view_count": null,
            "_view_module": "@jupyter-widgets/controls",
            "_view_module_version": "1.5.0",
            "_view_name": "HBoxView",
            "box_style": "",
            "children": [
              "IPY_MODEL_8874944608c846168b5f8c23cdb0285b",
              "IPY_MODEL_b65f22c109bb40a28155c25584df7a04",
              "IPY_MODEL_888aa8a6d1294f62a2832a5e03dd9e51"
            ],
            "layout": "IPY_MODEL_c35aefa8c9634b8cbd7c643c5b3507b8"
          }
        },
        "8874944608c846168b5f8c23cdb0285b": {
          "model_module": "@jupyter-widgets/controls",
          "model_name": "HTMLModel",
          "model_module_version": "1.5.0",
          "state": {
            "_dom_classes": [],
            "_model_module": "@jupyter-widgets/controls",
            "_model_module_version": "1.5.0",
            "_model_name": "HTMLModel",
            "_view_count": null,
            "_view_module": "@jupyter-widgets/controls",
            "_view_module_version": "1.5.0",
            "_view_name": "HTMLView",
            "description": "",
            "description_tooltip": null,
            "layout": "IPY_MODEL_2edb2745f5b04e32b4e99cde85bcd7b8",
            "placeholder": "​",
            "style": "IPY_MODEL_eb3df92431014389ab7bf9929849c387",
            "value": "Downloading (…)okenizer_config.json: 100%"
          }
        },
        "b65f22c109bb40a28155c25584df7a04": {
          "model_module": "@jupyter-widgets/controls",
          "model_name": "FloatProgressModel",
          "model_module_version": "1.5.0",
          "state": {
            "_dom_classes": [],
            "_model_module": "@jupyter-widgets/controls",
            "_model_module_version": "1.5.0",
            "_model_name": "FloatProgressModel",
            "_view_count": null,
            "_view_module": "@jupyter-widgets/controls",
            "_view_module_version": "1.5.0",
            "_view_name": "ProgressView",
            "bar_style": "success",
            "description": "",
            "description_tooltip": null,
            "layout": "IPY_MODEL_eacaea1c31ce46a1910bb6312ffa7931",
            "max": 442,
            "min": 0,
            "orientation": "horizontal",
            "style": "IPY_MODEL_4ee921368ad2498da608a427014c922d",
            "value": 442
          }
        },
        "888aa8a6d1294f62a2832a5e03dd9e51": {
          "model_module": "@jupyter-widgets/controls",
          "model_name": "HTMLModel",
          "model_module_version": "1.5.0",
          "state": {
            "_dom_classes": [],
            "_model_module": "@jupyter-widgets/controls",
            "_model_module_version": "1.5.0",
            "_model_name": "HTMLModel",
            "_view_count": null,
            "_view_module": "@jupyter-widgets/controls",
            "_view_module_version": "1.5.0",
            "_view_name": "HTMLView",
            "description": "",
            "description_tooltip": null,
            "layout": "IPY_MODEL_4b1fc9833b0a4318997b2b7fb3a3b92b",
            "placeholder": "​",
            "style": "IPY_MODEL_9ce405b726a34c54926c967aec8220c3",
            "value": " 442/442 [00:00&lt;00:00, 27.3kB/s]"
          }
        },
        "c35aefa8c9634b8cbd7c643c5b3507b8": {
          "model_module": "@jupyter-widgets/base",
          "model_name": "LayoutModel",
          "model_module_version": "1.2.0",
          "state": {
            "_model_module": "@jupyter-widgets/base",
            "_model_module_version": "1.2.0",
            "_model_name": "LayoutModel",
            "_view_count": null,
            "_view_module": "@jupyter-widgets/base",
            "_view_module_version": "1.2.0",
            "_view_name": "LayoutView",
            "align_content": null,
            "align_items": null,
            "align_self": null,
            "border": null,
            "bottom": null,
            "display": null,
            "flex": null,
            "flex_flow": null,
            "grid_area": null,
            "grid_auto_columns": null,
            "grid_auto_flow": null,
            "grid_auto_rows": null,
            "grid_column": null,
            "grid_gap": null,
            "grid_row": null,
            "grid_template_areas": null,
            "grid_template_columns": null,
            "grid_template_rows": null,
            "height": null,
            "justify_content": null,
            "justify_items": null,
            "left": null,
            "margin": null,
            "max_height": null,
            "max_width": null,
            "min_height": null,
            "min_width": null,
            "object_fit": null,
            "object_position": null,
            "order": null,
            "overflow": null,
            "overflow_x": null,
            "overflow_y": null,
            "padding": null,
            "right": null,
            "top": null,
            "visibility": null,
            "width": null
          }
        },
        "2edb2745f5b04e32b4e99cde85bcd7b8": {
          "model_module": "@jupyter-widgets/base",
          "model_name": "LayoutModel",
          "model_module_version": "1.2.0",
          "state": {
            "_model_module": "@jupyter-widgets/base",
            "_model_module_version": "1.2.0",
            "_model_name": "LayoutModel",
            "_view_count": null,
            "_view_module": "@jupyter-widgets/base",
            "_view_module_version": "1.2.0",
            "_view_name": "LayoutView",
            "align_content": null,
            "align_items": null,
            "align_self": null,
            "border": null,
            "bottom": null,
            "display": null,
            "flex": null,
            "flex_flow": null,
            "grid_area": null,
            "grid_auto_columns": null,
            "grid_auto_flow": null,
            "grid_auto_rows": null,
            "grid_column": null,
            "grid_gap": null,
            "grid_row": null,
            "grid_template_areas": null,
            "grid_template_columns": null,
            "grid_template_rows": null,
            "height": null,
            "justify_content": null,
            "justify_items": null,
            "left": null,
            "margin": null,
            "max_height": null,
            "max_width": null,
            "min_height": null,
            "min_width": null,
            "object_fit": null,
            "object_position": null,
            "order": null,
            "overflow": null,
            "overflow_x": null,
            "overflow_y": null,
            "padding": null,
            "right": null,
            "top": null,
            "visibility": null,
            "width": null
          }
        },
        "eb3df92431014389ab7bf9929849c387": {
          "model_module": "@jupyter-widgets/controls",
          "model_name": "DescriptionStyleModel",
          "model_module_version": "1.5.0",
          "state": {
            "_model_module": "@jupyter-widgets/controls",
            "_model_module_version": "1.5.0",
            "_model_name": "DescriptionStyleModel",
            "_view_count": null,
            "_view_module": "@jupyter-widgets/base",
            "_view_module_version": "1.2.0",
            "_view_name": "StyleView",
            "description_width": ""
          }
        },
        "eacaea1c31ce46a1910bb6312ffa7931": {
          "model_module": "@jupyter-widgets/base",
          "model_name": "LayoutModel",
          "model_module_version": "1.2.0",
          "state": {
            "_model_module": "@jupyter-widgets/base",
            "_model_module_version": "1.2.0",
            "_model_name": "LayoutModel",
            "_view_count": null,
            "_view_module": "@jupyter-widgets/base",
            "_view_module_version": "1.2.0",
            "_view_name": "LayoutView",
            "align_content": null,
            "align_items": null,
            "align_self": null,
            "border": null,
            "bottom": null,
            "display": null,
            "flex": null,
            "flex_flow": null,
            "grid_area": null,
            "grid_auto_columns": null,
            "grid_auto_flow": null,
            "grid_auto_rows": null,
            "grid_column": null,
            "grid_gap": null,
            "grid_row": null,
            "grid_template_areas": null,
            "grid_template_columns": null,
            "grid_template_rows": null,
            "height": null,
            "justify_content": null,
            "justify_items": null,
            "left": null,
            "margin": null,
            "max_height": null,
            "max_width": null,
            "min_height": null,
            "min_width": null,
            "object_fit": null,
            "object_position": null,
            "order": null,
            "overflow": null,
            "overflow_x": null,
            "overflow_y": null,
            "padding": null,
            "right": null,
            "top": null,
            "visibility": null,
            "width": null
          }
        },
        "4ee921368ad2498da608a427014c922d": {
          "model_module": "@jupyter-widgets/controls",
          "model_name": "ProgressStyleModel",
          "model_module_version": "1.5.0",
          "state": {
            "_model_module": "@jupyter-widgets/controls",
            "_model_module_version": "1.5.0",
            "_model_name": "ProgressStyleModel",
            "_view_count": null,
            "_view_module": "@jupyter-widgets/base",
            "_view_module_version": "1.2.0",
            "_view_name": "StyleView",
            "bar_color": null,
            "description_width": ""
          }
        },
        "4b1fc9833b0a4318997b2b7fb3a3b92b": {
          "model_module": "@jupyter-widgets/base",
          "model_name": "LayoutModel",
          "model_module_version": "1.2.0",
          "state": {
            "_model_module": "@jupyter-widgets/base",
            "_model_module_version": "1.2.0",
            "_model_name": "LayoutModel",
            "_view_count": null,
            "_view_module": "@jupyter-widgets/base",
            "_view_module_version": "1.2.0",
            "_view_name": "LayoutView",
            "align_content": null,
            "align_items": null,
            "align_self": null,
            "border": null,
            "bottom": null,
            "display": null,
            "flex": null,
            "flex_flow": null,
            "grid_area": null,
            "grid_auto_columns": null,
            "grid_auto_flow": null,
            "grid_auto_rows": null,
            "grid_column": null,
            "grid_gap": null,
            "grid_row": null,
            "grid_template_areas": null,
            "grid_template_columns": null,
            "grid_template_rows": null,
            "height": null,
            "justify_content": null,
            "justify_items": null,
            "left": null,
            "margin": null,
            "max_height": null,
            "max_width": null,
            "min_height": null,
            "min_width": null,
            "object_fit": null,
            "object_position": null,
            "order": null,
            "overflow": null,
            "overflow_x": null,
            "overflow_y": null,
            "padding": null,
            "right": null,
            "top": null,
            "visibility": null,
            "width": null
          }
        },
        "9ce405b726a34c54926c967aec8220c3": {
          "model_module": "@jupyter-widgets/controls",
          "model_name": "DescriptionStyleModel",
          "model_module_version": "1.5.0",
          "state": {
            "_model_module": "@jupyter-widgets/controls",
            "_model_module_version": "1.5.0",
            "_model_name": "DescriptionStyleModel",
            "_view_count": null,
            "_view_module": "@jupyter-widgets/base",
            "_view_module_version": "1.2.0",
            "_view_name": "StyleView",
            "description_width": ""
          }
        },
        "3db20179c36b49bf9f46377f6379b20e": {
          "model_module": "@jupyter-widgets/controls",
          "model_name": "HBoxModel",
          "model_module_version": "1.5.0",
          "state": {
            "_dom_classes": [],
            "_model_module": "@jupyter-widgets/controls",
            "_model_module_version": "1.5.0",
            "_model_name": "HBoxModel",
            "_view_count": null,
            "_view_module": "@jupyter-widgets/controls",
            "_view_module_version": "1.5.0",
            "_view_name": "HBoxView",
            "box_style": "",
            "children": [
              "IPY_MODEL_70d9d210227b4da0bcaf75cf1ee07f61",
              "IPY_MODEL_67ae1e8161cc4f2fbd4762584b614d24",
              "IPY_MODEL_9ddd08b645f747adb268a2eb1840f08d"
            ],
            "layout": "IPY_MODEL_81fd854fb3b64377a6386184c8b2a180"
          }
        },
        "70d9d210227b4da0bcaf75cf1ee07f61": {
          "model_module": "@jupyter-widgets/controls",
          "model_name": "HTMLModel",
          "model_module_version": "1.5.0",
          "state": {
            "_dom_classes": [],
            "_model_module": "@jupyter-widgets/controls",
            "_model_module_version": "1.5.0",
            "_model_name": "HTMLModel",
            "_view_count": null,
            "_view_module": "@jupyter-widgets/controls",
            "_view_module_version": "1.5.0",
            "_view_name": "HTMLView",
            "description": "",
            "description_tooltip": null,
            "layout": "IPY_MODEL_398d78e7a3074d6bbf2cdd3b26730c2d",
            "placeholder": "​",
            "style": "IPY_MODEL_7a133fff5d4b4df29f6a492e0daff5dc",
            "value": "  1%"
          }
        },
        "67ae1e8161cc4f2fbd4762584b614d24": {
          "model_module": "@jupyter-widgets/controls",
          "model_name": "FloatProgressModel",
          "model_module_version": "1.5.0",
          "state": {
            "_dom_classes": [],
            "_model_module": "@jupyter-widgets/controls",
            "_model_module_version": "1.5.0",
            "_model_name": "FloatProgressModel",
            "_view_count": null,
            "_view_module": "@jupyter-widgets/controls",
            "_view_module_version": "1.5.0",
            "_view_name": "ProgressView",
            "bar_style": "danger",
            "description": "",
            "description_tooltip": null,
            "layout": "IPY_MODEL_067d7fb94d00462588565e69151059d6",
            "max": 100,
            "min": 0,
            "orientation": "horizontal",
            "style": "IPY_MODEL_bccc855122f24e958cb8280c2bc78bca",
            "value": 1
          }
        },
        "9ddd08b645f747adb268a2eb1840f08d": {
          "model_module": "@jupyter-widgets/controls",
          "model_name": "HTMLModel",
          "model_module_version": "1.5.0",
          "state": {
            "_dom_classes": [],
            "_model_module": "@jupyter-widgets/controls",
            "_model_module_version": "1.5.0",
            "_model_name": "HTMLModel",
            "_view_count": null,
            "_view_module": "@jupyter-widgets/controls",
            "_view_module_version": "1.5.0",
            "_view_name": "HTMLView",
            "description": "",
            "description_tooltip": null,
            "layout": "IPY_MODEL_c177b8f3e1f24d76a61f471f739bdcc6",
            "placeholder": "​",
            "style": "IPY_MODEL_5b0f1318025445daa81969fca50adda2",
            "value": " 1/100 [00:00&lt;01:27,  1.13it/s]"
          }
        },
        "81fd854fb3b64377a6386184c8b2a180": {
          "model_module": "@jupyter-widgets/base",
          "model_name": "LayoutModel",
          "model_module_version": "1.2.0",
          "state": {
            "_model_module": "@jupyter-widgets/base",
            "_model_module_version": "1.2.0",
            "_model_name": "LayoutModel",
            "_view_count": null,
            "_view_module": "@jupyter-widgets/base",
            "_view_module_version": "1.2.0",
            "_view_name": "LayoutView",
            "align_content": null,
            "align_items": null,
            "align_self": null,
            "border": null,
            "bottom": null,
            "display": null,
            "flex": null,
            "flex_flow": null,
            "grid_area": null,
            "grid_auto_columns": null,
            "grid_auto_flow": null,
            "grid_auto_rows": null,
            "grid_column": null,
            "grid_gap": null,
            "grid_row": null,
            "grid_template_areas": null,
            "grid_template_columns": null,
            "grid_template_rows": null,
            "height": null,
            "justify_content": null,
            "justify_items": null,
            "left": null,
            "margin": null,
            "max_height": null,
            "max_width": null,
            "min_height": null,
            "min_width": null,
            "object_fit": null,
            "object_position": null,
            "order": null,
            "overflow": null,
            "overflow_x": null,
            "overflow_y": null,
            "padding": null,
            "right": null,
            "top": null,
            "visibility": null,
            "width": null
          }
        },
        "398d78e7a3074d6bbf2cdd3b26730c2d": {
          "model_module": "@jupyter-widgets/base",
          "model_name": "LayoutModel",
          "model_module_version": "1.2.0",
          "state": {
            "_model_module": "@jupyter-widgets/base",
            "_model_module_version": "1.2.0",
            "_model_name": "LayoutModel",
            "_view_count": null,
            "_view_module": "@jupyter-widgets/base",
            "_view_module_version": "1.2.0",
            "_view_name": "LayoutView",
            "align_content": null,
            "align_items": null,
            "align_self": null,
            "border": null,
            "bottom": null,
            "display": null,
            "flex": null,
            "flex_flow": null,
            "grid_area": null,
            "grid_auto_columns": null,
            "grid_auto_flow": null,
            "grid_auto_rows": null,
            "grid_column": null,
            "grid_gap": null,
            "grid_row": null,
            "grid_template_areas": null,
            "grid_template_columns": null,
            "grid_template_rows": null,
            "height": null,
            "justify_content": null,
            "justify_items": null,
            "left": null,
            "margin": null,
            "max_height": null,
            "max_width": null,
            "min_height": null,
            "min_width": null,
            "object_fit": null,
            "object_position": null,
            "order": null,
            "overflow": null,
            "overflow_x": null,
            "overflow_y": null,
            "padding": null,
            "right": null,
            "top": null,
            "visibility": null,
            "width": null
          }
        },
        "7a133fff5d4b4df29f6a492e0daff5dc": {
          "model_module": "@jupyter-widgets/controls",
          "model_name": "DescriptionStyleModel",
          "model_module_version": "1.5.0",
          "state": {
            "_model_module": "@jupyter-widgets/controls",
            "_model_module_version": "1.5.0",
            "_model_name": "DescriptionStyleModel",
            "_view_count": null,
            "_view_module": "@jupyter-widgets/base",
            "_view_module_version": "1.2.0",
            "_view_name": "StyleView",
            "description_width": ""
          }
        },
        "067d7fb94d00462588565e69151059d6": {
          "model_module": "@jupyter-widgets/base",
          "model_name": "LayoutModel",
          "model_module_version": "1.2.0",
          "state": {
            "_model_module": "@jupyter-widgets/base",
            "_model_module_version": "1.2.0",
            "_model_name": "LayoutModel",
            "_view_count": null,
            "_view_module": "@jupyter-widgets/base",
            "_view_module_version": "1.2.0",
            "_view_name": "LayoutView",
            "align_content": null,
            "align_items": null,
            "align_self": null,
            "border": null,
            "bottom": null,
            "display": null,
            "flex": null,
            "flex_flow": null,
            "grid_area": null,
            "grid_auto_columns": null,
            "grid_auto_flow": null,
            "grid_auto_rows": null,
            "grid_column": null,
            "grid_gap": null,
            "grid_row": null,
            "grid_template_areas": null,
            "grid_template_columns": null,
            "grid_template_rows": null,
            "height": null,
            "justify_content": null,
            "justify_items": null,
            "left": null,
            "margin": null,
            "max_height": null,
            "max_width": null,
            "min_height": null,
            "min_width": null,
            "object_fit": null,
            "object_position": null,
            "order": null,
            "overflow": null,
            "overflow_x": null,
            "overflow_y": null,
            "padding": null,
            "right": null,
            "top": null,
            "visibility": null,
            "width": null
          }
        },
        "bccc855122f24e958cb8280c2bc78bca": {
          "model_module": "@jupyter-widgets/controls",
          "model_name": "ProgressStyleModel",
          "model_module_version": "1.5.0",
          "state": {
            "_model_module": "@jupyter-widgets/controls",
            "_model_module_version": "1.5.0",
            "_model_name": "ProgressStyleModel",
            "_view_count": null,
            "_view_module": "@jupyter-widgets/base",
            "_view_module_version": "1.2.0",
            "_view_name": "StyleView",
            "bar_color": null,
            "description_width": ""
          }
        },
        "c177b8f3e1f24d76a61f471f739bdcc6": {
          "model_module": "@jupyter-widgets/base",
          "model_name": "LayoutModel",
          "model_module_version": "1.2.0",
          "state": {
            "_model_module": "@jupyter-widgets/base",
            "_model_module_version": "1.2.0",
            "_model_name": "LayoutModel",
            "_view_count": null,
            "_view_module": "@jupyter-widgets/base",
            "_view_module_version": "1.2.0",
            "_view_name": "LayoutView",
            "align_content": null,
            "align_items": null,
            "align_self": null,
            "border": null,
            "bottom": null,
            "display": null,
            "flex": null,
            "flex_flow": null,
            "grid_area": null,
            "grid_auto_columns": null,
            "grid_auto_flow": null,
            "grid_auto_rows": null,
            "grid_column": null,
            "grid_gap": null,
            "grid_row": null,
            "grid_template_areas": null,
            "grid_template_columns": null,
            "grid_template_rows": null,
            "height": null,
            "justify_content": null,
            "justify_items": null,
            "left": null,
            "margin": null,
            "max_height": null,
            "max_width": null,
            "min_height": null,
            "min_width": null,
            "object_fit": null,
            "object_position": null,
            "order": null,
            "overflow": null,
            "overflow_x": null,
            "overflow_y": null,
            "padding": null,
            "right": null,
            "top": null,
            "visibility": null,
            "width": null
          }
        },
        "5b0f1318025445daa81969fca50adda2": {
          "model_module": "@jupyter-widgets/controls",
          "model_name": "DescriptionStyleModel",
          "model_module_version": "1.5.0",
          "state": {
            "_model_module": "@jupyter-widgets/controls",
            "_model_module_version": "1.5.0",
            "_model_name": "DescriptionStyleModel",
            "_view_count": null,
            "_view_module": "@jupyter-widgets/base",
            "_view_module_version": "1.2.0",
            "_view_name": "StyleView",
            "description_width": ""
          }
        },
        "c724765b05584904b7ae7b94bd47a44e": {
          "model_module": "@jupyter-widgets/controls",
          "model_name": "HBoxModel",
          "model_module_version": "1.5.0",
          "state": {
            "_dom_classes": [],
            "_model_module": "@jupyter-widgets/controls",
            "_model_module_version": "1.5.0",
            "_model_name": "HBoxModel",
            "_view_count": null,
            "_view_module": "@jupyter-widgets/controls",
            "_view_module_version": "1.5.0",
            "_view_name": "HBoxView",
            "box_style": "",
            "children": [
              "IPY_MODEL_0c9e98519e2546cf9b5cea2316bcec81",
              "IPY_MODEL_eaa998bfdd2c4ace9ac96c5f0d9c3007",
              "IPY_MODEL_79079464584b420697ac925196195ff0"
            ],
            "layout": "IPY_MODEL_812bad3797044d05ae98868c2a48d828"
          }
        },
        "0c9e98519e2546cf9b5cea2316bcec81": {
          "model_module": "@jupyter-widgets/controls",
          "model_name": "HTMLModel",
          "model_module_version": "1.5.0",
          "state": {
            "_dom_classes": [],
            "_model_module": "@jupyter-widgets/controls",
            "_model_module_version": "1.5.0",
            "_model_name": "HTMLModel",
            "_view_count": null,
            "_view_module": "@jupyter-widgets/controls",
            "_view_module_version": "1.5.0",
            "_view_name": "HTMLView",
            "description": "",
            "description_tooltip": null,
            "layout": "IPY_MODEL_30dee2c2ec094b8e94af07429c88f1cf",
            "placeholder": "​",
            "style": "IPY_MODEL_068624530667439b97e0c61011a6cc5b",
            "value": "100%"
          }
        },
        "eaa998bfdd2c4ace9ac96c5f0d9c3007": {
          "model_module": "@jupyter-widgets/controls",
          "model_name": "FloatProgressModel",
          "model_module_version": "1.5.0",
          "state": {
            "_dom_classes": [],
            "_model_module": "@jupyter-widgets/controls",
            "_model_module_version": "1.5.0",
            "_model_name": "FloatProgressModel",
            "_view_count": null,
            "_view_module": "@jupyter-widgets/controls",
            "_view_module_version": "1.5.0",
            "_view_name": "ProgressView",
            "bar_style": "success",
            "description": "",
            "description_tooltip": null,
            "layout": "IPY_MODEL_2c5de16823134981bfde6c61e7f986aa",
            "max": 13,
            "min": 0,
            "orientation": "horizontal",
            "style": "IPY_MODEL_5e9acf12abd5425b8f7edf941788f905",
            "value": 13
          }
        },
        "79079464584b420697ac925196195ff0": {
          "model_module": "@jupyter-widgets/controls",
          "model_name": "HTMLModel",
          "model_module_version": "1.5.0",
          "state": {
            "_dom_classes": [],
            "_model_module": "@jupyter-widgets/controls",
            "_model_module_version": "1.5.0",
            "_model_name": "HTMLModel",
            "_view_count": null,
            "_view_module": "@jupyter-widgets/controls",
            "_view_module_version": "1.5.0",
            "_view_name": "HTMLView",
            "description": "",
            "description_tooltip": null,
            "layout": "IPY_MODEL_aa274c017f674605bd21120f5dc77d5d",
            "placeholder": "​",
            "style": "IPY_MODEL_791a4b6ee43c4dae949783da70372dbc",
            "value": " 13/13 [00:02&lt;00:00,  4.91it/s]"
          }
        },
        "812bad3797044d05ae98868c2a48d828": {
          "model_module": "@jupyter-widgets/base",
          "model_name": "LayoutModel",
          "model_module_version": "1.2.0",
          "state": {
            "_model_module": "@jupyter-widgets/base",
            "_model_module_version": "1.2.0",
            "_model_name": "LayoutModel",
            "_view_count": null,
            "_view_module": "@jupyter-widgets/base",
            "_view_module_version": "1.2.0",
            "_view_name": "LayoutView",
            "align_content": null,
            "align_items": null,
            "align_self": null,
            "border": null,
            "bottom": null,
            "display": null,
            "flex": null,
            "flex_flow": null,
            "grid_area": null,
            "grid_auto_columns": null,
            "grid_auto_flow": null,
            "grid_auto_rows": null,
            "grid_column": null,
            "grid_gap": null,
            "grid_row": null,
            "grid_template_areas": null,
            "grid_template_columns": null,
            "grid_template_rows": null,
            "height": null,
            "justify_content": null,
            "justify_items": null,
            "left": null,
            "margin": null,
            "max_height": null,
            "max_width": null,
            "min_height": null,
            "min_width": null,
            "object_fit": null,
            "object_position": null,
            "order": null,
            "overflow": null,
            "overflow_x": null,
            "overflow_y": null,
            "padding": null,
            "right": null,
            "top": null,
            "visibility": null,
            "width": null
          }
        },
        "30dee2c2ec094b8e94af07429c88f1cf": {
          "model_module": "@jupyter-widgets/base",
          "model_name": "LayoutModel",
          "model_module_version": "1.2.0",
          "state": {
            "_model_module": "@jupyter-widgets/base",
            "_model_module_version": "1.2.0",
            "_model_name": "LayoutModel",
            "_view_count": null,
            "_view_module": "@jupyter-widgets/base",
            "_view_module_version": "1.2.0",
            "_view_name": "LayoutView",
            "align_content": null,
            "align_items": null,
            "align_self": null,
            "border": null,
            "bottom": null,
            "display": null,
            "flex": null,
            "flex_flow": null,
            "grid_area": null,
            "grid_auto_columns": null,
            "grid_auto_flow": null,
            "grid_auto_rows": null,
            "grid_column": null,
            "grid_gap": null,
            "grid_row": null,
            "grid_template_areas": null,
            "grid_template_columns": null,
            "grid_template_rows": null,
            "height": null,
            "justify_content": null,
            "justify_items": null,
            "left": null,
            "margin": null,
            "max_height": null,
            "max_width": null,
            "min_height": null,
            "min_width": null,
            "object_fit": null,
            "object_position": null,
            "order": null,
            "overflow": null,
            "overflow_x": null,
            "overflow_y": null,
            "padding": null,
            "right": null,
            "top": null,
            "visibility": null,
            "width": null
          }
        },
        "068624530667439b97e0c61011a6cc5b": {
          "model_module": "@jupyter-widgets/controls",
          "model_name": "DescriptionStyleModel",
          "model_module_version": "1.5.0",
          "state": {
            "_model_module": "@jupyter-widgets/controls",
            "_model_module_version": "1.5.0",
            "_model_name": "DescriptionStyleModel",
            "_view_count": null,
            "_view_module": "@jupyter-widgets/base",
            "_view_module_version": "1.2.0",
            "_view_name": "StyleView",
            "description_width": ""
          }
        },
        "2c5de16823134981bfde6c61e7f986aa": {
          "model_module": "@jupyter-widgets/base",
          "model_name": "LayoutModel",
          "model_module_version": "1.2.0",
          "state": {
            "_model_module": "@jupyter-widgets/base",
            "_model_module_version": "1.2.0",
            "_model_name": "LayoutModel",
            "_view_count": null,
            "_view_module": "@jupyter-widgets/base",
            "_view_module_version": "1.2.0",
            "_view_name": "LayoutView",
            "align_content": null,
            "align_items": null,
            "align_self": null,
            "border": null,
            "bottom": null,
            "display": null,
            "flex": null,
            "flex_flow": null,
            "grid_area": null,
            "grid_auto_columns": null,
            "grid_auto_flow": null,
            "grid_auto_rows": null,
            "grid_column": null,
            "grid_gap": null,
            "grid_row": null,
            "grid_template_areas": null,
            "grid_template_columns": null,
            "grid_template_rows": null,
            "height": null,
            "justify_content": null,
            "justify_items": null,
            "left": null,
            "margin": null,
            "max_height": null,
            "max_width": null,
            "min_height": null,
            "min_width": null,
            "object_fit": null,
            "object_position": null,
            "order": null,
            "overflow": null,
            "overflow_x": null,
            "overflow_y": null,
            "padding": null,
            "right": null,
            "top": null,
            "visibility": null,
            "width": null
          }
        },
        "5e9acf12abd5425b8f7edf941788f905": {
          "model_module": "@jupyter-widgets/controls",
          "model_name": "ProgressStyleModel",
          "model_module_version": "1.5.0",
          "state": {
            "_model_module": "@jupyter-widgets/controls",
            "_model_module_version": "1.5.0",
            "_model_name": "ProgressStyleModel",
            "_view_count": null,
            "_view_module": "@jupyter-widgets/base",
            "_view_module_version": "1.2.0",
            "_view_name": "StyleView",
            "bar_color": null,
            "description_width": ""
          }
        },
        "aa274c017f674605bd21120f5dc77d5d": {
          "model_module": "@jupyter-widgets/base",
          "model_name": "LayoutModel",
          "model_module_version": "1.2.0",
          "state": {
            "_model_module": "@jupyter-widgets/base",
            "_model_module_version": "1.2.0",
            "_model_name": "LayoutModel",
            "_view_count": null,
            "_view_module": "@jupyter-widgets/base",
            "_view_module_version": "1.2.0",
            "_view_name": "LayoutView",
            "align_content": null,
            "align_items": null,
            "align_self": null,
            "border": null,
            "bottom": null,
            "display": null,
            "flex": null,
            "flex_flow": null,
            "grid_area": null,
            "grid_auto_columns": null,
            "grid_auto_flow": null,
            "grid_auto_rows": null,
            "grid_column": null,
            "grid_gap": null,
            "grid_row": null,
            "grid_template_areas": null,
            "grid_template_columns": null,
            "grid_template_rows": null,
            "height": null,
            "justify_content": null,
            "justify_items": null,
            "left": null,
            "margin": null,
            "max_height": null,
            "max_width": null,
            "min_height": null,
            "min_width": null,
            "object_fit": null,
            "object_position": null,
            "order": null,
            "overflow": null,
            "overflow_x": null,
            "overflow_y": null,
            "padding": null,
            "right": null,
            "top": null,
            "visibility": null,
            "width": null
          }
        },
        "791a4b6ee43c4dae949783da70372dbc": {
          "model_module": "@jupyter-widgets/controls",
          "model_name": "DescriptionStyleModel",
          "model_module_version": "1.5.0",
          "state": {
            "_model_module": "@jupyter-widgets/controls",
            "_model_module_version": "1.5.0",
            "_model_name": "DescriptionStyleModel",
            "_view_count": null,
            "_view_module": "@jupyter-widgets/base",
            "_view_module_version": "1.2.0",
            "_view_name": "StyleView",
            "description_width": ""
          }
        },
        "6fe54239ffb9460aa17bd301e195fcca": {
          "model_module": "@jupyter-widgets/controls",
          "model_name": "HBoxModel",
          "model_module_version": "1.5.0",
          "state": {
            "_dom_classes": [],
            "_model_module": "@jupyter-widgets/controls",
            "_model_module_version": "1.5.0",
            "_model_name": "HBoxModel",
            "_view_count": null,
            "_view_module": "@jupyter-widgets/controls",
            "_view_module_version": "1.5.0",
            "_view_name": "HBoxView",
            "box_style": "",
            "children": [
              "IPY_MODEL_41841d0d2b6b42de80e414a5e61098b5",
              "IPY_MODEL_07fe014653bb417ea28d5407bf31abb8",
              "IPY_MODEL_ed76c55516ec4f9ea9a2d477b2c0cfe7"
            ],
            "layout": "IPY_MODEL_b67b73465fac4756aaee85ad1b4e6538"
          }
        },
        "41841d0d2b6b42de80e414a5e61098b5": {
          "model_module": "@jupyter-widgets/controls",
          "model_name": "HTMLModel",
          "model_module_version": "1.5.0",
          "state": {
            "_dom_classes": [],
            "_model_module": "@jupyter-widgets/controls",
            "_model_module_version": "1.5.0",
            "_model_name": "HTMLModel",
            "_view_count": null,
            "_view_module": "@jupyter-widgets/controls",
            "_view_module_version": "1.5.0",
            "_view_name": "HTMLView",
            "description": "",
            "description_tooltip": null,
            "layout": "IPY_MODEL_90a7d75cfc514943adde8850e4c7313f",
            "placeholder": "​",
            "style": "IPY_MODEL_93d9cbeac44e45bb9e0086afde4a7c87",
            "value": "Downloading (…)lve/main/config.json: 100%"
          }
        },
        "07fe014653bb417ea28d5407bf31abb8": {
          "model_module": "@jupyter-widgets/controls",
          "model_name": "FloatProgressModel",
          "model_module_version": "1.5.0",
          "state": {
            "_dom_classes": [],
            "_model_module": "@jupyter-widgets/controls",
            "_model_module_version": "1.5.0",
            "_model_name": "FloatProgressModel",
            "_view_count": null,
            "_view_module": "@jupyter-widgets/controls",
            "_view_module_version": "1.5.0",
            "_view_name": "ProgressView",
            "bar_style": "success",
            "description": "",
            "description_tooltip": null,
            "layout": "IPY_MODEL_b798d7d1c8b346019a5fc3ff89b9da6d",
            "max": 1225,
            "min": 0,
            "orientation": "horizontal",
            "style": "IPY_MODEL_75a65602dff041829f7a08bd4a5ff418",
            "value": 1225
          }
        },
        "ed76c55516ec4f9ea9a2d477b2c0cfe7": {
          "model_module": "@jupyter-widgets/controls",
          "model_name": "HTMLModel",
          "model_module_version": "1.5.0",
          "state": {
            "_dom_classes": [],
            "_model_module": "@jupyter-widgets/controls",
            "_model_module_version": "1.5.0",
            "_model_name": "HTMLModel",
            "_view_count": null,
            "_view_module": "@jupyter-widgets/controls",
            "_view_module_version": "1.5.0",
            "_view_name": "HTMLView",
            "description": "",
            "description_tooltip": null,
            "layout": "IPY_MODEL_b61ea315dc0d47118b2a2f985fad513a",
            "placeholder": "​",
            "style": "IPY_MODEL_35bdddfcf06e4acdab46543b32ddd1ab",
            "value": " 1.23k/1.23k [00:00&lt;00:00, 33.8kB/s]"
          }
        },
        "b67b73465fac4756aaee85ad1b4e6538": {
          "model_module": "@jupyter-widgets/base",
          "model_name": "LayoutModel",
          "model_module_version": "1.2.0",
          "state": {
            "_model_module": "@jupyter-widgets/base",
            "_model_module_version": "1.2.0",
            "_model_name": "LayoutModel",
            "_view_count": null,
            "_view_module": "@jupyter-widgets/base",
            "_view_module_version": "1.2.0",
            "_view_name": "LayoutView",
            "align_content": null,
            "align_items": null,
            "align_self": null,
            "border": null,
            "bottom": null,
            "display": null,
            "flex": null,
            "flex_flow": null,
            "grid_area": null,
            "grid_auto_columns": null,
            "grid_auto_flow": null,
            "grid_auto_rows": null,
            "grid_column": null,
            "grid_gap": null,
            "grid_row": null,
            "grid_template_areas": null,
            "grid_template_columns": null,
            "grid_template_rows": null,
            "height": null,
            "justify_content": null,
            "justify_items": null,
            "left": null,
            "margin": null,
            "max_height": null,
            "max_width": null,
            "min_height": null,
            "min_width": null,
            "object_fit": null,
            "object_position": null,
            "order": null,
            "overflow": null,
            "overflow_x": null,
            "overflow_y": null,
            "padding": null,
            "right": null,
            "top": null,
            "visibility": null,
            "width": null
          }
        },
        "90a7d75cfc514943adde8850e4c7313f": {
          "model_module": "@jupyter-widgets/base",
          "model_name": "LayoutModel",
          "model_module_version": "1.2.0",
          "state": {
            "_model_module": "@jupyter-widgets/base",
            "_model_module_version": "1.2.0",
            "_model_name": "LayoutModel",
            "_view_count": null,
            "_view_module": "@jupyter-widgets/base",
            "_view_module_version": "1.2.0",
            "_view_name": "LayoutView",
            "align_content": null,
            "align_items": null,
            "align_self": null,
            "border": null,
            "bottom": null,
            "display": null,
            "flex": null,
            "flex_flow": null,
            "grid_area": null,
            "grid_auto_columns": null,
            "grid_auto_flow": null,
            "grid_auto_rows": null,
            "grid_column": null,
            "grid_gap": null,
            "grid_row": null,
            "grid_template_areas": null,
            "grid_template_columns": null,
            "grid_template_rows": null,
            "height": null,
            "justify_content": null,
            "justify_items": null,
            "left": null,
            "margin": null,
            "max_height": null,
            "max_width": null,
            "min_height": null,
            "min_width": null,
            "object_fit": null,
            "object_position": null,
            "order": null,
            "overflow": null,
            "overflow_x": null,
            "overflow_y": null,
            "padding": null,
            "right": null,
            "top": null,
            "visibility": null,
            "width": null
          }
        },
        "93d9cbeac44e45bb9e0086afde4a7c87": {
          "model_module": "@jupyter-widgets/controls",
          "model_name": "DescriptionStyleModel",
          "model_module_version": "1.5.0",
          "state": {
            "_model_module": "@jupyter-widgets/controls",
            "_model_module_version": "1.5.0",
            "_model_name": "DescriptionStyleModel",
            "_view_count": null,
            "_view_module": "@jupyter-widgets/base",
            "_view_module_version": "1.2.0",
            "_view_name": "StyleView",
            "description_width": ""
          }
        },
        "b798d7d1c8b346019a5fc3ff89b9da6d": {
          "model_module": "@jupyter-widgets/base",
          "model_name": "LayoutModel",
          "model_module_version": "1.2.0",
          "state": {
            "_model_module": "@jupyter-widgets/base",
            "_model_module_version": "1.2.0",
            "_model_name": "LayoutModel",
            "_view_count": null,
            "_view_module": "@jupyter-widgets/base",
            "_view_module_version": "1.2.0",
            "_view_name": "LayoutView",
            "align_content": null,
            "align_items": null,
            "align_self": null,
            "border": null,
            "bottom": null,
            "display": null,
            "flex": null,
            "flex_flow": null,
            "grid_area": null,
            "grid_auto_columns": null,
            "grid_auto_flow": null,
            "grid_auto_rows": null,
            "grid_column": null,
            "grid_gap": null,
            "grid_row": null,
            "grid_template_areas": null,
            "grid_template_columns": null,
            "grid_template_rows": null,
            "height": null,
            "justify_content": null,
            "justify_items": null,
            "left": null,
            "margin": null,
            "max_height": null,
            "max_width": null,
            "min_height": null,
            "min_width": null,
            "object_fit": null,
            "object_position": null,
            "order": null,
            "overflow": null,
            "overflow_x": null,
            "overflow_y": null,
            "padding": null,
            "right": null,
            "top": null,
            "visibility": null,
            "width": null
          }
        },
        "75a65602dff041829f7a08bd4a5ff418": {
          "model_module": "@jupyter-widgets/controls",
          "model_name": "ProgressStyleModel",
          "model_module_version": "1.5.0",
          "state": {
            "_model_module": "@jupyter-widgets/controls",
            "_model_module_version": "1.5.0",
            "_model_name": "ProgressStyleModel",
            "_view_count": null,
            "_view_module": "@jupyter-widgets/base",
            "_view_module_version": "1.2.0",
            "_view_name": "StyleView",
            "bar_color": null,
            "description_width": ""
          }
        },
        "b61ea315dc0d47118b2a2f985fad513a": {
          "model_module": "@jupyter-widgets/base",
          "model_name": "LayoutModel",
          "model_module_version": "1.2.0",
          "state": {
            "_model_module": "@jupyter-widgets/base",
            "_model_module_version": "1.2.0",
            "_model_name": "LayoutModel",
            "_view_count": null,
            "_view_module": "@jupyter-widgets/base",
            "_view_module_version": "1.2.0",
            "_view_name": "LayoutView",
            "align_content": null,
            "align_items": null,
            "align_self": null,
            "border": null,
            "bottom": null,
            "display": null,
            "flex": null,
            "flex_flow": null,
            "grid_area": null,
            "grid_auto_columns": null,
            "grid_auto_flow": null,
            "grid_auto_rows": null,
            "grid_column": null,
            "grid_gap": null,
            "grid_row": null,
            "grid_template_areas": null,
            "grid_template_columns": null,
            "grid_template_rows": null,
            "height": null,
            "justify_content": null,
            "justify_items": null,
            "left": null,
            "margin": null,
            "max_height": null,
            "max_width": null,
            "min_height": null,
            "min_width": null,
            "object_fit": null,
            "object_position": null,
            "order": null,
            "overflow": null,
            "overflow_x": null,
            "overflow_y": null,
            "padding": null,
            "right": null,
            "top": null,
            "visibility": null,
            "width": null
          }
        },
        "35bdddfcf06e4acdab46543b32ddd1ab": {
          "model_module": "@jupyter-widgets/controls",
          "model_name": "DescriptionStyleModel",
          "model_module_version": "1.5.0",
          "state": {
            "_model_module": "@jupyter-widgets/controls",
            "_model_module_version": "1.5.0",
            "_model_name": "DescriptionStyleModel",
            "_view_count": null,
            "_view_module": "@jupyter-widgets/base",
            "_view_module_version": "1.2.0",
            "_view_name": "StyleView",
            "description_width": ""
          }
        },
        "0f61262e4bc64a4583b55c629878955d": {
          "model_module": "@jupyter-widgets/controls",
          "model_name": "HBoxModel",
          "model_module_version": "1.5.0",
          "state": {
            "_dom_classes": [],
            "_model_module": "@jupyter-widgets/controls",
            "_model_module_version": "1.5.0",
            "_model_name": "HBoxModel",
            "_view_count": null,
            "_view_module": "@jupyter-widgets/controls",
            "_view_module_version": "1.5.0",
            "_view_name": "HBoxView",
            "box_style": "",
            "children": [
              "IPY_MODEL_b3da364a09ce4e558c3b0a02ab2e8fd8",
              "IPY_MODEL_9cb94fe98e6a4106a3134160bcf422e7",
              "IPY_MODEL_22896d3e633d4836b858389540e7e767"
            ],
            "layout": "IPY_MODEL_dec7029f5cbc447fa0705141d7312637"
          }
        },
        "b3da364a09ce4e558c3b0a02ab2e8fd8": {
          "model_module": "@jupyter-widgets/controls",
          "model_name": "HTMLModel",
          "model_module_version": "1.5.0",
          "state": {
            "_dom_classes": [],
            "_model_module": "@jupyter-widgets/controls",
            "_model_module_version": "1.5.0",
            "_model_name": "HTMLModel",
            "_view_count": null,
            "_view_module": "@jupyter-widgets/controls",
            "_view_module_version": "1.5.0",
            "_view_name": "HTMLView",
            "description": "",
            "description_tooltip": null,
            "layout": "IPY_MODEL_3aef0278df1d4b7e9163b59c0a023ce0",
            "placeholder": "​",
            "style": "IPY_MODEL_47f79598902c454790a2d71f9bebfbb2",
            "value": "Downloading pytorch_model.bin: 100%"
          }
        },
        "9cb94fe98e6a4106a3134160bcf422e7": {
          "model_module": "@jupyter-widgets/controls",
          "model_name": "FloatProgressModel",
          "model_module_version": "1.5.0",
          "state": {
            "_dom_classes": [],
            "_model_module": "@jupyter-widgets/controls",
            "_model_module_version": "1.5.0",
            "_model_name": "FloatProgressModel",
            "_view_count": null,
            "_view_module": "@jupyter-widgets/controls",
            "_view_module_version": "1.5.0",
            "_view_name": "ProgressView",
            "bar_style": "success",
            "description": "",
            "description_tooltip": null,
            "layout": "IPY_MODEL_83085ef6ebbc4362b887908d73d08e10",
            "max": 669482093,
            "min": 0,
            "orientation": "horizontal",
            "style": "IPY_MODEL_3ca0569b0edf4a55880e63d2d476d7ed",
            "value": 669482093
          }
        },
        "22896d3e633d4836b858389540e7e767": {
          "model_module": "@jupyter-widgets/controls",
          "model_name": "HTMLModel",
          "model_module_version": "1.5.0",
          "state": {
            "_dom_classes": [],
            "_model_module": "@jupyter-widgets/controls",
            "_model_module_version": "1.5.0",
            "_model_name": "HTMLModel",
            "_view_count": null,
            "_view_module": "@jupyter-widgets/controls",
            "_view_module_version": "1.5.0",
            "_view_name": "HTMLView",
            "description": "",
            "description_tooltip": null,
            "layout": "IPY_MODEL_09b7ff000ca44cbd9494d2bfb025e5d3",
            "placeholder": "​",
            "style": "IPY_MODEL_5abeb399c9ba45ceb025b6fedb5a5483",
            "value": " 669M/669M [00:05&lt;00:00, 209MB/s]"
          }
        },
        "dec7029f5cbc447fa0705141d7312637": {
          "model_module": "@jupyter-widgets/base",
          "model_name": "LayoutModel",
          "model_module_version": "1.2.0",
          "state": {
            "_model_module": "@jupyter-widgets/base",
            "_model_module_version": "1.2.0",
            "_model_name": "LayoutModel",
            "_view_count": null,
            "_view_module": "@jupyter-widgets/base",
            "_view_module_version": "1.2.0",
            "_view_name": "LayoutView",
            "align_content": null,
            "align_items": null,
            "align_self": null,
            "border": null,
            "bottom": null,
            "display": null,
            "flex": null,
            "flex_flow": null,
            "grid_area": null,
            "grid_auto_columns": null,
            "grid_auto_flow": null,
            "grid_auto_rows": null,
            "grid_column": null,
            "grid_gap": null,
            "grid_row": null,
            "grid_template_areas": null,
            "grid_template_columns": null,
            "grid_template_rows": null,
            "height": null,
            "justify_content": null,
            "justify_items": null,
            "left": null,
            "margin": null,
            "max_height": null,
            "max_width": null,
            "min_height": null,
            "min_width": null,
            "object_fit": null,
            "object_position": null,
            "order": null,
            "overflow": null,
            "overflow_x": null,
            "overflow_y": null,
            "padding": null,
            "right": null,
            "top": null,
            "visibility": null,
            "width": null
          }
        },
        "3aef0278df1d4b7e9163b59c0a023ce0": {
          "model_module": "@jupyter-widgets/base",
          "model_name": "LayoutModel",
          "model_module_version": "1.2.0",
          "state": {
            "_model_module": "@jupyter-widgets/base",
            "_model_module_version": "1.2.0",
            "_model_name": "LayoutModel",
            "_view_count": null,
            "_view_module": "@jupyter-widgets/base",
            "_view_module_version": "1.2.0",
            "_view_name": "LayoutView",
            "align_content": null,
            "align_items": null,
            "align_self": null,
            "border": null,
            "bottom": null,
            "display": null,
            "flex": null,
            "flex_flow": null,
            "grid_area": null,
            "grid_auto_columns": null,
            "grid_auto_flow": null,
            "grid_auto_rows": null,
            "grid_column": null,
            "grid_gap": null,
            "grid_row": null,
            "grid_template_areas": null,
            "grid_template_columns": null,
            "grid_template_rows": null,
            "height": null,
            "justify_content": null,
            "justify_items": null,
            "left": null,
            "margin": null,
            "max_height": null,
            "max_width": null,
            "min_height": null,
            "min_width": null,
            "object_fit": null,
            "object_position": null,
            "order": null,
            "overflow": null,
            "overflow_x": null,
            "overflow_y": null,
            "padding": null,
            "right": null,
            "top": null,
            "visibility": null,
            "width": null
          }
        },
        "47f79598902c454790a2d71f9bebfbb2": {
          "model_module": "@jupyter-widgets/controls",
          "model_name": "DescriptionStyleModel",
          "model_module_version": "1.5.0",
          "state": {
            "_model_module": "@jupyter-widgets/controls",
            "_model_module_version": "1.5.0",
            "_model_name": "DescriptionStyleModel",
            "_view_count": null,
            "_view_module": "@jupyter-widgets/base",
            "_view_module_version": "1.2.0",
            "_view_name": "StyleView",
            "description_width": ""
          }
        },
        "83085ef6ebbc4362b887908d73d08e10": {
          "model_module": "@jupyter-widgets/base",
          "model_name": "LayoutModel",
          "model_module_version": "1.2.0",
          "state": {
            "_model_module": "@jupyter-widgets/base",
            "_model_module_version": "1.2.0",
            "_model_name": "LayoutModel",
            "_view_count": null,
            "_view_module": "@jupyter-widgets/base",
            "_view_module_version": "1.2.0",
            "_view_name": "LayoutView",
            "align_content": null,
            "align_items": null,
            "align_self": null,
            "border": null,
            "bottom": null,
            "display": null,
            "flex": null,
            "flex_flow": null,
            "grid_area": null,
            "grid_auto_columns": null,
            "grid_auto_flow": null,
            "grid_auto_rows": null,
            "grid_column": null,
            "grid_gap": null,
            "grid_row": null,
            "grid_template_areas": null,
            "grid_template_columns": null,
            "grid_template_rows": null,
            "height": null,
            "justify_content": null,
            "justify_items": null,
            "left": null,
            "margin": null,
            "max_height": null,
            "max_width": null,
            "min_height": null,
            "min_width": null,
            "object_fit": null,
            "object_position": null,
            "order": null,
            "overflow": null,
            "overflow_x": null,
            "overflow_y": null,
            "padding": null,
            "right": null,
            "top": null,
            "visibility": null,
            "width": null
          }
        },
        "3ca0569b0edf4a55880e63d2d476d7ed": {
          "model_module": "@jupyter-widgets/controls",
          "model_name": "ProgressStyleModel",
          "model_module_version": "1.5.0",
          "state": {
            "_model_module": "@jupyter-widgets/controls",
            "_model_module_version": "1.5.0",
            "_model_name": "ProgressStyleModel",
            "_view_count": null,
            "_view_module": "@jupyter-widgets/base",
            "_view_module_version": "1.2.0",
            "_view_name": "StyleView",
            "bar_color": null,
            "description_width": ""
          }
        },
        "09b7ff000ca44cbd9494d2bfb025e5d3": {
          "model_module": "@jupyter-widgets/base",
          "model_name": "LayoutModel",
          "model_module_version": "1.2.0",
          "state": {
            "_model_module": "@jupyter-widgets/base",
            "_model_module_version": "1.2.0",
            "_model_name": "LayoutModel",
            "_view_count": null,
            "_view_module": "@jupyter-widgets/base",
            "_view_module_version": "1.2.0",
            "_view_name": "LayoutView",
            "align_content": null,
            "align_items": null,
            "align_self": null,
            "border": null,
            "bottom": null,
            "display": null,
            "flex": null,
            "flex_flow": null,
            "grid_area": null,
            "grid_auto_columns": null,
            "grid_auto_flow": null,
            "grid_auto_rows": null,
            "grid_column": null,
            "grid_gap": null,
            "grid_row": null,
            "grid_template_areas": null,
            "grid_template_columns": null,
            "grid_template_rows": null,
            "height": null,
            "justify_content": null,
            "justify_items": null,
            "left": null,
            "margin": null,
            "max_height": null,
            "max_width": null,
            "min_height": null,
            "min_width": null,
            "object_fit": null,
            "object_position": null,
            "order": null,
            "overflow": null,
            "overflow_x": null,
            "overflow_y": null,
            "padding": null,
            "right": null,
            "top": null,
            "visibility": null,
            "width": null
          }
        },
        "5abeb399c9ba45ceb025b6fedb5a5483": {
          "model_module": "@jupyter-widgets/controls",
          "model_name": "DescriptionStyleModel",
          "model_module_version": "1.5.0",
          "state": {
            "_model_module": "@jupyter-widgets/controls",
            "_model_module_version": "1.5.0",
            "_model_name": "DescriptionStyleModel",
            "_view_count": null,
            "_view_module": "@jupyter-widgets/base",
            "_view_module_version": "1.2.0",
            "_view_name": "StyleView",
            "description_width": ""
          }
        },
        "2c11d949ad2540be87a943207334e25c": {
          "model_module": "@jupyter-widgets/controls",
          "model_name": "HBoxModel",
          "model_module_version": "1.5.0",
          "state": {
            "_dom_classes": [],
            "_model_module": "@jupyter-widgets/controls",
            "_model_module_version": "1.5.0",
            "_model_name": "HBoxModel",
            "_view_count": null,
            "_view_module": "@jupyter-widgets/controls",
            "_view_module_version": "1.5.0",
            "_view_name": "HBoxView",
            "box_style": "",
            "children": [
              "IPY_MODEL_1ee5aa5b235442288c14c030a90124e3",
              "IPY_MODEL_199ffb27a29a4564a6286ece7f4a278e",
              "IPY_MODEL_5af694601d43408e9589d2b02c3da576"
            ],
            "layout": "IPY_MODEL_2f5cfa21473d467a8de4ace5a1d381bd"
          }
        },
        "1ee5aa5b235442288c14c030a90124e3": {
          "model_module": "@jupyter-widgets/controls",
          "model_name": "HTMLModel",
          "model_module_version": "1.5.0",
          "state": {
            "_dom_classes": [],
            "_model_module": "@jupyter-widgets/controls",
            "_model_module_version": "1.5.0",
            "_model_name": "HTMLModel",
            "_view_count": null,
            "_view_module": "@jupyter-widgets/controls",
            "_view_module_version": "1.5.0",
            "_view_name": "HTMLView",
            "description": "",
            "description_tooltip": null,
            "layout": "IPY_MODEL_362b6bd54f8f41b5af7bb7dbd15a83a7",
            "placeholder": "​",
            "style": "IPY_MODEL_04dd8b7dcf2b4c53ba32bada458de123",
            "value": "Downloading (…)okenizer_config.json: 100%"
          }
        },
        "199ffb27a29a4564a6286ece7f4a278e": {
          "model_module": "@jupyter-widgets/controls",
          "model_name": "FloatProgressModel",
          "model_module_version": "1.5.0",
          "state": {
            "_dom_classes": [],
            "_model_module": "@jupyter-widgets/controls",
            "_model_module_version": "1.5.0",
            "_model_name": "FloatProgressModel",
            "_view_count": null,
            "_view_module": "@jupyter-widgets/controls",
            "_view_module_version": "1.5.0",
            "_view_name": "ProgressView",
            "bar_style": "success",
            "description": "",
            "description_tooltip": null,
            "layout": "IPY_MODEL_6bad437df42d457ca98f0f69e3641d03",
            "max": 152,
            "min": 0,
            "orientation": "horizontal",
            "style": "IPY_MODEL_92c64459fd2b4640bd1ac0af5baa277b",
            "value": 152
          }
        },
        "5af694601d43408e9589d2b02c3da576": {
          "model_module": "@jupyter-widgets/controls",
          "model_name": "HTMLModel",
          "model_module_version": "1.5.0",
          "state": {
            "_dom_classes": [],
            "_model_module": "@jupyter-widgets/controls",
            "_model_module_version": "1.5.0",
            "_model_name": "HTMLModel",
            "_view_count": null,
            "_view_module": "@jupyter-widgets/controls",
            "_view_module_version": "1.5.0",
            "_view_name": "HTMLView",
            "description": "",
            "description_tooltip": null,
            "layout": "IPY_MODEL_182469d331244462847847c935172ec7",
            "placeholder": "​",
            "style": "IPY_MODEL_9d02695c1b074ba49569c71ab91e10cf",
            "value": " 152/152 [00:00&lt;00:00, 9.40kB/s]"
          }
        },
        "2f5cfa21473d467a8de4ace5a1d381bd": {
          "model_module": "@jupyter-widgets/base",
          "model_name": "LayoutModel",
          "model_module_version": "1.2.0",
          "state": {
            "_model_module": "@jupyter-widgets/base",
            "_model_module_version": "1.2.0",
            "_model_name": "LayoutModel",
            "_view_count": null,
            "_view_module": "@jupyter-widgets/base",
            "_view_module_version": "1.2.0",
            "_view_name": "LayoutView",
            "align_content": null,
            "align_items": null,
            "align_self": null,
            "border": null,
            "bottom": null,
            "display": null,
            "flex": null,
            "flex_flow": null,
            "grid_area": null,
            "grid_auto_columns": null,
            "grid_auto_flow": null,
            "grid_auto_rows": null,
            "grid_column": null,
            "grid_gap": null,
            "grid_row": null,
            "grid_template_areas": null,
            "grid_template_columns": null,
            "grid_template_rows": null,
            "height": null,
            "justify_content": null,
            "justify_items": null,
            "left": null,
            "margin": null,
            "max_height": null,
            "max_width": null,
            "min_height": null,
            "min_width": null,
            "object_fit": null,
            "object_position": null,
            "order": null,
            "overflow": null,
            "overflow_x": null,
            "overflow_y": null,
            "padding": null,
            "right": null,
            "top": null,
            "visibility": null,
            "width": null
          }
        },
        "362b6bd54f8f41b5af7bb7dbd15a83a7": {
          "model_module": "@jupyter-widgets/base",
          "model_name": "LayoutModel",
          "model_module_version": "1.2.0",
          "state": {
            "_model_module": "@jupyter-widgets/base",
            "_model_module_version": "1.2.0",
            "_model_name": "LayoutModel",
            "_view_count": null,
            "_view_module": "@jupyter-widgets/base",
            "_view_module_version": "1.2.0",
            "_view_name": "LayoutView",
            "align_content": null,
            "align_items": null,
            "align_self": null,
            "border": null,
            "bottom": null,
            "display": null,
            "flex": null,
            "flex_flow": null,
            "grid_area": null,
            "grid_auto_columns": null,
            "grid_auto_flow": null,
            "grid_auto_rows": null,
            "grid_column": null,
            "grid_gap": null,
            "grid_row": null,
            "grid_template_areas": null,
            "grid_template_columns": null,
            "grid_template_rows": null,
            "height": null,
            "justify_content": null,
            "justify_items": null,
            "left": null,
            "margin": null,
            "max_height": null,
            "max_width": null,
            "min_height": null,
            "min_width": null,
            "object_fit": null,
            "object_position": null,
            "order": null,
            "overflow": null,
            "overflow_x": null,
            "overflow_y": null,
            "padding": null,
            "right": null,
            "top": null,
            "visibility": null,
            "width": null
          }
        },
        "04dd8b7dcf2b4c53ba32bada458de123": {
          "model_module": "@jupyter-widgets/controls",
          "model_name": "DescriptionStyleModel",
          "model_module_version": "1.5.0",
          "state": {
            "_model_module": "@jupyter-widgets/controls",
            "_model_module_version": "1.5.0",
            "_model_name": "DescriptionStyleModel",
            "_view_count": null,
            "_view_module": "@jupyter-widgets/base",
            "_view_module_version": "1.2.0",
            "_view_name": "StyleView",
            "description_width": ""
          }
        },
        "6bad437df42d457ca98f0f69e3641d03": {
          "model_module": "@jupyter-widgets/base",
          "model_name": "LayoutModel",
          "model_module_version": "1.2.0",
          "state": {
            "_model_module": "@jupyter-widgets/base",
            "_model_module_version": "1.2.0",
            "_model_name": "LayoutModel",
            "_view_count": null,
            "_view_module": "@jupyter-widgets/base",
            "_view_module_version": "1.2.0",
            "_view_name": "LayoutView",
            "align_content": null,
            "align_items": null,
            "align_self": null,
            "border": null,
            "bottom": null,
            "display": null,
            "flex": null,
            "flex_flow": null,
            "grid_area": null,
            "grid_auto_columns": null,
            "grid_auto_flow": null,
            "grid_auto_rows": null,
            "grid_column": null,
            "grid_gap": null,
            "grid_row": null,
            "grid_template_areas": null,
            "grid_template_columns": null,
            "grid_template_rows": null,
            "height": null,
            "justify_content": null,
            "justify_items": null,
            "left": null,
            "margin": null,
            "max_height": null,
            "max_width": null,
            "min_height": null,
            "min_width": null,
            "object_fit": null,
            "object_position": null,
            "order": null,
            "overflow": null,
            "overflow_x": null,
            "overflow_y": null,
            "padding": null,
            "right": null,
            "top": null,
            "visibility": null,
            "width": null
          }
        },
        "92c64459fd2b4640bd1ac0af5baa277b": {
          "model_module": "@jupyter-widgets/controls",
          "model_name": "ProgressStyleModel",
          "model_module_version": "1.5.0",
          "state": {
            "_model_module": "@jupyter-widgets/controls",
            "_model_module_version": "1.5.0",
            "_model_name": "ProgressStyleModel",
            "_view_count": null,
            "_view_module": "@jupyter-widgets/base",
            "_view_module_version": "1.2.0",
            "_view_name": "StyleView",
            "bar_color": null,
            "description_width": ""
          }
        },
        "182469d331244462847847c935172ec7": {
          "model_module": "@jupyter-widgets/base",
          "model_name": "LayoutModel",
          "model_module_version": "1.2.0",
          "state": {
            "_model_module": "@jupyter-widgets/base",
            "_model_module_version": "1.2.0",
            "_model_name": "LayoutModel",
            "_view_count": null,
            "_view_module": "@jupyter-widgets/base",
            "_view_module_version": "1.2.0",
            "_view_name": "LayoutView",
            "align_content": null,
            "align_items": null,
            "align_self": null,
            "border": null,
            "bottom": null,
            "display": null,
            "flex": null,
            "flex_flow": null,
            "grid_area": null,
            "grid_auto_columns": null,
            "grid_auto_flow": null,
            "grid_auto_rows": null,
            "grid_column": null,
            "grid_gap": null,
            "grid_row": null,
            "grid_template_areas": null,
            "grid_template_columns": null,
            "grid_template_rows": null,
            "height": null,
            "justify_content": null,
            "justify_items": null,
            "left": null,
            "margin": null,
            "max_height": null,
            "max_width": null,
            "min_height": null,
            "min_width": null,
            "object_fit": null,
            "object_position": null,
            "order": null,
            "overflow": null,
            "overflow_x": null,
            "overflow_y": null,
            "padding": null,
            "right": null,
            "top": null,
            "visibility": null,
            "width": null
          }
        },
        "9d02695c1b074ba49569c71ab91e10cf": {
          "model_module": "@jupyter-widgets/controls",
          "model_name": "DescriptionStyleModel",
          "model_module_version": "1.5.0",
          "state": {
            "_model_module": "@jupyter-widgets/controls",
            "_model_module_version": "1.5.0",
            "_model_name": "DescriptionStyleModel",
            "_view_count": null,
            "_view_module": "@jupyter-widgets/base",
            "_view_module_version": "1.2.0",
            "_view_name": "StyleView",
            "description_width": ""
          }
        },
        "790d92ca9f924c9e922bc8ed7f2a6156": {
          "model_module": "@jupyter-widgets/controls",
          "model_name": "HBoxModel",
          "model_module_version": "1.5.0",
          "state": {
            "_dom_classes": [],
            "_model_module": "@jupyter-widgets/controls",
            "_model_module_version": "1.5.0",
            "_model_name": "HBoxModel",
            "_view_count": null,
            "_view_module": "@jupyter-widgets/controls",
            "_view_module_version": "1.5.0",
            "_view_name": "HBoxView",
            "box_style": "",
            "children": [
              "IPY_MODEL_16760c5898414dc99900e93604e7b53a",
              "IPY_MODEL_fa37ed7d63bc464a879d1b774afde4c5",
              "IPY_MODEL_83022ebdef324206b465464d45533508"
            ],
            "layout": "IPY_MODEL_90515795e32a42a48d3ebf9fe224b447"
          }
        },
        "16760c5898414dc99900e93604e7b53a": {
          "model_module": "@jupyter-widgets/controls",
          "model_name": "HTMLModel",
          "model_module_version": "1.5.0",
          "state": {
            "_dom_classes": [],
            "_model_module": "@jupyter-widgets/controls",
            "_model_module_version": "1.5.0",
            "_model_name": "HTMLModel",
            "_view_count": null,
            "_view_module": "@jupyter-widgets/controls",
            "_view_module_version": "1.5.0",
            "_view_name": "HTMLView",
            "description": "",
            "description_tooltip": null,
            "layout": "IPY_MODEL_8921715a88f64b499d6c4737ab2c239a",
            "placeholder": "​",
            "style": "IPY_MODEL_30dd158b17274ac18e92130604a7ff77",
            "value": "Downloading (…)solve/main/vocab.txt: 100%"
          }
        },
        "fa37ed7d63bc464a879d1b774afde4c5": {
          "model_module": "@jupyter-widgets/controls",
          "model_name": "FloatProgressModel",
          "model_module_version": "1.5.0",
          "state": {
            "_dom_classes": [],
            "_model_module": "@jupyter-widgets/controls",
            "_model_module_version": "1.5.0",
            "_model_name": "FloatProgressModel",
            "_view_count": null,
            "_view_module": "@jupyter-widgets/controls",
            "_view_module_version": "1.5.0",
            "_view_name": "ProgressView",
            "bar_style": "success",
            "description": "",
            "description_tooltip": null,
            "layout": "IPY_MODEL_9e0409440b0a49fb838ba034bfd4a950",
            "max": 871891,
            "min": 0,
            "orientation": "horizontal",
            "style": "IPY_MODEL_3a6b76d02ad64a1ebafbb9c5ef422d2c",
            "value": 871891
          }
        },
        "83022ebdef324206b465464d45533508": {
          "model_module": "@jupyter-widgets/controls",
          "model_name": "HTMLModel",
          "model_module_version": "1.5.0",
          "state": {
            "_dom_classes": [],
            "_model_module": "@jupyter-widgets/controls",
            "_model_module_version": "1.5.0",
            "_model_name": "HTMLModel",
            "_view_count": null,
            "_view_module": "@jupyter-widgets/controls",
            "_view_module_version": "1.5.0",
            "_view_name": "HTMLView",
            "description": "",
            "description_tooltip": null,
            "layout": "IPY_MODEL_3163c76a973e412bbe00bbfa202e3186",
            "placeholder": "​",
            "style": "IPY_MODEL_bd20d62cad7f476496ac1759e0dbaf67",
            "value": " 872k/872k [00:00&lt;00:00, 3.50MB/s]"
          }
        },
        "90515795e32a42a48d3ebf9fe224b447": {
          "model_module": "@jupyter-widgets/base",
          "model_name": "LayoutModel",
          "model_module_version": "1.2.0",
          "state": {
            "_model_module": "@jupyter-widgets/base",
            "_model_module_version": "1.2.0",
            "_model_name": "LayoutModel",
            "_view_count": null,
            "_view_module": "@jupyter-widgets/base",
            "_view_module_version": "1.2.0",
            "_view_name": "LayoutView",
            "align_content": null,
            "align_items": null,
            "align_self": null,
            "border": null,
            "bottom": null,
            "display": null,
            "flex": null,
            "flex_flow": null,
            "grid_area": null,
            "grid_auto_columns": null,
            "grid_auto_flow": null,
            "grid_auto_rows": null,
            "grid_column": null,
            "grid_gap": null,
            "grid_row": null,
            "grid_template_areas": null,
            "grid_template_columns": null,
            "grid_template_rows": null,
            "height": null,
            "justify_content": null,
            "justify_items": null,
            "left": null,
            "margin": null,
            "max_height": null,
            "max_width": null,
            "min_height": null,
            "min_width": null,
            "object_fit": null,
            "object_position": null,
            "order": null,
            "overflow": null,
            "overflow_x": null,
            "overflow_y": null,
            "padding": null,
            "right": null,
            "top": null,
            "visibility": null,
            "width": null
          }
        },
        "8921715a88f64b499d6c4737ab2c239a": {
          "model_module": "@jupyter-widgets/base",
          "model_name": "LayoutModel",
          "model_module_version": "1.2.0",
          "state": {
            "_model_module": "@jupyter-widgets/base",
            "_model_module_version": "1.2.0",
            "_model_name": "LayoutModel",
            "_view_count": null,
            "_view_module": "@jupyter-widgets/base",
            "_view_module_version": "1.2.0",
            "_view_name": "LayoutView",
            "align_content": null,
            "align_items": null,
            "align_self": null,
            "border": null,
            "bottom": null,
            "display": null,
            "flex": null,
            "flex_flow": null,
            "grid_area": null,
            "grid_auto_columns": null,
            "grid_auto_flow": null,
            "grid_auto_rows": null,
            "grid_column": null,
            "grid_gap": null,
            "grid_row": null,
            "grid_template_areas": null,
            "grid_template_columns": null,
            "grid_template_rows": null,
            "height": null,
            "justify_content": null,
            "justify_items": null,
            "left": null,
            "margin": null,
            "max_height": null,
            "max_width": null,
            "min_height": null,
            "min_width": null,
            "object_fit": null,
            "object_position": null,
            "order": null,
            "overflow": null,
            "overflow_x": null,
            "overflow_y": null,
            "padding": null,
            "right": null,
            "top": null,
            "visibility": null,
            "width": null
          }
        },
        "30dd158b17274ac18e92130604a7ff77": {
          "model_module": "@jupyter-widgets/controls",
          "model_name": "DescriptionStyleModel",
          "model_module_version": "1.5.0",
          "state": {
            "_model_module": "@jupyter-widgets/controls",
            "_model_module_version": "1.5.0",
            "_model_name": "DescriptionStyleModel",
            "_view_count": null,
            "_view_module": "@jupyter-widgets/base",
            "_view_module_version": "1.2.0",
            "_view_name": "StyleView",
            "description_width": ""
          }
        },
        "9e0409440b0a49fb838ba034bfd4a950": {
          "model_module": "@jupyter-widgets/base",
          "model_name": "LayoutModel",
          "model_module_version": "1.2.0",
          "state": {
            "_model_module": "@jupyter-widgets/base",
            "_model_module_version": "1.2.0",
            "_model_name": "LayoutModel",
            "_view_count": null,
            "_view_module": "@jupyter-widgets/base",
            "_view_module_version": "1.2.0",
            "_view_name": "LayoutView",
            "align_content": null,
            "align_items": null,
            "align_self": null,
            "border": null,
            "bottom": null,
            "display": null,
            "flex": null,
            "flex_flow": null,
            "grid_area": null,
            "grid_auto_columns": null,
            "grid_auto_flow": null,
            "grid_auto_rows": null,
            "grid_column": null,
            "grid_gap": null,
            "grid_row": null,
            "grid_template_areas": null,
            "grid_template_columns": null,
            "grid_template_rows": null,
            "height": null,
            "justify_content": null,
            "justify_items": null,
            "left": null,
            "margin": null,
            "max_height": null,
            "max_width": null,
            "min_height": null,
            "min_width": null,
            "object_fit": null,
            "object_position": null,
            "order": null,
            "overflow": null,
            "overflow_x": null,
            "overflow_y": null,
            "padding": null,
            "right": null,
            "top": null,
            "visibility": null,
            "width": null
          }
        },
        "3a6b76d02ad64a1ebafbb9c5ef422d2c": {
          "model_module": "@jupyter-widgets/controls",
          "model_name": "ProgressStyleModel",
          "model_module_version": "1.5.0",
          "state": {
            "_model_module": "@jupyter-widgets/controls",
            "_model_module_version": "1.5.0",
            "_model_name": "ProgressStyleModel",
            "_view_count": null,
            "_view_module": "@jupyter-widgets/base",
            "_view_module_version": "1.2.0",
            "_view_name": "StyleView",
            "bar_color": null,
            "description_width": ""
          }
        },
        "3163c76a973e412bbe00bbfa202e3186": {
          "model_module": "@jupyter-widgets/base",
          "model_name": "LayoutModel",
          "model_module_version": "1.2.0",
          "state": {
            "_model_module": "@jupyter-widgets/base",
            "_model_module_version": "1.2.0",
            "_model_name": "LayoutModel",
            "_view_count": null,
            "_view_module": "@jupyter-widgets/base",
            "_view_module_version": "1.2.0",
            "_view_name": "LayoutView",
            "align_content": null,
            "align_items": null,
            "align_self": null,
            "border": null,
            "bottom": null,
            "display": null,
            "flex": null,
            "flex_flow": null,
            "grid_area": null,
            "grid_auto_columns": null,
            "grid_auto_flow": null,
            "grid_auto_rows": null,
            "grid_column": null,
            "grid_gap": null,
            "grid_row": null,
            "grid_template_areas": null,
            "grid_template_columns": null,
            "grid_template_rows": null,
            "height": null,
            "justify_content": null,
            "justify_items": null,
            "left": null,
            "margin": null,
            "max_height": null,
            "max_width": null,
            "min_height": null,
            "min_width": null,
            "object_fit": null,
            "object_position": null,
            "order": null,
            "overflow": null,
            "overflow_x": null,
            "overflow_y": null,
            "padding": null,
            "right": null,
            "top": null,
            "visibility": null,
            "width": null
          }
        },
        "bd20d62cad7f476496ac1759e0dbaf67": {
          "model_module": "@jupyter-widgets/controls",
          "model_name": "DescriptionStyleModel",
          "model_module_version": "1.5.0",
          "state": {
            "_model_module": "@jupyter-widgets/controls",
            "_model_module_version": "1.5.0",
            "_model_name": "DescriptionStyleModel",
            "_view_count": null,
            "_view_module": "@jupyter-widgets/base",
            "_view_module_version": "1.2.0",
            "_view_name": "StyleView",
            "description_width": ""
          }
        },
        "51962d0b95334daf88886791626308d1": {
          "model_module": "@jupyter-widgets/controls",
          "model_name": "HBoxModel",
          "model_module_version": "1.5.0",
          "state": {
            "_dom_classes": [],
            "_model_module": "@jupyter-widgets/controls",
            "_model_module_version": "1.5.0",
            "_model_name": "HBoxModel",
            "_view_count": null,
            "_view_module": "@jupyter-widgets/controls",
            "_view_module_version": "1.5.0",
            "_view_name": "HBoxView",
            "box_style": "",
            "children": [
              "IPY_MODEL_324da9fe8f4241c486105123255b58dd",
              "IPY_MODEL_475853fade7e40d7b59b89f5486aa81a",
              "IPY_MODEL_8fc3e59e81b542d5b757e71d896899f2"
            ],
            "layout": "IPY_MODEL_96ea6304e564453c839336c2ff0e263b"
          }
        },
        "324da9fe8f4241c486105123255b58dd": {
          "model_module": "@jupyter-widgets/controls",
          "model_name": "HTMLModel",
          "model_module_version": "1.5.0",
          "state": {
            "_dom_classes": [],
            "_model_module": "@jupyter-widgets/controls",
            "_model_module_version": "1.5.0",
            "_model_name": "HTMLModel",
            "_view_count": null,
            "_view_module": "@jupyter-widgets/controls",
            "_view_module_version": "1.5.0",
            "_view_name": "HTMLView",
            "description": "",
            "description_tooltip": null,
            "layout": "IPY_MODEL_f280239969764d05a0439399962b4e97",
            "placeholder": "​",
            "style": "IPY_MODEL_1272f8a6f3154285af2c15ef62f43251",
            "value": "Downloading (…)cial_tokens_map.json: 100%"
          }
        },
        "475853fade7e40d7b59b89f5486aa81a": {
          "model_module": "@jupyter-widgets/controls",
          "model_name": "FloatProgressModel",
          "model_module_version": "1.5.0",
          "state": {
            "_dom_classes": [],
            "_model_module": "@jupyter-widgets/controls",
            "_model_module_version": "1.5.0",
            "_model_name": "FloatProgressModel",
            "_view_count": null,
            "_view_module": "@jupyter-widgets/controls",
            "_view_module_version": "1.5.0",
            "_view_name": "ProgressView",
            "bar_style": "success",
            "description": "",
            "description_tooltip": null,
            "layout": "IPY_MODEL_6d200f9cb6184caa9b9aa535a4ccdbc8",
            "max": 112,
            "min": 0,
            "orientation": "horizontal",
            "style": "IPY_MODEL_d12a28d4cf1843f0b7b0166093387d94",
            "value": 112
          }
        },
        "8fc3e59e81b542d5b757e71d896899f2": {
          "model_module": "@jupyter-widgets/controls",
          "model_name": "HTMLModel",
          "model_module_version": "1.5.0",
          "state": {
            "_dom_classes": [],
            "_model_module": "@jupyter-widgets/controls",
            "_model_module_version": "1.5.0",
            "_model_name": "HTMLModel",
            "_view_count": null,
            "_view_module": "@jupyter-widgets/controls",
            "_view_module_version": "1.5.0",
            "_view_name": "HTMLView",
            "description": "",
            "description_tooltip": null,
            "layout": "IPY_MODEL_8b07a59c5b014deca44d9642e5efa6b5",
            "placeholder": "​",
            "style": "IPY_MODEL_4a6f11aeebcb4366bb766d83c57b4704",
            "value": " 112/112 [00:00&lt;00:00, 6.57kB/s]"
          }
        },
        "96ea6304e564453c839336c2ff0e263b": {
          "model_module": "@jupyter-widgets/base",
          "model_name": "LayoutModel",
          "model_module_version": "1.2.0",
          "state": {
            "_model_module": "@jupyter-widgets/base",
            "_model_module_version": "1.2.0",
            "_model_name": "LayoutModel",
            "_view_count": null,
            "_view_module": "@jupyter-widgets/base",
            "_view_module_version": "1.2.0",
            "_view_name": "LayoutView",
            "align_content": null,
            "align_items": null,
            "align_self": null,
            "border": null,
            "bottom": null,
            "display": null,
            "flex": null,
            "flex_flow": null,
            "grid_area": null,
            "grid_auto_columns": null,
            "grid_auto_flow": null,
            "grid_auto_rows": null,
            "grid_column": null,
            "grid_gap": null,
            "grid_row": null,
            "grid_template_areas": null,
            "grid_template_columns": null,
            "grid_template_rows": null,
            "height": null,
            "justify_content": null,
            "justify_items": null,
            "left": null,
            "margin": null,
            "max_height": null,
            "max_width": null,
            "min_height": null,
            "min_width": null,
            "object_fit": null,
            "object_position": null,
            "order": null,
            "overflow": null,
            "overflow_x": null,
            "overflow_y": null,
            "padding": null,
            "right": null,
            "top": null,
            "visibility": null,
            "width": null
          }
        },
        "f280239969764d05a0439399962b4e97": {
          "model_module": "@jupyter-widgets/base",
          "model_name": "LayoutModel",
          "model_module_version": "1.2.0",
          "state": {
            "_model_module": "@jupyter-widgets/base",
            "_model_module_version": "1.2.0",
            "_model_name": "LayoutModel",
            "_view_count": null,
            "_view_module": "@jupyter-widgets/base",
            "_view_module_version": "1.2.0",
            "_view_name": "LayoutView",
            "align_content": null,
            "align_items": null,
            "align_self": null,
            "border": null,
            "bottom": null,
            "display": null,
            "flex": null,
            "flex_flow": null,
            "grid_area": null,
            "grid_auto_columns": null,
            "grid_auto_flow": null,
            "grid_auto_rows": null,
            "grid_column": null,
            "grid_gap": null,
            "grid_row": null,
            "grid_template_areas": null,
            "grid_template_columns": null,
            "grid_template_rows": null,
            "height": null,
            "justify_content": null,
            "justify_items": null,
            "left": null,
            "margin": null,
            "max_height": null,
            "max_width": null,
            "min_height": null,
            "min_width": null,
            "object_fit": null,
            "object_position": null,
            "order": null,
            "overflow": null,
            "overflow_x": null,
            "overflow_y": null,
            "padding": null,
            "right": null,
            "top": null,
            "visibility": null,
            "width": null
          }
        },
        "1272f8a6f3154285af2c15ef62f43251": {
          "model_module": "@jupyter-widgets/controls",
          "model_name": "DescriptionStyleModel",
          "model_module_version": "1.5.0",
          "state": {
            "_model_module": "@jupyter-widgets/controls",
            "_model_module_version": "1.5.0",
            "_model_name": "DescriptionStyleModel",
            "_view_count": null,
            "_view_module": "@jupyter-widgets/base",
            "_view_module_version": "1.2.0",
            "_view_name": "StyleView",
            "description_width": ""
          }
        },
        "6d200f9cb6184caa9b9aa535a4ccdbc8": {
          "model_module": "@jupyter-widgets/base",
          "model_name": "LayoutModel",
          "model_module_version": "1.2.0",
          "state": {
            "_model_module": "@jupyter-widgets/base",
            "_model_module_version": "1.2.0",
            "_model_name": "LayoutModel",
            "_view_count": null,
            "_view_module": "@jupyter-widgets/base",
            "_view_module_version": "1.2.0",
            "_view_name": "LayoutView",
            "align_content": null,
            "align_items": null,
            "align_self": null,
            "border": null,
            "bottom": null,
            "display": null,
            "flex": null,
            "flex_flow": null,
            "grid_area": null,
            "grid_auto_columns": null,
            "grid_auto_flow": null,
            "grid_auto_rows": null,
            "grid_column": null,
            "grid_gap": null,
            "grid_row": null,
            "grid_template_areas": null,
            "grid_template_columns": null,
            "grid_template_rows": null,
            "height": null,
            "justify_content": null,
            "justify_items": null,
            "left": null,
            "margin": null,
            "max_height": null,
            "max_width": null,
            "min_height": null,
            "min_width": null,
            "object_fit": null,
            "object_position": null,
            "order": null,
            "overflow": null,
            "overflow_x": null,
            "overflow_y": null,
            "padding": null,
            "right": null,
            "top": null,
            "visibility": null,
            "width": null
          }
        },
        "d12a28d4cf1843f0b7b0166093387d94": {
          "model_module": "@jupyter-widgets/controls",
          "model_name": "ProgressStyleModel",
          "model_module_version": "1.5.0",
          "state": {
            "_model_module": "@jupyter-widgets/controls",
            "_model_module_version": "1.5.0",
            "_model_name": "ProgressStyleModel",
            "_view_count": null,
            "_view_module": "@jupyter-widgets/base",
            "_view_module_version": "1.2.0",
            "_view_name": "StyleView",
            "bar_color": null,
            "description_width": ""
          }
        },
        "8b07a59c5b014deca44d9642e5efa6b5": {
          "model_module": "@jupyter-widgets/base",
          "model_name": "LayoutModel",
          "model_module_version": "1.2.0",
          "state": {
            "_model_module": "@jupyter-widgets/base",
            "_model_module_version": "1.2.0",
            "_model_name": "LayoutModel",
            "_view_count": null,
            "_view_module": "@jupyter-widgets/base",
            "_view_module_version": "1.2.0",
            "_view_name": "LayoutView",
            "align_content": null,
            "align_items": null,
            "align_self": null,
            "border": null,
            "bottom": null,
            "display": null,
            "flex": null,
            "flex_flow": null,
            "grid_area": null,
            "grid_auto_columns": null,
            "grid_auto_flow": null,
            "grid_auto_rows": null,
            "grid_column": null,
            "grid_gap": null,
            "grid_row": null,
            "grid_template_areas": null,
            "grid_template_columns": null,
            "grid_template_rows": null,
            "height": null,
            "justify_content": null,
            "justify_items": null,
            "left": null,
            "margin": null,
            "max_height": null,
            "max_width": null,
            "min_height": null,
            "min_width": null,
            "object_fit": null,
            "object_position": null,
            "order": null,
            "overflow": null,
            "overflow_x": null,
            "overflow_y": null,
            "padding": null,
            "right": null,
            "top": null,
            "visibility": null,
            "width": null
          }
        },
        "4a6f11aeebcb4366bb766d83c57b4704": {
          "model_module": "@jupyter-widgets/controls",
          "model_name": "DescriptionStyleModel",
          "model_module_version": "1.5.0",
          "state": {
            "_model_module": "@jupyter-widgets/controls",
            "_model_module_version": "1.5.0",
            "_model_name": "DescriptionStyleModel",
            "_view_count": null,
            "_view_module": "@jupyter-widgets/base",
            "_view_module_version": "1.2.0",
            "_view_name": "StyleView",
            "description_width": ""
          }
        },
        "0201e9e4cfce4cca916180efc817aece": {
          "model_module": "@jupyter-widgets/controls",
          "model_name": "HBoxModel",
          "model_module_version": "1.5.0",
          "state": {
            "_dom_classes": [],
            "_model_module": "@jupyter-widgets/controls",
            "_model_module_version": "1.5.0",
            "_model_name": "HBoxModel",
            "_view_count": null,
            "_view_module": "@jupyter-widgets/controls",
            "_view_module_version": "1.5.0",
            "_view_name": "HBoxView",
            "box_style": "",
            "children": [
              "IPY_MODEL_4ce3528163b8451b850ccefb7b773ccb",
              "IPY_MODEL_4be9159ba8304f6ab53e9b969ed2ef42",
              "IPY_MODEL_1b95d27412cf46c0a8bdded420d25df3"
            ],
            "layout": "IPY_MODEL_ff54a5880fd44fd49244f60015b5fc08"
          }
        },
        "4ce3528163b8451b850ccefb7b773ccb": {
          "model_module": "@jupyter-widgets/controls",
          "model_name": "HTMLModel",
          "model_module_version": "1.5.0",
          "state": {
            "_dom_classes": [],
            "_model_module": "@jupyter-widgets/controls",
            "_model_module_version": "1.5.0",
            "_model_name": "HTMLModel",
            "_view_count": null,
            "_view_module": "@jupyter-widgets/controls",
            "_view_module_version": "1.5.0",
            "_view_name": "HTMLView",
            "description": "",
            "description_tooltip": null,
            "layout": "IPY_MODEL_22e221d436484357899196964fa35502",
            "placeholder": "​",
            "style": "IPY_MODEL_6d860a7a9476441fa4da45415069319f",
            "value": "  1%"
          }
        },
        "4be9159ba8304f6ab53e9b969ed2ef42": {
          "model_module": "@jupyter-widgets/controls",
          "model_name": "FloatProgressModel",
          "model_module_version": "1.5.0",
          "state": {
            "_dom_classes": [],
            "_model_module": "@jupyter-widgets/controls",
            "_model_module_version": "1.5.0",
            "_model_name": "FloatProgressModel",
            "_view_count": null,
            "_view_module": "@jupyter-widgets/controls",
            "_view_module_version": "1.5.0",
            "_view_name": "ProgressView",
            "bar_style": "danger",
            "description": "",
            "description_tooltip": null,
            "layout": "IPY_MODEL_0d086d6697fb4ed6be1a2ab91b584216",
            "max": 100,
            "min": 0,
            "orientation": "horizontal",
            "style": "IPY_MODEL_7a3da99cbf144e9485b8b0026036f535",
            "value": 1
          }
        },
        "1b95d27412cf46c0a8bdded420d25df3": {
          "model_module": "@jupyter-widgets/controls",
          "model_name": "HTMLModel",
          "model_module_version": "1.5.0",
          "state": {
            "_dom_classes": [],
            "_model_module": "@jupyter-widgets/controls",
            "_model_module_version": "1.5.0",
            "_model_name": "HTMLModel",
            "_view_count": null,
            "_view_module": "@jupyter-widgets/controls",
            "_view_module_version": "1.5.0",
            "_view_name": "HTMLView",
            "description": "",
            "description_tooltip": null,
            "layout": "IPY_MODEL_ddc10bed793944179d66f275beecbfe4",
            "placeholder": "​",
            "style": "IPY_MODEL_79517f2ae97e4dddba3dfe4e97086c8b",
            "value": " 1/100 [00:00&lt;00:15,  6.53it/s]"
          }
        },
        "ff54a5880fd44fd49244f60015b5fc08": {
          "model_module": "@jupyter-widgets/base",
          "model_name": "LayoutModel",
          "model_module_version": "1.2.0",
          "state": {
            "_model_module": "@jupyter-widgets/base",
            "_model_module_version": "1.2.0",
            "_model_name": "LayoutModel",
            "_view_count": null,
            "_view_module": "@jupyter-widgets/base",
            "_view_module_version": "1.2.0",
            "_view_name": "LayoutView",
            "align_content": null,
            "align_items": null,
            "align_self": null,
            "border": null,
            "bottom": null,
            "display": null,
            "flex": null,
            "flex_flow": null,
            "grid_area": null,
            "grid_auto_columns": null,
            "grid_auto_flow": null,
            "grid_auto_rows": null,
            "grid_column": null,
            "grid_gap": null,
            "grid_row": null,
            "grid_template_areas": null,
            "grid_template_columns": null,
            "grid_template_rows": null,
            "height": null,
            "justify_content": null,
            "justify_items": null,
            "left": null,
            "margin": null,
            "max_height": null,
            "max_width": null,
            "min_height": null,
            "min_width": null,
            "object_fit": null,
            "object_position": null,
            "order": null,
            "overflow": null,
            "overflow_x": null,
            "overflow_y": null,
            "padding": null,
            "right": null,
            "top": null,
            "visibility": null,
            "width": null
          }
        },
        "22e221d436484357899196964fa35502": {
          "model_module": "@jupyter-widgets/base",
          "model_name": "LayoutModel",
          "model_module_version": "1.2.0",
          "state": {
            "_model_module": "@jupyter-widgets/base",
            "_model_module_version": "1.2.0",
            "_model_name": "LayoutModel",
            "_view_count": null,
            "_view_module": "@jupyter-widgets/base",
            "_view_module_version": "1.2.0",
            "_view_name": "LayoutView",
            "align_content": null,
            "align_items": null,
            "align_self": null,
            "border": null,
            "bottom": null,
            "display": null,
            "flex": null,
            "flex_flow": null,
            "grid_area": null,
            "grid_auto_columns": null,
            "grid_auto_flow": null,
            "grid_auto_rows": null,
            "grid_column": null,
            "grid_gap": null,
            "grid_row": null,
            "grid_template_areas": null,
            "grid_template_columns": null,
            "grid_template_rows": null,
            "height": null,
            "justify_content": null,
            "justify_items": null,
            "left": null,
            "margin": null,
            "max_height": null,
            "max_width": null,
            "min_height": null,
            "min_width": null,
            "object_fit": null,
            "object_position": null,
            "order": null,
            "overflow": null,
            "overflow_x": null,
            "overflow_y": null,
            "padding": null,
            "right": null,
            "top": null,
            "visibility": null,
            "width": null
          }
        },
        "6d860a7a9476441fa4da45415069319f": {
          "model_module": "@jupyter-widgets/controls",
          "model_name": "DescriptionStyleModel",
          "model_module_version": "1.5.0",
          "state": {
            "_model_module": "@jupyter-widgets/controls",
            "_model_module_version": "1.5.0",
            "_model_name": "DescriptionStyleModel",
            "_view_count": null,
            "_view_module": "@jupyter-widgets/base",
            "_view_module_version": "1.2.0",
            "_view_name": "StyleView",
            "description_width": ""
          }
        },
        "0d086d6697fb4ed6be1a2ab91b584216": {
          "model_module": "@jupyter-widgets/base",
          "model_name": "LayoutModel",
          "model_module_version": "1.2.0",
          "state": {
            "_model_module": "@jupyter-widgets/base",
            "_model_module_version": "1.2.0",
            "_model_name": "LayoutModel",
            "_view_count": null,
            "_view_module": "@jupyter-widgets/base",
            "_view_module_version": "1.2.0",
            "_view_name": "LayoutView",
            "align_content": null,
            "align_items": null,
            "align_self": null,
            "border": null,
            "bottom": null,
            "display": null,
            "flex": null,
            "flex_flow": null,
            "grid_area": null,
            "grid_auto_columns": null,
            "grid_auto_flow": null,
            "grid_auto_rows": null,
            "grid_column": null,
            "grid_gap": null,
            "grid_row": null,
            "grid_template_areas": null,
            "grid_template_columns": null,
            "grid_template_rows": null,
            "height": null,
            "justify_content": null,
            "justify_items": null,
            "left": null,
            "margin": null,
            "max_height": null,
            "max_width": null,
            "min_height": null,
            "min_width": null,
            "object_fit": null,
            "object_position": null,
            "order": null,
            "overflow": null,
            "overflow_x": null,
            "overflow_y": null,
            "padding": null,
            "right": null,
            "top": null,
            "visibility": null,
            "width": null
          }
        },
        "7a3da99cbf144e9485b8b0026036f535": {
          "model_module": "@jupyter-widgets/controls",
          "model_name": "ProgressStyleModel",
          "model_module_version": "1.5.0",
          "state": {
            "_model_module": "@jupyter-widgets/controls",
            "_model_module_version": "1.5.0",
            "_model_name": "ProgressStyleModel",
            "_view_count": null,
            "_view_module": "@jupyter-widgets/base",
            "_view_module_version": "1.2.0",
            "_view_name": "StyleView",
            "bar_color": null,
            "description_width": ""
          }
        },
        "ddc10bed793944179d66f275beecbfe4": {
          "model_module": "@jupyter-widgets/base",
          "model_name": "LayoutModel",
          "model_module_version": "1.2.0",
          "state": {
            "_model_module": "@jupyter-widgets/base",
            "_model_module_version": "1.2.0",
            "_model_name": "LayoutModel",
            "_view_count": null,
            "_view_module": "@jupyter-widgets/base",
            "_view_module_version": "1.2.0",
            "_view_name": "LayoutView",
            "align_content": null,
            "align_items": null,
            "align_self": null,
            "border": null,
            "bottom": null,
            "display": null,
            "flex": null,
            "flex_flow": null,
            "grid_area": null,
            "grid_auto_columns": null,
            "grid_auto_flow": null,
            "grid_auto_rows": null,
            "grid_column": null,
            "grid_gap": null,
            "grid_row": null,
            "grid_template_areas": null,
            "grid_template_columns": null,
            "grid_template_rows": null,
            "height": null,
            "justify_content": null,
            "justify_items": null,
            "left": null,
            "margin": null,
            "max_height": null,
            "max_width": null,
            "min_height": null,
            "min_width": null,
            "object_fit": null,
            "object_position": null,
            "order": null,
            "overflow": null,
            "overflow_x": null,
            "overflow_y": null,
            "padding": null,
            "right": null,
            "top": null,
            "visibility": null,
            "width": null
          }
        },
        "79517f2ae97e4dddba3dfe4e97086c8b": {
          "model_module": "@jupyter-widgets/controls",
          "model_name": "DescriptionStyleModel",
          "model_module_version": "1.5.0",
          "state": {
            "_model_module": "@jupyter-widgets/controls",
            "_model_module_version": "1.5.0",
            "_model_name": "DescriptionStyleModel",
            "_view_count": null,
            "_view_module": "@jupyter-widgets/base",
            "_view_module_version": "1.2.0",
            "_view_name": "StyleView",
            "description_width": ""
          }
        },
        "8ffae093703a456c8a8fe0c75a635150": {
          "model_module": "@jupyter-widgets/controls",
          "model_name": "HBoxModel",
          "model_module_version": "1.5.0",
          "state": {
            "_dom_classes": [],
            "_model_module": "@jupyter-widgets/controls",
            "_model_module_version": "1.5.0",
            "_model_name": "HBoxModel",
            "_view_count": null,
            "_view_module": "@jupyter-widgets/controls",
            "_view_module_version": "1.5.0",
            "_view_name": "HBoxView",
            "box_style": "",
            "children": [
              "IPY_MODEL_6f4299c7f9a2400e9a74ffb39de567e6",
              "IPY_MODEL_0a37c7acc4434998a2349fb3ec5e79ab",
              "IPY_MODEL_1cb00871fea54c65ac48e8277d147f5a"
            ],
            "layout": "IPY_MODEL_699a5827f7914164b873da78a04cec3b"
          }
        },
        "6f4299c7f9a2400e9a74ffb39de567e6": {
          "model_module": "@jupyter-widgets/controls",
          "model_name": "HTMLModel",
          "model_module_version": "1.5.0",
          "state": {
            "_dom_classes": [],
            "_model_module": "@jupyter-widgets/controls",
            "_model_module_version": "1.5.0",
            "_model_name": "HTMLModel",
            "_view_count": null,
            "_view_module": "@jupyter-widgets/controls",
            "_view_module_version": "1.5.0",
            "_view_name": "HTMLView",
            "description": "",
            "description_tooltip": null,
            "layout": "IPY_MODEL_1cb42bca0f9a44c09c9f33f0164462b6",
            "placeholder": "​",
            "style": "IPY_MODEL_4ad960e8d3ac4bb2bfa9e39f6edf08e8",
            "value": "100%"
          }
        },
        "0a37c7acc4434998a2349fb3ec5e79ab": {
          "model_module": "@jupyter-widgets/controls",
          "model_name": "FloatProgressModel",
          "model_module_version": "1.5.0",
          "state": {
            "_dom_classes": [],
            "_model_module": "@jupyter-widgets/controls",
            "_model_module_version": "1.5.0",
            "_model_name": "FloatProgressModel",
            "_view_count": null,
            "_view_module": "@jupyter-widgets/controls",
            "_view_module_version": "1.5.0",
            "_view_name": "ProgressView",
            "bar_style": "success",
            "description": "",
            "description_tooltip": null,
            "layout": "IPY_MODEL_b11caecba0324624b36b2454136b6bb0",
            "max": 13,
            "min": 0,
            "orientation": "horizontal",
            "style": "IPY_MODEL_5a193ad50c4d4da38ce5cca8f22f137b",
            "value": 13
          }
        },
        "1cb00871fea54c65ac48e8277d147f5a": {
          "model_module": "@jupyter-widgets/controls",
          "model_name": "HTMLModel",
          "model_module_version": "1.5.0",
          "state": {
            "_dom_classes": [],
            "_model_module": "@jupyter-widgets/controls",
            "_model_module_version": "1.5.0",
            "_model_name": "HTMLModel",
            "_view_count": null,
            "_view_module": "@jupyter-widgets/controls",
            "_view_module_version": "1.5.0",
            "_view_name": "HTMLView",
            "description": "",
            "description_tooltip": null,
            "layout": "IPY_MODEL_c1ed768db5c8471a8c727de83d197706",
            "placeholder": "​",
            "style": "IPY_MODEL_d83bc42fe5d148a281ea75c48fac3a19",
            "value": " 13/13 [00:03&lt;00:00,  5.36it/s]"
          }
        },
        "699a5827f7914164b873da78a04cec3b": {
          "model_module": "@jupyter-widgets/base",
          "model_name": "LayoutModel",
          "model_module_version": "1.2.0",
          "state": {
            "_model_module": "@jupyter-widgets/base",
            "_model_module_version": "1.2.0",
            "_model_name": "LayoutModel",
            "_view_count": null,
            "_view_module": "@jupyter-widgets/base",
            "_view_module_version": "1.2.0",
            "_view_name": "LayoutView",
            "align_content": null,
            "align_items": null,
            "align_self": null,
            "border": null,
            "bottom": null,
            "display": null,
            "flex": null,
            "flex_flow": null,
            "grid_area": null,
            "grid_auto_columns": null,
            "grid_auto_flow": null,
            "grid_auto_rows": null,
            "grid_column": null,
            "grid_gap": null,
            "grid_row": null,
            "grid_template_areas": null,
            "grid_template_columns": null,
            "grid_template_rows": null,
            "height": null,
            "justify_content": null,
            "justify_items": null,
            "left": null,
            "margin": null,
            "max_height": null,
            "max_width": null,
            "min_height": null,
            "min_width": null,
            "object_fit": null,
            "object_position": null,
            "order": null,
            "overflow": null,
            "overflow_x": null,
            "overflow_y": null,
            "padding": null,
            "right": null,
            "top": null,
            "visibility": null,
            "width": null
          }
        },
        "1cb42bca0f9a44c09c9f33f0164462b6": {
          "model_module": "@jupyter-widgets/base",
          "model_name": "LayoutModel",
          "model_module_version": "1.2.0",
          "state": {
            "_model_module": "@jupyter-widgets/base",
            "_model_module_version": "1.2.0",
            "_model_name": "LayoutModel",
            "_view_count": null,
            "_view_module": "@jupyter-widgets/base",
            "_view_module_version": "1.2.0",
            "_view_name": "LayoutView",
            "align_content": null,
            "align_items": null,
            "align_self": null,
            "border": null,
            "bottom": null,
            "display": null,
            "flex": null,
            "flex_flow": null,
            "grid_area": null,
            "grid_auto_columns": null,
            "grid_auto_flow": null,
            "grid_auto_rows": null,
            "grid_column": null,
            "grid_gap": null,
            "grid_row": null,
            "grid_template_areas": null,
            "grid_template_columns": null,
            "grid_template_rows": null,
            "height": null,
            "justify_content": null,
            "justify_items": null,
            "left": null,
            "margin": null,
            "max_height": null,
            "max_width": null,
            "min_height": null,
            "min_width": null,
            "object_fit": null,
            "object_position": null,
            "order": null,
            "overflow": null,
            "overflow_x": null,
            "overflow_y": null,
            "padding": null,
            "right": null,
            "top": null,
            "visibility": null,
            "width": null
          }
        },
        "4ad960e8d3ac4bb2bfa9e39f6edf08e8": {
          "model_module": "@jupyter-widgets/controls",
          "model_name": "DescriptionStyleModel",
          "model_module_version": "1.5.0",
          "state": {
            "_model_module": "@jupyter-widgets/controls",
            "_model_module_version": "1.5.0",
            "_model_name": "DescriptionStyleModel",
            "_view_count": null,
            "_view_module": "@jupyter-widgets/base",
            "_view_module_version": "1.2.0",
            "_view_name": "StyleView",
            "description_width": ""
          }
        },
        "b11caecba0324624b36b2454136b6bb0": {
          "model_module": "@jupyter-widgets/base",
          "model_name": "LayoutModel",
          "model_module_version": "1.2.0",
          "state": {
            "_model_module": "@jupyter-widgets/base",
            "_model_module_version": "1.2.0",
            "_model_name": "LayoutModel",
            "_view_count": null,
            "_view_module": "@jupyter-widgets/base",
            "_view_module_version": "1.2.0",
            "_view_name": "LayoutView",
            "align_content": null,
            "align_items": null,
            "align_self": null,
            "border": null,
            "bottom": null,
            "display": null,
            "flex": null,
            "flex_flow": null,
            "grid_area": null,
            "grid_auto_columns": null,
            "grid_auto_flow": null,
            "grid_auto_rows": null,
            "grid_column": null,
            "grid_gap": null,
            "grid_row": null,
            "grid_template_areas": null,
            "grid_template_columns": null,
            "grid_template_rows": null,
            "height": null,
            "justify_content": null,
            "justify_items": null,
            "left": null,
            "margin": null,
            "max_height": null,
            "max_width": null,
            "min_height": null,
            "min_width": null,
            "object_fit": null,
            "object_position": null,
            "order": null,
            "overflow": null,
            "overflow_x": null,
            "overflow_y": null,
            "padding": null,
            "right": null,
            "top": null,
            "visibility": null,
            "width": null
          }
        },
        "5a193ad50c4d4da38ce5cca8f22f137b": {
          "model_module": "@jupyter-widgets/controls",
          "model_name": "ProgressStyleModel",
          "model_module_version": "1.5.0",
          "state": {
            "_model_module": "@jupyter-widgets/controls",
            "_model_module_version": "1.5.0",
            "_model_name": "ProgressStyleModel",
            "_view_count": null,
            "_view_module": "@jupyter-widgets/base",
            "_view_module_version": "1.2.0",
            "_view_name": "StyleView",
            "bar_color": null,
            "description_width": ""
          }
        },
        "c1ed768db5c8471a8c727de83d197706": {
          "model_module": "@jupyter-widgets/base",
          "model_name": "LayoutModel",
          "model_module_version": "1.2.0",
          "state": {
            "_model_module": "@jupyter-widgets/base",
            "_model_module_version": "1.2.0",
            "_model_name": "LayoutModel",
            "_view_count": null,
            "_view_module": "@jupyter-widgets/base",
            "_view_module_version": "1.2.0",
            "_view_name": "LayoutView",
            "align_content": null,
            "align_items": null,
            "align_self": null,
            "border": null,
            "bottom": null,
            "display": null,
            "flex": null,
            "flex_flow": null,
            "grid_area": null,
            "grid_auto_columns": null,
            "grid_auto_flow": null,
            "grid_auto_rows": null,
            "grid_column": null,
            "grid_gap": null,
            "grid_row": null,
            "grid_template_areas": null,
            "grid_template_columns": null,
            "grid_template_rows": null,
            "height": null,
            "justify_content": null,
            "justify_items": null,
            "left": null,
            "margin": null,
            "max_height": null,
            "max_width": null,
            "min_height": null,
            "min_width": null,
            "object_fit": null,
            "object_position": null,
            "order": null,
            "overflow": null,
            "overflow_x": null,
            "overflow_y": null,
            "padding": null,
            "right": null,
            "top": null,
            "visibility": null,
            "width": null
          }
        },
        "d83bc42fe5d148a281ea75c48fac3a19": {
          "model_module": "@jupyter-widgets/controls",
          "model_name": "DescriptionStyleModel",
          "model_module_version": "1.5.0",
          "state": {
            "_model_module": "@jupyter-widgets/controls",
            "_model_module_version": "1.5.0",
            "_model_name": "DescriptionStyleModel",
            "_view_count": null,
            "_view_module": "@jupyter-widgets/base",
            "_view_module_version": "1.2.0",
            "_view_name": "StyleView",
            "description_width": ""
          }
        },
        "6f438a3b385744f6aaf7e78b5d0d51fe": {
          "model_module": "@jupyter-widgets/controls",
          "model_name": "HBoxModel",
          "model_module_version": "1.5.0",
          "state": {
            "_dom_classes": [],
            "_model_module": "@jupyter-widgets/controls",
            "_model_module_version": "1.5.0",
            "_model_name": "HBoxModel",
            "_view_count": null,
            "_view_module": "@jupyter-widgets/controls",
            "_view_module_version": "1.5.0",
            "_view_name": "HBoxView",
            "box_style": "",
            "children": [
              "IPY_MODEL_2fc5350a77d144189f77d2eed765c365",
              "IPY_MODEL_893c8c87af8e46f1b1b9382700c6a5a4",
              "IPY_MODEL_5c1cf29269c247269235d25fa2b8103b"
            ],
            "layout": "IPY_MODEL_d76eb86c9648422696b6b4ba913a26ca"
          }
        },
        "2fc5350a77d144189f77d2eed765c365": {
          "model_module": "@jupyter-widgets/controls",
          "model_name": "HTMLModel",
          "model_module_version": "1.5.0",
          "state": {
            "_dom_classes": [],
            "_model_module": "@jupyter-widgets/controls",
            "_model_module_version": "1.5.0",
            "_model_name": "HTMLModel",
            "_view_count": null,
            "_view_module": "@jupyter-widgets/controls",
            "_view_module_version": "1.5.0",
            "_view_name": "HTMLView",
            "description": "",
            "description_tooltip": null,
            "layout": "IPY_MODEL_0fb6d0157dba428bae3a519c0b33c356",
            "placeholder": "​",
            "style": "IPY_MODEL_8c5e22d7553c413190bcfe9da277668a",
            "value": "Map:   0%"
          }
        },
        "893c8c87af8e46f1b1b9382700c6a5a4": {
          "model_module": "@jupyter-widgets/controls",
          "model_name": "FloatProgressModel",
          "model_module_version": "1.5.0",
          "state": {
            "_dom_classes": [],
            "_model_module": "@jupyter-widgets/controls",
            "_model_module_version": "1.5.0",
            "_model_name": "FloatProgressModel",
            "_view_count": null,
            "_view_module": "@jupyter-widgets/controls",
            "_view_module_version": "1.5.0",
            "_view_name": "ProgressView",
            "bar_style": "",
            "description": "",
            "description_tooltip": null,
            "layout": "IPY_MODEL_bb948b0b35074fa7b038f1cba49e1521",
            "max": 99,
            "min": 0,
            "orientation": "horizontal",
            "style": "IPY_MODEL_c91a702a1d9743a9a6ee380490f44490",
            "value": 99
          }
        },
        "5c1cf29269c247269235d25fa2b8103b": {
          "model_module": "@jupyter-widgets/controls",
          "model_name": "HTMLModel",
          "model_module_version": "1.5.0",
          "state": {
            "_dom_classes": [],
            "_model_module": "@jupyter-widgets/controls",
            "_model_module_version": "1.5.0",
            "_model_name": "HTMLModel",
            "_view_count": null,
            "_view_module": "@jupyter-widgets/controls",
            "_view_module_version": "1.5.0",
            "_view_name": "HTMLView",
            "description": "",
            "description_tooltip": null,
            "layout": "IPY_MODEL_50a832e4b8cc48a7aa41bca380e5d052",
            "placeholder": "​",
            "style": "IPY_MODEL_d57d1f39d7a44fcea2a7bb118ab6b316",
            "value": " 0/99 [00:00&lt;?, ? examples/s]"
          }
        },
        "d76eb86c9648422696b6b4ba913a26ca": {
          "model_module": "@jupyter-widgets/base",
          "model_name": "LayoutModel",
          "model_module_version": "1.2.0",
          "state": {
            "_model_module": "@jupyter-widgets/base",
            "_model_module_version": "1.2.0",
            "_model_name": "LayoutModel",
            "_view_count": null,
            "_view_module": "@jupyter-widgets/base",
            "_view_module_version": "1.2.0",
            "_view_name": "LayoutView",
            "align_content": null,
            "align_items": null,
            "align_self": null,
            "border": null,
            "bottom": null,
            "display": null,
            "flex": null,
            "flex_flow": null,
            "grid_area": null,
            "grid_auto_columns": null,
            "grid_auto_flow": null,
            "grid_auto_rows": null,
            "grid_column": null,
            "grid_gap": null,
            "grid_row": null,
            "grid_template_areas": null,
            "grid_template_columns": null,
            "grid_template_rows": null,
            "height": null,
            "justify_content": null,
            "justify_items": null,
            "left": null,
            "margin": null,
            "max_height": null,
            "max_width": null,
            "min_height": null,
            "min_width": null,
            "object_fit": null,
            "object_position": null,
            "order": null,
            "overflow": null,
            "overflow_x": null,
            "overflow_y": null,
            "padding": null,
            "right": null,
            "top": null,
            "visibility": "hidden",
            "width": null
          }
        },
        "0fb6d0157dba428bae3a519c0b33c356": {
          "model_module": "@jupyter-widgets/base",
          "model_name": "LayoutModel",
          "model_module_version": "1.2.0",
          "state": {
            "_model_module": "@jupyter-widgets/base",
            "_model_module_version": "1.2.0",
            "_model_name": "LayoutModel",
            "_view_count": null,
            "_view_module": "@jupyter-widgets/base",
            "_view_module_version": "1.2.0",
            "_view_name": "LayoutView",
            "align_content": null,
            "align_items": null,
            "align_self": null,
            "border": null,
            "bottom": null,
            "display": null,
            "flex": null,
            "flex_flow": null,
            "grid_area": null,
            "grid_auto_columns": null,
            "grid_auto_flow": null,
            "grid_auto_rows": null,
            "grid_column": null,
            "grid_gap": null,
            "grid_row": null,
            "grid_template_areas": null,
            "grid_template_columns": null,
            "grid_template_rows": null,
            "height": null,
            "justify_content": null,
            "justify_items": null,
            "left": null,
            "margin": null,
            "max_height": null,
            "max_width": null,
            "min_height": null,
            "min_width": null,
            "object_fit": null,
            "object_position": null,
            "order": null,
            "overflow": null,
            "overflow_x": null,
            "overflow_y": null,
            "padding": null,
            "right": null,
            "top": null,
            "visibility": null,
            "width": null
          }
        },
        "8c5e22d7553c413190bcfe9da277668a": {
          "model_module": "@jupyter-widgets/controls",
          "model_name": "DescriptionStyleModel",
          "model_module_version": "1.5.0",
          "state": {
            "_model_module": "@jupyter-widgets/controls",
            "_model_module_version": "1.5.0",
            "_model_name": "DescriptionStyleModel",
            "_view_count": null,
            "_view_module": "@jupyter-widgets/base",
            "_view_module_version": "1.2.0",
            "_view_name": "StyleView",
            "description_width": ""
          }
        },
        "bb948b0b35074fa7b038f1cba49e1521": {
          "model_module": "@jupyter-widgets/base",
          "model_name": "LayoutModel",
          "model_module_version": "1.2.0",
          "state": {
            "_model_module": "@jupyter-widgets/base",
            "_model_module_version": "1.2.0",
            "_model_name": "LayoutModel",
            "_view_count": null,
            "_view_module": "@jupyter-widgets/base",
            "_view_module_version": "1.2.0",
            "_view_name": "LayoutView",
            "align_content": null,
            "align_items": null,
            "align_self": null,
            "border": null,
            "bottom": null,
            "display": null,
            "flex": null,
            "flex_flow": null,
            "grid_area": null,
            "grid_auto_columns": null,
            "grid_auto_flow": null,
            "grid_auto_rows": null,
            "grid_column": null,
            "grid_gap": null,
            "grid_row": null,
            "grid_template_areas": null,
            "grid_template_columns": null,
            "grid_template_rows": null,
            "height": null,
            "justify_content": null,
            "justify_items": null,
            "left": null,
            "margin": null,
            "max_height": null,
            "max_width": null,
            "min_height": null,
            "min_width": null,
            "object_fit": null,
            "object_position": null,
            "order": null,
            "overflow": null,
            "overflow_x": null,
            "overflow_y": null,
            "padding": null,
            "right": null,
            "top": null,
            "visibility": null,
            "width": null
          }
        },
        "c91a702a1d9743a9a6ee380490f44490": {
          "model_module": "@jupyter-widgets/controls",
          "model_name": "ProgressStyleModel",
          "model_module_version": "1.5.0",
          "state": {
            "_model_module": "@jupyter-widgets/controls",
            "_model_module_version": "1.5.0",
            "_model_name": "ProgressStyleModel",
            "_view_count": null,
            "_view_module": "@jupyter-widgets/base",
            "_view_module_version": "1.2.0",
            "_view_name": "StyleView",
            "bar_color": null,
            "description_width": ""
          }
        },
        "50a832e4b8cc48a7aa41bca380e5d052": {
          "model_module": "@jupyter-widgets/base",
          "model_name": "LayoutModel",
          "model_module_version": "1.2.0",
          "state": {
            "_model_module": "@jupyter-widgets/base",
            "_model_module_version": "1.2.0",
            "_model_name": "LayoutModel",
            "_view_count": null,
            "_view_module": "@jupyter-widgets/base",
            "_view_module_version": "1.2.0",
            "_view_name": "LayoutView",
            "align_content": null,
            "align_items": null,
            "align_self": null,
            "border": null,
            "bottom": null,
            "display": null,
            "flex": null,
            "flex_flow": null,
            "grid_area": null,
            "grid_auto_columns": null,
            "grid_auto_flow": null,
            "grid_auto_rows": null,
            "grid_column": null,
            "grid_gap": null,
            "grid_row": null,
            "grid_template_areas": null,
            "grid_template_columns": null,
            "grid_template_rows": null,
            "height": null,
            "justify_content": null,
            "justify_items": null,
            "left": null,
            "margin": null,
            "max_height": null,
            "max_width": null,
            "min_height": null,
            "min_width": null,
            "object_fit": null,
            "object_position": null,
            "order": null,
            "overflow": null,
            "overflow_x": null,
            "overflow_y": null,
            "padding": null,
            "right": null,
            "top": null,
            "visibility": null,
            "width": null
          }
        },
        "d57d1f39d7a44fcea2a7bb118ab6b316": {
          "model_module": "@jupyter-widgets/controls",
          "model_name": "DescriptionStyleModel",
          "model_module_version": "1.5.0",
          "state": {
            "_model_module": "@jupyter-widgets/controls",
            "_model_module_version": "1.5.0",
            "_model_name": "DescriptionStyleModel",
            "_view_count": null,
            "_view_module": "@jupyter-widgets/base",
            "_view_module_version": "1.2.0",
            "_view_name": "StyleView",
            "description_width": ""
          }
        }
      }
    }
  },
  "cells": [
    {
      "cell_type": "code",
      "source": [
        "!pip install simpletransformers\n",
        "# !pip install pysentimiento\n",
        "# !pip install --upgrade accelerate"
      ],
      "metadata": {
        "id": "JeENjXY75Qqn"
      },
      "execution_count": null,
      "outputs": []
    },
    {
      "cell_type": "code",
      "source": [
        "!pip uninstall transformers -y"
      ],
      "metadata": {
        "colab": {
          "base_uri": "https://localhost:8080/"
        },
        "id": "stOSui2pG6Zw",
        "outputId": "98d89fb0-8143-4402-ac20-d9cade97c967"
      },
      "execution_count": null,
      "outputs": [
        {
          "output_type": "stream",
          "name": "stdout",
          "text": [
            "Found existing installation: transformers 4.29.2\n",
            "Uninstalling transformers-4.29.2:\n",
            "  Successfully uninstalled transformers-4.29.2\n"
          ]
        }
      ]
    },
    {
      "cell_type": "code",
      "source": [
        "!pip install transformers==4.28.0"
      ],
      "metadata": {
        "id": "kTvMmA8LG9rf"
      },
      "execution_count": null,
      "outputs": []
    },
    {
      "cell_type": "code",
      "source": [
        "import pandas as pd\n",
        "from sklearn.metrics import accuracy_score, precision_score, recall_score, f1_score\n",
        "from simpletransformers.classification import ClassificationModel, ClassificationArgs\n",
        "# from pysentimiento import create_analyzer\n",
        "# analyzer = create_analyzer(task=\"sentiment\", lang=\"es\")"
      ],
      "metadata": {
        "id": "YuZkt63MJUvb"
      },
      "execution_count": null,
      "outputs": []
    },
    {
      "cell_type": "code",
      "source": [
        "from pysentimiento import create_analyzer\n",
        "analyzer = create_analyzer(task=\"sentiment\", lang=\"es\")"
      ],
      "metadata": {
        "id": "pPnatf5iaztl"
      },
      "execution_count": null,
      "outputs": []
    },
    {
      "cell_type": "markdown",
      "source": [
        "## DATA MANIPULATION"
      ],
      "metadata": {
        "id": "Gp70xn8kJMyU"
      }
    },
    {
      "cell_type": "markdown",
      "source": [
        "### Hate Detection - Marathi"
      ],
      "metadata": {
        "id": "ScqxNVetkTmw"
      }
    },
    {
      "cell_type": "code",
      "execution_count": null,
      "metadata": {
        "id": "MIKDQR3-zQky"
      },
      "outputs": [],
      "source": [
        "hate_mr = pd.read_excel('/content/hate_bin_test.xlsx')"
      ]
    },
    {
      "cell_type": "code",
      "source": [
        "hate_mr.head(5)"
      ],
      "metadata": {
        "colab": {
          "base_uri": "https://localhost:8080/",
          "height": 206
        },
        "id": "S2CQ8RD5l9lV",
        "outputId": "ed422a13-6d16-430a-ca9d-bca34a1f6319"
      },
      "execution_count": null,
      "outputs": [
        {
          "output_type": "execute_result",
          "data": {
            "text/plain": [
              "                                                text label\n",
              "0  @GajuNaik20 @NitinRaut_INC अबे झाटु लालबहादूर ...   HOF\n",
              "1  @khadaksingh_ अंड नसलेल्या भक्तांना मोदी फायद्...   HOF\n",
              "2  @BhatkhalkarA अरे माठ्या त्यांच्याकडून काहीच श...   HOF\n",
              "3  हे हिंदूंचे सरकार नव्हे तर लांड्यांचे सरकार ! ...   HOF\n",
              "4  @_prashantkadam कदम रडू नको तुझा मालक कोर्टात ...   HOF"
            ],
            "text/html": [
              "\n",
              "  <div id=\"df-e46b6a5f-9159-4b5a-9b54-a85fc8072e94\">\n",
              "    <div class=\"colab-df-container\">\n",
              "      <div>\n",
              "<style scoped>\n",
              "    .dataframe tbody tr th:only-of-type {\n",
              "        vertical-align: middle;\n",
              "    }\n",
              "\n",
              "    .dataframe tbody tr th {\n",
              "        vertical-align: top;\n",
              "    }\n",
              "\n",
              "    .dataframe thead th {\n",
              "        text-align: right;\n",
              "    }\n",
              "</style>\n",
              "<table border=\"1\" class=\"dataframe\">\n",
              "  <thead>\n",
              "    <tr style=\"text-align: right;\">\n",
              "      <th></th>\n",
              "      <th>text</th>\n",
              "      <th>label</th>\n",
              "    </tr>\n",
              "  </thead>\n",
              "  <tbody>\n",
              "    <tr>\n",
              "      <th>0</th>\n",
              "      <td>@GajuNaik20 @NitinRaut_INC अबे झाटु लालबहादूर ...</td>\n",
              "      <td>HOF</td>\n",
              "    </tr>\n",
              "    <tr>\n",
              "      <th>1</th>\n",
              "      <td>@khadaksingh_ अंड नसलेल्या भक्तांना मोदी फायद्...</td>\n",
              "      <td>HOF</td>\n",
              "    </tr>\n",
              "    <tr>\n",
              "      <th>2</th>\n",
              "      <td>@BhatkhalkarA अरे माठ्या त्यांच्याकडून काहीच श...</td>\n",
              "      <td>HOF</td>\n",
              "    </tr>\n",
              "    <tr>\n",
              "      <th>3</th>\n",
              "      <td>हे हिंदूंचे सरकार नव्हे तर लांड्यांचे सरकार ! ...</td>\n",
              "      <td>HOF</td>\n",
              "    </tr>\n",
              "    <tr>\n",
              "      <th>4</th>\n",
              "      <td>@_prashantkadam कदम रडू नको तुझा मालक कोर्टात ...</td>\n",
              "      <td>HOF</td>\n",
              "    </tr>\n",
              "  </tbody>\n",
              "</table>\n",
              "</div>\n",
              "      <button class=\"colab-df-convert\" onclick=\"convertToInteractive('df-e46b6a5f-9159-4b5a-9b54-a85fc8072e94')\"\n",
              "              title=\"Convert this dataframe to an interactive table.\"\n",
              "              style=\"display:none;\">\n",
              "        \n",
              "  <svg xmlns=\"http://www.w3.org/2000/svg\" height=\"24px\"viewBox=\"0 0 24 24\"\n",
              "       width=\"24px\">\n",
              "    <path d=\"M0 0h24v24H0V0z\" fill=\"none\"/>\n",
              "    <path d=\"M18.56 5.44l.94 2.06.94-2.06 2.06-.94-2.06-.94-.94-2.06-.94 2.06-2.06.94zm-11 1L8.5 8.5l.94-2.06 2.06-.94-2.06-.94L8.5 2.5l-.94 2.06-2.06.94zm10 10l.94 2.06.94-2.06 2.06-.94-2.06-.94-.94-2.06-.94 2.06-2.06.94z\"/><path d=\"M17.41 7.96l-1.37-1.37c-.4-.4-.92-.59-1.43-.59-.52 0-1.04.2-1.43.59L10.3 9.45l-7.72 7.72c-.78.78-.78 2.05 0 2.83L4 21.41c.39.39.9.59 1.41.59.51 0 1.02-.2 1.41-.59l7.78-7.78 2.81-2.81c.8-.78.8-2.07 0-2.86zM5.41 20L4 18.59l7.72-7.72 1.47 1.35L5.41 20z\"/>\n",
              "  </svg>\n",
              "      </button>\n",
              "      \n",
              "  <style>\n",
              "    .colab-df-container {\n",
              "      display:flex;\n",
              "      flex-wrap:wrap;\n",
              "      gap: 12px;\n",
              "    }\n",
              "\n",
              "    .colab-df-convert {\n",
              "      background-color: #E8F0FE;\n",
              "      border: none;\n",
              "      border-radius: 50%;\n",
              "      cursor: pointer;\n",
              "      display: none;\n",
              "      fill: #1967D2;\n",
              "      height: 32px;\n",
              "      padding: 0 0 0 0;\n",
              "      width: 32px;\n",
              "    }\n",
              "\n",
              "    .colab-df-convert:hover {\n",
              "      background-color: #E2EBFA;\n",
              "      box-shadow: 0px 1px 2px rgba(60, 64, 67, 0.3), 0px 1px 3px 1px rgba(60, 64, 67, 0.15);\n",
              "      fill: #174EA6;\n",
              "    }\n",
              "\n",
              "    [theme=dark] .colab-df-convert {\n",
              "      background-color: #3B4455;\n",
              "      fill: #D2E3FC;\n",
              "    }\n",
              "\n",
              "    [theme=dark] .colab-df-convert:hover {\n",
              "      background-color: #434B5C;\n",
              "      box-shadow: 0px 1px 3px 1px rgba(0, 0, 0, 0.15);\n",
              "      filter: drop-shadow(0px 1px 2px rgba(0, 0, 0, 0.3));\n",
              "      fill: #FFFFFF;\n",
              "    }\n",
              "  </style>\n",
              "\n",
              "      <script>\n",
              "        const buttonEl =\n",
              "          document.querySelector('#df-e46b6a5f-9159-4b5a-9b54-a85fc8072e94 button.colab-df-convert');\n",
              "        buttonEl.style.display =\n",
              "          google.colab.kernel.accessAllowed ? 'block' : 'none';\n",
              "\n",
              "        async function convertToInteractive(key) {\n",
              "          const element = document.querySelector('#df-e46b6a5f-9159-4b5a-9b54-a85fc8072e94');\n",
              "          const dataTable =\n",
              "            await google.colab.kernel.invokeFunction('convertToInteractive',\n",
              "                                                     [key], {});\n",
              "          if (!dataTable) return;\n",
              "\n",
              "          const docLinkHtml = 'Like what you see? Visit the ' +\n",
              "            '<a target=\"_blank\" href=https://colab.research.google.com/notebooks/data_table.ipynb>data table notebook</a>'\n",
              "            + ' to learn more about interactive tables.';\n",
              "          element.innerHTML = '';\n",
              "          dataTable['output_type'] = 'display_data';\n",
              "          await google.colab.output.renderOutput(dataTable, element);\n",
              "          const docLink = document.createElement('div');\n",
              "          docLink.innerHTML = docLinkHtml;\n",
              "          element.appendChild(docLink);\n",
              "        }\n",
              "      </script>\n",
              "    </div>\n",
              "  </div>\n",
              "  "
            ]
          },
          "metadata": {},
          "execution_count": 168
        }
      ]
    },
    {
      "cell_type": "code",
      "source": [
        "hate_mr['label'].value_counts()"
      ],
      "metadata": {
        "colab": {
          "base_uri": "https://localhost:8080/"
        },
        "id": "D_58PGEnl-qS",
        "outputId": "f6abf623-a80d-4f36-b2c2-94c4e3d9a3d4"
      },
      "execution_count": null,
      "outputs": [
        {
          "output_type": "execute_result",
          "data": {
            "text/plain": [
              "HOF    1875\n",
              "NOT    1875\n",
              "Name: label, dtype: int64"
            ]
          },
          "metadata": {},
          "execution_count": 169
        }
      ]
    },
    {
      "cell_type": "code",
      "source": [
        "unique_labels = hate_mr['label'].unique()\n",
        "print(unique_labels)"
      ],
      "metadata": {
        "colab": {
          "base_uri": "https://localhost:8080/"
        },
        "id": "o63pvDvcmEqB",
        "outputId": "3ce6e0e7-551c-4648-a5f6-1772d27e3f97"
      },
      "execution_count": null,
      "outputs": [
        {
          "output_type": "stream",
          "name": "stdout",
          "text": [
            "['HOF' 'NOT']\n"
          ]
        }
      ]
    },
    {
      "cell_type": "code",
      "source": [
        "hate_mr_final = pd.DataFrame()  \n",
        "\n",
        "for label in unique_labels:\n",
        "    label_rows = hate_mr[hate_mr['label'] == label]  \n",
        "    random_rows = label_rows.sample(n=50)  \n",
        "    hate_mr_final = hate_mr_final.append(random_rows) "
      ],
      "metadata": {
        "colab": {
          "base_uri": "https://localhost:8080/"
        },
        "id": "ttByW5PfmXZf",
        "outputId": "984eb790-a318-4970-9c94-5630e1abd03c"
      },
      "execution_count": null,
      "outputs": [
        {
          "output_type": "stream",
          "name": "stderr",
          "text": [
            "<ipython-input-171-289813312247>:6: FutureWarning: The frame.append method is deprecated and will be removed from pandas in a future version. Use pandas.concat instead.\n",
            "  hate_mr_final = hate_mr_final.append(random_rows)\n",
            "<ipython-input-171-289813312247>:6: FutureWarning: The frame.append method is deprecated and will be removed from pandas in a future version. Use pandas.concat instead.\n",
            "  hate_mr_final = hate_mr_final.append(random_rows)\n"
          ]
        }
      ]
    },
    {
      "cell_type": "code",
      "source": [
        "hate_mr_final = hate_mr_final.reset_index(drop = True)"
      ],
      "metadata": {
        "id": "VzRniGDqmf3P"
      },
      "execution_count": null,
      "outputs": []
    },
    {
      "cell_type": "code",
      "source": [
        "hate_mr_final.head(3)"
      ],
      "metadata": {
        "colab": {
          "base_uri": "https://localhost:8080/",
          "height": 143
        },
        "id": "YwQKeum_mg7F",
        "outputId": "9d15bffb-0e11-4cad-dca2-81ac1158bb2e"
      },
      "execution_count": null,
      "outputs": [
        {
          "output_type": "execute_result",
          "data": {
            "text/plain": [
              "                                                text label\n",
              "0  @MChormal @gandolenitin मर्दाच्या अवलादी सत्ते...   HOF\n",
              "1  @INCMaharashtra कुठली शाळा शिकलेले आहे बरं... ...   HOF\n",
              "2  ईदच्या पवित्र दिवशी जम्मू आणि काश्मिरात राष्ट्...   HOF"
            ],
            "text/html": [
              "\n",
              "  <div id=\"df-ccf98dd0-f048-45e4-88f4-925fdcb77175\">\n",
              "    <div class=\"colab-df-container\">\n",
              "      <div>\n",
              "<style scoped>\n",
              "    .dataframe tbody tr th:only-of-type {\n",
              "        vertical-align: middle;\n",
              "    }\n",
              "\n",
              "    .dataframe tbody tr th {\n",
              "        vertical-align: top;\n",
              "    }\n",
              "\n",
              "    .dataframe thead th {\n",
              "        text-align: right;\n",
              "    }\n",
              "</style>\n",
              "<table border=\"1\" class=\"dataframe\">\n",
              "  <thead>\n",
              "    <tr style=\"text-align: right;\">\n",
              "      <th></th>\n",
              "      <th>text</th>\n",
              "      <th>label</th>\n",
              "    </tr>\n",
              "  </thead>\n",
              "  <tbody>\n",
              "    <tr>\n",
              "      <th>0</th>\n",
              "      <td>@MChormal @gandolenitin मर्दाच्या अवलादी सत्ते...</td>\n",
              "      <td>HOF</td>\n",
              "    </tr>\n",
              "    <tr>\n",
              "      <th>1</th>\n",
              "      <td>@INCMaharashtra कुठली शाळा शिकलेले आहे बरं... ...</td>\n",
              "      <td>HOF</td>\n",
              "    </tr>\n",
              "    <tr>\n",
              "      <th>2</th>\n",
              "      <td>ईदच्या पवित्र दिवशी जम्मू आणि काश्मिरात राष्ट्...</td>\n",
              "      <td>HOF</td>\n",
              "    </tr>\n",
              "  </tbody>\n",
              "</table>\n",
              "</div>\n",
              "      <button class=\"colab-df-convert\" onclick=\"convertToInteractive('df-ccf98dd0-f048-45e4-88f4-925fdcb77175')\"\n",
              "              title=\"Convert this dataframe to an interactive table.\"\n",
              "              style=\"display:none;\">\n",
              "        \n",
              "  <svg xmlns=\"http://www.w3.org/2000/svg\" height=\"24px\"viewBox=\"0 0 24 24\"\n",
              "       width=\"24px\">\n",
              "    <path d=\"M0 0h24v24H0V0z\" fill=\"none\"/>\n",
              "    <path d=\"M18.56 5.44l.94 2.06.94-2.06 2.06-.94-2.06-.94-.94-2.06-.94 2.06-2.06.94zm-11 1L8.5 8.5l.94-2.06 2.06-.94-2.06-.94L8.5 2.5l-.94 2.06-2.06.94zm10 10l.94 2.06.94-2.06 2.06-.94-2.06-.94-.94-2.06-.94 2.06-2.06.94z\"/><path d=\"M17.41 7.96l-1.37-1.37c-.4-.4-.92-.59-1.43-.59-.52 0-1.04.2-1.43.59L10.3 9.45l-7.72 7.72c-.78.78-.78 2.05 0 2.83L4 21.41c.39.39.9.59 1.41.59.51 0 1.02-.2 1.41-.59l7.78-7.78 2.81-2.81c.8-.78.8-2.07 0-2.86zM5.41 20L4 18.59l7.72-7.72 1.47 1.35L5.41 20z\"/>\n",
              "  </svg>\n",
              "      </button>\n",
              "      \n",
              "  <style>\n",
              "    .colab-df-container {\n",
              "      display:flex;\n",
              "      flex-wrap:wrap;\n",
              "      gap: 12px;\n",
              "    }\n",
              "\n",
              "    .colab-df-convert {\n",
              "      background-color: #E8F0FE;\n",
              "      border: none;\n",
              "      border-radius: 50%;\n",
              "      cursor: pointer;\n",
              "      display: none;\n",
              "      fill: #1967D2;\n",
              "      height: 32px;\n",
              "      padding: 0 0 0 0;\n",
              "      width: 32px;\n",
              "    }\n",
              "\n",
              "    .colab-df-convert:hover {\n",
              "      background-color: #E2EBFA;\n",
              "      box-shadow: 0px 1px 2px rgba(60, 64, 67, 0.3), 0px 1px 3px 1px rgba(60, 64, 67, 0.15);\n",
              "      fill: #174EA6;\n",
              "    }\n",
              "\n",
              "    [theme=dark] .colab-df-convert {\n",
              "      background-color: #3B4455;\n",
              "      fill: #D2E3FC;\n",
              "    }\n",
              "\n",
              "    [theme=dark] .colab-df-convert:hover {\n",
              "      background-color: #434B5C;\n",
              "      box-shadow: 0px 1px 3px 1px rgba(0, 0, 0, 0.15);\n",
              "      filter: drop-shadow(0px 1px 2px rgba(0, 0, 0, 0.3));\n",
              "      fill: #FFFFFF;\n",
              "    }\n",
              "  </style>\n",
              "\n",
              "      <script>\n",
              "        const buttonEl =\n",
              "          document.querySelector('#df-ccf98dd0-f048-45e4-88f4-925fdcb77175 button.colab-df-convert');\n",
              "        buttonEl.style.display =\n",
              "          google.colab.kernel.accessAllowed ? 'block' : 'none';\n",
              "\n",
              "        async function convertToInteractive(key) {\n",
              "          const element = document.querySelector('#df-ccf98dd0-f048-45e4-88f4-925fdcb77175');\n",
              "          const dataTable =\n",
              "            await google.colab.kernel.invokeFunction('convertToInteractive',\n",
              "                                                     [key], {});\n",
              "          if (!dataTable) return;\n",
              "\n",
              "          const docLinkHtml = 'Like what you see? Visit the ' +\n",
              "            '<a target=\"_blank\" href=https://colab.research.google.com/notebooks/data_table.ipynb>data table notebook</a>'\n",
              "            + ' to learn more about interactive tables.';\n",
              "          element.innerHTML = '';\n",
              "          dataTable['output_type'] = 'display_data';\n",
              "          await google.colab.output.renderOutput(dataTable, element);\n",
              "          const docLink = document.createElement('div');\n",
              "          docLink.innerHTML = docLinkHtml;\n",
              "          element.appendChild(docLink);\n",
              "        }\n",
              "      </script>\n",
              "    </div>\n",
              "  </div>\n",
              "  "
            ]
          },
          "metadata": {},
          "execution_count": 173
        }
      ]
    },
    {
      "cell_type": "code",
      "source": [
        "hate_mr_final['label'].value_counts()"
      ],
      "metadata": {
        "colab": {
          "base_uri": "https://localhost:8080/"
        },
        "id": "eJ-xeKfummWY",
        "outputId": "a5588de5-1ede-4d8d-b6e9-f571343c781a"
      },
      "execution_count": null,
      "outputs": [
        {
          "output_type": "execute_result",
          "data": {
            "text/plain": [
              "HOF    50\n",
              "NOT    50\n",
              "Name: label, dtype: int64"
            ]
          },
          "metadata": {},
          "execution_count": 174
        }
      ]
    },
    {
      "cell_type": "code",
      "source": [
        "hate_mr_final = hate_mr_final.sample(frac=1).reset_index(drop=True)"
      ],
      "metadata": {
        "id": "b585hlkEouI3"
      },
      "execution_count": null,
      "outputs": []
    },
    {
      "cell_type": "code",
      "source": [
        "hate_mr_final.to_csv('hate_mr_final.csv')"
      ],
      "metadata": {
        "id": "ztMo_MxwmoJA"
      },
      "execution_count": null,
      "outputs": []
    },
    {
      "cell_type": "markdown",
      "source": [
        "### Sentiement Analysis - Marathi"
      ],
      "metadata": {
        "id": "58qPIiZcm4LD"
      }
    },
    {
      "cell_type": "code",
      "execution_count": null,
      "metadata": {
        "id": "kZP_zaxRm-KE"
      },
      "outputs": [],
      "source": [
        "sentiment_mr = pd.read_csv('/content/tweets-test.csv')"
      ]
    },
    {
      "cell_type": "code",
      "source": [
        "sentiment_mr.head(5)"
      ],
      "metadata": {
        "colab": {
          "base_uri": "https://localhost:8080/",
          "height": 206
        },
        "outputId": "a345c97b-25e6-41af-c207-b9f9dc825c20",
        "id": "J_BhB3hfm-KS"
      },
      "execution_count": null,
      "outputs": [
        {
          "output_type": "execute_result",
          "data": {
            "text/plain": [
              "                                               tweet  label\n",
              "0   #BetiBachao चा फक्त नारा देऊन उपयोग नाही. महि...      1\n",
              "1    पेट्रोल आणि डिझेलवर एक रूपया अधिभार लावल्यान...     -1\n",
              "2    लूट झूट का राज भागावो,  \\nरोजगार और विकास ला...      1\n",
              "3    महाराष्ट्र विकास आघाडी सरकारच्या मंत्रिमंडळ ...      1\n",
              "4    पिंपरीत अ‍ॅथलेटिक्स आणि विविध क्षेत्रांतल्या...      1"
            ],
            "text/html": [
              "\n",
              "  <div id=\"df-4e1ccc49-0526-4828-806b-ec49ee8659ea\">\n",
              "    <div class=\"colab-df-container\">\n",
              "      <div>\n",
              "<style scoped>\n",
              "    .dataframe tbody tr th:only-of-type {\n",
              "        vertical-align: middle;\n",
              "    }\n",
              "\n",
              "    .dataframe tbody tr th {\n",
              "        vertical-align: top;\n",
              "    }\n",
              "\n",
              "    .dataframe thead th {\n",
              "        text-align: right;\n",
              "    }\n",
              "</style>\n",
              "<table border=\"1\" class=\"dataframe\">\n",
              "  <thead>\n",
              "    <tr style=\"text-align: right;\">\n",
              "      <th></th>\n",
              "      <th>tweet</th>\n",
              "      <th>label</th>\n",
              "    </tr>\n",
              "  </thead>\n",
              "  <tbody>\n",
              "    <tr>\n",
              "      <th>0</th>\n",
              "      <td>#BetiBachao चा फक्त नारा देऊन उपयोग नाही. महि...</td>\n",
              "      <td>1</td>\n",
              "    </tr>\n",
              "    <tr>\n",
              "      <th>1</th>\n",
              "      <td>पेट्रोल आणि डिझेलवर एक रूपया अधिभार लावल्यान...</td>\n",
              "      <td>-1</td>\n",
              "    </tr>\n",
              "    <tr>\n",
              "      <th>2</th>\n",
              "      <td>लूट झूट का राज भागावो,  \\nरोजगार और विकास ला...</td>\n",
              "      <td>1</td>\n",
              "    </tr>\n",
              "    <tr>\n",
              "      <th>3</th>\n",
              "      <td>महाराष्ट्र विकास आघाडी सरकारच्या मंत्रिमंडळ ...</td>\n",
              "      <td>1</td>\n",
              "    </tr>\n",
              "    <tr>\n",
              "      <th>4</th>\n",
              "      <td>पिंपरीत अ‍ॅथलेटिक्स आणि विविध क्षेत्रांतल्या...</td>\n",
              "      <td>1</td>\n",
              "    </tr>\n",
              "  </tbody>\n",
              "</table>\n",
              "</div>\n",
              "      <button class=\"colab-df-convert\" onclick=\"convertToInteractive('df-4e1ccc49-0526-4828-806b-ec49ee8659ea')\"\n",
              "              title=\"Convert this dataframe to an interactive table.\"\n",
              "              style=\"display:none;\">\n",
              "        \n",
              "  <svg xmlns=\"http://www.w3.org/2000/svg\" height=\"24px\"viewBox=\"0 0 24 24\"\n",
              "       width=\"24px\">\n",
              "    <path d=\"M0 0h24v24H0V0z\" fill=\"none\"/>\n",
              "    <path d=\"M18.56 5.44l.94 2.06.94-2.06 2.06-.94-2.06-.94-.94-2.06-.94 2.06-2.06.94zm-11 1L8.5 8.5l.94-2.06 2.06-.94-2.06-.94L8.5 2.5l-.94 2.06-2.06.94zm10 10l.94 2.06.94-2.06 2.06-.94-2.06-.94-.94-2.06-.94 2.06-2.06.94z\"/><path d=\"M17.41 7.96l-1.37-1.37c-.4-.4-.92-.59-1.43-.59-.52 0-1.04.2-1.43.59L10.3 9.45l-7.72 7.72c-.78.78-.78 2.05 0 2.83L4 21.41c.39.39.9.59 1.41.59.51 0 1.02-.2 1.41-.59l7.78-7.78 2.81-2.81c.8-.78.8-2.07 0-2.86zM5.41 20L4 18.59l7.72-7.72 1.47 1.35L5.41 20z\"/>\n",
              "  </svg>\n",
              "      </button>\n",
              "      \n",
              "  <style>\n",
              "    .colab-df-container {\n",
              "      display:flex;\n",
              "      flex-wrap:wrap;\n",
              "      gap: 12px;\n",
              "    }\n",
              "\n",
              "    .colab-df-convert {\n",
              "      background-color: #E8F0FE;\n",
              "      border: none;\n",
              "      border-radius: 50%;\n",
              "      cursor: pointer;\n",
              "      display: none;\n",
              "      fill: #1967D2;\n",
              "      height: 32px;\n",
              "      padding: 0 0 0 0;\n",
              "      width: 32px;\n",
              "    }\n",
              "\n",
              "    .colab-df-convert:hover {\n",
              "      background-color: #E2EBFA;\n",
              "      box-shadow: 0px 1px 2px rgba(60, 64, 67, 0.3), 0px 1px 3px 1px rgba(60, 64, 67, 0.15);\n",
              "      fill: #174EA6;\n",
              "    }\n",
              "\n",
              "    [theme=dark] .colab-df-convert {\n",
              "      background-color: #3B4455;\n",
              "      fill: #D2E3FC;\n",
              "    }\n",
              "\n",
              "    [theme=dark] .colab-df-convert:hover {\n",
              "      background-color: #434B5C;\n",
              "      box-shadow: 0px 1px 3px 1px rgba(0, 0, 0, 0.15);\n",
              "      filter: drop-shadow(0px 1px 2px rgba(0, 0, 0, 0.3));\n",
              "      fill: #FFFFFF;\n",
              "    }\n",
              "  </style>\n",
              "\n",
              "      <script>\n",
              "        const buttonEl =\n",
              "          document.querySelector('#df-4e1ccc49-0526-4828-806b-ec49ee8659ea button.colab-df-convert');\n",
              "        buttonEl.style.display =\n",
              "          google.colab.kernel.accessAllowed ? 'block' : 'none';\n",
              "\n",
              "        async function convertToInteractive(key) {\n",
              "          const element = document.querySelector('#df-4e1ccc49-0526-4828-806b-ec49ee8659ea');\n",
              "          const dataTable =\n",
              "            await google.colab.kernel.invokeFunction('convertToInteractive',\n",
              "                                                     [key], {});\n",
              "          if (!dataTable) return;\n",
              "\n",
              "          const docLinkHtml = 'Like what you see? Visit the ' +\n",
              "            '<a target=\"_blank\" href=https://colab.research.google.com/notebooks/data_table.ipynb>data table notebook</a>'\n",
              "            + ' to learn more about interactive tables.';\n",
              "          element.innerHTML = '';\n",
              "          dataTable['output_type'] = 'display_data';\n",
              "          await google.colab.output.renderOutput(dataTable, element);\n",
              "          const docLink = document.createElement('div');\n",
              "          docLink.innerHTML = docLinkHtml;\n",
              "          element.appendChild(docLink);\n",
              "        }\n",
              "      </script>\n",
              "    </div>\n",
              "  </div>\n",
              "  "
            ]
          },
          "metadata": {},
          "execution_count": 178
        }
      ]
    },
    {
      "cell_type": "code",
      "source": [
        "sentiment_mr['label'].value_counts()"
      ],
      "metadata": {
        "colab": {
          "base_uri": "https://localhost:8080/"
        },
        "outputId": "41dc7e9f-7356-488d-a572-8ef3faa0376d",
        "id": "oHALo37Tm-KT"
      },
      "execution_count": null,
      "outputs": [
        {
          "output_type": "execute_result",
          "data": {
            "text/plain": [
              " 1    750\n",
              "-1    750\n",
              " 0    750\n",
              "Name: label, dtype: int64"
            ]
          },
          "metadata": {},
          "execution_count": 179
        }
      ]
    },
    {
      "cell_type": "code",
      "source": [
        "unique_labels = [1, -1]\n",
        "print(unique_labels)"
      ],
      "metadata": {
        "colab": {
          "base_uri": "https://localhost:8080/"
        },
        "outputId": "21b08538-3e45-49cd-b768-eca9339771bd",
        "id": "QmaDa2GVm-KT"
      },
      "execution_count": null,
      "outputs": [
        {
          "output_type": "stream",
          "name": "stdout",
          "text": [
            "[1, -1]\n"
          ]
        }
      ]
    },
    {
      "cell_type": "code",
      "source": [
        "sentiment_mr_final = pd.DataFrame()  \n",
        "\n",
        "for label in unique_labels:\n",
        "    label_rows = sentiment_mr[sentiment_mr['label'] == label]  \n",
        "    random_rows = label_rows.sample(n=50)  \n",
        "    sentiment_mr_final = sentiment_mr_final.append(random_rows) "
      ],
      "metadata": {
        "colab": {
          "base_uri": "https://localhost:8080/"
        },
        "outputId": "7ea14aab-054a-4e56-96ab-f830c9df53aa",
        "id": "VqOn-9Rcm-KT"
      },
      "execution_count": null,
      "outputs": [
        {
          "output_type": "stream",
          "name": "stderr",
          "text": [
            "<ipython-input-181-6e0c1cb1cc2f>:6: FutureWarning: The frame.append method is deprecated and will be removed from pandas in a future version. Use pandas.concat instead.\n",
            "  sentiment_mr_final = sentiment_mr_final.append(random_rows)\n",
            "<ipython-input-181-6e0c1cb1cc2f>:6: FutureWarning: The frame.append method is deprecated and will be removed from pandas in a future version. Use pandas.concat instead.\n",
            "  sentiment_mr_final = sentiment_mr_final.append(random_rows)\n"
          ]
        }
      ]
    },
    {
      "cell_type": "code",
      "source": [
        "sentiment_mr_final = sentiment_mr_final.reset_index(drop = True)"
      ],
      "metadata": {
        "id": "lr8vLdC0m-KT"
      },
      "execution_count": null,
      "outputs": []
    },
    {
      "cell_type": "code",
      "source": [
        "sentiment_mr_final.head(3)"
      ],
      "metadata": {
        "colab": {
          "base_uri": "https://localhost:8080/",
          "height": 143
        },
        "outputId": "f2cf4c27-c7c6-47ba-9f84-b620dfec15b9",
        "id": "SPji2GH0m-KT"
      },
      "execution_count": null,
      "outputs": [
        {
          "output_type": "execute_result",
          "data": {
            "text/plain": [
              "                                               tweet  label\n",
              "0                                 मनःपूर्वक आभार !\\n      1\n",
              "1    मनोहर जोशी या कार्यक्रमाला उपस्थित होते. ते ...      1\n",
              "2    देशाचं स्वातंत्र्य, एकता, अखंडता, सार्वभौमता...      1"
            ],
            "text/html": [
              "\n",
              "  <div id=\"df-7eb1d485-ba1b-4a0f-95ed-1f6133e62056\">\n",
              "    <div class=\"colab-df-container\">\n",
              "      <div>\n",
              "<style scoped>\n",
              "    .dataframe tbody tr th:only-of-type {\n",
              "        vertical-align: middle;\n",
              "    }\n",
              "\n",
              "    .dataframe tbody tr th {\n",
              "        vertical-align: top;\n",
              "    }\n",
              "\n",
              "    .dataframe thead th {\n",
              "        text-align: right;\n",
              "    }\n",
              "</style>\n",
              "<table border=\"1\" class=\"dataframe\">\n",
              "  <thead>\n",
              "    <tr style=\"text-align: right;\">\n",
              "      <th></th>\n",
              "      <th>tweet</th>\n",
              "      <th>label</th>\n",
              "    </tr>\n",
              "  </thead>\n",
              "  <tbody>\n",
              "    <tr>\n",
              "      <th>0</th>\n",
              "      <td>मनःपूर्वक आभार !\\n</td>\n",
              "      <td>1</td>\n",
              "    </tr>\n",
              "    <tr>\n",
              "      <th>1</th>\n",
              "      <td>मनोहर जोशी या कार्यक्रमाला उपस्थित होते. ते ...</td>\n",
              "      <td>1</td>\n",
              "    </tr>\n",
              "    <tr>\n",
              "      <th>2</th>\n",
              "      <td>देशाचं स्वातंत्र्य, एकता, अखंडता, सार्वभौमता...</td>\n",
              "      <td>1</td>\n",
              "    </tr>\n",
              "  </tbody>\n",
              "</table>\n",
              "</div>\n",
              "      <button class=\"colab-df-convert\" onclick=\"convertToInteractive('df-7eb1d485-ba1b-4a0f-95ed-1f6133e62056')\"\n",
              "              title=\"Convert this dataframe to an interactive table.\"\n",
              "              style=\"display:none;\">\n",
              "        \n",
              "  <svg xmlns=\"http://www.w3.org/2000/svg\" height=\"24px\"viewBox=\"0 0 24 24\"\n",
              "       width=\"24px\">\n",
              "    <path d=\"M0 0h24v24H0V0z\" fill=\"none\"/>\n",
              "    <path d=\"M18.56 5.44l.94 2.06.94-2.06 2.06-.94-2.06-.94-.94-2.06-.94 2.06-2.06.94zm-11 1L8.5 8.5l.94-2.06 2.06-.94-2.06-.94L8.5 2.5l-.94 2.06-2.06.94zm10 10l.94 2.06.94-2.06 2.06-.94-2.06-.94-.94-2.06-.94 2.06-2.06.94z\"/><path d=\"M17.41 7.96l-1.37-1.37c-.4-.4-.92-.59-1.43-.59-.52 0-1.04.2-1.43.59L10.3 9.45l-7.72 7.72c-.78.78-.78 2.05 0 2.83L4 21.41c.39.39.9.59 1.41.59.51 0 1.02-.2 1.41-.59l7.78-7.78 2.81-2.81c.8-.78.8-2.07 0-2.86zM5.41 20L4 18.59l7.72-7.72 1.47 1.35L5.41 20z\"/>\n",
              "  </svg>\n",
              "      </button>\n",
              "      \n",
              "  <style>\n",
              "    .colab-df-container {\n",
              "      display:flex;\n",
              "      flex-wrap:wrap;\n",
              "      gap: 12px;\n",
              "    }\n",
              "\n",
              "    .colab-df-convert {\n",
              "      background-color: #E8F0FE;\n",
              "      border: none;\n",
              "      border-radius: 50%;\n",
              "      cursor: pointer;\n",
              "      display: none;\n",
              "      fill: #1967D2;\n",
              "      height: 32px;\n",
              "      padding: 0 0 0 0;\n",
              "      width: 32px;\n",
              "    }\n",
              "\n",
              "    .colab-df-convert:hover {\n",
              "      background-color: #E2EBFA;\n",
              "      box-shadow: 0px 1px 2px rgba(60, 64, 67, 0.3), 0px 1px 3px 1px rgba(60, 64, 67, 0.15);\n",
              "      fill: #174EA6;\n",
              "    }\n",
              "\n",
              "    [theme=dark] .colab-df-convert {\n",
              "      background-color: #3B4455;\n",
              "      fill: #D2E3FC;\n",
              "    }\n",
              "\n",
              "    [theme=dark] .colab-df-convert:hover {\n",
              "      background-color: #434B5C;\n",
              "      box-shadow: 0px 1px 3px 1px rgba(0, 0, 0, 0.15);\n",
              "      filter: drop-shadow(0px 1px 2px rgba(0, 0, 0, 0.3));\n",
              "      fill: #FFFFFF;\n",
              "    }\n",
              "  </style>\n",
              "\n",
              "      <script>\n",
              "        const buttonEl =\n",
              "          document.querySelector('#df-7eb1d485-ba1b-4a0f-95ed-1f6133e62056 button.colab-df-convert');\n",
              "        buttonEl.style.display =\n",
              "          google.colab.kernel.accessAllowed ? 'block' : 'none';\n",
              "\n",
              "        async function convertToInteractive(key) {\n",
              "          const element = document.querySelector('#df-7eb1d485-ba1b-4a0f-95ed-1f6133e62056');\n",
              "          const dataTable =\n",
              "            await google.colab.kernel.invokeFunction('convertToInteractive',\n",
              "                                                     [key], {});\n",
              "          if (!dataTable) return;\n",
              "\n",
              "          const docLinkHtml = 'Like what you see? Visit the ' +\n",
              "            '<a target=\"_blank\" href=https://colab.research.google.com/notebooks/data_table.ipynb>data table notebook</a>'\n",
              "            + ' to learn more about interactive tables.';\n",
              "          element.innerHTML = '';\n",
              "          dataTable['output_type'] = 'display_data';\n",
              "          await google.colab.output.renderOutput(dataTable, element);\n",
              "          const docLink = document.createElement('div');\n",
              "          docLink.innerHTML = docLinkHtml;\n",
              "          element.appendChild(docLink);\n",
              "        }\n",
              "      </script>\n",
              "    </div>\n",
              "  </div>\n",
              "  "
            ]
          },
          "metadata": {},
          "execution_count": 183
        }
      ]
    },
    {
      "cell_type": "code",
      "source": [
        "sentiment_mr_final['label'].value_counts()"
      ],
      "metadata": {
        "colab": {
          "base_uri": "https://localhost:8080/"
        },
        "outputId": "0f19fd22-8b2b-4538-d210-352bc490b875",
        "id": "BxDr_Gpim-KU"
      },
      "execution_count": null,
      "outputs": [
        {
          "output_type": "execute_result",
          "data": {
            "text/plain": [
              " 1    50\n",
              "-1    50\n",
              "Name: label, dtype: int64"
            ]
          },
          "metadata": {},
          "execution_count": 184
        }
      ]
    },
    {
      "cell_type": "code",
      "source": [
        "sentiment_mr_final = sentiment_mr_final.sample(frac=1).reset_index(drop=True)"
      ],
      "metadata": {
        "id": "PX-GvnfWo4PR"
      },
      "execution_count": null,
      "outputs": []
    },
    {
      "cell_type": "code",
      "source": [
        "sentiment_mr_final.to_csv('sentiment_mr_final.csv')"
      ],
      "metadata": {
        "id": "jINGpFD2m-KU"
      },
      "execution_count": null,
      "outputs": []
    },
    {
      "cell_type": "markdown",
      "source": [
        "### NER Marathi"
      ],
      "metadata": {
        "id": "NrPgFP0YnUqd"
      }
    },
    {
      "cell_type": "code",
      "source": [
        "words = list()\n",
        "tags = list()\n",
        "sentence_id = list()\n",
        "temp_id = 0\n",
        "sentence_id_temp = list()\n",
        "tags_temp = list()\n",
        "words_temp = list()\n",
        "\n",
        "with open('/content/test_noniob.txt', 'r', encoding='utf-8') as file:\n",
        "    for line in file:\n",
        "      line = line.strip().split('\\t')\n",
        "      if line[2] == 'sentence_id':\n",
        "        continue\n",
        "      if int(float(line[2])) != temp_id:\n",
        "        words.append(words_temp)\n",
        "        tags.append(tags_temp)\n",
        "        sentence_id.append(sentence_id_temp)\n",
        "        sentence_id_temp = list()\n",
        "        tags_temp = list()\n",
        "        words_temp = list()\n",
        "        temp_id +=1\n",
        "\n",
        "\n",
        "      words_temp.append(line[0])\n",
        "      tags_temp.append(line[1])\n",
        "      sentence_id_temp.append(int(float(line[2])))"
      ],
      "metadata": {
        "id": "CmKlY03QnRLE"
      },
      "execution_count": null,
      "outputs": []
    },
    {
      "cell_type": "code",
      "source": [
        "len(words) == len(tags) == len(sentence_id)"
      ],
      "metadata": {
        "colab": {
          "base_uri": "https://localhost:8080/"
        },
        "id": "jmsasLNyo80a",
        "outputId": "e6dc85af-5cb5-49a6-e320-a0a88e77c82b"
      },
      "execution_count": null,
      "outputs": [
        {
          "output_type": "execute_result",
          "data": {
            "text/plain": [
              "True"
            ]
          },
          "metadata": {},
          "execution_count": 9
        }
      ]
    },
    {
      "cell_type": "code",
      "source": [
        "print(len(words))\n",
        "print(len(tags))\n",
        "print(len(sentence_id))"
      ],
      "metadata": {
        "colab": {
          "base_uri": "https://localhost:8080/"
        },
        "id": "-q4PIEuU7h3u",
        "outputId": "d86de57d-e3d6-46ea-c5d7-6cdeba27dcd0"
      },
      "execution_count": null,
      "outputs": [
        {
          "output_type": "stream",
          "name": "stdout",
          "text": [
            "2001\n",
            "2001\n",
            "2001\n"
          ]
        }
      ]
    },
    {
      "cell_type": "code",
      "source": [
        "words[:5]"
      ],
      "metadata": {
        "colab": {
          "base_uri": "https://localhost:8080/"
        },
        "id": "ZwWt4UZt74Eo",
        "outputId": "350e47e1-4ad1-41cb-95dc-fb5d009ff60a"
      },
      "execution_count": null,
      "outputs": [
        {
          "output_type": "execute_result",
          "data": {
            "text/plain": [
              "[[],\n",
              " ['जैश-ए-मोहम्मद',\n",
              "  'या',\n",
              "  'दहशतवादी',\n",
              "  'संघटनेने',\n",
              "  'या',\n",
              "  'हल्ल्याची',\n",
              "  'जबाबदारी',\n",
              "  'घेतली',\n",
              "  'होती '],\n",
              " ['मुंबईत',\n",
              "  'पाहणी',\n",
              "  'करण्यासाठी',\n",
              "  'पहिल्यादांचा',\n",
              "  'ड्रोनचा',\n",
              "  'वापर',\n",
              "  'करण्यात',\n",
              "  'येणार',\n",
              "  'आहे '],\n",
              " ['सेल्फीसाठी',\n",
              "  'या',\n",
              "  'फोनमध्ये',\n",
              "  '२९',\n",
              "  'मेगापिक्सलचा',\n",
              "  'कॅमेरा',\n",
              "  'दिला',\n",
              "  'आहे '],\n",
              " ['आशियाई',\n",
              "  'देशांमध्येही',\n",
              "  'फिलिपिनी',\n",
              "  'नर्सेस',\n",
              "  'खालोखाल',\n",
              "  'भारतीय',\n",
              "  'नर्सेसना',\n",
              "  'पसंती',\n",
              "  'मिळत',\n",
              "  'आहे ']]"
            ]
          },
          "metadata": {},
          "execution_count": 11
        }
      ]
    },
    {
      "cell_type": "code",
      "source": [
        "words = words[1:]\n",
        "tags = tags[1:]\n",
        "sentence_id = sentence_id[1:]"
      ],
      "metadata": {
        "id": "yfgHPAmK8Xxz"
      },
      "execution_count": null,
      "outputs": []
    },
    {
      "cell_type": "code",
      "source": [
        "for i in range(len(words)):\n",
        "  words[i] = \" \".join(words[i])\n",
        "\n",
        "for i in range(len(tags)):\n",
        "  tags[i] = \" \".join(tags[i])"
      ],
      "metadata": {
        "id": "4se59dB_Af4P"
      },
      "execution_count": null,
      "outputs": []
    },
    {
      "cell_type": "code",
      "source": [
        "words[:5]"
      ],
      "metadata": {
        "colab": {
          "base_uri": "https://localhost:8080/"
        },
        "id": "ICttDrhpBVjc",
        "outputId": "4e1e2457-9754-4428-f792-754fa423b4bf"
      },
      "execution_count": null,
      "outputs": [
        {
          "output_type": "execute_result",
          "data": {
            "text/plain": [
              "['जैश-ए-मोहम्मद या दहशतवादी संघटनेने या हल्ल्याची जबाबदारी घेतली होती ',\n",
              " 'मुंबईत पाहणी करण्यासाठी पहिल्यादांचा ड्रोनचा वापर करण्यात येणार आहे ',\n",
              " 'सेल्फीसाठी या फोनमध्ये २९ मेगापिक्सलचा कॅमेरा दिला आहे ',\n",
              " 'आशियाई देशांमध्येही फिलिपिनी नर्सेस खालोखाल भारतीय नर्सेसना पसंती मिळत आहे ',\n",
              " 'असे असतानाही दुहेरी हत्याकांड घडले आहे ']"
            ]
          },
          "metadata": {},
          "execution_count": 16
        }
      ]
    },
    {
      "cell_type": "code",
      "source": [
        "tags[:5]"
      ],
      "metadata": {
        "colab": {
          "base_uri": "https://localhost:8080/"
        },
        "id": "0zH_1JNHB9Om",
        "outputId": "19190a7d-92a5-4ef2-da86-2321c613faa7"
      },
      "execution_count": null,
      "outputs": [
        {
          "output_type": "execute_result",
          "data": {
            "text/plain": [
              "['NEO O O O O O O O O',\n",
              " 'NEL O O O O O O O O',\n",
              " 'O O O NEM O O O O',\n",
              " 'O O O O O O O O O O',\n",
              " 'O O O O O O']"
            ]
          },
          "metadata": {},
          "execution_count": 18
        }
      ]
    },
    {
      "cell_type": "code",
      "source": [
        "df_ner = pd.DataFrame({'Words': words, 'Tags': tags})"
      ],
      "metadata": {
        "id": "uJRAKlQLCJqc"
      },
      "execution_count": null,
      "outputs": []
    },
    {
      "cell_type": "code",
      "source": [
        "df_ner.head(5)"
      ],
      "metadata": {
        "colab": {
          "base_uri": "https://localhost:8080/",
          "height": 206
        },
        "id": "TL4MNZv2DAhD",
        "outputId": "1a376043-ca7b-4cb2-b125-92fe44cb6071"
      },
      "execution_count": null,
      "outputs": [
        {
          "output_type": "execute_result",
          "data": {
            "text/plain": [
              "                                               Words                 Tags\n",
              "0  जैश-ए-मोहम्मद या दहशतवादी संघटनेने या हल्ल्याच...  NEO O O O O O O O O\n",
              "1  मुंबईत पाहणी करण्यासाठी पहिल्यादांचा ड्रोनचा व...  NEL O O O O O O O O\n",
              "2  सेल्फीसाठी या फोनमध्ये २९ मेगापिक्सलचा कॅमेरा ...    O O O NEM O O O O\n",
              "3  आशियाई देशांमध्येही फिलिपिनी नर्सेस खालोखाल भा...  O O O O O O O O O O\n",
              "4            असे असतानाही दुहेरी हत्याकांड घडले आहे           O O O O O O"
            ],
            "text/html": [
              "\n",
              "  <div id=\"df-c43afc9c-d716-4e3e-b746-52efbdc8e89b\">\n",
              "    <div class=\"colab-df-container\">\n",
              "      <div>\n",
              "<style scoped>\n",
              "    .dataframe tbody tr th:only-of-type {\n",
              "        vertical-align: middle;\n",
              "    }\n",
              "\n",
              "    .dataframe tbody tr th {\n",
              "        vertical-align: top;\n",
              "    }\n",
              "\n",
              "    .dataframe thead th {\n",
              "        text-align: right;\n",
              "    }\n",
              "</style>\n",
              "<table border=\"1\" class=\"dataframe\">\n",
              "  <thead>\n",
              "    <tr style=\"text-align: right;\">\n",
              "      <th></th>\n",
              "      <th>Words</th>\n",
              "      <th>Tags</th>\n",
              "    </tr>\n",
              "  </thead>\n",
              "  <tbody>\n",
              "    <tr>\n",
              "      <th>0</th>\n",
              "      <td>जैश-ए-मोहम्मद या दहशतवादी संघटनेने या हल्ल्याच...</td>\n",
              "      <td>NEO O O O O O O O O</td>\n",
              "    </tr>\n",
              "    <tr>\n",
              "      <th>1</th>\n",
              "      <td>मुंबईत पाहणी करण्यासाठी पहिल्यादांचा ड्रोनचा व...</td>\n",
              "      <td>NEL O O O O O O O O</td>\n",
              "    </tr>\n",
              "    <tr>\n",
              "      <th>2</th>\n",
              "      <td>सेल्फीसाठी या फोनमध्ये २९ मेगापिक्सलचा कॅमेरा ...</td>\n",
              "      <td>O O O NEM O O O O</td>\n",
              "    </tr>\n",
              "    <tr>\n",
              "      <th>3</th>\n",
              "      <td>आशियाई देशांमध्येही फिलिपिनी नर्सेस खालोखाल भा...</td>\n",
              "      <td>O O O O O O O O O O</td>\n",
              "    </tr>\n",
              "    <tr>\n",
              "      <th>4</th>\n",
              "      <td>असे असतानाही दुहेरी हत्याकांड घडले आहे</td>\n",
              "      <td>O O O O O O</td>\n",
              "    </tr>\n",
              "  </tbody>\n",
              "</table>\n",
              "</div>\n",
              "      <button class=\"colab-df-convert\" onclick=\"convertToInteractive('df-c43afc9c-d716-4e3e-b746-52efbdc8e89b')\"\n",
              "              title=\"Convert this dataframe to an interactive table.\"\n",
              "              style=\"display:none;\">\n",
              "        \n",
              "  <svg xmlns=\"http://www.w3.org/2000/svg\" height=\"24px\"viewBox=\"0 0 24 24\"\n",
              "       width=\"24px\">\n",
              "    <path d=\"M0 0h24v24H0V0z\" fill=\"none\"/>\n",
              "    <path d=\"M18.56 5.44l.94 2.06.94-2.06 2.06-.94-2.06-.94-.94-2.06-.94 2.06-2.06.94zm-11 1L8.5 8.5l.94-2.06 2.06-.94-2.06-.94L8.5 2.5l-.94 2.06-2.06.94zm10 10l.94 2.06.94-2.06 2.06-.94-2.06-.94-.94-2.06-.94 2.06-2.06.94z\"/><path d=\"M17.41 7.96l-1.37-1.37c-.4-.4-.92-.59-1.43-.59-.52 0-1.04.2-1.43.59L10.3 9.45l-7.72 7.72c-.78.78-.78 2.05 0 2.83L4 21.41c.39.39.9.59 1.41.59.51 0 1.02-.2 1.41-.59l7.78-7.78 2.81-2.81c.8-.78.8-2.07 0-2.86zM5.41 20L4 18.59l7.72-7.72 1.47 1.35L5.41 20z\"/>\n",
              "  </svg>\n",
              "      </button>\n",
              "      \n",
              "  <style>\n",
              "    .colab-df-container {\n",
              "      display:flex;\n",
              "      flex-wrap:wrap;\n",
              "      gap: 12px;\n",
              "    }\n",
              "\n",
              "    .colab-df-convert {\n",
              "      background-color: #E8F0FE;\n",
              "      border: none;\n",
              "      border-radius: 50%;\n",
              "      cursor: pointer;\n",
              "      display: none;\n",
              "      fill: #1967D2;\n",
              "      height: 32px;\n",
              "      padding: 0 0 0 0;\n",
              "      width: 32px;\n",
              "    }\n",
              "\n",
              "    .colab-df-convert:hover {\n",
              "      background-color: #E2EBFA;\n",
              "      box-shadow: 0px 1px 2px rgba(60, 64, 67, 0.3), 0px 1px 3px 1px rgba(60, 64, 67, 0.15);\n",
              "      fill: #174EA6;\n",
              "    }\n",
              "\n",
              "    [theme=dark] .colab-df-convert {\n",
              "      background-color: #3B4455;\n",
              "      fill: #D2E3FC;\n",
              "    }\n",
              "\n",
              "    [theme=dark] .colab-df-convert:hover {\n",
              "      background-color: #434B5C;\n",
              "      box-shadow: 0px 1px 3px 1px rgba(0, 0, 0, 0.15);\n",
              "      filter: drop-shadow(0px 1px 2px rgba(0, 0, 0, 0.3));\n",
              "      fill: #FFFFFF;\n",
              "    }\n",
              "  </style>\n",
              "\n",
              "      <script>\n",
              "        const buttonEl =\n",
              "          document.querySelector('#df-c43afc9c-d716-4e3e-b746-52efbdc8e89b button.colab-df-convert');\n",
              "        buttonEl.style.display =\n",
              "          google.colab.kernel.accessAllowed ? 'block' : 'none';\n",
              "\n",
              "        async function convertToInteractive(key) {\n",
              "          const element = document.querySelector('#df-c43afc9c-d716-4e3e-b746-52efbdc8e89b');\n",
              "          const dataTable =\n",
              "            await google.colab.kernel.invokeFunction('convertToInteractive',\n",
              "                                                     [key], {});\n",
              "          if (!dataTable) return;\n",
              "\n",
              "          const docLinkHtml = 'Like what you see? Visit the ' +\n",
              "            '<a target=\"_blank\" href=https://colab.research.google.com/notebooks/data_table.ipynb>data table notebook</a>'\n",
              "            + ' to learn more about interactive tables.';\n",
              "          element.innerHTML = '';\n",
              "          dataTable['output_type'] = 'display_data';\n",
              "          await google.colab.output.renderOutput(dataTable, element);\n",
              "          const docLink = document.createElement('div');\n",
              "          docLink.innerHTML = docLinkHtml;\n",
              "          element.appendChild(docLink);\n",
              "        }\n",
              "      </script>\n",
              "    </div>\n",
              "  </div>\n",
              "  "
            ]
          },
          "metadata": {},
          "execution_count": 44
        }
      ]
    },
    {
      "cell_type": "code",
      "source": [
        "df_ner = df_ner.sample(n=100) \n",
        "df_ner = df_ner.reset_index(drop = True)"
      ],
      "metadata": {
        "id": "VbzkwUGFDDNQ"
      },
      "execution_count": null,
      "outputs": []
    },
    {
      "cell_type": "code",
      "source": [
        "df_ner"
      ],
      "metadata": {
        "colab": {
          "base_uri": "https://localhost:8080/",
          "height": 424
        },
        "id": "vSg193EgDPID",
        "outputId": "ae24614c-7f16-4fc1-8d49-5112c29eedce"
      },
      "execution_count": null,
      "outputs": [
        {
          "output_type": "execute_result",
          "data": {
            "text/plain": [
              "                                                Words                     Tags\n",
              "0   यावेळी प्रत्येकानेच सोशल मीडियावर त्यांच्या बा...        O O O O O O O O O\n",
              "1   लोन मोरेटोरिम बाबत दास यांनी पत्रकार परिषदेत क...    O O O NEP O O O O O O\n",
              "2   काही दिवसांपूर्वी हसीला काही जणांनी धमकी दिली ...        O O NEP O O O O O\n",
              "3          धोनीचा लुक कायम सोशल मीडियावर चर्चेत असतो           NEP O O O O O O\n",
              "4   अनेकांना मिळाले इलेक्शन गिफ्ट निवडणुकीच्या काळ...  O O O O O O O O O O O O\n",
              "..                                                ...                      ...\n",
              "95  चित्रदुर्ग जिल्ह्यातील हिरियूरजवळच ही दुर्घटना...          NEL O NEL O O O\n",
              "96  हे देखील वाचानोकरदारांसाठी आनंदाची बातमी एका व...      O O O O O NEM O O O\n",
              "97     प्रत्येक दुकानदारास त्याची सीमा निर्धारित आहे               O O O O O O\n",
              "98                  तर राज्यातील करोना मृत्यूचा दर ३             O O O O O NEM\n",
              "99            असे असतानाही दुहेरी हत्याकांड घडले आहे               O O O O O O\n",
              "\n",
              "[100 rows x 2 columns]"
            ],
            "text/html": [
              "\n",
              "  <div id=\"df-338f92ef-2baf-4e2e-8ebe-21cec6e6fb4a\">\n",
              "    <div class=\"colab-df-container\">\n",
              "      <div>\n",
              "<style scoped>\n",
              "    .dataframe tbody tr th:only-of-type {\n",
              "        vertical-align: middle;\n",
              "    }\n",
              "\n",
              "    .dataframe tbody tr th {\n",
              "        vertical-align: top;\n",
              "    }\n",
              "\n",
              "    .dataframe thead th {\n",
              "        text-align: right;\n",
              "    }\n",
              "</style>\n",
              "<table border=\"1\" class=\"dataframe\">\n",
              "  <thead>\n",
              "    <tr style=\"text-align: right;\">\n",
              "      <th></th>\n",
              "      <th>Words</th>\n",
              "      <th>Tags</th>\n",
              "    </tr>\n",
              "  </thead>\n",
              "  <tbody>\n",
              "    <tr>\n",
              "      <th>0</th>\n",
              "      <td>यावेळी प्रत्येकानेच सोशल मीडियावर त्यांच्या बा...</td>\n",
              "      <td>O O O O O O O O O</td>\n",
              "    </tr>\n",
              "    <tr>\n",
              "      <th>1</th>\n",
              "      <td>लोन मोरेटोरिम बाबत दास यांनी पत्रकार परिषदेत क...</td>\n",
              "      <td>O O O NEP O O O O O O</td>\n",
              "    </tr>\n",
              "    <tr>\n",
              "      <th>2</th>\n",
              "      <td>काही दिवसांपूर्वी हसीला काही जणांनी धमकी दिली ...</td>\n",
              "      <td>O O NEP O O O O O</td>\n",
              "    </tr>\n",
              "    <tr>\n",
              "      <th>3</th>\n",
              "      <td>धोनीचा लुक कायम सोशल मीडियावर चर्चेत असतो</td>\n",
              "      <td>NEP O O O O O O</td>\n",
              "    </tr>\n",
              "    <tr>\n",
              "      <th>4</th>\n",
              "      <td>अनेकांना मिळाले इलेक्शन गिफ्ट निवडणुकीच्या काळ...</td>\n",
              "      <td>O O O O O O O O O O O O</td>\n",
              "    </tr>\n",
              "    <tr>\n",
              "      <th>...</th>\n",
              "      <td>...</td>\n",
              "      <td>...</td>\n",
              "    </tr>\n",
              "    <tr>\n",
              "      <th>95</th>\n",
              "      <td>चित्रदुर्ग जिल्ह्यातील हिरियूरजवळच ही दुर्घटना...</td>\n",
              "      <td>NEL O NEL O O O</td>\n",
              "    </tr>\n",
              "    <tr>\n",
              "      <th>96</th>\n",
              "      <td>हे देखील वाचानोकरदारांसाठी आनंदाची बातमी एका व...</td>\n",
              "      <td>O O O O O NEM O O O</td>\n",
              "    </tr>\n",
              "    <tr>\n",
              "      <th>97</th>\n",
              "      <td>प्रत्येक दुकानदारास त्याची सीमा निर्धारित आहे</td>\n",
              "      <td>O O O O O O</td>\n",
              "    </tr>\n",
              "    <tr>\n",
              "      <th>98</th>\n",
              "      <td>तर राज्यातील करोना मृत्यूचा दर ३</td>\n",
              "      <td>O O O O O NEM</td>\n",
              "    </tr>\n",
              "    <tr>\n",
              "      <th>99</th>\n",
              "      <td>असे असतानाही दुहेरी हत्याकांड घडले आहे</td>\n",
              "      <td>O O O O O O</td>\n",
              "    </tr>\n",
              "  </tbody>\n",
              "</table>\n",
              "<p>100 rows × 2 columns</p>\n",
              "</div>\n",
              "      <button class=\"colab-df-convert\" onclick=\"convertToInteractive('df-338f92ef-2baf-4e2e-8ebe-21cec6e6fb4a')\"\n",
              "              title=\"Convert this dataframe to an interactive table.\"\n",
              "              style=\"display:none;\">\n",
              "        \n",
              "  <svg xmlns=\"http://www.w3.org/2000/svg\" height=\"24px\"viewBox=\"0 0 24 24\"\n",
              "       width=\"24px\">\n",
              "    <path d=\"M0 0h24v24H0V0z\" fill=\"none\"/>\n",
              "    <path d=\"M18.56 5.44l.94 2.06.94-2.06 2.06-.94-2.06-.94-.94-2.06-.94 2.06-2.06.94zm-11 1L8.5 8.5l.94-2.06 2.06-.94-2.06-.94L8.5 2.5l-.94 2.06-2.06.94zm10 10l.94 2.06.94-2.06 2.06-.94-2.06-.94-.94-2.06-.94 2.06-2.06.94z\"/><path d=\"M17.41 7.96l-1.37-1.37c-.4-.4-.92-.59-1.43-.59-.52 0-1.04.2-1.43.59L10.3 9.45l-7.72 7.72c-.78.78-.78 2.05 0 2.83L4 21.41c.39.39.9.59 1.41.59.51 0 1.02-.2 1.41-.59l7.78-7.78 2.81-2.81c.8-.78.8-2.07 0-2.86zM5.41 20L4 18.59l7.72-7.72 1.47 1.35L5.41 20z\"/>\n",
              "  </svg>\n",
              "      </button>\n",
              "      \n",
              "  <style>\n",
              "    .colab-df-container {\n",
              "      display:flex;\n",
              "      flex-wrap:wrap;\n",
              "      gap: 12px;\n",
              "    }\n",
              "\n",
              "    .colab-df-convert {\n",
              "      background-color: #E8F0FE;\n",
              "      border: none;\n",
              "      border-radius: 50%;\n",
              "      cursor: pointer;\n",
              "      display: none;\n",
              "      fill: #1967D2;\n",
              "      height: 32px;\n",
              "      padding: 0 0 0 0;\n",
              "      width: 32px;\n",
              "    }\n",
              "\n",
              "    .colab-df-convert:hover {\n",
              "      background-color: #E2EBFA;\n",
              "      box-shadow: 0px 1px 2px rgba(60, 64, 67, 0.3), 0px 1px 3px 1px rgba(60, 64, 67, 0.15);\n",
              "      fill: #174EA6;\n",
              "    }\n",
              "\n",
              "    [theme=dark] .colab-df-convert {\n",
              "      background-color: #3B4455;\n",
              "      fill: #D2E3FC;\n",
              "    }\n",
              "\n",
              "    [theme=dark] .colab-df-convert:hover {\n",
              "      background-color: #434B5C;\n",
              "      box-shadow: 0px 1px 3px 1px rgba(0, 0, 0, 0.15);\n",
              "      filter: drop-shadow(0px 1px 2px rgba(0, 0, 0, 0.3));\n",
              "      fill: #FFFFFF;\n",
              "    }\n",
              "  </style>\n",
              "\n",
              "      <script>\n",
              "        const buttonEl =\n",
              "          document.querySelector('#df-338f92ef-2baf-4e2e-8ebe-21cec6e6fb4a button.colab-df-convert');\n",
              "        buttonEl.style.display =\n",
              "          google.colab.kernel.accessAllowed ? 'block' : 'none';\n",
              "\n",
              "        async function convertToInteractive(key) {\n",
              "          const element = document.querySelector('#df-338f92ef-2baf-4e2e-8ebe-21cec6e6fb4a');\n",
              "          const dataTable =\n",
              "            await google.colab.kernel.invokeFunction('convertToInteractive',\n",
              "                                                     [key], {});\n",
              "          if (!dataTable) return;\n",
              "\n",
              "          const docLinkHtml = 'Like what you see? Visit the ' +\n",
              "            '<a target=\"_blank\" href=https://colab.research.google.com/notebooks/data_table.ipynb>data table notebook</a>'\n",
              "            + ' to learn more about interactive tables.';\n",
              "          element.innerHTML = '';\n",
              "          dataTable['output_type'] = 'display_data';\n",
              "          await google.colab.output.renderOutput(dataTable, element);\n",
              "          const docLink = document.createElement('div');\n",
              "          docLink.innerHTML = docLinkHtml;\n",
              "          element.appendChild(docLink);\n",
              "        }\n",
              "      </script>\n",
              "    </div>\n",
              "  </div>\n",
              "  "
            ]
          },
          "metadata": {},
          "execution_count": 46
        }
      ]
    },
    {
      "cell_type": "code",
      "source": [
        "df_ner.to_csv('ner_mr_final.csv', index=False)"
      ],
      "metadata": {
        "id": "HDrkntoODTPj"
      },
      "execution_count": null,
      "outputs": []
    },
    {
      "cell_type": "markdown",
      "source": [
        "### Hate Detection Spanish"
      ],
      "metadata": {
        "id": "3rNWpNkXD4Ph"
      }
    },
    {
      "cell_type": "code",
      "source": [
        "text_list = list()\n",
        "label_list = list()\n",
        "\n",
        "with open(\"/content/Hate labeled_corpus_6K.txt\", \"r\") as file:\n",
        "    for line in file:\n",
        "      split_text = line.split(\"||;\")\n",
        "      if len(split_text) == 3:\n",
        "        text = split_text[1]\n",
        "        label = split_text[2]\n",
        "    \n",
        "      text_list.append(text)\n",
        "      label_list.append(label)\n",
        "\n",
        "label_list = [s.strip() for s in label_list]\n",
        "label_list = [int(s) for s in label_list]"
      ],
      "metadata": {
        "id": "mXAJ8A1ZEzCM"
      },
      "execution_count": null,
      "outputs": []
    },
    {
      "cell_type": "code",
      "source": [
        "df_hat_es = pd.DataFrame({'Text': text_list, 'Tags': label_list})"
      ],
      "metadata": {
        "id": "JLyQgaXPeh_b"
      },
      "execution_count": null,
      "outputs": []
    },
    {
      "cell_type": "code",
      "source": [
        "df_hat_es"
      ],
      "metadata": {
        "colab": {
          "base_uri": "https://localhost:8080/",
          "height": 424
        },
        "id": "fHdKOG2cenOU",
        "outputId": "181a0fa7-1fef-464d-d342-3be0756e0488"
      },
      "execution_count": null,
      "outputs": [
        {
          "output_type": "execute_result",
          "data": {
            "text/plain": [
              "                                                   Text  Tags\n",
              "0     Ismael es egocentrico porque se vuelve loca si...     0\n",
              "1     ..ya tardaba en salir quien pronunciase nombre...     0\n",
              "2     (Esto no es un discurso político y razonado, o...     0\n",
              "3     Muy despreciados,siiii,pero todos vestidos de ...     1\n",
              "4     marica explicame porque a veces no te entiendo...     1\n",
              "...                                                 ...   ...\n",
              "5995  Sea independentista o constitucionalista, la d...     0\n",
              "5996  @Bernithedude Llave de gobierno de qué si hay ...     0\n",
              "5997  @13Pardis @guenhwyvarblack Los carlinos son un...     0\n",
              "5998  Aplausos en el partido de Colau cuando anuncia...     0\n",
              "5999  @Rafa_Hernando La Constitución es independenti...     0\n",
              "\n",
              "[6000 rows x 2 columns]"
            ],
            "text/html": [
              "\n",
              "  <div id=\"df-74bf96cd-e6d1-43b8-a209-21fd69a2de50\">\n",
              "    <div class=\"colab-df-container\">\n",
              "      <div>\n",
              "<style scoped>\n",
              "    .dataframe tbody tr th:only-of-type {\n",
              "        vertical-align: middle;\n",
              "    }\n",
              "\n",
              "    .dataframe tbody tr th {\n",
              "        vertical-align: top;\n",
              "    }\n",
              "\n",
              "    .dataframe thead th {\n",
              "        text-align: right;\n",
              "    }\n",
              "</style>\n",
              "<table border=\"1\" class=\"dataframe\">\n",
              "  <thead>\n",
              "    <tr style=\"text-align: right;\">\n",
              "      <th></th>\n",
              "      <th>Text</th>\n",
              "      <th>Tags</th>\n",
              "    </tr>\n",
              "  </thead>\n",
              "  <tbody>\n",
              "    <tr>\n",
              "      <th>0</th>\n",
              "      <td>Ismael es egocentrico porque se vuelve loca si...</td>\n",
              "      <td>0</td>\n",
              "    </tr>\n",
              "    <tr>\n",
              "      <th>1</th>\n",
              "      <td>..ya tardaba en salir quien pronunciase nombre...</td>\n",
              "      <td>0</td>\n",
              "    </tr>\n",
              "    <tr>\n",
              "      <th>2</th>\n",
              "      <td>(Esto no es un discurso político y razonado, o...</td>\n",
              "      <td>0</td>\n",
              "    </tr>\n",
              "    <tr>\n",
              "      <th>3</th>\n",
              "      <td>Muy despreciados,siiii,pero todos vestidos de ...</td>\n",
              "      <td>1</td>\n",
              "    </tr>\n",
              "    <tr>\n",
              "      <th>4</th>\n",
              "      <td>marica explicame porque a veces no te entiendo...</td>\n",
              "      <td>1</td>\n",
              "    </tr>\n",
              "    <tr>\n",
              "      <th>...</th>\n",
              "      <td>...</td>\n",
              "      <td>...</td>\n",
              "    </tr>\n",
              "    <tr>\n",
              "      <th>5995</th>\n",
              "      <td>Sea independentista o constitucionalista, la d...</td>\n",
              "      <td>0</td>\n",
              "    </tr>\n",
              "    <tr>\n",
              "      <th>5996</th>\n",
              "      <td>@Bernithedude Llave de gobierno de qué si hay ...</td>\n",
              "      <td>0</td>\n",
              "    </tr>\n",
              "    <tr>\n",
              "      <th>5997</th>\n",
              "      <td>@13Pardis @guenhwyvarblack Los carlinos son un...</td>\n",
              "      <td>0</td>\n",
              "    </tr>\n",
              "    <tr>\n",
              "      <th>5998</th>\n",
              "      <td>Aplausos en el partido de Colau cuando anuncia...</td>\n",
              "      <td>0</td>\n",
              "    </tr>\n",
              "    <tr>\n",
              "      <th>5999</th>\n",
              "      <td>@Rafa_Hernando La Constitución es independenti...</td>\n",
              "      <td>0</td>\n",
              "    </tr>\n",
              "  </tbody>\n",
              "</table>\n",
              "<p>6000 rows × 2 columns</p>\n",
              "</div>\n",
              "      <button class=\"colab-df-convert\" onclick=\"convertToInteractive('df-74bf96cd-e6d1-43b8-a209-21fd69a2de50')\"\n",
              "              title=\"Convert this dataframe to an interactive table.\"\n",
              "              style=\"display:none;\">\n",
              "        \n",
              "  <svg xmlns=\"http://www.w3.org/2000/svg\" height=\"24px\"viewBox=\"0 0 24 24\"\n",
              "       width=\"24px\">\n",
              "    <path d=\"M0 0h24v24H0V0z\" fill=\"none\"/>\n",
              "    <path d=\"M18.56 5.44l.94 2.06.94-2.06 2.06-.94-2.06-.94-.94-2.06-.94 2.06-2.06.94zm-11 1L8.5 8.5l.94-2.06 2.06-.94-2.06-.94L8.5 2.5l-.94 2.06-2.06.94zm10 10l.94 2.06.94-2.06 2.06-.94-2.06-.94-.94-2.06-.94 2.06-2.06.94z\"/><path d=\"M17.41 7.96l-1.37-1.37c-.4-.4-.92-.59-1.43-.59-.52 0-1.04.2-1.43.59L10.3 9.45l-7.72 7.72c-.78.78-.78 2.05 0 2.83L4 21.41c.39.39.9.59 1.41.59.51 0 1.02-.2 1.41-.59l7.78-7.78 2.81-2.81c.8-.78.8-2.07 0-2.86zM5.41 20L4 18.59l7.72-7.72 1.47 1.35L5.41 20z\"/>\n",
              "  </svg>\n",
              "      </button>\n",
              "      \n",
              "  <style>\n",
              "    .colab-df-container {\n",
              "      display:flex;\n",
              "      flex-wrap:wrap;\n",
              "      gap: 12px;\n",
              "    }\n",
              "\n",
              "    .colab-df-convert {\n",
              "      background-color: #E8F0FE;\n",
              "      border: none;\n",
              "      border-radius: 50%;\n",
              "      cursor: pointer;\n",
              "      display: none;\n",
              "      fill: #1967D2;\n",
              "      height: 32px;\n",
              "      padding: 0 0 0 0;\n",
              "      width: 32px;\n",
              "    }\n",
              "\n",
              "    .colab-df-convert:hover {\n",
              "      background-color: #E2EBFA;\n",
              "      box-shadow: 0px 1px 2px rgba(60, 64, 67, 0.3), 0px 1px 3px 1px rgba(60, 64, 67, 0.15);\n",
              "      fill: #174EA6;\n",
              "    }\n",
              "\n",
              "    [theme=dark] .colab-df-convert {\n",
              "      background-color: #3B4455;\n",
              "      fill: #D2E3FC;\n",
              "    }\n",
              "\n",
              "    [theme=dark] .colab-df-convert:hover {\n",
              "      background-color: #434B5C;\n",
              "      box-shadow: 0px 1px 3px 1px rgba(0, 0, 0, 0.15);\n",
              "      filter: drop-shadow(0px 1px 2px rgba(0, 0, 0, 0.3));\n",
              "      fill: #FFFFFF;\n",
              "    }\n",
              "  </style>\n",
              "\n",
              "      <script>\n",
              "        const buttonEl =\n",
              "          document.querySelector('#df-74bf96cd-e6d1-43b8-a209-21fd69a2de50 button.colab-df-convert');\n",
              "        buttonEl.style.display =\n",
              "          google.colab.kernel.accessAllowed ? 'block' : 'none';\n",
              "\n",
              "        async function convertToInteractive(key) {\n",
              "          const element = document.querySelector('#df-74bf96cd-e6d1-43b8-a209-21fd69a2de50');\n",
              "          const dataTable =\n",
              "            await google.colab.kernel.invokeFunction('convertToInteractive',\n",
              "                                                     [key], {});\n",
              "          if (!dataTable) return;\n",
              "\n",
              "          const docLinkHtml = 'Like what you see? Visit the ' +\n",
              "            '<a target=\"_blank\" href=https://colab.research.google.com/notebooks/data_table.ipynb>data table notebook</a>'\n",
              "            + ' to learn more about interactive tables.';\n",
              "          element.innerHTML = '';\n",
              "          dataTable['output_type'] = 'display_data';\n",
              "          await google.colab.output.renderOutput(dataTable, element);\n",
              "          const docLink = document.createElement('div');\n",
              "          docLink.innerHTML = docLinkHtml;\n",
              "          element.appendChild(docLink);\n",
              "        }\n",
              "      </script>\n",
              "    </div>\n",
              "  </div>\n",
              "  "
            ]
          },
          "metadata": {},
          "execution_count": 189
        }
      ]
    },
    {
      "cell_type": "code",
      "source": [
        "unique_labels = df_hat_es['Tags'].unique()\n",
        "print(unique_labels)"
      ],
      "metadata": {
        "colab": {
          "base_uri": "https://localhost:8080/"
        },
        "id": "t0pRX3vgeq31",
        "outputId": "ca4c65bd-4fa3-45b3-cf49-1bc87efb9adc"
      },
      "execution_count": null,
      "outputs": [
        {
          "output_type": "stream",
          "name": "stdout",
          "text": [
            "[0 1]\n"
          ]
        }
      ]
    },
    {
      "cell_type": "code",
      "source": [
        "df_hat_es_final = pd.DataFrame()  \n",
        "\n",
        "for label in unique_labels:\n",
        "    label_rows = df_hat_es[df_hat_es['Tags'] == label]  \n",
        "    random_rows = label_rows.sample(n=50)  \n",
        "    df_hat_es_final = df_hat_es_final.append(random_rows) "
      ],
      "metadata": {
        "colab": {
          "base_uri": "https://localhost:8080/"
        },
        "id": "nwv6X2tWewQ4",
        "outputId": "1162cf51-da67-473e-dfcd-62f753cf2dcf"
      },
      "execution_count": null,
      "outputs": [
        {
          "output_type": "stream",
          "name": "stderr",
          "text": [
            "<ipython-input-191-1950b9bb14d7>:6: FutureWarning: The frame.append method is deprecated and will be removed from pandas in a future version. Use pandas.concat instead.\n",
            "  df_hat_es_final = df_hat_es_final.append(random_rows)\n",
            "<ipython-input-191-1950b9bb14d7>:6: FutureWarning: The frame.append method is deprecated and will be removed from pandas in a future version. Use pandas.concat instead.\n",
            "  df_hat_es_final = df_hat_es_final.append(random_rows)\n"
          ]
        }
      ]
    },
    {
      "cell_type": "code",
      "source": [
        "df_hat_es_final = df_hat_es_final.reset_index(drop = True)"
      ],
      "metadata": {
        "id": "bMCCzHnVe4wL"
      },
      "execution_count": null,
      "outputs": []
    },
    {
      "cell_type": "code",
      "source": [
        "df_hat_es_final"
      ],
      "metadata": {
        "colab": {
          "base_uri": "https://localhost:8080/",
          "height": 424
        },
        "id": "PpcGHxm2fAEt",
        "outputId": "dd5b3577-753f-4db8-f912-f4d1c921bdc6"
      },
      "execution_count": null,
      "outputs": [
        {
          "output_type": "execute_result",
          "data": {
            "text/plain": [
              "                                                 Text  Tags\n",
              "0   Y mientras tanto, en Venezuela, continúa la VE...     0\n",
              "1   En escaños gana el independentismo, pero en nú...     0\n",
              "2    Es que la peña es subnormal, publicidad gratis.;     0\n",
              "3   Metiendo bulla: La señora independentista maqu...     0\n",
              "4   @jcamposasensi Coincido, Jorge. Ambos son resp...     0\n",
              "..                                                ...   ...\n",
              "95  Dicho esto entiendo que linchen a Antonio Maes...     1\n",
              "96  @ymouled Cembrero es un gilipollas, racista y ...     1\n",
              "97  No haber votado a un tarado que salía en todos...     1\n",
              "98  Si fuera independentista no votaría jamás a la...     1\n",
              "99  Será puerta abierta , inútiles fascistas embus...     1\n",
              "\n",
              "[100 rows x 2 columns]"
            ],
            "text/html": [
              "\n",
              "  <div id=\"df-50c4591c-4c33-40ef-ac01-f780e8da78f8\">\n",
              "    <div class=\"colab-df-container\">\n",
              "      <div>\n",
              "<style scoped>\n",
              "    .dataframe tbody tr th:only-of-type {\n",
              "        vertical-align: middle;\n",
              "    }\n",
              "\n",
              "    .dataframe tbody tr th {\n",
              "        vertical-align: top;\n",
              "    }\n",
              "\n",
              "    .dataframe thead th {\n",
              "        text-align: right;\n",
              "    }\n",
              "</style>\n",
              "<table border=\"1\" class=\"dataframe\">\n",
              "  <thead>\n",
              "    <tr style=\"text-align: right;\">\n",
              "      <th></th>\n",
              "      <th>Text</th>\n",
              "      <th>Tags</th>\n",
              "    </tr>\n",
              "  </thead>\n",
              "  <tbody>\n",
              "    <tr>\n",
              "      <th>0</th>\n",
              "      <td>Y mientras tanto, en Venezuela, continúa la VE...</td>\n",
              "      <td>0</td>\n",
              "    </tr>\n",
              "    <tr>\n",
              "      <th>1</th>\n",
              "      <td>En escaños gana el independentismo, pero en nú...</td>\n",
              "      <td>0</td>\n",
              "    </tr>\n",
              "    <tr>\n",
              "      <th>2</th>\n",
              "      <td>Es que la peña es subnormal, publicidad gratis.;</td>\n",
              "      <td>0</td>\n",
              "    </tr>\n",
              "    <tr>\n",
              "      <th>3</th>\n",
              "      <td>Metiendo bulla: La señora independentista maqu...</td>\n",
              "      <td>0</td>\n",
              "    </tr>\n",
              "    <tr>\n",
              "      <th>4</th>\n",
              "      <td>@jcamposasensi Coincido, Jorge. Ambos son resp...</td>\n",
              "      <td>0</td>\n",
              "    </tr>\n",
              "    <tr>\n",
              "      <th>...</th>\n",
              "      <td>...</td>\n",
              "      <td>...</td>\n",
              "    </tr>\n",
              "    <tr>\n",
              "      <th>95</th>\n",
              "      <td>Dicho esto entiendo que linchen a Antonio Maes...</td>\n",
              "      <td>1</td>\n",
              "    </tr>\n",
              "    <tr>\n",
              "      <th>96</th>\n",
              "      <td>@ymouled Cembrero es un gilipollas, racista y ...</td>\n",
              "      <td>1</td>\n",
              "    </tr>\n",
              "    <tr>\n",
              "      <th>97</th>\n",
              "      <td>No haber votado a un tarado que salía en todos...</td>\n",
              "      <td>1</td>\n",
              "    </tr>\n",
              "    <tr>\n",
              "      <th>98</th>\n",
              "      <td>Si fuera independentista no votaría jamás a la...</td>\n",
              "      <td>1</td>\n",
              "    </tr>\n",
              "    <tr>\n",
              "      <th>99</th>\n",
              "      <td>Será puerta abierta , inútiles fascistas embus...</td>\n",
              "      <td>1</td>\n",
              "    </tr>\n",
              "  </tbody>\n",
              "</table>\n",
              "<p>100 rows × 2 columns</p>\n",
              "</div>\n",
              "      <button class=\"colab-df-convert\" onclick=\"convertToInteractive('df-50c4591c-4c33-40ef-ac01-f780e8da78f8')\"\n",
              "              title=\"Convert this dataframe to an interactive table.\"\n",
              "              style=\"display:none;\">\n",
              "        \n",
              "  <svg xmlns=\"http://www.w3.org/2000/svg\" height=\"24px\"viewBox=\"0 0 24 24\"\n",
              "       width=\"24px\">\n",
              "    <path d=\"M0 0h24v24H0V0z\" fill=\"none\"/>\n",
              "    <path d=\"M18.56 5.44l.94 2.06.94-2.06 2.06-.94-2.06-.94-.94-2.06-.94 2.06-2.06.94zm-11 1L8.5 8.5l.94-2.06 2.06-.94-2.06-.94L8.5 2.5l-.94 2.06-2.06.94zm10 10l.94 2.06.94-2.06 2.06-.94-2.06-.94-.94-2.06-.94 2.06-2.06.94z\"/><path d=\"M17.41 7.96l-1.37-1.37c-.4-.4-.92-.59-1.43-.59-.52 0-1.04.2-1.43.59L10.3 9.45l-7.72 7.72c-.78.78-.78 2.05 0 2.83L4 21.41c.39.39.9.59 1.41.59.51 0 1.02-.2 1.41-.59l7.78-7.78 2.81-2.81c.8-.78.8-2.07 0-2.86zM5.41 20L4 18.59l7.72-7.72 1.47 1.35L5.41 20z\"/>\n",
              "  </svg>\n",
              "      </button>\n",
              "      \n",
              "  <style>\n",
              "    .colab-df-container {\n",
              "      display:flex;\n",
              "      flex-wrap:wrap;\n",
              "      gap: 12px;\n",
              "    }\n",
              "\n",
              "    .colab-df-convert {\n",
              "      background-color: #E8F0FE;\n",
              "      border: none;\n",
              "      border-radius: 50%;\n",
              "      cursor: pointer;\n",
              "      display: none;\n",
              "      fill: #1967D2;\n",
              "      height: 32px;\n",
              "      padding: 0 0 0 0;\n",
              "      width: 32px;\n",
              "    }\n",
              "\n",
              "    .colab-df-convert:hover {\n",
              "      background-color: #E2EBFA;\n",
              "      box-shadow: 0px 1px 2px rgba(60, 64, 67, 0.3), 0px 1px 3px 1px rgba(60, 64, 67, 0.15);\n",
              "      fill: #174EA6;\n",
              "    }\n",
              "\n",
              "    [theme=dark] .colab-df-convert {\n",
              "      background-color: #3B4455;\n",
              "      fill: #D2E3FC;\n",
              "    }\n",
              "\n",
              "    [theme=dark] .colab-df-convert:hover {\n",
              "      background-color: #434B5C;\n",
              "      box-shadow: 0px 1px 3px 1px rgba(0, 0, 0, 0.15);\n",
              "      filter: drop-shadow(0px 1px 2px rgba(0, 0, 0, 0.3));\n",
              "      fill: #FFFFFF;\n",
              "    }\n",
              "  </style>\n",
              "\n",
              "      <script>\n",
              "        const buttonEl =\n",
              "          document.querySelector('#df-50c4591c-4c33-40ef-ac01-f780e8da78f8 button.colab-df-convert');\n",
              "        buttonEl.style.display =\n",
              "          google.colab.kernel.accessAllowed ? 'block' : 'none';\n",
              "\n",
              "        async function convertToInteractive(key) {\n",
              "          const element = document.querySelector('#df-50c4591c-4c33-40ef-ac01-f780e8da78f8');\n",
              "          const dataTable =\n",
              "            await google.colab.kernel.invokeFunction('convertToInteractive',\n",
              "                                                     [key], {});\n",
              "          if (!dataTable) return;\n",
              "\n",
              "          const docLinkHtml = 'Like what you see? Visit the ' +\n",
              "            '<a target=\"_blank\" href=https://colab.research.google.com/notebooks/data_table.ipynb>data table notebook</a>'\n",
              "            + ' to learn more about interactive tables.';\n",
              "          element.innerHTML = '';\n",
              "          dataTable['output_type'] = 'display_data';\n",
              "          await google.colab.output.renderOutput(dataTable, element);\n",
              "          const docLink = document.createElement('div');\n",
              "          docLink.innerHTML = docLinkHtml;\n",
              "          element.appendChild(docLink);\n",
              "        }\n",
              "      </script>\n",
              "    </div>\n",
              "  </div>\n",
              "  "
            ]
          },
          "metadata": {},
          "execution_count": 193
        }
      ]
    },
    {
      "cell_type": "code",
      "source": [
        "df_hat_es_final['Tags'].value_counts()"
      ],
      "metadata": {
        "colab": {
          "base_uri": "https://localhost:8080/"
        },
        "id": "VH3LU7xIfAC4",
        "outputId": "d6eb2e41-541e-4447-e261-67fe896211ba"
      },
      "execution_count": null,
      "outputs": [
        {
          "output_type": "execute_result",
          "data": {
            "text/plain": [
              "0    50\n",
              "1    50\n",
              "Name: Tags, dtype: int64"
            ]
          },
          "metadata": {},
          "execution_count": 194
        }
      ]
    },
    {
      "cell_type": "code",
      "source": [
        "df_hat_es_final = df_hat_es_final.sample(frac=1).reset_index(drop=True)"
      ],
      "metadata": {
        "id": "l-soEt_dpCx-"
      },
      "execution_count": null,
      "outputs": []
    },
    {
      "cell_type": "code",
      "source": [
        "df_hat_es_final.to_csv('hate_es_final.csv')"
      ],
      "metadata": {
        "id": "7r-LPECNe6jj"
      },
      "execution_count": null,
      "outputs": []
    },
    {
      "cell_type": "markdown",
      "source": [
        "### Sentiment Analysis Spanish"
      ],
      "metadata": {
        "id": "lj_nFJZJfHRY"
      }
    },
    {
      "cell_type": "code",
      "source": [
        "import requests\n",
        "\n",
        "url = \"http://tass.sepln.org/tass_data/dataset/intertass-ES-development-tagged.xml\"  # Replace with the URL of the XML file\n",
        "file_path = \"/content/Sentiment_es.xml\"   # Replace with the desired local file path\n",
        "\n",
        "response = requests.get(url)\n",
        "response.raise_for_status()  # Check for any request errors\n",
        "\n",
        "with open(file_path, \"wb\") as file:\n",
        "    file.write(response.content)\n",
        "\n",
        "print(\"XML file downloaded successfully.\")\n"
      ],
      "metadata": {
        "colab": {
          "base_uri": "https://localhost:8080/"
        },
        "id": "FbGruIlTfGvY",
        "outputId": "1cc422d9-1295-49e8-f432-d13aab9d658b"
      },
      "execution_count": null,
      "outputs": [
        {
          "output_type": "stream",
          "name": "stdout",
          "text": [
            "XML file downloaded successfully.\n"
          ]
        }
      ]
    },
    {
      "cell_type": "code",
      "source": [
        "import xml.etree.ElementTree as ET\n",
        "\n",
        "file_path = \"/content/Sentiment_es.xml\"  # Replace with the path to your XML file\n",
        "\n",
        "# Initialize empty lists\n",
        "text = []\n",
        "label = []\n",
        "\n",
        "# Parse the XML file\n",
        "tree = ET.parse(file_path)\n",
        "root = tree.getroot()\n",
        "\n",
        "# Iterate over each 'tweet' element in the XML\n",
        "for tweet_elem in root.findall('tweet'):\n",
        "    content_elem = tweet_elem.find('content')\n",
        "    value_elem = tweet_elem.find('sentiment/polarity/value')\n",
        "    \n",
        "    # Extract the content and value\n",
        "    if content_elem is not None and value_elem is not None:\n",
        "        content = content_elem.text.strip()\n",
        "        value = value_elem.text.strip()\n",
        "        \n",
        "        # Append the extracted content and value to the lists\n",
        "        text.append(content)\n",
        "        label.append(value)\n",
        "\n",
        "# Print the extracted text and label\n",
        "print(\"Text:\", text)\n",
        "print(\"Label:\", label)"
      ],
      "metadata": {
        "colab": {
          "base_uri": "https://localhost:8080/"
        },
        "id": "VcWAPeFegv2q",
        "outputId": "ad255d9f-ae44-4556-8a88-5cc86312a421"
      },
      "execution_count": null,
      "outputs": [
        {
          "output_type": "stream",
          "name": "stdout",
          "text": [
            "Text: ['@noseashetero 1000/10 de verdad a ti que voy a decir petarda que te quiero más que a mí mismo  ✨', '@piscolabisaereo @HistoriaNG @SPosteguillo las tengo pero aún no las he leído. Caerán prontito', 'Al final han sido 3h  Bueno, mañana tengo fiesta así que.. No me quejo', '@Jorge_Ruiz14 yo no tengo tiempo para esas cosas ahora mismo', '@_MissChaotic_ ves ese brillo? es un coso que hace que se sepan a kk', 'Tengo una perrina adorable... Sabéis que me acompaña hasta la a habitación cuando me voy a dormir?', '@juankipua Es que en el Ojeando el año pasado tampoco, tiene muchas canciones ya jajajajaja', 'Bueno, estoy en la batalla final del Conquista y ya después me faltaría Revelación', '@CondeDuqueMAD ¿mañana sábado 31? En que día vives?  Mañana es miércoles 31.', '@agcasti y el caminante ante el mar de niebla, uno de mis cuadros favoritos en portada', '@vitojph ¡sí! Y me ha encantado  ¿Tú ya las visto? ¿Cuándo comentamos?', '@aladroqe Se me olvidaban los grandes @2qblog y @estapillao ! A ver si os interesa es hilillo', '@pendragoncillo Mejor si pones un link a la cuenta, me ha costado encontrarte..', '@Majoras_Mark Por?  Tenía pensado verla después de la segunda de Daredevil', '@SoofRawr + ni el de al lado, la \"manita\" que usas para que se vea como más negro', 'Llevo despierto desde las 8 porque un puto mosquito estaba volando en mi puta oreja y', '@ArchivoSGAE Qué estupendo. Y... ¿cómo os lo encargo?  ¿Es la estupendísima versión de Barce..?', 'Cosas que enamora las tostadas calentitas a estas horas de la mañana', 'Hola buenos días, me he dormido a las 5 y algo y me acabo de despertar y se me ha ido el sueño', '@omixam no creo que hayan diseñado una tipo propia', '@perriestheory sabes que en 2012 o 13 tenía una novela de mierda en la que perrie era mala', '@CarlosSadness en ninguna porque no te he visto en directo  concierto en madrid pronto pls', '@uravity_ lo se pero tengo la esperanza de que en realidad sea un personaje mucho mas oscuro', 'Pa una vez que me pongo a ver películas con un amigo y se queda dormido', '@Hanita_chan nfin, no puede ser peor que un minikayato \\nClauyato is real', '@KharanosGame Que Kinox no me quiere   zi yo zoy buena perzona', 'Este viernes iré al cine a ver #NoRespires para celebrar mi cumple. Por cierto, no estáis invitados', 'Podríamos empezar septiembre desde el día tres, no sé, estaría guay', 'y lo peor de todo es que funcionaba maldita Jaco como te quiero', 'aqui fardando de que soy vegano desde hace 2 dias con mis amigos de tuiter!', '@MisfitStormer pues hay gente así de mala por el mundo', '@Mentestropeada Atraigo por los dos lados es un problema duro', '@YG__GF me ofrecería pero gerald es demasiado lindo', '@baad_news es dirección de proyectos en empresas audiovisuales', 'Como destrozaba el puto movil ahora mismo', '#DiaDelVideojuegoHC por todas esas grandes tardes que nos hacen pasar y las que pasaran!', '@DarkGiirI que va tía, muchos son viejos de mi madre, otros del chino. Los que me encantan y me estoy comprando son los del Kiko', 'Parece que hasta mañana no podré catar el madden. Hoy no habra directo', 'Mi compañero de trabajo será mi futuro marido... que pena que no lo sepa', '@Reporte24ES @LaVerdad24ES fallecido hace meses. Hay q contrastar.', '@Yore89 necesito mi ración de atención diaria que si no no mantengo la autoestima', '@CristyStruky Gracias por dar a \"Me gusta\" a nuestros tweets  ¿que tal? ¿estás trabajando Cristina?', '@Club_Ratoncito Nuestros niños no andaban de lo más animado con eso de que se acaban las vacaciones...', '@vivanlospipis ser es muy malo pero bueno te salvas porque te queremos igual', 'Pero solo cojo 5 días porque me cambio de curro y', '@dorysmemories Yo también me lo imaginaba así! También soy de las que creen que el casting es buenísimo, al menos yo estoy contenta', 'Despues de trabajar duro me merezco mis caprichos', '@LorasTyrellSer Yo también te puse algo bonito. Cuanto desprecio', 'No encuentro el mando de la tele y me estoy poniendo nerviosita', 'Lo mejor de estar ya en Málaga es poder ir a ver Escuadrón Suicida esta tarde', '@LaFeaDelBaile insoportable? Eso es lo que tú dices  Ya nos contarás, espero que vaya todo genial', '@toniroldanm y por cierto el respeto (y en mi caso admiración) es mutuo', '@CainQ yo he subido una en gayumbos hace nada. Qué poco me lees paisana \\n\\n  @Ichabod1880', '@EskizoSirenita hay que ser mala persiana para quitarte esa diversion', '@myvidaconlibros ¿verdad que sí? Yo también me quité un gran peso de encima', '@cardinaleconnor Mañana no :(, pero seguro que hay gente buena  @cuatro @mananascuatro', '@DeathManu94 @piercetheidiot ya lo sé, pobre Uno  Te acompaño en los feels', '@_anarKopunK_ @jkarlos1998HD y aún así estoy en el campo   y l edición coleccionista tengo que acabar de pagarla', 'me mantengo optimista pero se me hace difícil a veces de verdad', '@tachina @EW @Outlander_STARZ Sí! Yo creo que vamos a acabar muuuuuuuuy contentas', 'Vale entiendo, no he estado rápido en la bajada, pero hay es donde habría que haber entrado  \\n\\n@ivanovlaguna', '@GxDRadioGalega Correcció \"Nin se nos pasa pola cabeza NON ser segundos\".', 'Ha muerto mi profesora de volumen/escultura y en serio que bajonazo', 'Haces que se vaya mi melancolía, me devuelves de nuevo a la vida', '@Sakura1474 tia que estoy a punto de acabar la novena voy con retraso', '@Madridonasangre yo acabo de aportar mi pequeña contribución. Te sientes tan bien!', '@dfresneda_UNED pues la aludida ...y yo mismo...sí...Buen día', 'Hoy una mosca no me dejó dormir y me cago en su puta vida', '@Aldepadorio es un gran, gran tipo  @cesarmuela', '@FraanBMJ pero entiende que era nuestro sueño  además cuando la vi creo que estábamos en 5 de primaria o algo así', '@Yuremonplsxd @PequeChikane Aquí habemos  me he saturado al leer eso idnwhy', '@Jorge_LBU Espero que te mejores pronto, vomitar es muy desagradable', 'la chancla representa el asco y lo muy harta que está mi madre de aquí la menda', 'Hola @xabyjordi gracias por la información, tomamos nota  Qué tengas un buen día', '@TheFuzzCanyon gracias por etiquetarme, pero no suelo hacer estas cosas', '@KikeMlaga @sanchezcastejon ¿Socialistas honrados? Esto es un oxímoron.', 'que le pasa a mi tumblrr o.O\\nse ha vuelto extraño, no sale la musica', 'Cada uno que busque sus mecanicas, pero que lo haga rapido antes de morir y eso', '@suomijon @chemiF1 @WinfieldF1 ... bien pienso que tú te enquistas en temas secundarios sin ver \"toda la película\".', 'Ojalá alguien llamandome bonito o precioso  sad', '@Sasnak95 @Muzska89 o hacemos presión social o esto no avanza', '@aIfonsofr no lo consigo  ayudame porfi que es super importante', 'Despues de tener el combo perfecto pa sentirme como una mierda, a dormir', 'Necesito ver por lo menos una vez más a Riri para irme a dormir más conforme. ¿Por qué tienen que echar a estas horas la gala?  #VMAs', '@OnSuicidio es una barbaridad de dinero, y aunque lo tuviera no puedo porque se contrata antes del show  -Noe', '@jose97angel ¿eliminada? Nooo, no la han eliminado. Pasó a la semifinal el otro día', '@jonathanchacon te deseo muchísima suerte en tu próxima aventura tío', '@EduHdez7th @UDLP_Oficial Preciosa vista y gran resultado, enhorabuena', '@_MrsCristina te amo, aunque parece que te has dormido cuando quedaban 5 o 6', '@MataTweet @Alejandro_Novas jajajajaja. El All Bran es Pro!  Buenos días compis!', 'De verdad desde que me puse las gafas moradas no soporto a ningún tío y', 'El puente mas bonito de la constitución este año en Alicante 12,13 y 14 @zaharapop en directo y allí estaré', '@ce_roses Ouch, ya no llego, a ver si para la próxima si que puedo  un saludo', 'Aaaa aaa estoy tan cansada y me espera una semana tan horrible hasta el jueves que', '@Fourty35 \\n\\nEs este chisme, que no expresa los matices. No era la idea el elemento cortante.', 'Venga va hasta luego, solo he dormido 3 horas', '@Ronronia @MsLectora Uf, los freudianos! Vinieron a tomar café el miércoles y aquí los tengo aún,  acampados en el pasillo  Bon dia', 'Un vibrador que nos estudia...se adapta a nuestras necesidades.\\nLo mejor del #Verano este #juguete inteligente \\n\\nhttps://t.co/VLgBuWnYX7', '@carlachan Ja ja, hay gente muy cansina, sobre todo a partir de cierta edad, paciencia...', '@emedemo holaaaa de origen vegetal  nunca nunca nunca de origen animal, buen día', '@gilthoniel_1987 Si estoy trabajando 😭, con vistas eso sí. Buenos días!!', '@eenriquelopez era por troleaer, usar store data  valdría auqn tampoco sería preciso. #troll', 'oir a @KNekro  y a @G4G_Revenant que haran directos del wow pero no se acuerdan que el server lo mas seguro ni que vaya  jaja', '@ElnAlfaro Sí. En realidad no pensaba q fueran a recortar tanto. La querencia es mutua', '@lococamionero @pnique no, si pagar le pagaba bien, tranquilo', 'lo mejor de to es que me examino justo el dia de mi cumple pero bueno la vida', '@alejandrosanmo @luisalisferrer Hay una historia escrita donde salen las mujeres, pero no es tan popular ni se estudia en las escuelas', '@Valenciazombi Genial! muchas gracias. Mi fanpage de FaceBook sigue activa también, aunque yo no entre', '2. Si. Eres mi crush máximo aunque te considere de mis mejores amigos', 'Digo yo que tengo mala memoria y mi vecino se ha tatuado el nombre de su mujer', '@enriccortinhas Mil gracias por compartir Enric! Feliz noche', '@BrokenCr0ss_ Eres mi emo fav. Lo de emo es coña se que no lo eres. Quiero verte. Cantas muy bien maldito.', '@IleniaGarcia @LauraHerreraCb @Caro96lina @LaraRMartin HAHAHAHHA MMM NOS VAMOS EN 2 semanas y no tenemos ni hotel Pa la primera noche 😂😂😂', '@YumaRuchi sigue mejor que mi pelorizo  FeelsBadMan', 'Limo sadboy de mierda la vida es maravillosa', '@marcasgz ufff ni te imaginas, y claro encima dándome golpes en la cabeza por mi sentido del humor', 'Aquí tenéis el segundo vídeo del día  14 días para tener PES 2017 y la demo de FIFA 17!! WUOUUOO \\n\\nhttps://t.co/8hh6Fu6kRB', 'en verdad me duele la vida recordar este momento porque fue tan bonito', '@CharlieSkelter ehhhhhhh ese no he sido yo, y lo digo muy en serio  hasta los cojones de que me roben mi puto identidad.', 'Que mal rollo da dormir sola diariamente en casa', 'Lo que ma el ser optimista que hay en mi (qUE LO HAY AUNQUE SEA MINÚSCULO)\\nLo que meno el hecho de no confiar  https://t.co/OafLkK91G2', 'Bueno ya tengo unos links guardados para el summer finale de pll  Espero que me funcionen hmm...', '@Pedroner Pues deja de hacer en pervertido y de viciar y haz algo por tu vida', 'Dicen que Twitch va mal hoy, pero aún así os pondré stream en 20 mins', '@jjsaenzde A mí me haces un favor, encantado  @srtagalicia', '@arturocaracuel @javifontalba @joaquinito71 @desmarquemalaga el.partido estaba pa Lugano', '@manueljorgegh @RLloria gracias  feliz noche a ambos!', 'Necesito dos rodamientos, Marcos mañana traemelos porfa', '@lantoli podemos usar el término.equipo pepino', '@GermanDZ @jmbeas @CarlosTheSailor @penguinjournals Yo creo que el consumo cerebral es inversamente proporcional a su uso', 'Tengo poco dinero y poco nivel (nivel 6 bitches). Así que nada de historia, farmear y contratos a muerte', '@ranoeldelbar @HacheFilardi @Noel_PI Claro claro! Buscamos justo los otros', '@mividaaburrida @juanpabloraba por dios que guapo sale, que pena que en españa supongo que no saldrá', '@Soukron si mi salón de 25m pasará a ser de 50… igual si, pero para mí caso ahora mismo, ideal', '¡Eh @rccelta_oficial, #GuidettiNoSeVende! \\n\\nPero entre nosotros... Si lo vendéis, mandarlo para Valencia eh  #AmuntValencia #HalaCelta', '@ricki33_ me quedo con la tónic ya sabes que soy un clásico', '@whoscabello Es que es verdad, prefiero mil veces que estea sana que ir a verla al concierto y que se encuentre mal', '@LaQueSoySiempre @ealbaga Por desgracia vende más  ,riñas,trifulcas,peleas,al cuello!! mátalo!!', '@SoRaRaP eso sería más propio de ellos, yo no me ensucio las manos con personas dependientes', '@LaQueSoySiempre Te comprendo,dominar y anular como haces tú conmigo al HABLARME en voz ALTA,ok', '@GemitaKbyos ¡Enhorabuena! Eres la ganadora del sorteo,escríbenos por mensaje privado para darte el premio', '@AitanaZD ¡Enhorabuena! Eres la ganadora del sorteo,escríbenos por mensaje privado para darte el premio', '@Noel_PI habrá, pero no conozco y tb habrá mucha etimología popular falsa... El Wiktionary para mirar uno por uno va bastante bien', '@xladyoflight claro que sí, París merece mil visitas', '.@FestivalGigante vamos a estar desde primera hora viendo a @GoleYaika y @SonogramaGrupo pero son bienvenidas alternativas emergentes!', '@Safreeoficial y pfff...tambien la gente me caia genial..y me da muchisima pena', 'La persona vale para algo. Otra cosa es que no te creas lo maravilloso y ese arte que puedes desplegar..fingelo hasta que se exprese.', '@pmklose Le conocí en 2011, me pareció inteligente, respetuoso y respetable, pero combativo, si...', '@cartoblasto @mrobaina @uby77 no seas malo  se pide sobre PIB  déficit 4% es 40.000 millones gastados + que ingresados jaja', '@AliceDesuDesu Legion>Novia? Lo bonito es Legión + novia en el pack  asi juegas con ella.', '@RaulVCF__ ya y asi se va a quedar hasta que encuentre una de villa nueva en calidad', 'Doght es amable,Doght es cariñoso,todos quieren un Doght,disponibles,en ninguna parte', '@albertbru una especie de Titanic pero en versión cutre no?', '15. No me gusta el término  \\n16. Meh \\n17. Depende de qué\\n18. No \\n19 Un perrete prechiocho \\n20. No\\n21. No\\n22. El año pasado', '@maaryamxd le doy a me gusta como fuera Rt ya que tu cuenta es privada,vale?', '@xtrelok pero del practico ya? No me dijiste que hacías prácticas.', '@jimena9011 @JM_VelascoG muchas gracias! feliz noche a ambos', '@SiMeLaTarareas @HacheFilardi @Noel_PI sí, los epónimos!  como \"rebeca\" también', '@magoangelESP mago dejaras el vídeo subido en youtube, es que ahora no lo puedo ver', '@BorjaCastejon Llévales bibliografía! La evidencia en educación médica existe', 'Si papá vas a regalar mi piano, tranquilo que te dejo, no te preocupes', '@ShiyuuTeikoku @__Frostmourne__ y ojo no les nombres el HSM que se ponen todo dignos', 'Me retuitea gente que no conozco y sus amigos no tiene los mensajes abiertos y no sé que haser', '@esther_trota Espero que te guste  Escocia es precioso!', '@lonchbox @ipatri @Joan_Artes @martasimonet @malabache @YouTube el dulce de leche hizo mucho daño', '@Aitorek @ArvenLoL yo ya en eso no me meto  sacar las cosas de contexto y llevarlas a tu terreno es algo diferente', '@_rvng En Castalla (Alicante) muy oportunamente, a primeros de mes celebran sus fiestas de Moros i Cristians i todos están de fiesta!', '@MonicaRuedats gracias, Mónica! feliz noche, guapa', 'Encantado @juanl_cruz  estás siempre bienvenido. Espero visitaros en Málaga antes', '@Maleski ¿Y a tu agente del CNI no le deseas buena noche? Pobre.', '@AngryCharlio ostia... jugaba a uno de los primeros en la SNES en japonés!! Y lo jodido es que lo acabé  Me encantaban estos juegos!', '@Pablogorrito @Yulian_Poe Vale me san confundio los oido  hacía mucho que no escuchaba el cara al sol JAJAJA', '@Suli22 ni siquiera llegué para ver las competiciones de Río en directo, solo las barras asimétricas de Aliya', '@ialcazar @CarlosTheSailor @kinisoftware @tolivern Ah! No se, yo uso sickrage que no entiende de divisiones', '@Pablogorrito @Pablo_VzP No sabe a mierda, está muy buena', '@Tokpelotas @Carlbozal +1 y coincido, no imaginaba que el 4k se notaría tanto a esas distancias. Pensando en pasar a Netflix UHD', '@BornToBeJuan lo siento Juan ya sabes que soy hetero', '@thorelvasco @PabloGenis yo no me tiro pedos soy un princeso', 'Mi móvil no me deja abrir los grupos y tengo unos 600 mensajes así de regalo', '@GinaSieben Pues sí, es precioso como bien puedes ver en el vídeo', '@mtscano veo ahora mismo más fácil el sí del PNV mañana, ha dejado clarito lo que piensa del diálogo aquí', '@johnny21es Bueno, me piro a la piscina , que hace un día estupendo', '@aparachiqui @kikollan tu suma a una semana de verte abocado a elecciones', 'Isco con Juande no seria titular y lo sabeis... al mister le van mas los Tissones...', 'Esto de salir a en punto de casa, y que el bus tarde 10 min en llegar, y vaya muuuuuuy tranquilo no me gusta. Eh?', '@offerrall @DarksDiego997 se puede hacer directo desde la ps4 sin capturadora', 'Me meo con las voces españolas  encima pronuncian Raven como /raiven/ en vez de /reiven/.', '@Noel_PI Y Noel significa Navideño, pedo también lo asumimos. Pero alguien lo tuvo que poner por primera vez', 'tengo muchas ganas de mimitos, y sabia que pasaria y ahora pos \\na ser fuerte o algo', 'la verdadera eriichii me hubiera dado besitos\\nSO MARRANA', '@hectorboigues ay, pues gracias... \\nAl menos tú sí lo ves como algo ingenioso... Ayer me dijeron que tenía un insufrible sarcasmo ácido', '@Nadieelosabe Vale vuelvo a preguntar. No sabia no que te siguiera', '@SEGAFORLIFE es la feria de mi tierra  Solo espero que sea un éxito y ser un gran anfitrión', '@HCFanego @almoregan Gracias, tú también  Por cierto, vete rellenando la bodega, que el 17 estoy allí', '@mercesori @clicfox ¡Enhorabuena! Eres la ganadora del sorteo,escríbenos por mensaje privado para darte el descuento', '@Sara_Bouvier nada, yo por lo menos cuando compré la guitarra eléctrica me salió muy parecido a sí la hubiese comprado en Thomann', 'Un poquito de Ministerio del Tiempo y a dormir, que mañana hay que hacer muchas cosas \\nBona nit', '@SonrieXRIZ ya  Si algún día soy rica te llevo conmigo a verlo a donde sea, promesita 👉👈', 'No, no. Ya no te quiero, me declaro soltera a partir de ahora, me has hecho daño  @carjudi6', '@imconnorstruck mi corazón dejó de palpitar como una papa frita cuando empezó el capítulo  #PLLSummerFinale', 'Lo mejor de todo...la felicidad  \\nfelices porque pronto veremos la boda de J&P… https://t.co/RXtpPrcVe7', '@forbaltihood De nada jo a veces solo hace falta esperar y tener paciencia', '@Haplo_Schaffer Lo mejor son sus amiguitos defendiéndole diciéndome a mí que pase página cuando es él el que no me deja en paz', '@BubblesaurTV eso es lo peor de todo, de verdad, no se cómo no les da vergüenza, me dan ganas de llorar', '@CheeseLena_ emberdá mis dibujos del paint son mejores', '@plcido_vzquez @cultrun creo que duran más que tantos amores eternos', '@hectorboigues a preguntas mediocres, respuestas ingeniosas...', '@lorzagirl oye, que mi madre se le cortó la leche  y mirame, 1,85 XD, aunque algo enfermizo de pequeño. Ahora, lo de la leche X...', 'Ya llegó Unidos Podemos, @Pablo_Iglesias_ y @AGarzon acaban de llegar juntos al @Congreso_Es', '@ArthasSama @Holic_meri es por no destrozar tus posibilidades con la gente guapa', '@TheFlowerGirl90 a bueno le fuistes a decir.....  quevaaa yo tengo muy poca cosa tambien ^^', '@Crisnosesae @l30n4_ tio a mi sus libros me encantaban  pero es verdad que con el mensaje se ha pasado de clasista xd', '@javier_andres @txarly fui idiota y pude comprarlas hace días. Parezco nuevo.', 'me he ido a la ducha y se me ha olvidado coger la ropa  ahors tengo que salir a por ella y como haya alguien en mi ventana me ve desnuda', '@Shiroychi ¡#Nunca! ^^\\nLo hablaremos, lo hablaremos. ^^\\nSeguro que coincidimos en más de una convención.', '@LauraCarvajal @RLloria @arturovillegasg @perezreverte @BmDulce @scardige @Laura_Chica @drcesarlozano un abrazo  es mutuo!!', '@KoiSamsa jajajaja yo creo que esa fue improvisto eh! muchas grasias hermosa!!', '@LovNaty Tu vida ha parido a un grandisimo hijo de la gran p... , un maravilloso hombre!!.', '@Javiturpeiro eso dice mucho de él... así que nada, tómate tu tiempo que cuando estés preparado, todo llegará', '@ninivecardenas2 Te puedes creer que te iba a poner lo mismo  Te quiero mi Nini', '@Rakshasa21 Pues no disfrutarás de un Dulce suelo', '@ISanDesign @Hobby_Consolas jaja y por que lo peor, los juegos de Ubisoft no son tan malos, lo que si es un poco malo es ser solo de Sony', '¡Ya hemos contactado con los ganadores de #YosoyMTVJammingVibe!\\nAtentos porque mañana lanzamos nuevo #concurso  https://t.co/K0xoobBiM3', 'Cuando no puedo dormir, escribo todo lo que preocupa en una libreta que alguien me regaló y es como un somnífero instantáneo', '@StealThisHills omito el *con alguien*, pensaba que estaba claro', '@Otxu88 espero que fuera todo bien y ahora a por una gran semana', '@CNNEE y si puedo trabajar en Madrid, Buenos Aires o Bogotá yo sería también muy feliz hihihihi', 'Al principio él no te gusta , pero te acaba gustando y cuando te deja lo extrañas', '@tinoroso @titomartin67 @uby77 es un término coloquial, no un análisis', 'me encantaría mucho tener una buena cámara y saber como usarla a la perfección', '@_mhiguera en cualquier caso gracias por tu \"welcome back\". Qué cálido ha sido', 'Han tenido buena iniciativa @AnabelCampo y encima son amigos', '@_mhiguera me ha dicho que es \"bienvenida de nuevo\". Pero ya me has hecho ir allí y ya  tú sabes que no suele haber nada bueno', 'Ahora me daba yo un manguerazo a ver si se me quitaba esta cara de \"hola he dormido 2 horas\"', '@JulenReal Anda que no nos hemos subido ahí tu y yo en el paseo nuevo,  en fiestas de semana grande  ...', '@henryancat tio es que esta el librillo recien comprao der chino y me toca la polla 😂😂 vente pa casa te doy un piti', 'Janowiiiiiiiicz ole tus cojones y ole tu set y tu over!!!! No me pago las fiestas pero si algún cubata!! Buenos diiiiias mundo!!', '@AlbbaBernet póntela y te das una vuelta por Málaga porfa', 'Me ha explotado un vaso en la mano, que forma tan bonita de empezar el día', '@crypsicho Significa que nos ha resultado gracioso cómo lo has dicho. Como ya comentamos, al final en 2016 es imposible traerlos', '@insumisiones Es asqueroso esto. Amiguitos de mi ex diciendo que normal que me pegase porque \"tengo mucha mala leche.\" \\nIncreíble.', 'alguien sabe donde puedo intercambiar photocards de exo? o-o', 'AHHH\\nTodo el mundo me manda audios y no puedo escuchar canciones tranquila', '@Nine_Stories Somos pequeños y modestos, no podemos abarcar mucho más.', '@GabanFK tengo las 3 ediciones originales, y bueno...no los aguanto, demasiado antiguos', '@HijodeBilharzio Que bonita zona de entreno escogieron', '@FrigoAdri yo tengo que verlo tio  jaja pero se lo merece  ya hacia tiempo que lo se merecia', '@DanteDirewolf porque cuando veía a mi hermano jugar tenía malas pulgaaas', '@CarlosLMiranda Buen artículo Carlos , se va Lucas pero tampoco hay que dramatizar , casi me haces llorar', 'Despues de todo sigues pendiente de mi y lo sabes, pero autoengañarse is moreee easyy', '@UniversoMujer18 ya se acabo la hora jajaja estoy expectante a ver si me ha tocado el #cubreSelFem para llevarlo a todos lados puesto', 'Algún alma caritativa me tiene que prestar el Pokemon', '@lithospheric Mejor. Cuando pagan la ESA y la NASA, al fin y al cabo pagamos todos  Que chulada!', '@RASAMA_ yo puedo cambiar de opinión, de cara es más difícil, porque vale una pasta.', '@ivan11PG Aunque aquí precisamente ninguno de los dos pero da igual por qué me haces esto', \"@BertoValen I'm back! Aunque esté desaparecida en combate me alegro a lot de tu graduación, Dr! Mucho ánimo en el MIR! Un abrazo grande\", '@FranCartagenaCT @BurnleyOfficial @ChelseaFC Bastante, bastante. Ganitas de verlo romper la Premier.', '@Vic_Phantomhive Nah, que soy un pringao que lleva aguantándole mucho y ya estoy cansado', '@goetha  Ahora es Abel quien está resfriado  es lo ke tiene estar juntos todo el tiempo jajaja el curro bien?', '@daniacal aún no, pero si estará jugable en el TGS no creo que tarde demasiado.', 'Está puesta la película de \"Cómo entrenar a tu dragón\" en el autobús pero la pantalla está demasiado lejos y yo soy un topo.', 'Último dia en Elche, ahora toca Benidorm', '@ivan11PG Aunque esto no es una lucha, estamos jodidos y punto', 'De aquí a una semana hará cuatro años que vivo en Barcelona. Creo que por el momento no se me ha dado nada mal', '@Maquinuelo @ivansilvamatias si para ti que le vaticina al club 2 o 3 años no son malas palabras vale', '@nachobartolome de hecho, Nintendo Magic fue la principal fuente de información para mis especiales biográficos de Iwata', 'tio pero cuando dawn dispara a beth y daryl la dispara a ella inmediatamente y se pone a llorar', '@prettio_cgm bueno,  es algo..  Cuando encima no sabes porque te pasan las cosas todo es un poco peor  lo dicho, muchos ánimos', 'Ha ardido una caravana aparcada al lado de la playa  \\nFuego ya sofocado por los bomberos @… https://t.co/LgbW9ryGWy', '@Perguelofici Pero, en gral, de acuerd una opinión muy interesante! Tendría q escribir también una entrada en mi blog  @CarmenAgustin', '@MV3ga hay cosas del hilo con las que discrepo. Como me sigues hace poco, te aviso de que yo hago rt a lo interesante, coincida o no', '@joseplluismunoz @Congreso_Es @WillyVeleta @gerardotc Está de camino, friéndose bajo el sol sevillano', '@otonashi_saya Pero la verdad es que en general no voy mal de motivación... casi al revés, me sobra motivación (y ego', '@ia_nav @Los40Trending @dcodefest @LEONBENAVENTETW ten por seguro que si queda libre cuento contigo', '@otonashi_saya Ja ja, imagino que cada uno de una forma distinta. Yo me compro gadgets o veo una peli (como Interstellar', 'Mi última partida jugada, con Sona support.\\nLa grandes razones para jugar Sona \\n\\nhttps://t.co/2rgmMeAFIs', 'Me estoy cansando a dar rt a esto d \"rt o suspendes\" pa luego suspender fijo', 'Mi madre me deja ponerme rubia pero no el pelo morado', 'Por una parte necesito la cena del sábado y volver a estar todos juntos, pero por otro lado pienso que nos vamos a separar y', 'He hecho el primer puré de verduras de mi vida y parece pota y sabe mal', 'Por qué tiene que ser mi pelo tan goals mojado y tan mierda despues', '@HunterRowland duchate rapido babe que tengo sueño', 'Eso de echar de menos tu propia casa son leyendas urbanas', 'Tengo ganas de bronca estoy aburrido, proximo tweet abro el cajon de mierda', 'Ea ya mañana cuando me despierte empieza la fiesta y ya estare distraido para el largo viaje de Valencia a Cadiz', '@lucyhale Las chicas fuertes y guapas han de luchar contra la oscuridad del mundo, que hay mucha.', '@Carlos_GalindoL @FSanabriaLuis @Jluis_porta @cartoblasto @jjonline76 @uby77 las pequeñas diferencias que enfrentan las dos españas', '@JorgeUfano ¡Muchas gracias por la respuesta! Cualquier cosa, aquí estamos para lo que necesites  ¡Saludos!', 'Estaba el autobús Benidorm-Madrid al lado con las puertas abiertas y me ha tentado subirme y volver.', '@KMinorito Es que solo piensa que todas las canciones tristes que tienen (loser por ejemplo) son basadas en experiencia..', '@REANYMA @FernandoFabiani No, no, ¡dijo que dejaban de surfear por la cornea! Que se quedaban quietecitas.', '@AnaSJuarez @OfficialMauiJim ¡Hola Ana! Te hemos contestado por mensaje privado, donde no hay limitación de caracteres  ¡Gracias!', '@Defconplay de hecho lo confirmo, los caminos y las casitas son las mismas', 'Si algún alma caritativa tiene mac y sabe como instalar excell de windows que me diga pls', '@SylexVid @EnVy_HarryHook ?  a la derecha aparecen los personajes más jugados en ranked, no lo que vamos a jugar', 'Ya decía yo que lo bueno me iba a llegar tarde o temprano  espero no poder equivocarme', 'Voy a soñar con fórmulas matemáticas, historia del mundo y la pasiva en inglés \\n*le explotará la cabesa*', '@XulioePunto Pues escapó.. Y no lo dimos encontrado, estuvimos al menos 5 personas buscando y nada', '@ragnomuelle Yo a veces hecho de menos mi pelo largo por eso mismo entre otras cosas', '@joanllenas es que son todo cosas que me molan  A lo mejor ya conoces speaking.io de Zack Holman también', 'que cansado me tenes albacete... que cansado!!  \\n\\nsino vuelvo a rosario en verano........... ojo.', 'He visto un documental sobre las pirámides los moais y predicciones y ahora me da cosita dormir sola', 'La regla me esta destrzando el cuerpo\\nQuiero vomitar, me duele la tripa, la cabeza, tengo fiebre y estoy mareada y pf', '@zapejuana @Exojo @yeya_ade @rosipasmar @gartoro @nshradio Qué bonito... a mí me tiene que pagar las horas extras también, soy así...', '@SomeJaneDoe_ nazismo y fangirleo como tú filosofía de vida, doble moral  juju', '@carlosgterol @MataTweet Si, ayer estuvimos reunidos en Moncloa, pero al final habrá que repetir elecciones ... 😂😂😂 Está que responde!', '@monzonete Cuando me borré Twitter, jeje, esta cuenta es nueva, aunque con el mismo nick', 'Ya es oficia nos quedamos sin Konoplyanka en @LaLiga \\n\\nEso sí, será una alternativa barata a Reus en la Bundes https://t.co/mvOqHl4p53', 'Con ganas ya de que llegue septiembre \\nY comenzamos mañana nueva temporada en @DelecturaOblig. \\n#adiosagosto', '@_lauu_20 Gracias por lo de \"ídolo\"  Aunque solo soy una persona normal y corriente que escribe libros', '@Rokkowen TODOS SIEMPRE tienen carita de super buenos y adorables pero luego la lían', '@Sr_Zeta hola vengo de intagram  en verdad ya te seguia pero hola igualmente🙄❤️', 'Llevo toda la mañana haciendo cosas y no he podido ver ni moon lovers, ni signal, ni nada', '\"No tenemos la sensación de ir a un trabajo\", din os @PIXIES \\nEu na ofi lendo o @rockdelux, tampouco a teño  https://t.co/MEG8DZVVTn', '@VicentIvars @JJCuerda @eljueves pero hombre, eso ya lo había leído  La pregunta es... ¿Cuál pretende ser el titular completo?', 'Las horas que son y sigo sin ser capaz de ponerme a estudiar....el sueño puede conmigo', 'Voy a sentar a mi sobrina en el médico y me dicen uno súper mal \"está ocupado\" y le digo yo, pues se desocupa para la niña', '@BenitoVGC el Sabueso es muy malo, el leñador mola \\n\\nQuiero minero y mago de hielo', 'HIJOS DE PUTA, dejad de darle rt a los otros y preguntadle a alguien por mi que no se a cuantos le he dao rt y solo ha respondido 1', '@tonyoaguiar @albertopedroche Anda castrón, comí aquel trocín pequeño que me cortaste', 'A mí nunca me podrán hacer una broma porque no cojo llamadas y menos cuando son ocultas', '@anaamontull_ @IreneCarro_8 @MariloGarciaa6 con una pequeña donación hará felices a miles de chicas que no tienen  #asociacionmariloli', '@CatedraRSC_UAH Muchas gracias!! Feliz por haber formado parte de esta edición del Master!', 'me cago en mi puta vida y en el puto vecino por hacer tanto ruido de buena mañana', '@manuelortegama4 se llama Wolf, es la mascota #SeSalen en apoyo a los deportistas paralímpicos \\nMás inf https://t.co/KQl89uDr3h 😃', '@Realba74 @InterSerEd genial Rebeca !! Este era mi deseo al escribirlo. Seguiré escribiendo en esta linea práctica', '#HistoriasAlegresEn4Palabras \"hoy trabajo en compañía\" y es que en @TaludEria se trabaja rodeado de gente muy maja  #Coworking #Oviedo', '@Aitt7 calla que yo estoy ahora en mi día libre y las horas se pasan más rápido que poniendo copas en el bar', '@CsCValenciana @Albert_Rivera Como mejor luchar contra la crisis, unidos o siempre enfrentados.  Lo tengo claro.', 'Así leyendo entre líneas y el discurso de @sanchezcastejon igual vota que no a Rajoy. #InvestiduraOndaCero', '@policia. \"Precaución amigo conductor que la senda es peligrosa....\".\\nLo importante es llegar.', '@Julio_C_19 Hola Julio, para que las pizzas lleguen en las mejores condiciones, marcamos la pizza, no la cortamos', 'Ayer fue un día de emociones muy encontrada se acerca septiembre por un lado y por el otro una personita que siempre me hace sonreír', 'No silencio lo que calla. Es la vida suspendida hasta que brotan las ganas de bailarla. \\n\\n#creatividad https://t.co/VXMZt8AVyJ', 'Qué bonito es ser mujer  y que te joda los planes que tenias  y que te despierte el dolor de ovarios  😡😡😡😡', '@tooruskywalker no había casi nadie hablando del tema  (y tampoco puedo encontrar el vídeo, sad)', '@ItsMeCar0l ¡Hooola, buenas! Soy el que tenía los ojos rojos en la fiesta de Elle  ¡Te sigo !', '@Rafuki21 178. Sabes que me caes muy muy bien, y que en un futuro te daré un poco el coñazo con dudas de Diseño Gráfico', '@Swareles, ¡muchas gracias, Carla! De momento han caído tres, así que no empieza mal el día', '¡¡Muchas felicidades en el día de su cumpleaños a un buen amigo como @sagastiker!! A pasarlo en grande, compañero', 'Hola estoy que reviento por haberme comido un box de kebab ayudadme a morir gracias', 'Después de casi un mes entero sin él... puff, espero no echar temporadas tan largas sin verlo', '¿No os pasa que en ferias podéis ver a una persona como unas 29 veces y justo a quien quieres ver no le/la ves ni una jodida vez?', 'Tambien subire el changelog a lo largo de estos dias, estaros preparados porque viene todo de golpe!', '@FutbolModestoEs Que guapísimo , dejaron mendizorroza, pero San mames ... de los + guapos del MUNDO¡¡ sin duda.(opinión)', 'BABY @BlasAuryn #FollowSpree. y la suerte de la semana pasada???  esto sería demasiado grande para mi.', '@sport JA JA JA JA JA  Teneis el ojino como la bandera de Japón ,hijos de la gran puta', '@Tokpelotas estos últimos días han sido una detrás de otra. Ahora mismo nos vamos a La Fe a que miren a Pau, otra vez bronquitis', 'Creo que pocas veces he estado tan enfadado como esta mañana, pero bueno, entre Uncharted 4 y el ejercicio me han animado', 'Echo de menos a Lexa  mis bragas ya no vuelan tanto como antes. Ya no me hace falta limpiarlas cada 5 minutos', '@AraMalikian Lo hemos pasado en grande con las 4 estaciones. Una auténtica gozada para toda la familia', 'Plan perfecto para terminar el fin de semana. @AthleticClub - @FCBarcelona_es. Después @VillarrealCF - @SevillaFC', \"Utopí audiencia estable, media de más de 8'5 en Imdb etc... Pero fue cancelada. No se puede tirar tanto de la manta farmacéutica\", 'mi vida es una mierda primero me enamoro de un macedonio en ibiza y ahora del timbales de la panorama', 'Tranquilos que con el.dinero de Camacho seguro mañana empiezan las escabadoras en el Arraijanal', '@Hectorfernandez @Alaves Pellegrino ha dotado al equipo una gran consistencia defensiva. Y buenos fichajes', '@pichyniboss te queda bien tio!\\nEspero que esteis todos pasando un buen verano', '@PITjjjimenez_PK Denada  porcierto hazme un hueco en tu agenda de combates quiero ver lo que es capaz tu monotype contra el mio', 'Esta semana ha sido tan chachiosa que ya puedo decir que el verano se ha acabado de una manera decente  y lloro', '@FrayJosepho @Hienosdeorgullo @Capt_E_Navarre Más bien imposible. A no ser q se convierta al Islam, claro', 'Apenas me he muerto de miedo pasando por la plaza donde se hace la hoguera de San Juan toda oscura.', '@pocho_f1 pero McLaren parece q mejora, 1,5s mas rápido que el año pasado en Qualy, y mantuvo a raya a los williams en Spa!', 'Como dice @quique_gonzalez , se escapa otro verano en un furgón blindado  \\n\\n@salaBBK #Bilbao #QuiqueGonzález\\n\\nhttps://t.co/WeaevYCT2L', 'No he ganado ni ganaré nada del concurso \\nMe lo esperaba,soy gafe y al fin y al cabo la suerte no esta NUNCA de mi parte. #prayforiaben', 'En verdá llevo sin jugar al pokemon go desde que volví de Galicia porque ver que en Madrid no me sale nada guay me deprime y mucho', 'Mi padre le ha dado un manotazo a mi móvil y gracias a Dios que lo que se ha roto ha sido el cristal templado', 'Quiero el pelo negro azulado y no sé cómo conseguirlo  los tintes de ese color que me he echado, no han hecho nada.', '@Serjo77_ ya pero que estoy diciendo que el feminismo no es lo contrario de machismo es el hembrismo q como tu dices, no existe', '@ithaisa_sm @SuperScienceMe La verdad es que si, muy bonito  Me alegro que te haya gustado ! Y que hayas aprovechado el paseo virtual jeje', '@Nuchiky está en textos en inglés y voces en japonés. Que desilusión me he llevado al poner el juego  habrá que acostumbrarse 😕', '¿lo más gracioso? que si no defiendes/apoyas/eres activista del feminismo pues ya eres un machista opresor', '@saez_cristina @muyinteresante @Fairphone Genial ! Está genial que la gente conozca un poco más estas alternativas', '@ciberchenet Porque nunca nos toca un arbitro bueno? Hay alguno que sea bueno para el Valencia?', 'Nunca he tenido esta sensacion, ¿me la harías sentir? Es muy importante para mí Blas @BlasAuryn  #followspree', '@Idolsftdjom @_jesus_OM @DanieloviedoM obviamente tia JAJAJAJAJA q soy la mayor  osqqqqq pero venir ya ofu', '@borjald Ahora, la alternativa es incoherente e igual de inviable a día de hoy. En eso creo que estamos de acuerdo', '@SergioRevolS Pero este verano tampoco ha llegado a hacer calor, sobre todo si lo comparamos con el pasado', '@mariamira67 que nos regales con capturas de imagen de tus actividades ya no es sorpresa. Lo sorprendente es que tienes inivitado!', '@Avenghelyne un bq Aquaris m5.5 de hace un mes exacto y ya fallan cosas \\n\\nBusco uno que sea fluido y no me de problemas y buena garantia', '@eloycanovas jajaja! genial, te deseo lo mismo  los días se construyen, verdad?', '@leeahistheway ya... ha sido muy grotesco por mi parte poner una foto de Ojeda a las 10:30. Perdona', '@sdelgadoaros ..por cierto, en USA obligan a parir a una niña de 12 años, embarazada a caua de una violación..? (Es para unas amigas)', 'Y los directos deberían ser totalmente estables (ya que en Madrid solían darme problemas) Se vienen cosas chulas', 'odio la ubicación de tw porque yo la quiero dejar puesta pero cada vez que tuiteo me sale el nombre de mi pueblo y no quiero eso', 'Hola @TonyAguilarOfi nos gustaría escuchar #UnMinutoSinDolor nuevo single promocional de @DulceMaria en #40GlobalShow51 @40GlobalShow', '@JuditRT home pues todos. L y M me tengo que levantar prontisimo para solo una hora y luego X, J y V tengo muchas horas  y clase todos los', '@Pudimos_ @iunida brutal! Como se parece a las manis separatistas en Catalunya!! Espero que todos consigan la anhelada libertad', '@jcrlaguera @sinfaltas_com @delcastellano sí, es usual en País Vasco y zonas limítrofes, pero no me cabía lo último en el tuit', '@jrfern @xarxatic IA no llegó a ser social. Fue un espacio social de dinamización, muy útil, pero con fecha de caducidad. Y abrumador.', '@oskiblasco te juro que cuando el que ganó el pantin classic tiro la gorra y yo salte a por ella me calleron 2 encima y me aplastaron  JAJ', '@pacoleonbarrios Aun hace calor pero las piscinas ya están cerradas y el mar pilla lejos  El Corte inglés no ha dicho aún que se acaba...', '.@enricaar @aurearamon @Congreso_Es @Esquerra_ERC @gabrielrufian El sigu escuela y administración trilingüe.  ¿Le parece?  \"#somescola\"', 'La envidia que le tengo a los que están conociendo a Jenko y Danielle ahora mismo no es normal. Es que ya aunque coja un avión no llego.', 'Me alegro mucho por vosotros! Sois una familia ideal  @mola_viajar aqui v si es niño Erik y si es niña Esther jaja 💗', '@V966Cobano Ojalá personaje! Pero tengo examen el 12  De todas formas hablamos para la semana siguiente que ya se lo he dicho a Fernando!', '#astroymas lo necesito. Se me acaba de romper   snifff snifff  gran podcast!!! saludos desde A Coruña (España)', 'Bueno, pues vamos a recuperar el tiempo perdido. Empezare por descargarme el Manchester City - West Ham, a ver que tal', '@Se_Wilk @CiutadansCs @PrensaCs @mrhciudadanos @AlfonsoRojoPD Gran capacidad de análisis de @InesArrimadas en esa entrevista. #visión', '#feliz domingo.. que todos encontremos la gloria bendita, el ocio, la magia, los besos compartidos de amor, el duende..', '@llillitto @CarreraCSIC @TrofeoJose_Cano @correporsiria @mediodemadrid @MitinAtletismo @nortevssur1 gracias  me lo paso genial haciéndolo!', '@astrongergirl \" En algún momento empecé a mirar más al suelo que al cielo \" \" Estoy harto de llorar, así que intento sonreír \"', '@AccidentesTV Tengo entendido que en ese vídeo los que salen son trampeadores que se dedican a atrapar y luego liberar lobos sin muerte', 'Ahora que empiezan las jornadas de toros en esta ciudad me pongo un poco más triste al ver que seguimos sin evolucionar en muchas cosas', 'Que dificil es retomar los estudios despues de dos meses sin tocar un libro.. #pereza #ganascero #septiembre=examen', '@ClaudioSensasao @MsRose_84 @geraldine_balme ¡Cada vez sois más! Las risas están aseguradas entonces. Mañana preguntamos, dadlo por hecho', '@Oviedo_crt digamos que soy lo bastante mayor para q si se pone tonta,ponerla en mis rodillas y darle unos azotes en el culete', '@gregollaniz @juliorj10 Hablaba normal, con alguien, antes de q usted se metiera insultando. Debería tener más educación', '@escardi muchas felicidades en el día de tu cumpleaños sensual, espero que te lo pases genial y recibas muchos regalos suculentos', '#feliz septiembre..es bonito retarse..es increible lo mucho que puedes aprender.. medirse con el obstáculo..eres la joyita de la corona', '@juanlebrijo Esa posibilidad está contemplada y, si hiciera falta, x el bien de España y por responsabilidad volvería a hacerse sin dudar', 'No puedo evitar ir a beber una lata de refresco y acordarme de @LourdesBiurrun family y terminar sirviéndome en vaso...', '@MadnessOctopus ya... hay gente que es capaz de hacer eso. Yo si me corazón me pide poner cara de seta. No soy capaz de sonreir', '@Moguei @Begomix no tiene bastante con tener DOS puntos de salud, además está enamoradísima de la princesa y la princesa de la mala', '@Dekainfame sí, he leído eso, pero luego he leído OTOÑO, NOVIEMBRE, DICIEMBRE y me ha dado bajón \\nAdemás no tengo ni ds ni juego', '@JosMan_GoGi El efecto a largo plazo es la desafección mayoritaria entre la izquierda  El votante se cansa y se queda en casa.', '@Sara_benben pero el caso es que en Humanidades hay latín y griego y yo en mi vida he dado latin y griego así que me iria fatal en ellas', 'URGENTE!!! VENTA MY NAME TIKETS!!!\\nTengo dos tickets ULTIMATE VIP pero no podemos ir  los vendo más baratos, contactad conmigo!!!', '@CucoRguez Ya, estoy jugando al ratón y al gato. No solo voy, me quedo a dormir mañana en vuestro hotel. Quedamos fijo.', '@Alvaro845 @progames045  tienes toda la razon alvaro! Soy un gran fan tuyo tu me enseñaste casi todo de clash of clans, eres el mejor!!!', '@DBeletujo ajajajaja yo en Benidorm vi a dos mujeres con carritos de bebé y los perros dentro y cuando las vimos nos quedamos flipados', '@SophiaBush Pero me gusta la Idea.  Ver chicas fuertes luchando al estilo Dragon Ball Z y en versión real.', '@timetransfixed_ te juro que no me acuerdo solo sé que alba hizo el vídeo inmitándole, no recuerdo absolutamente nada del original', '@bigotingos \\n\\nIlustres, Jose.\\n\\nQué fácil salen los insultos viendo cómo hemos empezado Burgos y Murcia', 'Han talado el abedul gigante que había en la esquina de Ríos Rosas con Castellana  ¿Alguien sabe porqué? #Madrid', 'Demasiadas cosas raras en poco tiempo! Anda y que les follen\\n0 complicaciones\\n0 historias \\n Me voy a la playa y viva España!', 'Acabo de comprobar en Linkedin  si eras mi antiguo alumno, tengo un gran recuerdo @alexldguevara  Te deseo lo mejor @vlcextra', '@Pedro_GarMu uy qué bien me vendría para colocar la WiFi, el portátil, las flautas, el saxo, el nariclete, las partituras y mi desorden', '@Comunikaa2 me alegro mucho!! es importante darnos cuenta del gran valor que podemos aportar y encontrar nuestra misión', 'Yo estaba cansadete, pero de repente me habla a un amigo para jugar un ratejo a la Beta de Battlefield 1, y quién le dice que no al chico', 'Es decente tener un Gobierno democrático que cumpla su función politica. NO lo es tener un Gobierno que representa la #corruPPción', '@TichKhan_ d los cines donde la hacen este finde,el+accesible es el icaria,q ha bajado precios(no me pagan xD),o las matinales de DiagMar', 'nos subtitulos de Bojack horseman tan hablando de El Pais, El Mundo, El Mundo Today y Alaska y Mario y ye terrible', '@juanarza @JuanCladeRamon lo he intentado. Espero q en los próximos días veamos una ilustración práctica q ayude a clarificarlo', '@BiciMAD Bien, ahora solo falta que pongáis una estación en #PuenteDeVallecas para poder ir en bici hasta mi casa', '@RinAnllel Uno aprende que el mejor momento de crear bonitos recuerdos es el presente, el pasado ya fue, te toca elegir lo que va a ser', '@pasapalabraT5 @RaquelBielsa @_fraanb_ Gracias, lo único que me hace feliz es escuchar música, adivinar y ganar', '@Anina97 Pues a mi me pasó una experiencia paranormal allí de noche y no he vuelto, pasé muchísimo miedo', 'Esta decidido. ¡Habrá Modo Carrera en el canal en FIFA 17! Si este tweet llega a los 30 likes desvelaré el equipo con el que se hará', '@MoratoX_ genial, pero ten cuidado está muy vigilado, este está hecho con uno casi de juguete, Syma X5c, casi no entraña riesgo', 'Tengo dos horas seguidas de latín y griego.\\n\\nDos horas seguidas con la misma profesora.\\n\\nMenos mal que me cae bien.\\n\\nPero son DOS horas.', '@YJaretir al cine no es romántico, vale. Yo de regalar algo soy más de dildos, lubricantes, o comida, algo de buen uso y luego doy masaje', '@DesireeDelgado yo llevo medio verano debajo de la dichosa máquina... menudo verano largo este año de sofoco...', 'Cuando suben tres fotos tuyas representando tres clases de la Escuela de Música y sales de todo menos bien', '@___abm13 me has borrao del lol?', '@aletheia7 sí, ya estoy resignado en ese sentido', 'Era más grande de lo que parece.', '@Galan_Javichu lo que estoy es deprimida', 'tu en serio por que sois tan tontos', 'Iré a la bgw con una pequeña sorpresa', 'No es que ahora no sea feliz, pero antes lo era más', 'Mañana va a ser un día guay', 'Qué jodido es ser del @RealZaragoza hoy', '@marinj460 a mi me a pasado en la 76', 'Estoy muy preocupado por él con lo bueno que es', '@Pattvh_ no porque no los tienes activados a todos', '@MrJungla ya somos dos, que triste', '@DovakhiinMudo 9 por lo buenico que eres  💜', '@chefidiaz no seas muy dura', 'Ya me encuentro mucho mejor.', 'alguien duo por la noche?', 'Que os den, buenas noches', 'Hoy es un día especial. Feliz 11S.', '@anna_delaossa ya no tengo mas , soy pobre', 'Quiero ir a la Diada', '@AndreaJArsenal a mí en directo pero', '@CodigoNoVerbal Tanto como nosotros de que la impartas', '@Ssictor No todos somos gilipollas', 'Un día la casa para mi sola por fín', '@VasoDeLejia Pero si yo soy inocente \\no no lo soy..', 'Luego la rara soy yo', 'Esto de estar feliz mola', 'que ganas del FF XV en serio', '@Monicadocatelan no se si seré tan despreciable', 'Las 7 y cuarto y yo aquí', '@WaterLiliesMon_ no las des, en serio.', '@showmystyles pero esa no es bonita', '@ionrumanboy no es tan facil', 'Ya me han picado los bichos', 'Me voy a despejarme un poquito por ahi', 'Que coraje me dan lxs prepotentxs', 'ah bueno y no tengo dinero', 'Encima estoy en mal de amores tio.', 'En realidad no soy tan blanca', 'Tengo los md abiertos Crushes', 'Lo peor es que no es aposta', '@nyctophyle tia eso es muy raro', 'Soy muy obvia pero me la suda', '@ibk_lx7 Ps porque tú lo eres conmigo', '@eduarsarcos yo no soy normal', 'tenía un mensaje directo y estaba', '@cakebaess no lo es, tranquila', 'Me estoy muriendo de lo malo que estoy', '@Maria_livefree yo ya lo tengo bonica', 'A ver súper cutie y tal pero', 'Me encuentro muy mal hoy no estoy para trabajar', '@Mentestropeada Bof tio que duro', '@Hekiina es que la intimidas', '@mariaaravjo oye pero yo no soy tan burguesito sbs', '@GordoMaestro No lo soy lemado', 'Xq ta cerrao el estanco', '@YelouKitty pero eso no es grasioso', '@Davorias Pero es que está muy rica', '@narvalillo Eso es antiguo ya', 'Mi TL esta vacía a estas horas', 'Ya tengo uno, pero ese es más cheto  @aweamasome.', 'Estoy sensible y lloro por todo y']\n",
            "Label: ['P', 'P', 'P', 'N', 'N', 'P', 'NEU', 'NONE', 'NONE', 'P', 'P', 'NONE', 'N', 'NONE', 'NONE', 'N', 'P', 'P', 'P', 'N', 'N', 'NEU', 'N', 'N', 'N', 'N', 'NEU', 'P', 'NEU', 'P', 'N', 'N', 'NEU', 'NONE', 'N', 'P', 'P', 'N', 'N', 'N', 'N', 'P', 'N', 'P', 'NEU', 'P', 'P', 'NEU', 'N', 'P', 'P', 'P', 'N', 'N', 'P', 'NEU', 'N', 'N', 'N', 'P', 'N', 'NONE', 'N', 'P', 'N', 'P', 'NONE', 'N', 'P', 'NEU', 'N', 'N', 'N', 'P', 'NEU', 'N', 'N', 'N', 'N', 'N', 'N', 'N', 'N', 'N', 'N', 'P', 'P', 'P', 'NEU', 'P', 'N', 'P', 'N', 'N', 'N', 'N', 'NEU', 'P', 'N', 'NEU', 'NEU', 'NONE', 'N', 'NEU', 'P', 'P', 'N', 'P', 'P', 'NEU', 'P', 'P', 'N', 'N', 'NEU', 'N', 'P', 'N', 'N', 'N', 'NEU', 'P', 'N', 'NEU', 'P', 'NEU', 'P', 'NONE', 'NEU', 'NEU', 'N', 'NONE', 'NEU', 'P', 'P', 'P', 'NEU', 'N', 'N', 'N', 'P', 'P', 'NEU', 'P', 'P', 'N', 'P', 'P', 'N', 'P', 'N', 'NEU', 'N', 'NONE', 'NONE', 'N', 'P', 'NONE', 'NEU', 'N', 'P', 'N', 'N', 'P', 'N', 'N', 'P', 'P', 'P', 'N', 'P', 'N', 'N', 'NONE', 'P', 'P', 'N', 'NONE', 'N', 'P', 'NEU', 'P', 'NEU', 'N', 'N', 'NONE', 'N', 'NONE', 'N', 'N', 'NEU', 'NONE', 'P', 'P', 'P', 'NEU', 'P', 'P', 'N', 'NEU', 'P', 'P', 'N', 'N', 'N', 'NEU', 'N', 'NEU', 'NONE', 'NEU', 'N', 'NEU', 'N', 'NONE', 'P', 'P', 'P', 'N', 'NEU', 'P', 'N', 'N', 'NONE', 'P', 'N', 'P', 'P', 'NEU', 'NONE', 'P', 'P', 'P', 'N', 'N', 'P', 'N', 'P', 'NONE', 'N', 'N', 'N', 'NONE', 'N', 'N', 'N', 'P', 'NEU', 'N', 'P', 'N', 'P', 'NONE', 'P', 'N', 'N', 'P', 'P', 'N', 'N', 'P', 'N', 'NEU', 'N', 'P', 'P', 'NONE', 'N', 'N', 'NONE', 'P', 'NONE', 'NEU', 'P', 'P', 'NONE', 'P', 'N', 'NEU', 'NEU', 'N', 'N', 'NONE', 'NEU', 'N', 'P', 'NEU', 'NEU', 'P', 'N', 'N', 'NEU', 'NONE', 'NONE', 'NONE', 'NONE', 'P', 'N', 'N', 'N', 'P', 'N', 'N', 'N', 'P', 'N', 'NONE', 'NONE', 'N', 'P', 'P', 'N', 'P', 'N', 'P', 'NONE', 'N', 'N', 'NEU', 'N', 'N', 'NONE', 'P', 'P', 'N', 'NONE', 'P', 'P', 'N', 'NEU', 'NONE', 'NONE', 'NONE', 'NEU', 'NONE', 'N', 'N', 'NONE', 'P', 'P', 'P', 'N', 'N', 'N', 'NONE', 'P', 'N', 'N', 'N', 'NEU', 'N', 'P', 'P', 'N', 'N', 'P', 'P', 'P', 'P', 'NEU', 'NEU', 'N', 'P', 'N', 'N', 'N', 'N', 'N', 'NONE', 'P', 'N', 'N', 'P', 'N', 'NEU', 'NONE', 'N', 'P', 'P', 'N', 'P', 'N', 'N', 'P', 'N', 'P', 'N', 'P', 'NONE', 'N', 'N', 'N', 'NONE', 'N', 'P', 'N', 'N', 'P', 'P', 'P', 'P', 'N', 'NONE', 'N', 'N', 'P', 'N', 'N', 'P', 'P', 'NEU', 'NEU', 'N', 'N', 'N', 'N', 'N', 'NONE', 'P', 'P', 'N', 'P', 'N', 'N', 'N', 'N', 'P', 'P', 'P', 'P', 'N', 'P', 'N', 'N', 'P', 'P', 'P', 'N', 'NONE', 'NEU', 'NEU', 'N', 'N', 'N', 'N', 'N', 'NEU', 'N', 'N', 'NEU', 'N', 'P', 'N', 'NONE', 'NEU', 'NONE', 'N', 'P', 'N', 'P', 'NONE', 'N', 'P', 'N', 'NEU', 'NONE', 'P', 'N', 'P', 'NEU', 'N', 'P', 'NEU', 'N', 'NONE', 'NONE', 'N', 'N', 'N', 'NEU', 'N', 'N', 'N', 'NEU', 'NONE', 'N', 'N', 'NEU', 'NONE', 'N', 'NONE', 'P', 'N', 'P', 'N', 'N', 'N', 'N', 'N', 'NEU', 'N', 'N', 'P', 'N', 'N', 'NEU', 'N']\n"
          ]
        }
      ]
    },
    {
      "cell_type": "code",
      "source": [
        "len(text) == len(label)"
      ],
      "metadata": {
        "colab": {
          "base_uri": "https://localhost:8080/"
        },
        "id": "mM9OY7Q8hYF3",
        "outputId": "2cc5fc00-c1e5-4d17-c918-edf91d1ab62f"
      },
      "execution_count": null,
      "outputs": [
        {
          "output_type": "execute_result",
          "data": {
            "text/plain": [
              "True"
            ]
          },
          "metadata": {},
          "execution_count": 199
        }
      ]
    },
    {
      "cell_type": "code",
      "source": [
        "df_sentiment_es = pd.DataFrame({'Text': text, 'Tags': label})"
      ],
      "metadata": {
        "id": "6a11JpYOhmEX"
      },
      "execution_count": null,
      "outputs": []
    },
    {
      "cell_type": "code",
      "source": [
        "df_sentiment_es.head(3)"
      ],
      "metadata": {
        "colab": {
          "base_uri": "https://localhost:8080/",
          "height": 143
        },
        "id": "5DXUa5lphw4S",
        "outputId": "003d2c1a-8532-4c26-85b0-7f79a7b9547c"
      },
      "execution_count": null,
      "outputs": [
        {
          "output_type": "execute_result",
          "data": {
            "text/plain": [
              "                                                Text Tags\n",
              "0  @noseashetero 1000/10 de verdad a ti que voy a...    P\n",
              "1  @piscolabisaereo @HistoriaNG @SPosteguillo las...    P\n",
              "2  Al final han sido 3h  Bueno, mañana tengo fies...    P"
            ],
            "text/html": [
              "\n",
              "  <div id=\"df-67642915-745e-46df-8885-fddde46b589e\">\n",
              "    <div class=\"colab-df-container\">\n",
              "      <div>\n",
              "<style scoped>\n",
              "    .dataframe tbody tr th:only-of-type {\n",
              "        vertical-align: middle;\n",
              "    }\n",
              "\n",
              "    .dataframe tbody tr th {\n",
              "        vertical-align: top;\n",
              "    }\n",
              "\n",
              "    .dataframe thead th {\n",
              "        text-align: right;\n",
              "    }\n",
              "</style>\n",
              "<table border=\"1\" class=\"dataframe\">\n",
              "  <thead>\n",
              "    <tr style=\"text-align: right;\">\n",
              "      <th></th>\n",
              "      <th>Text</th>\n",
              "      <th>Tags</th>\n",
              "    </tr>\n",
              "  </thead>\n",
              "  <tbody>\n",
              "    <tr>\n",
              "      <th>0</th>\n",
              "      <td>@noseashetero 1000/10 de verdad a ti que voy a...</td>\n",
              "      <td>P</td>\n",
              "    </tr>\n",
              "    <tr>\n",
              "      <th>1</th>\n",
              "      <td>@piscolabisaereo @HistoriaNG @SPosteguillo las...</td>\n",
              "      <td>P</td>\n",
              "    </tr>\n",
              "    <tr>\n",
              "      <th>2</th>\n",
              "      <td>Al final han sido 3h  Bueno, mañana tengo fies...</td>\n",
              "      <td>P</td>\n",
              "    </tr>\n",
              "  </tbody>\n",
              "</table>\n",
              "</div>\n",
              "      <button class=\"colab-df-convert\" onclick=\"convertToInteractive('df-67642915-745e-46df-8885-fddde46b589e')\"\n",
              "              title=\"Convert this dataframe to an interactive table.\"\n",
              "              style=\"display:none;\">\n",
              "        \n",
              "  <svg xmlns=\"http://www.w3.org/2000/svg\" height=\"24px\"viewBox=\"0 0 24 24\"\n",
              "       width=\"24px\">\n",
              "    <path d=\"M0 0h24v24H0V0z\" fill=\"none\"/>\n",
              "    <path d=\"M18.56 5.44l.94 2.06.94-2.06 2.06-.94-2.06-.94-.94-2.06-.94 2.06-2.06.94zm-11 1L8.5 8.5l.94-2.06 2.06-.94-2.06-.94L8.5 2.5l-.94 2.06-2.06.94zm10 10l.94 2.06.94-2.06 2.06-.94-2.06-.94-.94-2.06-.94 2.06-2.06.94z\"/><path d=\"M17.41 7.96l-1.37-1.37c-.4-.4-.92-.59-1.43-.59-.52 0-1.04.2-1.43.59L10.3 9.45l-7.72 7.72c-.78.78-.78 2.05 0 2.83L4 21.41c.39.39.9.59 1.41.59.51 0 1.02-.2 1.41-.59l7.78-7.78 2.81-2.81c.8-.78.8-2.07 0-2.86zM5.41 20L4 18.59l7.72-7.72 1.47 1.35L5.41 20z\"/>\n",
              "  </svg>\n",
              "      </button>\n",
              "      \n",
              "  <style>\n",
              "    .colab-df-container {\n",
              "      display:flex;\n",
              "      flex-wrap:wrap;\n",
              "      gap: 12px;\n",
              "    }\n",
              "\n",
              "    .colab-df-convert {\n",
              "      background-color: #E8F0FE;\n",
              "      border: none;\n",
              "      border-radius: 50%;\n",
              "      cursor: pointer;\n",
              "      display: none;\n",
              "      fill: #1967D2;\n",
              "      height: 32px;\n",
              "      padding: 0 0 0 0;\n",
              "      width: 32px;\n",
              "    }\n",
              "\n",
              "    .colab-df-convert:hover {\n",
              "      background-color: #E2EBFA;\n",
              "      box-shadow: 0px 1px 2px rgba(60, 64, 67, 0.3), 0px 1px 3px 1px rgba(60, 64, 67, 0.15);\n",
              "      fill: #174EA6;\n",
              "    }\n",
              "\n",
              "    [theme=dark] .colab-df-convert {\n",
              "      background-color: #3B4455;\n",
              "      fill: #D2E3FC;\n",
              "    }\n",
              "\n",
              "    [theme=dark] .colab-df-convert:hover {\n",
              "      background-color: #434B5C;\n",
              "      box-shadow: 0px 1px 3px 1px rgba(0, 0, 0, 0.15);\n",
              "      filter: drop-shadow(0px 1px 2px rgba(0, 0, 0, 0.3));\n",
              "      fill: #FFFFFF;\n",
              "    }\n",
              "  </style>\n",
              "\n",
              "      <script>\n",
              "        const buttonEl =\n",
              "          document.querySelector('#df-67642915-745e-46df-8885-fddde46b589e button.colab-df-convert');\n",
              "        buttonEl.style.display =\n",
              "          google.colab.kernel.accessAllowed ? 'block' : 'none';\n",
              "\n",
              "        async function convertToInteractive(key) {\n",
              "          const element = document.querySelector('#df-67642915-745e-46df-8885-fddde46b589e');\n",
              "          const dataTable =\n",
              "            await google.colab.kernel.invokeFunction('convertToInteractive',\n",
              "                                                     [key], {});\n",
              "          if (!dataTable) return;\n",
              "\n",
              "          const docLinkHtml = 'Like what you see? Visit the ' +\n",
              "            '<a target=\"_blank\" href=https://colab.research.google.com/notebooks/data_table.ipynb>data table notebook</a>'\n",
              "            + ' to learn more about interactive tables.';\n",
              "          element.innerHTML = '';\n",
              "          dataTable['output_type'] = 'display_data';\n",
              "          await google.colab.output.renderOutput(dataTable, element);\n",
              "          const docLink = document.createElement('div');\n",
              "          docLink.innerHTML = docLinkHtml;\n",
              "          element.appendChild(docLink);\n",
              "        }\n",
              "      </script>\n",
              "    </div>\n",
              "  </div>\n",
              "  "
            ]
          },
          "metadata": {},
          "execution_count": 201
        }
      ]
    },
    {
      "cell_type": "code",
      "source": [
        "df_sentiment_es['Tags'].value_counts()"
      ],
      "metadata": {
        "colab": {
          "base_uri": "https://localhost:8080/"
        },
        "id": "LVzyPUvthxkq",
        "outputId": "f49b0e37-4128-4930-9d20-49c02a45c450"
      },
      "execution_count": null,
      "outputs": [
        {
          "output_type": "execute_result",
          "data": {
            "text/plain": [
              "N       219\n",
              "P       156\n",
              "NEU      69\n",
              "NONE     62\n",
              "Name: Tags, dtype: int64"
            ]
          },
          "metadata": {},
          "execution_count": 202
        }
      ]
    },
    {
      "cell_type": "code",
      "source": [
        "df_sentiment_es = df_sentiment_es[df_sentiment_es['Tags'] != 'NONE']"
      ],
      "metadata": {
        "id": "vyqnpUGWitOs"
      },
      "execution_count": null,
      "outputs": []
    },
    {
      "cell_type": "code",
      "source": [
        "df_sentiment_es['Tags'].value_counts()"
      ],
      "metadata": {
        "colab": {
          "base_uri": "https://localhost:8080/"
        },
        "id": "o-mIXDH6iWzU",
        "outputId": "b2a0bc9f-8a70-4e3f-c1df-37802ef89a99"
      },
      "execution_count": null,
      "outputs": [
        {
          "output_type": "execute_result",
          "data": {
            "text/plain": [
              "N      219\n",
              "P      156\n",
              "NEU     69\n",
              "Name: Tags, dtype: int64"
            ]
          },
          "metadata": {},
          "execution_count": 204
        }
      ]
    },
    {
      "cell_type": "code",
      "source": [
        "unique_labels = df_sentiment_es['Tags'].unique()\n",
        "print(unique_labels)"
      ],
      "metadata": {
        "colab": {
          "base_uri": "https://localhost:8080/"
        },
        "id": "1FooUma_irrE",
        "outputId": "e4fd9b38-8a4d-40a5-dc8c-d99592c2636f"
      },
      "execution_count": null,
      "outputs": [
        {
          "output_type": "stream",
          "name": "stdout",
          "text": [
            "['P' 'N' 'NEU']\n"
          ]
        }
      ]
    },
    {
      "cell_type": "code",
      "source": [
        "sentiment_es_final = pd.DataFrame()  \n",
        "\n",
        "for label in unique_labels:\n",
        "    label_rows = df_sentiment_es[df_sentiment_es['Tags'] == label]  \n",
        "    random_rows = label_rows.sample(n=33)  \n",
        "    sentiment_es_final = sentiment_es_final.append(random_rows) "
      ],
      "metadata": {
        "colab": {
          "base_uri": "https://localhost:8080/"
        },
        "outputId": "dbeeb4f1-2368-49ce-c578-4468b4dfe987",
        "id": "rnerPdski6iI"
      },
      "execution_count": null,
      "outputs": [
        {
          "output_type": "stream",
          "name": "stderr",
          "text": [
            "<ipython-input-206-a0182ff363d3>:6: FutureWarning: The frame.append method is deprecated and will be removed from pandas in a future version. Use pandas.concat instead.\n",
            "  sentiment_es_final = sentiment_es_final.append(random_rows)\n",
            "<ipython-input-206-a0182ff363d3>:6: FutureWarning: The frame.append method is deprecated and will be removed from pandas in a future version. Use pandas.concat instead.\n",
            "  sentiment_es_final = sentiment_es_final.append(random_rows)\n",
            "<ipython-input-206-a0182ff363d3>:6: FutureWarning: The frame.append method is deprecated and will be removed from pandas in a future version. Use pandas.concat instead.\n",
            "  sentiment_es_final = sentiment_es_final.append(random_rows)\n"
          ]
        }
      ]
    },
    {
      "cell_type": "code",
      "source": [
        "sentiment_es_final = sentiment_es_final.reset_index(drop = True)"
      ],
      "metadata": {
        "id": "hm6ZBOlmi6iW"
      },
      "execution_count": null,
      "outputs": []
    },
    {
      "cell_type": "code",
      "source": [
        "sentiment_es_final.head(3)"
      ],
      "metadata": {
        "colab": {
          "base_uri": "https://localhost:8080/",
          "height": 143
        },
        "outputId": "f828f240-dab6-4c74-8770-0bb7c4cd2740",
        "id": "TyLHi3JWi6iW"
      },
      "execution_count": null,
      "outputs": [
        {
          "output_type": "execute_result",
          "data": {
            "text/plain": [
              "                                                Text Tags\n",
              "0  @JulenReal Anda que no nos hemos subido ahí tu...    P\n",
              "1  Ya decía yo que lo bueno me iba a llegar tarde...    P\n",
              "2  @pmklose Le conocí en 2011, me pareció intelig...    P"
            ],
            "text/html": [
              "\n",
              "  <div id=\"df-4e6600e9-2bd0-4962-a9c9-3da2c59c3910\">\n",
              "    <div class=\"colab-df-container\">\n",
              "      <div>\n",
              "<style scoped>\n",
              "    .dataframe tbody tr th:only-of-type {\n",
              "        vertical-align: middle;\n",
              "    }\n",
              "\n",
              "    .dataframe tbody tr th {\n",
              "        vertical-align: top;\n",
              "    }\n",
              "\n",
              "    .dataframe thead th {\n",
              "        text-align: right;\n",
              "    }\n",
              "</style>\n",
              "<table border=\"1\" class=\"dataframe\">\n",
              "  <thead>\n",
              "    <tr style=\"text-align: right;\">\n",
              "      <th></th>\n",
              "      <th>Text</th>\n",
              "      <th>Tags</th>\n",
              "    </tr>\n",
              "  </thead>\n",
              "  <tbody>\n",
              "    <tr>\n",
              "      <th>0</th>\n",
              "      <td>@JulenReal Anda que no nos hemos subido ahí tu...</td>\n",
              "      <td>P</td>\n",
              "    </tr>\n",
              "    <tr>\n",
              "      <th>1</th>\n",
              "      <td>Ya decía yo que lo bueno me iba a llegar tarde...</td>\n",
              "      <td>P</td>\n",
              "    </tr>\n",
              "    <tr>\n",
              "      <th>2</th>\n",
              "      <td>@pmklose Le conocí en 2011, me pareció intelig...</td>\n",
              "      <td>P</td>\n",
              "    </tr>\n",
              "  </tbody>\n",
              "</table>\n",
              "</div>\n",
              "      <button class=\"colab-df-convert\" onclick=\"convertToInteractive('df-4e6600e9-2bd0-4962-a9c9-3da2c59c3910')\"\n",
              "              title=\"Convert this dataframe to an interactive table.\"\n",
              "              style=\"display:none;\">\n",
              "        \n",
              "  <svg xmlns=\"http://www.w3.org/2000/svg\" height=\"24px\"viewBox=\"0 0 24 24\"\n",
              "       width=\"24px\">\n",
              "    <path d=\"M0 0h24v24H0V0z\" fill=\"none\"/>\n",
              "    <path d=\"M18.56 5.44l.94 2.06.94-2.06 2.06-.94-2.06-.94-.94-2.06-.94 2.06-2.06.94zm-11 1L8.5 8.5l.94-2.06 2.06-.94-2.06-.94L8.5 2.5l-.94 2.06-2.06.94zm10 10l.94 2.06.94-2.06 2.06-.94-2.06-.94-.94-2.06-.94 2.06-2.06.94z\"/><path d=\"M17.41 7.96l-1.37-1.37c-.4-.4-.92-.59-1.43-.59-.52 0-1.04.2-1.43.59L10.3 9.45l-7.72 7.72c-.78.78-.78 2.05 0 2.83L4 21.41c.39.39.9.59 1.41.59.51 0 1.02-.2 1.41-.59l7.78-7.78 2.81-2.81c.8-.78.8-2.07 0-2.86zM5.41 20L4 18.59l7.72-7.72 1.47 1.35L5.41 20z\"/>\n",
              "  </svg>\n",
              "      </button>\n",
              "      \n",
              "  <style>\n",
              "    .colab-df-container {\n",
              "      display:flex;\n",
              "      flex-wrap:wrap;\n",
              "      gap: 12px;\n",
              "    }\n",
              "\n",
              "    .colab-df-convert {\n",
              "      background-color: #E8F0FE;\n",
              "      border: none;\n",
              "      border-radius: 50%;\n",
              "      cursor: pointer;\n",
              "      display: none;\n",
              "      fill: #1967D2;\n",
              "      height: 32px;\n",
              "      padding: 0 0 0 0;\n",
              "      width: 32px;\n",
              "    }\n",
              "\n",
              "    .colab-df-convert:hover {\n",
              "      background-color: #E2EBFA;\n",
              "      box-shadow: 0px 1px 2px rgba(60, 64, 67, 0.3), 0px 1px 3px 1px rgba(60, 64, 67, 0.15);\n",
              "      fill: #174EA6;\n",
              "    }\n",
              "\n",
              "    [theme=dark] .colab-df-convert {\n",
              "      background-color: #3B4455;\n",
              "      fill: #D2E3FC;\n",
              "    }\n",
              "\n",
              "    [theme=dark] .colab-df-convert:hover {\n",
              "      background-color: #434B5C;\n",
              "      box-shadow: 0px 1px 3px 1px rgba(0, 0, 0, 0.15);\n",
              "      filter: drop-shadow(0px 1px 2px rgba(0, 0, 0, 0.3));\n",
              "      fill: #FFFFFF;\n",
              "    }\n",
              "  </style>\n",
              "\n",
              "      <script>\n",
              "        const buttonEl =\n",
              "          document.querySelector('#df-4e6600e9-2bd0-4962-a9c9-3da2c59c3910 button.colab-df-convert');\n",
              "        buttonEl.style.display =\n",
              "          google.colab.kernel.accessAllowed ? 'block' : 'none';\n",
              "\n",
              "        async function convertToInteractive(key) {\n",
              "          const element = document.querySelector('#df-4e6600e9-2bd0-4962-a9c9-3da2c59c3910');\n",
              "          const dataTable =\n",
              "            await google.colab.kernel.invokeFunction('convertToInteractive',\n",
              "                                                     [key], {});\n",
              "          if (!dataTable) return;\n",
              "\n",
              "          const docLinkHtml = 'Like what you see? Visit the ' +\n",
              "            '<a target=\"_blank\" href=https://colab.research.google.com/notebooks/data_table.ipynb>data table notebook</a>'\n",
              "            + ' to learn more about interactive tables.';\n",
              "          element.innerHTML = '';\n",
              "          dataTable['output_type'] = 'display_data';\n",
              "          await google.colab.output.renderOutput(dataTable, element);\n",
              "          const docLink = document.createElement('div');\n",
              "          docLink.innerHTML = docLinkHtml;\n",
              "          element.appendChild(docLink);\n",
              "        }\n",
              "      </script>\n",
              "    </div>\n",
              "  </div>\n",
              "  "
            ]
          },
          "metadata": {},
          "execution_count": 208
        }
      ]
    },
    {
      "cell_type": "code",
      "source": [
        "sentiment_es_final['Tags'].value_counts()"
      ],
      "metadata": {
        "colab": {
          "base_uri": "https://localhost:8080/"
        },
        "outputId": "4f889932-b364-4e40-900e-50102ae051ce",
        "id": "n210U4aVi6iW"
      },
      "execution_count": null,
      "outputs": [
        {
          "output_type": "execute_result",
          "data": {
            "text/plain": [
              "P      33\n",
              "N      33\n",
              "NEU    33\n",
              "Name: Tags, dtype: int64"
            ]
          },
          "metadata": {},
          "execution_count": 209
        }
      ]
    },
    {
      "cell_type": "code",
      "source": [
        "sentiment_es_final = sentiment_es_final.sample(frac=1).reset_index(drop=True)"
      ],
      "metadata": {
        "id": "l52eSwuOpMvL"
      },
      "execution_count": null,
      "outputs": []
    },
    {
      "cell_type": "code",
      "source": [
        "sentiment_es_final.to_csv('sentiment_es_final.csv')"
      ],
      "metadata": {
        "id": "RvS1Zplgi6iW"
      },
      "execution_count": null,
      "outputs": []
    },
    {
      "cell_type": "markdown",
      "source": [
        "## EVALUATION"
      ],
      "metadata": {
        "id": "7uocIVwKJPRu"
      }
    },
    {
      "cell_type": "code",
      "source": [
        "df = pd.read_csv('/content/CSE-291-PROJECT - FINAL.csv')"
      ],
      "metadata": {
        "id": "cTzSa43bJRre"
      },
      "execution_count": null,
      "outputs": []
    },
    {
      "cell_type": "code",
      "source": [
        "df.head(3)"
      ],
      "metadata": {
        "id": "bYa0eJ4ALoX6"
      },
      "execution_count": null,
      "outputs": []
    },
    {
      "cell_type": "code",
      "source": [
        "def calculate_metrics(real, pred, model):\n",
        "    f1_micro = f1_score(real, pred, average='micro')\n",
        "    f1_macro = f1_score(real, pred, average='macro')\n",
        "    precision = precision_score(real, pred, average='weighted')\n",
        "    recall = recall_score(real, pred, average='weighted')\n",
        "    accuracy = accuracy_score(real, pred)\n",
        "\n",
        "    print(\"F1 Micro\", model, \": \", f1_micro)\n",
        "    print(\"F1 Macro:\", model, \": \", f1_macro)\n",
        "    print(\"Precision:\", model, \": \", precision)\n",
        "    print(\"Recall:\", model, \": \", recall)\n",
        "    print(\"Accuracy:\", model, \": \", accuracy)"
      ],
      "metadata": {
        "id": "05hTSIl9hB1f"
      },
      "execution_count": null,
      "outputs": []
    },
    {
      "cell_type": "markdown",
      "source": [
        "### Hate Detection - Marathi - Hate = 1, NotHate = 0"
      ],
      "metadata": {
        "id": "JeZn1x6lfJ4K"
      }
    },
    {
      "cell_type": "code",
      "source": [
        "df_real_hate_mr = pd.read_csv('/content/hate_mr_final.csv')"
      ],
      "metadata": {
        "id": "NmG9GuQQgIx-"
      },
      "execution_count": null,
      "outputs": []
    },
    {
      "cell_type": "code",
      "source": [
        "df_real_hate_mr['label'].value_counts()"
      ],
      "metadata": {
        "colab": {
          "base_uri": "https://localhost:8080/"
        },
        "id": "pM-GfUahgOO5",
        "outputId": "b4a7b4e3-40d9-4191-abbd-9cd8505e6fb6"
      },
      "execution_count": null,
      "outputs": [
        {
          "output_type": "execute_result",
          "data": {
            "text/plain": [
              "HOF    50\n",
              "NOT    50\n",
              "Name: label, dtype: int64"
            ]
          },
          "metadata": {},
          "execution_count": 55
        }
      ]
    },
    {
      "cell_type": "code",
      "source": [
        "label_to_num = {'HOF': 1, 'NOT': 0}\n",
        "num_to_label = {0: 'NOT', 1: 'HOF'}"
      ],
      "metadata": {
        "id": "u6xoUZILgVSs"
      },
      "execution_count": null,
      "outputs": []
    },
    {
      "cell_type": "code",
      "source": [
        "print(label_to_num)\n",
        "print(\" \")\n",
        "print(num_to_label)"
      ],
      "metadata": {
        "colab": {
          "base_uri": "https://localhost:8080/"
        },
        "id": "SnlpiAAm36YO",
        "outputId": "270eb6f6-b879-4f2f-f0f2-024f011aa165"
      },
      "execution_count": null,
      "outputs": [
        {
          "output_type": "stream",
          "name": "stdout",
          "text": [
            "{'HOF': 1, 'NOT': 0}\n",
            " \n",
            "{0: 'NOT', 1: 'HOF'}\n"
          ]
        }
      ]
    },
    {
      "cell_type": "code",
      "source": [
        "df_real_hate_mr['tokeinzed_label'] = df_real_hate_mr['label'].apply(lambda x: label_to_num[x])"
      ],
      "metadata": {
        "id": "sCReDWiQgYSq"
      },
      "execution_count": null,
      "outputs": []
    },
    {
      "cell_type": "code",
      "source": [
        "df_real_hate_mr['tokeinzed_label']"
      ],
      "metadata": {
        "colab": {
          "base_uri": "https://localhost:8080/"
        },
        "id": "R6IoDho3gfVr",
        "outputId": "148b4bbf-373e-4f7a-e3b1-468e9e509a94"
      },
      "execution_count": null,
      "outputs": [
        {
          "output_type": "execute_result",
          "data": {
            "text/plain": [
              "0     1\n",
              "1     1\n",
              "2     0\n",
              "3     1\n",
              "4     0\n",
              "     ..\n",
              "95    1\n",
              "96    0\n",
              "97    0\n",
              "98    0\n",
              "99    0\n",
              "Name: tokeinzed_label, Length: 100, dtype: int64"
            ]
          },
          "metadata": {},
          "execution_count": 59
        }
      ]
    },
    {
      "cell_type": "markdown",
      "source": [
        "#### ChatGPT"
      ],
      "metadata": {
        "id": "bTvxGZJ5fXyi"
      }
    },
    {
      "cell_type": "code",
      "source": [
        "label_to_num = {cuisine: i for i, cuisine in enumerate(df['hate_mr_ChatGPT'].unique())}      \n",
        "num_to_label = {i: cuisine for cuisine, i in label_to_num.items()}"
      ],
      "metadata": {
        "id": "QD6RbeGzfW8q"
      },
      "execution_count": null,
      "outputs": []
    },
    {
      "cell_type": "code",
      "source": [
        "print(label_to_num)\n",
        "print(\" \")\n",
        "print(label_to_num)"
      ],
      "metadata": {
        "colab": {
          "base_uri": "https://localhost:8080/"
        },
        "id": "dDTxJZ5wLpDu",
        "outputId": "6889bd37-22bd-45f9-ebc7-e4f30471a521"
      },
      "execution_count": null,
      "outputs": [
        {
          "output_type": "stream",
          "name": "stdout",
          "text": [
            "{'not hate': 0, 'hate': 1}\n",
            " \n",
            "{'not hate': 0, 'hate': 1}\n"
          ]
        }
      ]
    },
    {
      "cell_type": "code",
      "source": [
        "df['tokenized_hate_mr_ChatGPT'] = df['hate_mr_ChatGPT'].apply(lambda x: label_to_num[x])"
      ],
      "metadata": {
        "id": "wwdrn5m5et5U"
      },
      "execution_count": null,
      "outputs": []
    },
    {
      "cell_type": "code",
      "source": [
        "df['tokenized_hate_mr_ChatGPT']"
      ],
      "metadata": {
        "colab": {
          "base_uri": "https://localhost:8080/"
        },
        "id": "I_UiYmvxgB-Y",
        "outputId": "70f23306-8f81-43d2-9be4-b23b97a394ba"
      },
      "execution_count": null,
      "outputs": [
        {
          "output_type": "execute_result",
          "data": {
            "text/plain": [
              "0     0\n",
              "1     1\n",
              "2     1\n",
              "3     1\n",
              "4     0\n",
              "     ..\n",
              "95    1\n",
              "96    0\n",
              "97    1\n",
              "98    0\n",
              "99    0\n",
              "Name: tokenized_hate_mr_ChatGPT, Length: 100, dtype: int64"
            ]
          },
          "metadata": {},
          "execution_count": 63
        }
      ]
    },
    {
      "cell_type": "code",
      "source": [
        "calculate_metrics(df_real_hate_mr['tokeinzed_label'], df['tokenized_hate_mr_ChatGPT'], 'ChatGPT')"
      ],
      "metadata": {
        "colab": {
          "base_uri": "https://localhost:8080/"
        },
        "id": "MRoqCCkRgE_-",
        "outputId": "0d329cad-4659-48d0-bae7-66b69e968f01"
      },
      "execution_count": null,
      "outputs": [
        {
          "output_type": "stream",
          "name": "stdout",
          "text": [
            "F1 Micro ChatGPT :  0.78\n",
            "F1 Macro: ChatGPT :  0.7767857142857144\n",
            "Precision: ChatGPT :  0.7971137521222411\n",
            "Recall: ChatGPT :  0.78\n",
            "Accuracy: ChatGPT :  0.78\n"
          ]
        }
      ]
    },
    {
      "cell_type": "markdown",
      "source": [
        "#### Perplexity AI"
      ],
      "metadata": {
        "id": "Io5ouAPLhpRd"
      }
    },
    {
      "cell_type": "code",
      "source": [
        "def remove_indexes(df, column_name):\n",
        "    pattern = r'^\\d+[\\s-]+'\n",
        "    df[column_name] = df[column_name].str.replace(pattern, '', regex=True)\n",
        "    return df"
      ],
      "metadata": {
        "id": "6MTn9CXCiHqM"
      },
      "execution_count": null,
      "outputs": []
    },
    {
      "cell_type": "code",
      "source": [
        "df['hate_mr_Perplexity AI']"
      ],
      "metadata": {
        "colab": {
          "base_uri": "https://localhost:8080/"
        },
        "id": "3CLJLImqhfuE",
        "outputId": "a17e5014-da15-4d65-b213-de2a69a542a6"
      },
      "execution_count": null,
      "outputs": [
        {
          "output_type": "execute_result",
          "data": {
            "text/plain": [
              "0          0 hate\n",
              "1          1 hate\n",
              "2          2 hate\n",
              "3      3 not hate\n",
              "4      4 not hate\n",
              "         ...     \n",
              "95        95 hate\n",
              "96    96 not hate\n",
              "97        97 hate\n",
              "98    98 not hate\n",
              "99    99 not hate\n",
              "Name: hate_mr_Perplexity AI, Length: 100, dtype: object"
            ]
          },
          "metadata": {},
          "execution_count": 66
        }
      ]
    },
    {
      "cell_type": "code",
      "source": [
        "df = remove_indexes(df, 'hate_mr_Perplexity AI')"
      ],
      "metadata": {
        "id": "jeYF3niGhyPC"
      },
      "execution_count": null,
      "outputs": []
    },
    {
      "cell_type": "code",
      "source": [
        "df['hate_mr_Perplexity AI']"
      ],
      "metadata": {
        "colab": {
          "base_uri": "https://localhost:8080/"
        },
        "id": "4rpGfFVTiShN",
        "outputId": "63dd363d-4379-42c0-9705-88d1c13500e5"
      },
      "execution_count": null,
      "outputs": [
        {
          "output_type": "execute_result",
          "data": {
            "text/plain": [
              "0         hate\n",
              "1         hate\n",
              "2         hate\n",
              "3     not hate\n",
              "4     not hate\n",
              "        ...   \n",
              "95        hate\n",
              "96    not hate\n",
              "97        hate\n",
              "98    not hate\n",
              "99    not hate\n",
              "Name: hate_mr_Perplexity AI, Length: 100, dtype: object"
            ]
          },
          "metadata": {},
          "execution_count": 68
        }
      ]
    },
    {
      "cell_type": "code",
      "source": [
        "df['hate_mr_Perplexity AI'].value_counts()"
      ],
      "metadata": {
        "colab": {
          "base_uri": "https://localhost:8080/"
        },
        "id": "MEL5FSZtiTrP",
        "outputId": "28168331-518b-47c2-c77b-331650fc6171"
      },
      "execution_count": null,
      "outputs": [
        {
          "output_type": "execute_result",
          "data": {
            "text/plain": [
              "hate        50\n",
              "not hate    50\n",
              "Name: hate_mr_Perplexity AI, dtype: int64"
            ]
          },
          "metadata": {},
          "execution_count": 69
        }
      ]
    },
    {
      "cell_type": "code",
      "source": [
        "label_to_num = {'hate': 1, 'not hate': 0}   \n",
        "num_to_label = {1: 'hate', 0: 'not hate'}"
      ],
      "metadata": {
        "id": "hWfgqPj7iVZT"
      },
      "execution_count": null,
      "outputs": []
    },
    {
      "cell_type": "code",
      "source": [
        "print(label_to_num)\n",
        "print(\" \")\n",
        "print(num_to_label)"
      ],
      "metadata": {
        "colab": {
          "base_uri": "https://localhost:8080/"
        },
        "id": "s_aGC7KHianf",
        "outputId": "65f53046-a9ab-480d-f249-f9b97ae157b9"
      },
      "execution_count": null,
      "outputs": [
        {
          "output_type": "stream",
          "name": "stdout",
          "text": [
            "{'hate': 1, 'not hate': 0}\n",
            " \n",
            "{1: 'hate', 0: 'not hate'}\n"
          ]
        }
      ]
    },
    {
      "cell_type": "code",
      "source": [
        "df['tokenized_hate_mr_Perplexity_AI'] = df['hate_mr_Perplexity AI'].apply(lambda x: label_to_num[x])"
      ],
      "metadata": {
        "id": "OH95cpcxicbb"
      },
      "execution_count": null,
      "outputs": []
    },
    {
      "cell_type": "code",
      "source": [
        "df['tokenized_hate_mr_Perplexity_AI']"
      ],
      "metadata": {
        "colab": {
          "base_uri": "https://localhost:8080/"
        },
        "id": "wjbla0RGij1H",
        "outputId": "496cc0fc-d193-49b5-b37a-e3aa4a6bce1c"
      },
      "execution_count": null,
      "outputs": [
        {
          "output_type": "execute_result",
          "data": {
            "text/plain": [
              "0     1\n",
              "1     1\n",
              "2     1\n",
              "3     0\n",
              "4     0\n",
              "     ..\n",
              "95    1\n",
              "96    0\n",
              "97    1\n",
              "98    0\n",
              "99    0\n",
              "Name: tokenized_hate_mr_Perplexity_AI, Length: 100, dtype: int64"
            ]
          },
          "metadata": {},
          "execution_count": 76
        }
      ]
    },
    {
      "cell_type": "code",
      "source": [
        "calculate_metrics(df_real_hate_mr['tokeinzed_label'], df['tokenized_hate_mr_Perplexity_AI'], 'Perplexity AI')"
      ],
      "metadata": {
        "colab": {
          "base_uri": "https://localhost:8080/"
        },
        "id": "u0cgfuYKiksC",
        "outputId": "443e5a53-321d-440a-ea1b-b46e7d067b0e"
      },
      "execution_count": null,
      "outputs": [
        {
          "output_type": "stream",
          "name": "stdout",
          "text": [
            "F1 Micro Perplexity AI :  0.7\n",
            "F1 Macro: Perplexity AI :  0.7\n",
            "Precision: Perplexity AI :  0.7\n",
            "Recall: Perplexity AI :  0.7\n",
            "Accuracy: Perplexity AI :  0.7\n"
          ]
        }
      ]
    },
    {
      "cell_type": "markdown",
      "source": [
        "#### ChatSonic"
      ],
      "metadata": {
        "id": "A6FjQxVkjBoW"
      }
    },
    {
      "cell_type": "code",
      "source": [
        "def remove_substrings(df, column_name):\n",
        "  df[column_name] = df[column_name].str.replace('\\d+', '', regex=True)\n",
        "  df[column_name] = df[column_name].str.replace(':', '')\n",
        "  df[column_name] = df[column_name].str.replace('speech', '')\n",
        "  df[column_name] = df[column_name].str.replace('Speech', '')\n",
        "  df[column_name] = df[column_name].str.replace('-', '')\n",
        "  df[column_name] = df[column_name].str.replace('  ', '')\n",
        "  df[column_name] = df[column_name].str.replace(' ', '')\n",
        "  df[column_name] = df[column_name].str.replace('  ', '')\n",
        "  df[column_name] = df[column_name].str.replace('Nonhate', 'NonHate')\n",
        "  return df"
      ],
      "metadata": {
        "id": "0OXpq7jKjJjY"
      },
      "execution_count": null,
      "outputs": []
    },
    {
      "cell_type": "code",
      "source": [
        "df['hate_mr_Chatsonic']"
      ],
      "metadata": {
        "colab": {
          "base_uri": "https://localhost:8080/"
        },
        "id": "g2cnOtHDirlA",
        "outputId": "7551189b-71a1-4c8e-c4e1-a063a4252e7e"
      },
      "execution_count": null,
      "outputs": [
        {
          "output_type": "execute_result",
          "data": {
            "text/plain": [
              "0     NonHate\n",
              "1        Hate\n",
              "2        Hate\n",
              "3     NonHate\n",
              "4     NonHate\n",
              "       ...   \n",
              "95       Hate\n",
              "96    NonHate\n",
              "97       Hate\n",
              "98    NonHate\n",
              "99    NonHate\n",
              "Name: hate_mr_Chatsonic, Length: 100, dtype: object"
            ]
          },
          "metadata": {},
          "execution_count": 79
        }
      ]
    },
    {
      "cell_type": "code",
      "source": [
        "df = remove_substrings(df, 'hate_mr_Chatsonic')"
      ],
      "metadata": {
        "id": "R5cqGM-djHlQ"
      },
      "execution_count": null,
      "outputs": []
    },
    {
      "cell_type": "code",
      "source": [
        "df['hate_mr_Chatsonic']"
      ],
      "metadata": {
        "colab": {
          "base_uri": "https://localhost:8080/"
        },
        "id": "I7dYhmayjNXj",
        "outputId": "d0b07832-18e3-4466-f2ef-d29941a802c2"
      },
      "execution_count": null,
      "outputs": [
        {
          "output_type": "execute_result",
          "data": {
            "text/plain": [
              "0     NonHate\n",
              "1        Hate\n",
              "2        Hate\n",
              "3     NonHate\n",
              "4     NonHate\n",
              "       ...   \n",
              "95       Hate\n",
              "96    NonHate\n",
              "97       Hate\n",
              "98    NonHate\n",
              "99    NonHate\n",
              "Name: hate_mr_Chatsonic, Length: 100, dtype: object"
            ]
          },
          "metadata": {},
          "execution_count": 81
        }
      ]
    },
    {
      "cell_type": "code",
      "source": [
        "df['hate_mr_Chatsonic'].value_counts()"
      ],
      "metadata": {
        "colab": {
          "base_uri": "https://localhost:8080/"
        },
        "id": "XrGrf9ajjRa8",
        "outputId": "aca155d4-de17-479a-d41a-841465b0cddb"
      },
      "execution_count": null,
      "outputs": [
        {
          "output_type": "execute_result",
          "data": {
            "text/plain": [
              "NonHate    58\n",
              "Hate       42\n",
              "Name: hate_mr_Chatsonic, dtype: int64"
            ]
          },
          "metadata": {},
          "execution_count": 82
        }
      ]
    },
    {
      "cell_type": "code",
      "source": [
        "label_to_num = {cuisine: i for i, cuisine in enumerate(df['hate_mr_Chatsonic'].unique())}      \n",
        "num_to_label = {i: cuisine for cuisine, i in label_to_num.items()}"
      ],
      "metadata": {
        "id": "EBJTstmCj_Zf"
      },
      "execution_count": null,
      "outputs": []
    },
    {
      "cell_type": "code",
      "source": [
        "print(label_to_num)\n",
        "print(\" \")\n",
        "print(num_to_label)"
      ],
      "metadata": {
        "colab": {
          "base_uri": "https://localhost:8080/"
        },
        "id": "JAJdVN7g3aBS",
        "outputId": "4775f7b9-9b12-438a-9f9f-d2e7e7977aed"
      },
      "execution_count": null,
      "outputs": [
        {
          "output_type": "stream",
          "name": "stdout",
          "text": [
            "{'NonHate': 0, 'Hate': 1}\n",
            " \n",
            "{0: 'NonHate', 1: 'Hate'}\n"
          ]
        }
      ]
    },
    {
      "cell_type": "code",
      "source": [
        "df['tokenized_hate_mr_Chatsonic'] = df['hate_mr_Chatsonic'].apply(lambda x: label_to_num[x])"
      ],
      "metadata": {
        "id": "Qy0YJvIk3dVS"
      },
      "execution_count": null,
      "outputs": []
    },
    {
      "cell_type": "code",
      "source": [
        "calculate_metrics(df_real_hate_mr['tokeinzed_label'], df['tokenized_hate_mr_Chatsonic'], 'ChatSonic')"
      ],
      "metadata": {
        "colab": {
          "base_uri": "https://localhost:8080/"
        },
        "id": "sJW2e89w4iSv",
        "outputId": "13fa9d98-fc9e-4206-937b-9aa565c75a0a"
      },
      "execution_count": null,
      "outputs": [
        {
          "output_type": "stream",
          "name": "stdout",
          "text": [
            "F1 Micro ChatSonic :  0.68\n",
            "F1 Macro: ChatSonic :  0.677938808373591\n",
            "Precision: ChatSonic :  0.6847290640394089\n",
            "Recall: ChatSonic :  0.68\n",
            "Accuracy: ChatSonic :  0.68\n"
          ]
        }
      ]
    },
    {
      "cell_type": "markdown",
      "source": [
        "#### MahaHate - L3Cube"
      ],
      "metadata": {
        "id": "leeeoF7Y49aB"
      }
    },
    {
      "cell_type": "code",
      "source": [
        "df_predict_hate_mr = df_real_hate_mr[['text']]"
      ],
      "metadata": {
        "id": "DQG6zyK65I42"
      },
      "execution_count": null,
      "outputs": []
    },
    {
      "cell_type": "code",
      "source": [
        "df_predict_hate_mr"
      ],
      "metadata": {
        "colab": {
          "base_uri": "https://localhost:8080/",
          "height": 424
        },
        "id": "ajWIP0Nv5qaJ",
        "outputId": "c90912e0-a7eb-4792-defc-1066b602772c"
      },
      "execution_count": null,
      "outputs": [
        {
          "output_type": "execute_result",
          "data": {
            "text/plain": [
              "                                                 text\n",
              "0    शेजारणीची सुंदर पुच्ची - https://t.co/xYqE52MoT1\n",
              "1   दलिंदर आहे काँग्रेस ची मानसिकता, देशाला लागलेल...\n",
              "2   सामूहिक बलात्कारानंतर अल्पवयीन मुलीची हत्या, ऊ...\n",
              "3   @INCMaharashtra कुठली शाळा शिकलेले आहे बरं... ...\n",
              "4   झी चोवीस ‌वाले अर्धवट बातम्या देण्यात एक नंबर ...\n",
              "..                                                ...\n",
              "95  ईदच्या पवित्र दिवशी जम्मू आणि काश्मिरात राष्ट्...\n",
              "96  या मार्गावर धावणाऱ्या रेल्वे गाड्यांना हा प्रव...\n",
              "97  @MaheshPatil_B मुळात महाराजांची विटंबणा करण्या...\n",
              "98  लबडे परीवार बैलपोळा ऊत्सव !!  https://t.co/X0W...\n",
              "99  @vvmspeaks @RajeGhatge_M @fadnavis_amruta @jit...\n",
              "\n",
              "[100 rows x 1 columns]"
            ],
            "text/html": [
              "\n",
              "  <div id=\"df-d5e918cd-f287-4f9c-80d3-0e2e9ffa5e3e\">\n",
              "    <div class=\"colab-df-container\">\n",
              "      <div>\n",
              "<style scoped>\n",
              "    .dataframe tbody tr th:only-of-type {\n",
              "        vertical-align: middle;\n",
              "    }\n",
              "\n",
              "    .dataframe tbody tr th {\n",
              "        vertical-align: top;\n",
              "    }\n",
              "\n",
              "    .dataframe thead th {\n",
              "        text-align: right;\n",
              "    }\n",
              "</style>\n",
              "<table border=\"1\" class=\"dataframe\">\n",
              "  <thead>\n",
              "    <tr style=\"text-align: right;\">\n",
              "      <th></th>\n",
              "      <th>text</th>\n",
              "    </tr>\n",
              "  </thead>\n",
              "  <tbody>\n",
              "    <tr>\n",
              "      <th>0</th>\n",
              "      <td>शेजारणीची सुंदर पुच्ची - https://t.co/xYqE52MoT1</td>\n",
              "    </tr>\n",
              "    <tr>\n",
              "      <th>1</th>\n",
              "      <td>दलिंदर आहे काँग्रेस ची मानसिकता, देशाला लागलेल...</td>\n",
              "    </tr>\n",
              "    <tr>\n",
              "      <th>2</th>\n",
              "      <td>सामूहिक बलात्कारानंतर अल्पवयीन मुलीची हत्या, ऊ...</td>\n",
              "    </tr>\n",
              "    <tr>\n",
              "      <th>3</th>\n",
              "      <td>@INCMaharashtra कुठली शाळा शिकलेले आहे बरं... ...</td>\n",
              "    </tr>\n",
              "    <tr>\n",
              "      <th>4</th>\n",
              "      <td>झी चोवीस ‌वाले अर्धवट बातम्या देण्यात एक नंबर ...</td>\n",
              "    </tr>\n",
              "    <tr>\n",
              "      <th>...</th>\n",
              "      <td>...</td>\n",
              "    </tr>\n",
              "    <tr>\n",
              "      <th>95</th>\n",
              "      <td>ईदच्या पवित्र दिवशी जम्मू आणि काश्मिरात राष्ट्...</td>\n",
              "    </tr>\n",
              "    <tr>\n",
              "      <th>96</th>\n",
              "      <td>या मार्गावर धावणाऱ्या रेल्वे गाड्यांना हा प्रव...</td>\n",
              "    </tr>\n",
              "    <tr>\n",
              "      <th>97</th>\n",
              "      <td>@MaheshPatil_B मुळात महाराजांची विटंबणा करण्या...</td>\n",
              "    </tr>\n",
              "    <tr>\n",
              "      <th>98</th>\n",
              "      <td>लबडे परीवार बैलपोळा ऊत्सव !!  https://t.co/X0W...</td>\n",
              "    </tr>\n",
              "    <tr>\n",
              "      <th>99</th>\n",
              "      <td>@vvmspeaks @RajeGhatge_M @fadnavis_amruta @jit...</td>\n",
              "    </tr>\n",
              "  </tbody>\n",
              "</table>\n",
              "<p>100 rows × 1 columns</p>\n",
              "</div>\n",
              "      <button class=\"colab-df-convert\" onclick=\"convertToInteractive('df-d5e918cd-f287-4f9c-80d3-0e2e9ffa5e3e')\"\n",
              "              title=\"Convert this dataframe to an interactive table.\"\n",
              "              style=\"display:none;\">\n",
              "        \n",
              "  <svg xmlns=\"http://www.w3.org/2000/svg\" height=\"24px\"viewBox=\"0 0 24 24\"\n",
              "       width=\"24px\">\n",
              "    <path d=\"M0 0h24v24H0V0z\" fill=\"none\"/>\n",
              "    <path d=\"M18.56 5.44l.94 2.06.94-2.06 2.06-.94-2.06-.94-.94-2.06-.94 2.06-2.06.94zm-11 1L8.5 8.5l.94-2.06 2.06-.94-2.06-.94L8.5 2.5l-.94 2.06-2.06.94zm10 10l.94 2.06.94-2.06 2.06-.94-2.06-.94-.94-2.06-.94 2.06-2.06.94z\"/><path d=\"M17.41 7.96l-1.37-1.37c-.4-.4-.92-.59-1.43-.59-.52 0-1.04.2-1.43.59L10.3 9.45l-7.72 7.72c-.78.78-.78 2.05 0 2.83L4 21.41c.39.39.9.59 1.41.59.51 0 1.02-.2 1.41-.59l7.78-7.78 2.81-2.81c.8-.78.8-2.07 0-2.86zM5.41 20L4 18.59l7.72-7.72 1.47 1.35L5.41 20z\"/>\n",
              "  </svg>\n",
              "      </button>\n",
              "      \n",
              "  <style>\n",
              "    .colab-df-container {\n",
              "      display:flex;\n",
              "      flex-wrap:wrap;\n",
              "      gap: 12px;\n",
              "    }\n",
              "\n",
              "    .colab-df-convert {\n",
              "      background-color: #E8F0FE;\n",
              "      border: none;\n",
              "      border-radius: 50%;\n",
              "      cursor: pointer;\n",
              "      display: none;\n",
              "      fill: #1967D2;\n",
              "      height: 32px;\n",
              "      padding: 0 0 0 0;\n",
              "      width: 32px;\n",
              "    }\n",
              "\n",
              "    .colab-df-convert:hover {\n",
              "      background-color: #E2EBFA;\n",
              "      box-shadow: 0px 1px 2px rgba(60, 64, 67, 0.3), 0px 1px 3px 1px rgba(60, 64, 67, 0.15);\n",
              "      fill: #174EA6;\n",
              "    }\n",
              "\n",
              "    [theme=dark] .colab-df-convert {\n",
              "      background-color: #3B4455;\n",
              "      fill: #D2E3FC;\n",
              "    }\n",
              "\n",
              "    [theme=dark] .colab-df-convert:hover {\n",
              "      background-color: #434B5C;\n",
              "      box-shadow: 0px 1px 3px 1px rgba(0, 0, 0, 0.15);\n",
              "      filter: drop-shadow(0px 1px 2px rgba(0, 0, 0, 0.3));\n",
              "      fill: #FFFFFF;\n",
              "    }\n",
              "  </style>\n",
              "\n",
              "      <script>\n",
              "        const buttonEl =\n",
              "          document.querySelector('#df-d5e918cd-f287-4f9c-80d3-0e2e9ffa5e3e button.colab-df-convert');\n",
              "        buttonEl.style.display =\n",
              "          google.colab.kernel.accessAllowed ? 'block' : 'none';\n",
              "\n",
              "        async function convertToInteractive(key) {\n",
              "          const element = document.querySelector('#df-d5e918cd-f287-4f9c-80d3-0e2e9ffa5e3e');\n",
              "          const dataTable =\n",
              "            await google.colab.kernel.invokeFunction('convertToInteractive',\n",
              "                                                     [key], {});\n",
              "          if (!dataTable) return;\n",
              "\n",
              "          const docLinkHtml = 'Like what you see? Visit the ' +\n",
              "            '<a target=\"_blank\" href=https://colab.research.google.com/notebooks/data_table.ipynb>data table notebook</a>'\n",
              "            + ' to learn more about interactive tables.';\n",
              "          element.innerHTML = '';\n",
              "          dataTable['output_type'] = 'display_data';\n",
              "          await google.colab.output.renderOutput(dataTable, element);\n",
              "          const docLink = document.createElement('div');\n",
              "          docLink.innerHTML = docLinkHtml;\n",
              "          element.appendChild(docLink);\n",
              "        }\n",
              "      </script>\n",
              "    </div>\n",
              "  </div>\n",
              "  "
            ]
          },
          "metadata": {},
          "execution_count": 93
        }
      ]
    },
    {
      "cell_type": "code",
      "source": [
        "model = ClassificationModel(\"bert\", \"l3cube-pune/mahahate-bert\")"
      ],
      "metadata": {
        "colab": {
          "base_uri": "https://localhost:8080/",
          "height": 209,
          "referenced_widgets": [
            "6dd2d6ec8f8e4622b4c1a6572800094d",
            "281249128b1346b680982a68794066a1",
            "8daddcaefc204fa5bacbca4d7e10f25f",
            "4b25714f81754da892c473456ee44c78",
            "3417666f2756425f9309f596a170b16c",
            "5e1a346e21254e468f5e0c4a57c09fe3",
            "ca7cce0a25a9409daf55225df397ab9a",
            "7b860bc194c544799650e8411b556e87",
            "179f81a1472542e4af04f09fb7e1e89f",
            "338a8c596f3a477fade89cd703ae2f0b",
            "2ef8a81d9f0149c996a12ccb4d2af999",
            "ecdeb46f49044f86b2ffcf902139ea50",
            "1734867134474de8afcd6731e766f522",
            "ea2fc03ba7d6448eb7c78028c3d64a92",
            "05d6bc7039a1408e8cf926ed3cfff29c",
            "44ffc94e6b144aa9b14788cc0b146736",
            "bd51b382e5d54959919d548446766c3f",
            "344aa99c54bb42e08d821acf4f3cfa38",
            "6b0dd7943f0647f7b75106937e022237",
            "6bddf3745efe4e80b02f7007bd52e51e",
            "d1ef9b664479421e9f7b56cbffda04db",
            "c03def38569a4e17a25a7957e4bf10eb",
            "e5f2eb874bf149f1bc068f334810cbb8",
            "4658034f972c445aa5224ad185218862",
            "a68332b168a145389f298b5c31ae8b1c",
            "01fba53cb5d746a6b22ef616631427e8",
            "e4cc69c9570e4c11b3491c7890b824bd",
            "d9d628c72ac34d178aded014c0fd3e72",
            "b68e2defc5c24a0587d3f024493bef6e",
            "d6daa031d5ea47b59386bf2e885b84d4",
            "8bd05e064e9f45c68918df05ce772ee4",
            "25fd602014d44f729284a6f2239a554b",
            "9e7a20a063fc41f497c836c52b9677d9",
            "4536403898a64abd945eb8e3272f4587",
            "b35c0f946daa431080edac93d64ef9df",
            "662aad5f8aaa491c9106cf32cda501ed",
            "c83500e573b942749f93175aeee5cb1c",
            "c9ca5b4628564bfcbaa210406f70c166",
            "65d9a0aff17f4b5fa38d1d96421c4fd0",
            "696efb629e65417991f21035b1b8ed0f",
            "8222bb3326cb465abd042fdd120ff5f8",
            "701baf2f8fd84b859695bd2c8cc66182",
            "ebfce5255ce64f5a89c615d1b14e93b8",
            "709e10967f484ef7bfb2b4c0362471a5",
            "6505c33e36fc40559cef3644e58eaaad",
            "a3d05163c0bf497e82cd1dfa235a1c4c",
            "b1cef4c55bcb47c4913e454da073cf8f",
            "7337b8952dac4f4080e4038970e49fb8",
            "0dfb1abe213940849d299499ada4ee8a",
            "9287e35797bf49c39f3abe8a7a2feee4",
            "31c88e1e6abc47b691338cde5becbb0c",
            "e7450badd6a94feab13e60aa03bac2bc",
            "4fd6284459444051ad96d9a0850c760e",
            "c13ed775c658438994618be2f5d2840b",
            "9d642becfd7a4dfe8ef5fad4782efac8",
            "75a20bd84200460381861cc2289cf7c7",
            "53e0c3e5b3024c9594c3522bb5036a8d",
            "2a8780dcb7954f8a9aea1a1fc8181818",
            "a9574a8008e64465873485109e59ad57",
            "8dd4ec5b28bd4ec58c2ad04805ff6460",
            "801b9fde6623463f82bc7b76ca9d2a27",
            "1da3fd4364a14cb4ae997379163f790a",
            "91b5cc475f9e4f1f85a2cb7bf91a608d",
            "08b22fdb318d44769628a662424dc8d4",
            "6a39f3b1a4d94340bfbec7ed294b378f",
            "b75dc04ff8e04b1785591a6774f54d17"
          ]
        },
        "id": "HPmdiVad55n5",
        "outputId": "c9e5faa1-0ac3-4fca-cc70-776308a5b477"
      },
      "execution_count": null,
      "outputs": [
        {
          "output_type": "display_data",
          "data": {
            "text/plain": [
              "Downloading (…)lve/main/config.json:   0%|          | 0.00/892 [00:00<?, ?B/s]"
            ],
            "application/vnd.jupyter.widget-view+json": {
              "version_major": 2,
              "version_minor": 0,
              "model_id": "6dd2d6ec8f8e4622b4c1a6572800094d"
            }
          },
          "metadata": {}
        },
        {
          "output_type": "display_data",
          "data": {
            "text/plain": [
              "Downloading pytorch_model.bin:   0%|          | 0.00/712M [00:00<?, ?B/s]"
            ],
            "application/vnd.jupyter.widget-view+json": {
              "version_major": 2,
              "version_minor": 0,
              "model_id": "ecdeb46f49044f86b2ffcf902139ea50"
            }
          },
          "metadata": {}
        },
        {
          "output_type": "display_data",
          "data": {
            "text/plain": [
              "Downloading (…)okenizer_config.json:   0%|          | 0.00/305 [00:00<?, ?B/s]"
            ],
            "application/vnd.jupyter.widget-view+json": {
              "version_major": 2,
              "version_minor": 0,
              "model_id": "e5f2eb874bf149f1bc068f334810cbb8"
            }
          },
          "metadata": {}
        },
        {
          "output_type": "display_data",
          "data": {
            "text/plain": [
              "Downloading (…)solve/main/vocab.txt:   0%|          | 0.00/996k [00:00<?, ?B/s]"
            ],
            "application/vnd.jupyter.widget-view+json": {
              "version_major": 2,
              "version_minor": 0,
              "model_id": "4536403898a64abd945eb8e3272f4587"
            }
          },
          "metadata": {}
        },
        {
          "output_type": "display_data",
          "data": {
            "text/plain": [
              "Downloading (…)/main/tokenizer.json:   0%|          | 0.00/2.92M [00:00<?, ?B/s]"
            ],
            "application/vnd.jupyter.widget-view+json": {
              "version_major": 2,
              "version_minor": 0,
              "model_id": "6505c33e36fc40559cef3644e58eaaad"
            }
          },
          "metadata": {}
        },
        {
          "output_type": "display_data",
          "data": {
            "text/plain": [
              "Downloading (…)cial_tokens_map.json:   0%|          | 0.00/112 [00:00<?, ?B/s]"
            ],
            "application/vnd.jupyter.widget-view+json": {
              "version_major": 2,
              "version_minor": 0,
              "model_id": "75a20bd84200460381861cc2289cf7c7"
            }
          },
          "metadata": {}
        }
      ]
    },
    {
      "cell_type": "code",
      "source": [
        "predictions, raw_outputs = model.predict(df_predict_hate_mr['text'].tolist())"
      ],
      "metadata": {
        "colab": {
          "base_uri": "https://localhost:8080/",
          "height": 81,
          "referenced_widgets": [
            "eafe471e26f04e69aa6286ec998ab5fd",
            "0c7fe55e534940f4bea713c76938dcb6",
            "e8970b8910fa495ab83d1a37a602e9a9",
            "ee174b3007034faaa9919c98762ccbf7",
            "34dee4a5db9e40c49c2736d7c3759237",
            "166e6393979a408d82446b03384fae0a",
            "11362767bb29409c90c7906fbbd431aa",
            "848b7d8b487242539f3c539c72793b28",
            "1a2cedca04e84386aea96441940bd2ef",
            "f8c98a5f539143f2a143f54affb39b07",
            "19c6a0a5e5e4445a97e9cc7932ebd758",
            "1c1958be74c8419bb38f389c13a00347",
            "320a7f46edb140efaec19c08978f4389",
            "c0defeac11704ee297fa8aaf0fd1a641",
            "febdb827f2a94eab9a7d8586af6c760c",
            "4df0dea9872f40c2b0ce3072cac14e5c",
            "526f6551fd1a41ef908a3196497dd5aa",
            "a5212029faa349ed8c9e86ad51331533",
            "7bae88fe214f4ecd9ca8e5327b6d31f5",
            "db26833c39d04f80b0efb7154b7ee508",
            "4b03da14abf14c4d9ff303a14b85878a",
            "cf46008f308e4ffc92b751d1519a9014"
          ]
        },
        "id": "hnlcRzk66EGS",
        "outputId": "3b6ad43f-be90-4b16-de48-a66f0f89df35"
      },
      "execution_count": null,
      "outputs": [
        {
          "output_type": "display_data",
          "data": {
            "text/plain": [
              "  0%|          | 0/100 [00:00<?, ?it/s]"
            ],
            "application/vnd.jupyter.widget-view+json": {
              "version_major": 2,
              "version_minor": 0,
              "model_id": "eafe471e26f04e69aa6286ec998ab5fd"
            }
          },
          "metadata": {}
        },
        {
          "output_type": "display_data",
          "data": {
            "text/plain": [
              "  0%|          | 0/13 [00:00<?, ?it/s]"
            ],
            "application/vnd.jupyter.widget-view+json": {
              "version_major": 2,
              "version_minor": 0,
              "model_id": "1c1958be74c8419bb38f389c13a00347"
            }
          },
          "metadata": {}
        }
      ]
    },
    {
      "cell_type": "code",
      "source": [
        "predictions"
      ],
      "metadata": {
        "colab": {
          "base_uri": "https://localhost:8080/"
        },
        "id": "vsDNLHGv6K1R",
        "outputId": "b9911dab-3ce7-43ce-fa99-8c47e73f6bfa"
      },
      "execution_count": null,
      "outputs": [
        {
          "output_type": "execute_result",
          "data": {
            "text/plain": [
              "array([1, 1, 0, 0, 1, 1, 0, 1, 1, 0, 1, 0, 0, 0, 1, 0, 1, 0, 1, 0, 0, 0,\n",
              "       0, 1, 1, 1, 0, 0, 1, 1, 0, 0, 0, 1, 1, 0, 1, 1, 1, 1, 0, 1, 0, 1,\n",
              "       0, 0, 1, 1, 0, 0, 0, 0, 1, 0, 0, 0, 1, 1, 1, 0, 1, 1, 0, 0, 1, 1,\n",
              "       0, 1, 1, 0, 0, 1, 0, 0, 1, 0, 1, 1, 0, 1, 1, 1, 1, 0, 1, 1, 0, 1,\n",
              "       1, 0, 1, 0, 0, 1, 1, 0, 0, 0, 0, 0])"
            ]
          },
          "metadata": {},
          "execution_count": 101
        }
      ]
    },
    {
      "cell_type": "code",
      "source": [
        "df_mahahate = pd.DataFrame(predictions, columns=['labels'])"
      ],
      "metadata": {
        "id": "FB4q9ds17HHC"
      },
      "execution_count": null,
      "outputs": []
    },
    {
      "cell_type": "code",
      "source": [
        "calculate_metrics(df_real_hate_mr['tokeinzed_label'], df_mahahate['labels'], 'MahaHate - L3Cube')"
      ],
      "metadata": {
        "colab": {
          "base_uri": "https://localhost:8080/"
        },
        "id": "hUW85bmt7SdW",
        "outputId": "dd255bf3-4b1c-4b0b-dbf6-2cdf1a96c681"
      },
      "execution_count": null,
      "outputs": [
        {
          "output_type": "stream",
          "name": "stdout",
          "text": [
            "F1 Micro MahaHate - L3Cube :  0.8599999999999999\n",
            "F1 Macro: MahaHate - L3Cube :  0.8599999999999999\n",
            "Precision: MahaHate - L3Cube :  0.86\n",
            "Recall: MahaHate - L3Cube :  0.86\n",
            "Accuracy: MahaHate - L3Cube :  0.86\n"
          ]
        }
      ]
    },
    {
      "cell_type": "markdown",
      "source": [
        "### Sentiment Analysis - Marathi - Positive(1), Negative(-1)"
      ],
      "metadata": {
        "id": "tFYWLMbp-GXD"
      }
    },
    {
      "cell_type": "code",
      "source": [
        "df_real_sentiment_mr = pd.read_csv('/content/sentiment_mr_final.csv')"
      ],
      "metadata": {
        "id": "sHs_bh1q-UxK"
      },
      "execution_count": null,
      "outputs": []
    },
    {
      "cell_type": "code",
      "source": [
        "df_real_sentiment_mr['label'].value_counts()"
      ],
      "metadata": {
        "colab": {
          "base_uri": "https://localhost:8080/"
        },
        "outputId": "dcf3abad-a65e-436a-b5fc-07e05d441a67",
        "id": "4N8PT7px-UxY"
      },
      "execution_count": null,
      "outputs": [
        {
          "output_type": "execute_result",
          "data": {
            "text/plain": [
              "-1    50\n",
              " 1    50\n",
              "Name: label, dtype: int64"
            ]
          },
          "metadata": {},
          "execution_count": 5
        }
      ]
    },
    {
      "cell_type": "code",
      "source": [
        "df_real_sentiment_mr['label']"
      ],
      "metadata": {
        "colab": {
          "base_uri": "https://localhost:8080/"
        },
        "outputId": "6743752e-e591-41a4-a407-ce618daf9793",
        "id": "eTg8A-yX-UxZ"
      },
      "execution_count": null,
      "outputs": [
        {
          "output_type": "execute_result",
          "data": {
            "text/plain": [
              "0    -1\n",
              "1     1\n",
              "2    -1\n",
              "3     1\n",
              "4     1\n",
              "     ..\n",
              "95   -1\n",
              "96    1\n",
              "97    1\n",
              "98    1\n",
              "99    1\n",
              "Name: label, Length: 100, dtype: int64"
            ]
          },
          "metadata": {},
          "execution_count": 6
        }
      ]
    },
    {
      "cell_type": "markdown",
      "source": [
        "#### ChatGPT"
      ],
      "metadata": {
        "id": "0lH9vniO-vD-"
      }
    },
    {
      "cell_type": "code",
      "source": [
        "df['sentiment_mr_ChatGPT'].value_counts()"
      ],
      "metadata": {
        "colab": {
          "base_uri": "https://localhost:8080/"
        },
        "id": "Pnk4pM6v-qZa",
        "outputId": "e316709a-e76f-4ff0-9e39-9a1373acf2e9"
      },
      "execution_count": null,
      "outputs": [
        {
          "output_type": "execute_result",
          "data": {
            "text/plain": [
              "Positive    55\n",
              "Negative    35\n",
              "negative     7\n",
              "positive     3\n",
              "Name: sentiment_mr_ChatGPT, dtype: int64"
            ]
          },
          "metadata": {},
          "execution_count": 112
        }
      ]
    },
    {
      "cell_type": "code",
      "source": [
        "def remove_substrings(df, column_name):\n",
        "  df[column_name] = df[column_name].str.replace('negative', 'Negative')\n",
        "  df[column_name] = df[column_name].str.replace('positive', 'Positive')\n",
        "  return df"
      ],
      "metadata": {
        "id": "4crcli4p--_z"
      },
      "execution_count": null,
      "outputs": []
    },
    {
      "cell_type": "code",
      "source": [
        "df = remove_substrings(df, 'sentiment_mr_ChatGPT')"
      ],
      "metadata": {
        "id": "mQciJ4AU_I7O"
      },
      "execution_count": null,
      "outputs": []
    },
    {
      "cell_type": "code",
      "source": [
        "df['sentiment_mr_ChatGPT'].value_counts()"
      ],
      "metadata": {
        "colab": {
          "base_uri": "https://localhost:8080/"
        },
        "id": "qyRpb2aV_NWe",
        "outputId": "e5cadba4-1a0e-4fcd-ba62-7fb8d9e084d4"
      },
      "execution_count": null,
      "outputs": [
        {
          "output_type": "execute_result",
          "data": {
            "text/plain": [
              "Positive    58\n",
              "Negative    42\n",
              "Name: sentiment_mr_ChatGPT, dtype: int64"
            ]
          },
          "metadata": {},
          "execution_count": 137
        }
      ]
    },
    {
      "cell_type": "code",
      "source": [
        "label_to_num = {'Negative': -1, 'Positive': 1}   \n",
        "num_to_label = {-1: 'Negative', 1: 'Positive'}"
      ],
      "metadata": {
        "id": "mw9NNyH1_N9z"
      },
      "execution_count": null,
      "outputs": []
    },
    {
      "cell_type": "code",
      "source": [
        "print(label_to_num)\n",
        "print(\" \")\n",
        "print(num_to_label)"
      ],
      "metadata": {
        "colab": {
          "base_uri": "https://localhost:8080/"
        },
        "id": "BPPXgnzY_UMa",
        "outputId": "01479cc3-2a99-4628-c349-fdec505e5630"
      },
      "execution_count": null,
      "outputs": [
        {
          "output_type": "stream",
          "name": "stdout",
          "text": [
            "{'Negative': -1, 'Positive': 1}\n",
            " \n",
            "{-1: 'Negative', 1: 'Positive'}\n"
          ]
        }
      ]
    },
    {
      "cell_type": "code",
      "source": [
        "df['tokenized_sentiment_mr_ChatGPT'] = df['sentiment_mr_ChatGPT'].apply(lambda x: label_to_num[x])"
      ],
      "metadata": {
        "id": "CXsF_540_WKl"
      },
      "execution_count": null,
      "outputs": []
    },
    {
      "cell_type": "code",
      "source": [
        "calculate_metrics(df_real_sentiment_mr['label'], df['tokenized_sentiment_mr_ChatGPT'], 'ChatGPT')"
      ],
      "metadata": {
        "colab": {
          "base_uri": "https://localhost:8080/"
        },
        "id": "rRHY8JLw_fep",
        "outputId": "c9f1df2e-2e05-47d1-bcfa-54f378c2ff19"
      },
      "execution_count": null,
      "outputs": [
        {
          "output_type": "stream",
          "name": "stdout",
          "text": [
            "F1 Micro ChatGPT :  0.8399999999999999\n",
            "F1 Macro: ChatGPT :  0.8389694041867956\n",
            "Precision: ChatGPT :  0.8489326765188835\n",
            "Recall: ChatGPT :  0.84\n",
            "Accuracy: ChatGPT :  0.84\n"
          ]
        }
      ]
    },
    {
      "cell_type": "markdown",
      "source": [
        "#### Perplexity AI"
      ],
      "metadata": {
        "id": "vCpeLRRPAHUo"
      }
    },
    {
      "cell_type": "code",
      "source": [
        "df['sentiment_mr_Perplexity AI']"
      ],
      "metadata": {
        "colab": {
          "base_uri": "https://localhost:8080/"
        },
        "outputId": "32604ba9-a100-473c-b22f-6147464b03cf",
        "id": "_jPct9ZLAKef"
      },
      "execution_count": null,
      "outputs": [
        {
          "output_type": "execute_result",
          "data": {
            "text/plain": [
              "0      0 - negative\n",
              "1      1 - positive\n",
              "2      2 - negative\n",
              "3      3 - negative\n",
              "4      4 - positive\n",
              "          ...      \n",
              "95    95 - negative\n",
              "96    96 - positive\n",
              "97    97 - positive\n",
              "98    98 - negative\n",
              "99    99 - positive\n",
              "Name: sentiment_mr_Perplexity AI, Length: 100, dtype: object"
            ]
          },
          "metadata": {},
          "execution_count": 144
        }
      ]
    },
    {
      "cell_type": "code",
      "source": [
        "def remove_substrings(df, column_name):\n",
        "  df[column_name] = df[column_name].str.replace('\\d+', '', regex=True)\n",
        "  df[column_name] = df[column_name].str.replace(' - ', '')\n",
        "  df[column_name] = df[column_name].str.replace('unclear', 'negative')\n",
        "  return df"
      ],
      "metadata": {
        "id": "qT_xbI2CAKen"
      },
      "execution_count": null,
      "outputs": []
    },
    {
      "cell_type": "code",
      "source": [
        "df = remove_substrings(df, 'sentiment_mr_Perplexity AI')"
      ],
      "metadata": {
        "id": "cs3DnP68AKen"
      },
      "execution_count": null,
      "outputs": []
    },
    {
      "cell_type": "code",
      "source": [
        "df['sentiment_mr_Perplexity AI'].value_counts()"
      ],
      "metadata": {
        "colab": {
          "base_uri": "https://localhost:8080/"
        },
        "outputId": "16f36f70-acb0-4872-ff7b-75a4b2cf0afb",
        "id": "nzeRXkxTAKen"
      },
      "execution_count": null,
      "outputs": [
        {
          "output_type": "execute_result",
          "data": {
            "text/plain": [
              "positive    57\n",
              "negative    43\n",
              "Name: sentiment_mr_Perplexity AI, dtype: int64"
            ]
          },
          "metadata": {},
          "execution_count": 147
        }
      ]
    },
    {
      "cell_type": "code",
      "source": [
        "label_to_num = {'negative': -1, 'positive': 1}   \n",
        "num_to_label = {-1: 'negative', 1: 'positive'}"
      ],
      "metadata": {
        "id": "EXI_tifDAKen"
      },
      "execution_count": null,
      "outputs": []
    },
    {
      "cell_type": "code",
      "source": [
        "print(label_to_num)\n",
        "print(\" \")\n",
        "print(num_to_label)"
      ],
      "metadata": {
        "colab": {
          "base_uri": "https://localhost:8080/"
        },
        "outputId": "4c3eafa0-7279-4cb9-8d03-1d8579083896",
        "id": "Qvze1a0eAKeo"
      },
      "execution_count": null,
      "outputs": [
        {
          "output_type": "stream",
          "name": "stdout",
          "text": [
            "{'negative': -1, 'positive': 1}\n",
            " \n",
            "{-1: 'negative', 1: 'positive'}\n"
          ]
        }
      ]
    },
    {
      "cell_type": "code",
      "source": [
        "df['tokenized_sentiment_mr_Perplexity_AI'] = df['sentiment_mr_Perplexity AI'].apply(lambda x: label_to_num[x])"
      ],
      "metadata": {
        "id": "EymgkxRcAKeo"
      },
      "execution_count": null,
      "outputs": []
    },
    {
      "cell_type": "code",
      "source": [
        "calculate_metrics(df_real_sentiment_mr['label'], df['tokenized_sentiment_mr_Perplexity_AI'], 'Perplexity AI')"
      ],
      "metadata": {
        "colab": {
          "base_uri": "https://localhost:8080/"
        },
        "outputId": "44852a75-c2ed-4c9a-d947-de91dd6422ec",
        "id": "gjvFMdweAKeo"
      },
      "execution_count": null,
      "outputs": [
        {
          "output_type": "stream",
          "name": "stdout",
          "text": [
            "F1 Micro Perplexity AI :  0.85\n",
            "F1 Macro: Perplexity AI :  0.8492613807657521\n",
            "Precision: Perplexity AI :  0.8569971440228477\n",
            "Recall: Perplexity AI :  0.85\n",
            "Accuracy: Perplexity AI :  0.85\n"
          ]
        }
      ]
    },
    {
      "cell_type": "markdown",
      "source": [
        "#### ChatSonic"
      ],
      "metadata": {
        "id": "Avj_MZkPBfPn"
      }
    },
    {
      "cell_type": "code",
      "source": [
        "df['sentiment_mr_Chatsonic']"
      ],
      "metadata": {
        "colab": {
          "base_uri": "https://localhost:8080/"
        },
        "outputId": "8a1718b6-fe51-4a5f-d09b-2f25ffc2e818",
        "id": "waQu6dwbBiyL"
      },
      "execution_count": null,
      "outputs": [
        {
          "output_type": "execute_result",
          "data": {
            "text/plain": [
              "0       0: Negative\n",
              "1       1: Positive\n",
              "2          Negative\n",
              "3          Negative\n",
              "4          Positive\n",
              "          ...      \n",
              "95    95 - Negative\n",
              "96    96 - Positive\n",
              "97    97 - Positive\n",
              "98     98 - Neutral\n",
              "99    99 - Positive\n",
              "Name: sentiment_mr_Chatsonic, Length: 100, dtype: object"
            ]
          },
          "metadata": {},
          "execution_count": 153
        }
      ]
    },
    {
      "cell_type": "code",
      "source": [
        "def remove_substrings(df, column_name):\n",
        "  df[column_name] = df[column_name].str.replace('\\d+', '', regex=True)\n",
        "  df[column_name] = df[column_name].str.replace(' - ', '')\n",
        "  df[column_name] = df[column_name].str.replace(': ', '')\n",
        "  df[column_name] = df[column_name].str.replace('Neutral/Positive', 'Positive')\n",
        "  df[column_name] = df[column_name].str.replace('Mixed (Neutral and Negative)', 'Negative')\n",
        "  df[column_name] = df[column_name].str.replace(' Negative', 'Negative')\n",
        "  df[column_name] = df[column_name].str.replace('Neutral', 'Positive')\n",
        "  df[column_name] = df[column_name].str.replace(' Positive', 'Positive')\n",
        "  df[column_name] = df[column_name].str.replace(' Mixed', 'Negative')\n",
        "  df[column_name] = df[column_name].str.replace('Positive sentiment.', 'Positive')\n",
        "  df[column_name] = df[column_name].str.replace('Mixed (Positive andNegative)', 'Negative')\n",
        "  return df"
      ],
      "metadata": {
        "id": "ATWknShfBiyb"
      },
      "execution_count": null,
      "outputs": []
    },
    {
      "cell_type": "code",
      "source": [
        "df = remove_substrings(df, 'sentiment_mr_Chatsonic')"
      ],
      "metadata": {
        "colab": {
          "base_uri": "https://localhost:8080/"
        },
        "id": "sopLwdlHBiyb",
        "outputId": "bbf8ec9d-efdc-4f6b-e1cc-1bc7c2ba8fd1"
      },
      "execution_count": null,
      "outputs": [
        {
          "output_type": "stream",
          "name": "stderr",
          "text": [
            "<ipython-input-168-16bff9eb52df>:6: FutureWarning: The default value of regex will change from True to False in a future version.\n",
            "  df[column_name] = df[column_name].str.replace('Mixed (Neutral and Negative)', 'Negative')\n",
            "<ipython-input-168-16bff9eb52df>:11: FutureWarning: The default value of regex will change from True to False in a future version.\n",
            "  df[column_name] = df[column_name].str.replace('Positive sentiment.', 'Positive')\n",
            "<ipython-input-168-16bff9eb52df>:12: FutureWarning: The default value of regex will change from True to False in a future version.\n",
            "  df[column_name] = df[column_name].str.replace('Mixed (Positive andNegative)', 'Negative')\n"
          ]
        }
      ]
    },
    {
      "cell_type": "code",
      "source": [
        "df['sentiment_mr_Chatsonic'].unique()"
      ],
      "metadata": {
        "colab": {
          "base_uri": "https://localhost:8080/"
        },
        "outputId": "af38cfdd-c917-409c-e614-2e02f87c31a1",
        "id": "drJfLDUnBiyb"
      },
      "execution_count": null,
      "outputs": [
        {
          "output_type": "execute_result",
          "data": {
            "text/plain": [
              "array(['Negative', 'Positive', 'Mixed (Positive andNegative)'],\n",
              "      dtype=object)"
            ]
          },
          "metadata": {},
          "execution_count": 170
        }
      ]
    },
    {
      "cell_type": "code",
      "source": [
        "label_to_num = {'Negative': -1, 'Positive': 1, 'Mixed (Positive andNegative)': -1}   \n",
        "# num_to_label = {-1: 'negative', 1: 'positive'}"
      ],
      "metadata": {
        "id": "qsntd9QXBiyb"
      },
      "execution_count": null,
      "outputs": []
    },
    {
      "cell_type": "code",
      "source": [
        "print(label_to_num)\n",
        "print(\" \")\n",
        "# print(num_to_label)"
      ],
      "metadata": {
        "colab": {
          "base_uri": "https://localhost:8080/"
        },
        "outputId": "b4658f01-3780-4cba-9dce-184f0b3a32b7",
        "id": "naNrHzxKBiyb"
      },
      "execution_count": null,
      "outputs": [
        {
          "output_type": "stream",
          "name": "stdout",
          "text": [
            "{'Negative': -1, 'Positive': 1, 'Mixed (Positive andNegative)': -1}\n",
            " \n"
          ]
        }
      ]
    },
    {
      "cell_type": "code",
      "source": [
        "df['tokenized_sentiment_mr_Chatsonic'] = df['sentiment_mr_Chatsonic'].apply(lambda x: label_to_num[x])"
      ],
      "metadata": {
        "id": "ghtVDsYJBiyb"
      },
      "execution_count": null,
      "outputs": []
    },
    {
      "cell_type": "code",
      "source": [
        "calculate_metrics(df_real_sentiment_mr['label'], df['tokenized_sentiment_mr_Chatsonic'], 'ChatSonic')"
      ],
      "metadata": {
        "colab": {
          "base_uri": "https://localhost:8080/"
        },
        "outputId": "1640d192-3aac-4618-be02-258d705d3a2b",
        "id": "b5MNts-3Biyb"
      },
      "execution_count": null,
      "outputs": [
        {
          "output_type": "stream",
          "name": "stdout",
          "text": [
            "F1 Micro ChatSonic :  0.8399999999999999\n",
            "F1 Macro: ChatSonic :  0.839421918908069\n",
            "Precision: ChatSonic :  0.8449675324675325\n",
            "Recall: ChatSonic :  0.84\n",
            "Accuracy: ChatSonic :  0.84\n"
          ]
        }
      ]
    },
    {
      "cell_type": "markdown",
      "source": [
        "#### MahaSentiment - L3Cube"
      ],
      "metadata": {
        "id": "at_UQaMrCxfZ"
      }
    },
    {
      "cell_type": "code",
      "source": [
        "df_predict_sentiment_mr = df_real_sentiment_mr[['tweet']]\n",
        "df_predict_sentiment_mr = df_predict_sentiment_mr.rename(columns={\"tweet\": \"text\"})"
      ],
      "metadata": {
        "id": "_TTLO7ePDETw"
      },
      "execution_count": null,
      "outputs": []
    },
    {
      "cell_type": "code",
      "source": [
        "df_predict_sentiment_mr"
      ],
      "metadata": {
        "colab": {
          "base_uri": "https://localhost:8080/",
          "height": 424
        },
        "outputId": "aff287ce-90bb-4ade-8d87-504f127949f7",
        "id": "xW17HTmFDET7"
      },
      "execution_count": null,
      "outputs": [
        {
          "output_type": "execute_result",
          "data": {
            "text/plain": [
              "                                                 text\n",
              "0     शासन कर्जमाफीतून शिवाजी महाराजांच्या नावाखाल...\n",
              "1     राष्ट्रीय स्वयंसेवक संघाचे चौथे सरसंघचालक प्...\n",
              "2     आधुनिक शहरांची निर्मिती म्हणजे हजारो कोटी रु...\n",
              "3     आज राडी, बर्दापूर, घाटनांदुर, मांडवा, धर्मपु...\n",
              "4     या नोकरी महोत्सवात सुमारे पाच हजार बेरोजगारा...\n",
              "..                                                ...\n",
              "95    सध्या सत्तेचा गैरवापर करून विरोधकांना त्रास ...\n",
              "96    छत्रपती शिवाजी महाराजांचा देदीप्यमान पराक्रम...\n",
              "97    भोकरदनच्या मातृशक्तीचा आशीर्वाद हा माझ्यासाठ...\n",
              "98    पुणे जिल्ह्यातील भोसरी येथे आज झालेल्या ‘रोड...\n",
              "99    महाराष्ट्राचे आदरस्थान असणारे माननीय बाळासाह...\n",
              "\n",
              "[100 rows x 1 columns]"
            ],
            "text/html": [
              "\n",
              "  <div id=\"df-ca6b6556-0fc2-4db8-9755-60529cab641d\">\n",
              "    <div class=\"colab-df-container\">\n",
              "      <div>\n",
              "<style scoped>\n",
              "    .dataframe tbody tr th:only-of-type {\n",
              "        vertical-align: middle;\n",
              "    }\n",
              "\n",
              "    .dataframe tbody tr th {\n",
              "        vertical-align: top;\n",
              "    }\n",
              "\n",
              "    .dataframe thead th {\n",
              "        text-align: right;\n",
              "    }\n",
              "</style>\n",
              "<table border=\"1\" class=\"dataframe\">\n",
              "  <thead>\n",
              "    <tr style=\"text-align: right;\">\n",
              "      <th></th>\n",
              "      <th>text</th>\n",
              "    </tr>\n",
              "  </thead>\n",
              "  <tbody>\n",
              "    <tr>\n",
              "      <th>0</th>\n",
              "      <td>शासन कर्जमाफीतून शिवाजी महाराजांच्या नावाखाल...</td>\n",
              "    </tr>\n",
              "    <tr>\n",
              "      <th>1</th>\n",
              "      <td>राष्ट्रीय स्वयंसेवक संघाचे चौथे सरसंघचालक प्...</td>\n",
              "    </tr>\n",
              "    <tr>\n",
              "      <th>2</th>\n",
              "      <td>आधुनिक शहरांची निर्मिती म्हणजे हजारो कोटी रु...</td>\n",
              "    </tr>\n",
              "    <tr>\n",
              "      <th>3</th>\n",
              "      <td>आज राडी, बर्दापूर, घाटनांदुर, मांडवा, धर्मपु...</td>\n",
              "    </tr>\n",
              "    <tr>\n",
              "      <th>4</th>\n",
              "      <td>या नोकरी महोत्सवात सुमारे पाच हजार बेरोजगारा...</td>\n",
              "    </tr>\n",
              "    <tr>\n",
              "      <th>...</th>\n",
              "      <td>...</td>\n",
              "    </tr>\n",
              "    <tr>\n",
              "      <th>95</th>\n",
              "      <td>सध्या सत्तेचा गैरवापर करून विरोधकांना त्रास ...</td>\n",
              "    </tr>\n",
              "    <tr>\n",
              "      <th>96</th>\n",
              "      <td>छत्रपती शिवाजी महाराजांचा देदीप्यमान पराक्रम...</td>\n",
              "    </tr>\n",
              "    <tr>\n",
              "      <th>97</th>\n",
              "      <td>भोकरदनच्या मातृशक्तीचा आशीर्वाद हा माझ्यासाठ...</td>\n",
              "    </tr>\n",
              "    <tr>\n",
              "      <th>98</th>\n",
              "      <td>पुणे जिल्ह्यातील भोसरी येथे आज झालेल्या ‘रोड...</td>\n",
              "    </tr>\n",
              "    <tr>\n",
              "      <th>99</th>\n",
              "      <td>महाराष्ट्राचे आदरस्थान असणारे माननीय बाळासाह...</td>\n",
              "    </tr>\n",
              "  </tbody>\n",
              "</table>\n",
              "<p>100 rows × 1 columns</p>\n",
              "</div>\n",
              "      <button class=\"colab-df-convert\" onclick=\"convertToInteractive('df-ca6b6556-0fc2-4db8-9755-60529cab641d')\"\n",
              "              title=\"Convert this dataframe to an interactive table.\"\n",
              "              style=\"display:none;\">\n",
              "        \n",
              "  <svg xmlns=\"http://www.w3.org/2000/svg\" height=\"24px\"viewBox=\"0 0 24 24\"\n",
              "       width=\"24px\">\n",
              "    <path d=\"M0 0h24v24H0V0z\" fill=\"none\"/>\n",
              "    <path d=\"M18.56 5.44l.94 2.06.94-2.06 2.06-.94-2.06-.94-.94-2.06-.94 2.06-2.06.94zm-11 1L8.5 8.5l.94-2.06 2.06-.94-2.06-.94L8.5 2.5l-.94 2.06-2.06.94zm10 10l.94 2.06.94-2.06 2.06-.94-2.06-.94-.94-2.06-.94 2.06-2.06.94z\"/><path d=\"M17.41 7.96l-1.37-1.37c-.4-.4-.92-.59-1.43-.59-.52 0-1.04.2-1.43.59L10.3 9.45l-7.72 7.72c-.78.78-.78 2.05 0 2.83L4 21.41c.39.39.9.59 1.41.59.51 0 1.02-.2 1.41-.59l7.78-7.78 2.81-2.81c.8-.78.8-2.07 0-2.86zM5.41 20L4 18.59l7.72-7.72 1.47 1.35L5.41 20z\"/>\n",
              "  </svg>\n",
              "      </button>\n",
              "      \n",
              "  <style>\n",
              "    .colab-df-container {\n",
              "      display:flex;\n",
              "      flex-wrap:wrap;\n",
              "      gap: 12px;\n",
              "    }\n",
              "\n",
              "    .colab-df-convert {\n",
              "      background-color: #E8F0FE;\n",
              "      border: none;\n",
              "      border-radius: 50%;\n",
              "      cursor: pointer;\n",
              "      display: none;\n",
              "      fill: #1967D2;\n",
              "      height: 32px;\n",
              "      padding: 0 0 0 0;\n",
              "      width: 32px;\n",
              "    }\n",
              "\n",
              "    .colab-df-convert:hover {\n",
              "      background-color: #E2EBFA;\n",
              "      box-shadow: 0px 1px 2px rgba(60, 64, 67, 0.3), 0px 1px 3px 1px rgba(60, 64, 67, 0.15);\n",
              "      fill: #174EA6;\n",
              "    }\n",
              "\n",
              "    [theme=dark] .colab-df-convert {\n",
              "      background-color: #3B4455;\n",
              "      fill: #D2E3FC;\n",
              "    }\n",
              "\n",
              "    [theme=dark] .colab-df-convert:hover {\n",
              "      background-color: #434B5C;\n",
              "      box-shadow: 0px 1px 3px 1px rgba(0, 0, 0, 0.15);\n",
              "      filter: drop-shadow(0px 1px 2px rgba(0, 0, 0, 0.3));\n",
              "      fill: #FFFFFF;\n",
              "    }\n",
              "  </style>\n",
              "\n",
              "      <script>\n",
              "        const buttonEl =\n",
              "          document.querySelector('#df-ca6b6556-0fc2-4db8-9755-60529cab641d button.colab-df-convert');\n",
              "        buttonEl.style.display =\n",
              "          google.colab.kernel.accessAllowed ? 'block' : 'none';\n",
              "\n",
              "        async function convertToInteractive(key) {\n",
              "          const element = document.querySelector('#df-ca6b6556-0fc2-4db8-9755-60529cab641d');\n",
              "          const dataTable =\n",
              "            await google.colab.kernel.invokeFunction('convertToInteractive',\n",
              "                                                     [key], {});\n",
              "          if (!dataTable) return;\n",
              "\n",
              "          const docLinkHtml = 'Like what you see? Visit the ' +\n",
              "            '<a target=\"_blank\" href=https://colab.research.google.com/notebooks/data_table.ipynb>data table notebook</a>'\n",
              "            + ' to learn more about interactive tables.';\n",
              "          element.innerHTML = '';\n",
              "          dataTable['output_type'] = 'display_data';\n",
              "          await google.colab.output.renderOutput(dataTable, element);\n",
              "          const docLink = document.createElement('div');\n",
              "          docLink.innerHTML = docLinkHtml;\n",
              "          element.appendChild(docLink);\n",
              "        }\n",
              "      </script>\n",
              "    </div>\n",
              "  </div>\n",
              "  "
            ]
          },
          "metadata": {},
          "execution_count": 8
        }
      ]
    },
    {
      "cell_type": "code",
      "source": [
        "model = ClassificationModel(\"albert\", \"l3cube-pune/MarathiSentiment\")"
      ],
      "metadata": {
        "colab": {
          "base_uri": "https://localhost:8080/",
          "height": 177,
          "referenced_widgets": [
            "753899f146844dfd96f1cedfc4272c98",
            "b7c3107ca15548939cffd462b80d8462",
            "9d2f2a562eae498fb430e6cb96b8198f",
            "a71f15e45e0f41149b9e5ccdc9ba3c0c",
            "9baffc5ab9594a5685ec38af42c1d805",
            "b01bb48475df4ca9a50d3f54085097e5",
            "fec0345bd04249cfb86925de44472483",
            "40beff31c8de4cb59a1dd54a85ea76a1",
            "13d4b1ab2ad94de0bf59ecf808535b82",
            "539e1f95caee43ac86a452c8f2ea7821",
            "fc083c6b1c9c48d0a135a88e568bc41c",
            "73a254954f464f0c95b4f8e346658b1a",
            "720790a9ca4f4470beb7b2ecd1067f38",
            "aac87493c08442f49936eaa914a467a9",
            "609a36d5e0ce40589280f5e973ce2fe6",
            "d3859221116c4e28bd870c7e36cf4259",
            "2352736c468d440f82f299b29740d3fe",
            "b20dcf6fed7e40faa690e1b343d20100",
            "f083649128504358905b88491f4b53dd",
            "7580c969a5934dd4958c39b038eaea9a",
            "cc8ff66e6d5e448bb209f32a75ec776f",
            "4ff2d709172f456397868249e8721d67",
            "0b752557d06e4fb0b14fceb00f20fcc8",
            "1c9edafb67f04331b444e502b69f0e4f",
            "abf9af30bd6e4edeabda2d1b54019afd",
            "71b50b90c5ff447caace89f15520f1a9",
            "0777e27ab3ab4614b9242dd10429b79f",
            "8b637ba0dde54d5e96c0661b7aaff439",
            "41396743f8b6422995b7249ab618c35e",
            "94c0916ae44145c1a756036a800904ce",
            "33c669d09e4744ff8fe74a569e2b6f70",
            "c312109fb59244ff8b369b880bf1a2e2",
            "0fb652f3b962448ebe06c7306ddb55a7",
            "617821c16e4e4cb0a98e20e9a58e240e",
            "14afc6206555417889dbd2be9dc3ff3e",
            "f2a5a286c7de4b399809e7f3e80140ce",
            "74b284ac96c54a119b794762d5789894",
            "d9acdd31971f4721b5ba8834adcc342f",
            "37c8c84b11314173a1d4218a28ddefe4",
            "67c45e571e7149d6a2839aa4bc77fc65",
            "0eaeff66dd7f4d09961af63a7a069aea",
            "18503dbd3b9b4e2eadc025ae0d10d3fe",
            "a8c192cada4140d3ac5fb5e38d1d75a3",
            "fd578d80dbc946699faef8c4f8493671",
            "bd5bc2f2c3384b4397e8600bf1411e0d",
            "8874944608c846168b5f8c23cdb0285b",
            "b65f22c109bb40a28155c25584df7a04",
            "888aa8a6d1294f62a2832a5e03dd9e51",
            "c35aefa8c9634b8cbd7c643c5b3507b8",
            "2edb2745f5b04e32b4e99cde85bcd7b8",
            "eb3df92431014389ab7bf9929849c387",
            "eacaea1c31ce46a1910bb6312ffa7931",
            "4ee921368ad2498da608a427014c922d",
            "4b1fc9833b0a4318997b2b7fb3a3b92b",
            "9ce405b726a34c54926c967aec8220c3"
          ]
        },
        "outputId": "19d2484e-2e1b-40c6-862b-cd403e095377",
        "id": "tl00QjpqDET7"
      },
      "execution_count": null,
      "outputs": [
        {
          "output_type": "display_data",
          "data": {
            "text/plain": [
              "Downloading (…)lve/main/config.json:   0%|          | 0.00/981 [00:00<?, ?B/s]"
            ],
            "application/vnd.jupyter.widget-view+json": {
              "version_major": 2,
              "version_minor": 0,
              "model_id": "753899f146844dfd96f1cedfc4272c98"
            }
          },
          "metadata": {}
        },
        {
          "output_type": "display_data",
          "data": {
            "text/plain": [
              "Downloading pytorch_model.bin:   0%|          | 0.00/134M [00:00<?, ?B/s]"
            ],
            "application/vnd.jupyter.widget-view+json": {
              "version_major": 2,
              "version_minor": 0,
              "model_id": "73a254954f464f0c95b4f8e346658b1a"
            }
          },
          "metadata": {}
        },
        {
          "output_type": "display_data",
          "data": {
            "text/plain": [
              "Downloading spiece.model:   0%|          | 0.00/5.65M [00:00<?, ?B/s]"
            ],
            "application/vnd.jupyter.widget-view+json": {
              "version_major": 2,
              "version_minor": 0,
              "model_id": "0b752557d06e4fb0b14fceb00f20fcc8"
            }
          },
          "metadata": {}
        },
        {
          "output_type": "display_data",
          "data": {
            "text/plain": [
              "Downloading (…)cial_tokens_map.json:   0%|          | 0.00/244 [00:00<?, ?B/s]"
            ],
            "application/vnd.jupyter.widget-view+json": {
              "version_major": 2,
              "version_minor": 0,
              "model_id": "617821c16e4e4cb0a98e20e9a58e240e"
            }
          },
          "metadata": {}
        },
        {
          "output_type": "display_data",
          "data": {
            "text/plain": [
              "Downloading (…)okenizer_config.json:   0%|          | 0.00/442 [00:00<?, ?B/s]"
            ],
            "application/vnd.jupyter.widget-view+json": {
              "version_major": 2,
              "version_minor": 0,
              "model_id": "bd5bc2f2c3384b4397e8600bf1411e0d"
            }
          },
          "metadata": {}
        }
      ]
    },
    {
      "cell_type": "code",
      "source": [
        "predictions, raw_outputs = model.predict(df_predict_sentiment_mr['text'].tolist())"
      ],
      "metadata": {
        "colab": {
          "base_uri": "https://localhost:8080/",
          "height": 81,
          "referenced_widgets": [
            "3db20179c36b49bf9f46377f6379b20e",
            "70d9d210227b4da0bcaf75cf1ee07f61",
            "67ae1e8161cc4f2fbd4762584b614d24",
            "9ddd08b645f747adb268a2eb1840f08d",
            "81fd854fb3b64377a6386184c8b2a180",
            "398d78e7a3074d6bbf2cdd3b26730c2d",
            "7a133fff5d4b4df29f6a492e0daff5dc",
            "067d7fb94d00462588565e69151059d6",
            "bccc855122f24e958cb8280c2bc78bca",
            "c177b8f3e1f24d76a61f471f739bdcc6",
            "5b0f1318025445daa81969fca50adda2",
            "c724765b05584904b7ae7b94bd47a44e",
            "0c9e98519e2546cf9b5cea2316bcec81",
            "eaa998bfdd2c4ace9ac96c5f0d9c3007",
            "79079464584b420697ac925196195ff0",
            "812bad3797044d05ae98868c2a48d828",
            "30dee2c2ec094b8e94af07429c88f1cf",
            "068624530667439b97e0c61011a6cc5b",
            "2c5de16823134981bfde6c61e7f986aa",
            "5e9acf12abd5425b8f7edf941788f905",
            "aa274c017f674605bd21120f5dc77d5d",
            "791a4b6ee43c4dae949783da70372dbc"
          ]
        },
        "outputId": "f7c2cf45-79b6-4dfe-f0e7-47936a708f7f",
        "id": "VAe9sMkuDET7"
      },
      "execution_count": null,
      "outputs": [
        {
          "output_type": "display_data",
          "data": {
            "text/plain": [
              "  0%|          | 0/100 [00:00<?, ?it/s]"
            ],
            "application/vnd.jupyter.widget-view+json": {
              "version_major": 2,
              "version_minor": 0,
              "model_id": "3db20179c36b49bf9f46377f6379b20e"
            }
          },
          "metadata": {}
        },
        {
          "output_type": "display_data",
          "data": {
            "text/plain": [
              "  0%|          | 0/13 [00:00<?, ?it/s]"
            ],
            "application/vnd.jupyter.widget-view+json": {
              "version_major": 2,
              "version_minor": 0,
              "model_id": "c724765b05584904b7ae7b94bd47a44e"
            }
          },
          "metadata": {}
        }
      ]
    },
    {
      "cell_type": "code",
      "source": [
        "predictions"
      ],
      "metadata": {
        "colab": {
          "base_uri": "https://localhost:8080/"
        },
        "outputId": "1e87d527-b54e-4fa0-b6c0-512cf46858ac",
        "id": "yKfbnegnDET8"
      },
      "execution_count": null,
      "outputs": [
        {
          "output_type": "execute_result",
          "data": {
            "text/plain": [
              "array([0, 2, 0, 2, 1, 0, 0, 0, 1, 2, 0, 0, 2, 2, 2, 0, 0, 0, 2, 1, 2, 1,\n",
              "       0, 2, 0, 0, 1, 2, 2, 1, 0, 0, 0, 2, 0, 2, 1, 0, 0, 0, 0, 0, 0, 2,\n",
              "       1, 0, 1, 1, 2, 2, 0, 0, 0, 0, 2, 1, 0, 2, 0, 0, 1, 2, 2, 2, 0, 0,\n",
              "       0, 2, 0, 0, 1, 2, 2, 2, 0, 1, 0, 0, 2, 0, 2, 2, 2, 1, 2, 0, 1, 2,\n",
              "       0, 1, 2, 2, 2, 0, 0, 0, 2, 1, 2, 2])"
            ]
          },
          "metadata": {},
          "execution_count": 11
        }
      ]
    },
    {
      "cell_type": "code",
      "source": [
        "df_mahasenti = pd.DataFrame(predictions, columns=['labels'])"
      ],
      "metadata": {
        "id": "M-UfnmyvDET8"
      },
      "execution_count": null,
      "outputs": []
    },
    {
      "cell_type": "code",
      "source": [],
      "metadata": {
        "id": "HHeDKs-xv0J7"
      },
      "execution_count": null,
      "outputs": []
    },
    {
      "cell_type": "code",
      "source": [
        "calculate_metrics(df_real_sentiment_mr['label'], df_mahasenti['labels'], 'MahaHate - L3Cube')"
      ],
      "metadata": {
        "colab": {
          "base_uri": "https://localhost:8080/"
        },
        "outputId": "dd255bf3-4b1c-4b0b-dbf6-2cdf1a96c681",
        "id": "USmSztDADET8"
      },
      "execution_count": null,
      "outputs": [
        {
          "output_type": "stream",
          "name": "stdout",
          "text": [
            "F1 Micro MahaHate - L3Cube :  0.8599999999999999\n",
            "F1 Macro: MahaHate - L3Cube :  0.8599999999999999\n",
            "Precision: MahaHate - L3Cube :  0.86\n",
            "Recall: MahaHate - L3Cube :  0.86\n",
            "Accuracy: MahaHate - L3Cube :  0.86\n"
          ]
        }
      ]
    },
    {
      "cell_type": "markdown",
      "source": [
        "### Hate Detection - Spanish - Hate = 1, NotHate = 0"
      ],
      "metadata": {
        "id": "KsJI3a9cRI9P"
      }
    },
    {
      "cell_type": "code",
      "source": [
        "df_real_hate_es = pd.read_csv('/content/hate_es_final.csv')"
      ],
      "metadata": {
        "id": "EGplv-UWRrqW"
      },
      "execution_count": null,
      "outputs": []
    },
    {
      "cell_type": "code",
      "source": [
        "df_real_hate_es['Tags'].value_counts()"
      ],
      "metadata": {
        "colab": {
          "base_uri": "https://localhost:8080/"
        },
        "outputId": "d5c1a965-5641-4f55-9719-25dc4b2f5d49",
        "id": "F3EUDCpNRrqf"
      },
      "execution_count": null,
      "outputs": [
        {
          "output_type": "execute_result",
          "data": {
            "text/plain": [
              "0    50\n",
              "1    50\n",
              "Name: Tags, dtype: int64"
            ]
          },
          "metadata": {},
          "execution_count": 8
        }
      ]
    },
    {
      "cell_type": "code",
      "source": [
        "df_real_hate_es['Tags']"
      ],
      "metadata": {
        "colab": {
          "base_uri": "https://localhost:8080/"
        },
        "outputId": "6efe7bbc-dab2-4df8-e1fb-7dfa1f287f8f",
        "id": "UDYIFKZPRrqf"
      },
      "execution_count": null,
      "outputs": [
        {
          "output_type": "execute_result",
          "data": {
            "text/plain": [
              "0     0\n",
              "1     1\n",
              "2     0\n",
              "3     0\n",
              "4     1\n",
              "     ..\n",
              "95    1\n",
              "96    1\n",
              "97    0\n",
              "98    1\n",
              "99    1\n",
              "Name: Tags, Length: 100, dtype: int64"
            ]
          },
          "metadata": {},
          "execution_count": 9
        }
      ]
    },
    {
      "cell_type": "markdown",
      "source": [
        "#### ChatGPT"
      ],
      "metadata": {
        "id": "tsmjxPIoSR0h"
      }
    },
    {
      "cell_type": "code",
      "source": [
        "df['hate_es_ChatGPT'].value_counts()"
      ],
      "metadata": {
        "colab": {
          "base_uri": "https://localhost:8080/"
        },
        "id": "i10OEUgbSAyD",
        "outputId": "8ebc2520-429f-4b87-a876-2966aea97d52"
      },
      "execution_count": null,
      "outputs": [
        {
          "output_type": "execute_result",
          "data": {
            "text/plain": [
              "hate        76\n",
              "not hate    24\n",
              "Name: hate_es_ChatGPT, dtype: int64"
            ]
          },
          "metadata": {},
          "execution_count": 11
        }
      ]
    },
    {
      "cell_type": "code",
      "source": [
        "label_to_num = {cuisine: i for i, cuisine in enumerate(df['hate_es_ChatGPT'].unique())}      \n",
        "num_to_label = {i: cuisine for cuisine, i in label_to_num.items()}"
      ],
      "metadata": {
        "id": "2UnNXTh6Sdfm"
      },
      "execution_count": null,
      "outputs": []
    },
    {
      "cell_type": "code",
      "source": [
        "print(label_to_num)\n",
        "print(\" \")\n",
        "print(num_to_label)"
      ],
      "metadata": {
        "colab": {
          "base_uri": "https://localhost:8080/"
        },
        "id": "5MFIHxQZSi4H",
        "outputId": "09b6f091-c16d-4de1-edfe-e15c4660b12d"
      },
      "execution_count": null,
      "outputs": [
        {
          "output_type": "stream",
          "name": "stdout",
          "text": [
            "{'not hate': 0, 'hate': 1}\n",
            " \n",
            "{0: 'not hate', 1: 'hate'}\n"
          ]
        }
      ]
    },
    {
      "cell_type": "code",
      "source": [
        "df['tokenized_hate_es_ChatGPT'] = df['hate_es_ChatGPT'].apply(lambda x: label_to_num[x])"
      ],
      "metadata": {
        "id": "fVEFkKofSkZ8"
      },
      "execution_count": null,
      "outputs": []
    },
    {
      "cell_type": "code",
      "source": [
        "calculate_metrics(df_real_hate_es['Tags'], df['tokenized_hate_es_ChatGPT'], 'ChatGPT')"
      ],
      "metadata": {
        "colab": {
          "base_uri": "https://localhost:8080/"
        },
        "id": "_wyvZI6WSqQo",
        "outputId": "1df30a66-c386-4b41-b3af-d95d39c1d5c9"
      },
      "execution_count": null,
      "outputs": [
        {
          "output_type": "stream",
          "name": "stdout",
          "text": [
            "F1 Micro ChatGPT :  0.68\n",
            "F1 Macro: ChatGPT :  0.6567996567996568\n",
            "Precision: ChatGPT :  0.7467105263157895\n",
            "Recall: ChatGPT :  0.68\n",
            "Accuracy: ChatGPT :  0.68\n"
          ]
        }
      ]
    },
    {
      "cell_type": "markdown",
      "source": [
        "#### Perplexity AI"
      ],
      "metadata": {
        "id": "5zeBZWMDS55t"
      }
    },
    {
      "cell_type": "code",
      "source": [
        "df['hate_es_Perplexity AI'].value_counts()"
      ],
      "metadata": {
        "colab": {
          "base_uri": "https://localhost:8080/"
        },
        "id": "VT4irZ9KS7GU",
        "outputId": "91c5954e-f780-4099-9c6f-0fbf62305ef2"
      },
      "execution_count": null,
      "outputs": [
        {
          "output_type": "execute_result",
          "data": {
            "text/plain": [
              "hate        71\n",
              "not hate    29\n",
              "Name: hate_es_Perplexity AI, dtype: int64"
            ]
          },
          "metadata": {},
          "execution_count": 17
        }
      ]
    },
    {
      "cell_type": "code",
      "source": [
        "label_to_num = {cuisine: i for i, cuisine in enumerate(df['hate_es_Perplexity AI'].unique())}      \n",
        "num_to_label = {i: cuisine for cuisine, i in label_to_num.items()}"
      ],
      "metadata": {
        "id": "QznlSmGaTEVF"
      },
      "execution_count": null,
      "outputs": []
    },
    {
      "cell_type": "code",
      "source": [
        "print(label_to_num)\n",
        "print(\" \")\n",
        "print(num_to_label)"
      ],
      "metadata": {
        "colab": {
          "base_uri": "https://localhost:8080/"
        },
        "outputId": "0d96af91-f1e9-4d5c-b9dd-573c0708bdec",
        "id": "74ezhdZyTEVF"
      },
      "execution_count": null,
      "outputs": [
        {
          "output_type": "stream",
          "name": "stdout",
          "text": [
            "{'not hate': 0, 'hate': 1}\n",
            " \n",
            "{0: 'not hate', 1: 'hate'}\n"
          ]
        }
      ]
    },
    {
      "cell_type": "code",
      "source": [
        "df['tokenized_hate_es_Perplexity_AI'] = df['hate_es_Perplexity AI'].apply(lambda x: label_to_num[x])"
      ],
      "metadata": {
        "id": "B9VB8UDHTEVF"
      },
      "execution_count": null,
      "outputs": []
    },
    {
      "cell_type": "code",
      "source": [
        "calculate_metrics(df_real_hate_es['Tags'], df['tokenized_hate_es_Perplexity_AI'], 'Perplexity AI')"
      ],
      "metadata": {
        "colab": {
          "base_uri": "https://localhost:8080/"
        },
        "outputId": "cf679fc7-b729-426a-eaa3-3ce1e918360a",
        "id": "cLYO2Y2wTEVG"
      },
      "execution_count": null,
      "outputs": [
        {
          "output_type": "stream",
          "name": "stdout",
          "text": [
            "F1 Micro Perplexity AI :  0.67\n",
            "F1 Macro: Perplexity AI :  0.6547756041426929\n",
            "Precision: Perplexity AI :  0.7064108790675084\n",
            "Recall: Perplexity AI :  0.67\n",
            "Accuracy: Perplexity AI :  0.67\n"
          ]
        }
      ]
    },
    {
      "cell_type": "markdown",
      "source": [
        "#### Hate-speech-CNERG/dehatebert-mono-spanish"
      ],
      "metadata": {
        "id": "MAtga_4YTQoG"
      }
    },
    {
      "cell_type": "code",
      "source": [
        "df_real_hate_es.head(3)"
      ],
      "metadata": {
        "colab": {
          "base_uri": "https://localhost:8080/",
          "height": 143
        },
        "id": "ljx8y7h-TygU",
        "outputId": "4601e58a-5582-43c8-f4bc-e4d98c529cb3"
      },
      "execution_count": null,
      "outputs": [
        {
          "output_type": "execute_result",
          "data": {
            "text/plain": [
              "   Unnamed: 0                                               Text  Tags\n",
              "0           0  Un coronel falangista de la Guardia Civil vend...     0\n",
              "1           1  respuesta de adrenocromo significa que eres ma...     1\n",
              "2           2  @CabraVoladoraST Si juegas al LoL ya sabes de ...     0"
            ],
            "text/html": [
              "\n",
              "  <div id=\"df-46024294-c8b8-4f33-97f7-359d06ce9376\">\n",
              "    <div class=\"colab-df-container\">\n",
              "      <div>\n",
              "<style scoped>\n",
              "    .dataframe tbody tr th:only-of-type {\n",
              "        vertical-align: middle;\n",
              "    }\n",
              "\n",
              "    .dataframe tbody tr th {\n",
              "        vertical-align: top;\n",
              "    }\n",
              "\n",
              "    .dataframe thead th {\n",
              "        text-align: right;\n",
              "    }\n",
              "</style>\n",
              "<table border=\"1\" class=\"dataframe\">\n",
              "  <thead>\n",
              "    <tr style=\"text-align: right;\">\n",
              "      <th></th>\n",
              "      <th>Unnamed: 0</th>\n",
              "      <th>Text</th>\n",
              "      <th>Tags</th>\n",
              "    </tr>\n",
              "  </thead>\n",
              "  <tbody>\n",
              "    <tr>\n",
              "      <th>0</th>\n",
              "      <td>0</td>\n",
              "      <td>Un coronel falangista de la Guardia Civil vend...</td>\n",
              "      <td>0</td>\n",
              "    </tr>\n",
              "    <tr>\n",
              "      <th>1</th>\n",
              "      <td>1</td>\n",
              "      <td>respuesta de adrenocromo significa que eres ma...</td>\n",
              "      <td>1</td>\n",
              "    </tr>\n",
              "    <tr>\n",
              "      <th>2</th>\n",
              "      <td>2</td>\n",
              "      <td>@CabraVoladoraST Si juegas al LoL ya sabes de ...</td>\n",
              "      <td>0</td>\n",
              "    </tr>\n",
              "  </tbody>\n",
              "</table>\n",
              "</div>\n",
              "      <button class=\"colab-df-convert\" onclick=\"convertToInteractive('df-46024294-c8b8-4f33-97f7-359d06ce9376')\"\n",
              "              title=\"Convert this dataframe to an interactive table.\"\n",
              "              style=\"display:none;\">\n",
              "        \n",
              "  <svg xmlns=\"http://www.w3.org/2000/svg\" height=\"24px\"viewBox=\"0 0 24 24\"\n",
              "       width=\"24px\">\n",
              "    <path d=\"M0 0h24v24H0V0z\" fill=\"none\"/>\n",
              "    <path d=\"M18.56 5.44l.94 2.06.94-2.06 2.06-.94-2.06-.94-.94-2.06-.94 2.06-2.06.94zm-11 1L8.5 8.5l.94-2.06 2.06-.94-2.06-.94L8.5 2.5l-.94 2.06-2.06.94zm10 10l.94 2.06.94-2.06 2.06-.94-2.06-.94-.94-2.06-.94 2.06-2.06.94z\"/><path d=\"M17.41 7.96l-1.37-1.37c-.4-.4-.92-.59-1.43-.59-.52 0-1.04.2-1.43.59L10.3 9.45l-7.72 7.72c-.78.78-.78 2.05 0 2.83L4 21.41c.39.39.9.59 1.41.59.51 0 1.02-.2 1.41-.59l7.78-7.78 2.81-2.81c.8-.78.8-2.07 0-2.86zM5.41 20L4 18.59l7.72-7.72 1.47 1.35L5.41 20z\"/>\n",
              "  </svg>\n",
              "      </button>\n",
              "      \n",
              "  <style>\n",
              "    .colab-df-container {\n",
              "      display:flex;\n",
              "      flex-wrap:wrap;\n",
              "      gap: 12px;\n",
              "    }\n",
              "\n",
              "    .colab-df-convert {\n",
              "      background-color: #E8F0FE;\n",
              "      border: none;\n",
              "      border-radius: 50%;\n",
              "      cursor: pointer;\n",
              "      display: none;\n",
              "      fill: #1967D2;\n",
              "      height: 32px;\n",
              "      padding: 0 0 0 0;\n",
              "      width: 32px;\n",
              "    }\n",
              "\n",
              "    .colab-df-convert:hover {\n",
              "      background-color: #E2EBFA;\n",
              "      box-shadow: 0px 1px 2px rgba(60, 64, 67, 0.3), 0px 1px 3px 1px rgba(60, 64, 67, 0.15);\n",
              "      fill: #174EA6;\n",
              "    }\n",
              "\n",
              "    [theme=dark] .colab-df-convert {\n",
              "      background-color: #3B4455;\n",
              "      fill: #D2E3FC;\n",
              "    }\n",
              "\n",
              "    [theme=dark] .colab-df-convert:hover {\n",
              "      background-color: #434B5C;\n",
              "      box-shadow: 0px 1px 3px 1px rgba(0, 0, 0, 0.15);\n",
              "      filter: drop-shadow(0px 1px 2px rgba(0, 0, 0, 0.3));\n",
              "      fill: #FFFFFF;\n",
              "    }\n",
              "  </style>\n",
              "\n",
              "      <script>\n",
              "        const buttonEl =\n",
              "          document.querySelector('#df-46024294-c8b8-4f33-97f7-359d06ce9376 button.colab-df-convert');\n",
              "        buttonEl.style.display =\n",
              "          google.colab.kernel.accessAllowed ? 'block' : 'none';\n",
              "\n",
              "        async function convertToInteractive(key) {\n",
              "          const element = document.querySelector('#df-46024294-c8b8-4f33-97f7-359d06ce9376');\n",
              "          const dataTable =\n",
              "            await google.colab.kernel.invokeFunction('convertToInteractive',\n",
              "                                                     [key], {});\n",
              "          if (!dataTable) return;\n",
              "\n",
              "          const docLinkHtml = 'Like what you see? Visit the ' +\n",
              "            '<a target=\"_blank\" href=https://colab.research.google.com/notebooks/data_table.ipynb>data table notebook</a>'\n",
              "            + ' to learn more about interactive tables.';\n",
              "          element.innerHTML = '';\n",
              "          dataTable['output_type'] = 'display_data';\n",
              "          await google.colab.output.renderOutput(dataTable, element);\n",
              "          const docLink = document.createElement('div');\n",
              "          docLink.innerHTML = docLinkHtml;\n",
              "          element.appendChild(docLink);\n",
              "        }\n",
              "      </script>\n",
              "    </div>\n",
              "  </div>\n",
              "  "
            ]
          },
          "metadata": {},
          "execution_count": 25
        }
      ]
    },
    {
      "cell_type": "code",
      "source": [
        "df_predict_hate_es = df_real_hate_es[['Text']]"
      ],
      "metadata": {
        "id": "a9EFu46DTN6d"
      },
      "execution_count": null,
      "outputs": []
    },
    {
      "cell_type": "code",
      "source": [
        "model = ClassificationModel(\"bert\", \"Hate-speech-CNERG/dehatebert-mono-spanish\")"
      ],
      "metadata": {
        "colab": {
          "base_uri": "https://localhost:8080/",
          "height": 177,
          "referenced_widgets": [
            "6fe54239ffb9460aa17bd301e195fcca",
            "41841d0d2b6b42de80e414a5e61098b5",
            "07fe014653bb417ea28d5407bf31abb8",
            "ed76c55516ec4f9ea9a2d477b2c0cfe7",
            "b67b73465fac4756aaee85ad1b4e6538",
            "90a7d75cfc514943adde8850e4c7313f",
            "93d9cbeac44e45bb9e0086afde4a7c87",
            "b798d7d1c8b346019a5fc3ff89b9da6d",
            "75a65602dff041829f7a08bd4a5ff418",
            "b61ea315dc0d47118b2a2f985fad513a",
            "35bdddfcf06e4acdab46543b32ddd1ab",
            "0f61262e4bc64a4583b55c629878955d",
            "b3da364a09ce4e558c3b0a02ab2e8fd8",
            "9cb94fe98e6a4106a3134160bcf422e7",
            "22896d3e633d4836b858389540e7e767",
            "dec7029f5cbc447fa0705141d7312637",
            "3aef0278df1d4b7e9163b59c0a023ce0",
            "47f79598902c454790a2d71f9bebfbb2",
            "83085ef6ebbc4362b887908d73d08e10",
            "3ca0569b0edf4a55880e63d2d476d7ed",
            "09b7ff000ca44cbd9494d2bfb025e5d3",
            "5abeb399c9ba45ceb025b6fedb5a5483",
            "2c11d949ad2540be87a943207334e25c",
            "1ee5aa5b235442288c14c030a90124e3",
            "199ffb27a29a4564a6286ece7f4a278e",
            "5af694601d43408e9589d2b02c3da576",
            "2f5cfa21473d467a8de4ace5a1d381bd",
            "362b6bd54f8f41b5af7bb7dbd15a83a7",
            "04dd8b7dcf2b4c53ba32bada458de123",
            "6bad437df42d457ca98f0f69e3641d03",
            "92c64459fd2b4640bd1ac0af5baa277b",
            "182469d331244462847847c935172ec7",
            "9d02695c1b074ba49569c71ab91e10cf",
            "790d92ca9f924c9e922bc8ed7f2a6156",
            "16760c5898414dc99900e93604e7b53a",
            "fa37ed7d63bc464a879d1b774afde4c5",
            "83022ebdef324206b465464d45533508",
            "90515795e32a42a48d3ebf9fe224b447",
            "8921715a88f64b499d6c4737ab2c239a",
            "30dd158b17274ac18e92130604a7ff77",
            "9e0409440b0a49fb838ba034bfd4a950",
            "3a6b76d02ad64a1ebafbb9c5ef422d2c",
            "3163c76a973e412bbe00bbfa202e3186",
            "bd20d62cad7f476496ac1759e0dbaf67",
            "51962d0b95334daf88886791626308d1",
            "324da9fe8f4241c486105123255b58dd",
            "475853fade7e40d7b59b89f5486aa81a",
            "8fc3e59e81b542d5b757e71d896899f2",
            "96ea6304e564453c839336c2ff0e263b",
            "f280239969764d05a0439399962b4e97",
            "1272f8a6f3154285af2c15ef62f43251",
            "6d200f9cb6184caa9b9aa535a4ccdbc8",
            "d12a28d4cf1843f0b7b0166093387d94",
            "8b07a59c5b014deca44d9642e5efa6b5",
            "4a6f11aeebcb4366bb766d83c57b4704"
          ]
        },
        "id": "zu8sMFBuT-Zn",
        "outputId": "ec5b5c1b-c21c-44e3-a9f3-0af6a1b0fe45"
      },
      "execution_count": null,
      "outputs": [
        {
          "output_type": "display_data",
          "data": {
            "text/plain": [
              "Downloading (…)lve/main/config.json:   0%|          | 0.00/1.23k [00:00<?, ?B/s]"
            ],
            "application/vnd.jupyter.widget-view+json": {
              "version_major": 2,
              "version_minor": 0,
              "model_id": "6fe54239ffb9460aa17bd301e195fcca"
            }
          },
          "metadata": {}
        },
        {
          "output_type": "display_data",
          "data": {
            "text/plain": [
              "Downloading pytorch_model.bin:   0%|          | 0.00/669M [00:00<?, ?B/s]"
            ],
            "application/vnd.jupyter.widget-view+json": {
              "version_major": 2,
              "version_minor": 0,
              "model_id": "0f61262e4bc64a4583b55c629878955d"
            }
          },
          "metadata": {}
        },
        {
          "output_type": "display_data",
          "data": {
            "text/plain": [
              "Downloading (…)okenizer_config.json:   0%|          | 0.00/152 [00:00<?, ?B/s]"
            ],
            "application/vnd.jupyter.widget-view+json": {
              "version_major": 2,
              "version_minor": 0,
              "model_id": "2c11d949ad2540be87a943207334e25c"
            }
          },
          "metadata": {}
        },
        {
          "output_type": "display_data",
          "data": {
            "text/plain": [
              "Downloading (…)solve/main/vocab.txt:   0%|          | 0.00/872k [00:00<?, ?B/s]"
            ],
            "application/vnd.jupyter.widget-view+json": {
              "version_major": 2,
              "version_minor": 0,
              "model_id": "790d92ca9f924c9e922bc8ed7f2a6156"
            }
          },
          "metadata": {}
        },
        {
          "output_type": "display_data",
          "data": {
            "text/plain": [
              "Downloading (…)cial_tokens_map.json:   0%|          | 0.00/112 [00:00<?, ?B/s]"
            ],
            "application/vnd.jupyter.widget-view+json": {
              "version_major": 2,
              "version_minor": 0,
              "model_id": "51962d0b95334daf88886791626308d1"
            }
          },
          "metadata": {}
        }
      ]
    },
    {
      "cell_type": "code",
      "source": [
        "predictions, raw_outputs = model.predict(df_predict_hate_es['Text'].tolist())"
      ],
      "metadata": {
        "colab": {
          "base_uri": "https://localhost:8080/",
          "height": 81,
          "referenced_widgets": [
            "0201e9e4cfce4cca916180efc817aece",
            "4ce3528163b8451b850ccefb7b773ccb",
            "4be9159ba8304f6ab53e9b969ed2ef42",
            "1b95d27412cf46c0a8bdded420d25df3",
            "ff54a5880fd44fd49244f60015b5fc08",
            "22e221d436484357899196964fa35502",
            "6d860a7a9476441fa4da45415069319f",
            "0d086d6697fb4ed6be1a2ab91b584216",
            "7a3da99cbf144e9485b8b0026036f535",
            "ddc10bed793944179d66f275beecbfe4",
            "79517f2ae97e4dddba3dfe4e97086c8b",
            "8ffae093703a456c8a8fe0c75a635150",
            "6f4299c7f9a2400e9a74ffb39de567e6",
            "0a37c7acc4434998a2349fb3ec5e79ab",
            "1cb00871fea54c65ac48e8277d147f5a",
            "699a5827f7914164b873da78a04cec3b",
            "1cb42bca0f9a44c09c9f33f0164462b6",
            "4ad960e8d3ac4bb2bfa9e39f6edf08e8",
            "b11caecba0324624b36b2454136b6bb0",
            "5a193ad50c4d4da38ce5cca8f22f137b",
            "c1ed768db5c8471a8c727de83d197706",
            "d83bc42fe5d148a281ea75c48fac3a19"
          ]
        },
        "id": "amxnm6URUEXY",
        "outputId": "da3d873c-c88b-4f0c-85ef-97af9e58aebc"
      },
      "execution_count": null,
      "outputs": [
        {
          "output_type": "display_data",
          "data": {
            "text/plain": [
              "  0%|          | 0/100 [00:00<?, ?it/s]"
            ],
            "application/vnd.jupyter.widget-view+json": {
              "version_major": 2,
              "version_minor": 0,
              "model_id": "0201e9e4cfce4cca916180efc817aece"
            }
          },
          "metadata": {}
        },
        {
          "output_type": "display_data",
          "data": {
            "text/plain": [
              "  0%|          | 0/13 [00:00<?, ?it/s]"
            ],
            "application/vnd.jupyter.widget-view+json": {
              "version_major": 2,
              "version_minor": 0,
              "model_id": "8ffae093703a456c8a8fe0c75a635150"
            }
          },
          "metadata": {}
        }
      ]
    },
    {
      "cell_type": "code",
      "source": [
        "df_dehatebert = pd.DataFrame(predictions, columns=['labels'])"
      ],
      "metadata": {
        "id": "wm_RREQFUJcT"
      },
      "execution_count": null,
      "outputs": []
    },
    {
      "cell_type": "code",
      "source": [
        "calculate_metrics(df_real_hate_es['Tags'], df_dehatebert['labels'], 'DeHate')"
      ],
      "metadata": {
        "colab": {
          "base_uri": "https://localhost:8080/"
        },
        "id": "06IPkuC3UP0j",
        "outputId": "8aa5bdc2-1913-4ae6-ea37-30c9476b7c95"
      },
      "execution_count": null,
      "outputs": [
        {
          "output_type": "stream",
          "name": "stdout",
          "text": [
            "F1 Micro DeHate :  0.66\n",
            "F1 Macro: DeHate :  0.6458333333333334\n",
            "Precision: DeHate :  0.6904761904761905\n",
            "Recall: DeHate :  0.66\n",
            "Accuracy: DeHate :  0.66\n"
          ]
        }
      ]
    },
    {
      "cell_type": "markdown",
      "source": [
        "### Sentiment Analysis - Spanish - Positive(1), Neutral(0),  Negative(-1)"
      ],
      "metadata": {
        "id": "dJNtxwniVjpy"
      }
    },
    {
      "cell_type": "code",
      "source": [
        "df_real_sentiment_es = pd.read_csv('/content/sentiment_es_final.csv')"
      ],
      "metadata": {
        "id": "mRmkWuIPUXLC"
      },
      "execution_count": null,
      "outputs": []
    },
    {
      "cell_type": "code",
      "source": [
        "df_real_sentiment_es['Tags'].value_counts()"
      ],
      "metadata": {
        "colab": {
          "base_uri": "https://localhost:8080/"
        },
        "id": "xKZRvOAZV1ud",
        "outputId": "f864eadf-f523-47c9-d90f-b13fab54dd79"
      },
      "execution_count": null,
      "outputs": [
        {
          "output_type": "execute_result",
          "data": {
            "text/plain": [
              "NEU    33\n",
              "N      33\n",
              "P      33\n",
              "Name: Tags, dtype: int64"
            ]
          },
          "metadata": {},
          "execution_count": 7
        }
      ]
    },
    {
      "cell_type": "code",
      "source": [
        "label_to_num = {'N': -1, 'NEU': 0, 'P': 1}\n",
        "num_to_label = {-1: 'N', 0: 'NEU', 1: 'P'}"
      ],
      "metadata": {
        "id": "lr43Wn6uWVuU"
      },
      "execution_count": null,
      "outputs": []
    },
    {
      "cell_type": "code",
      "source": [
        "print(label_to_num)\n",
        "print(\" \")\n",
        "print(num_to_label)"
      ],
      "metadata": {
        "colab": {
          "base_uri": "https://localhost:8080/"
        },
        "outputId": "d61f5fdb-337c-4da9-de99-c9b3cbccaa7f",
        "id": "n0uCjh8sWVuU"
      },
      "execution_count": null,
      "outputs": [
        {
          "output_type": "stream",
          "name": "stdout",
          "text": [
            "{'N': -1, 'NEU': 0, 'P': 1}\n",
            " \n",
            "{-1: 'N', 0: 'NEU', 1: 'P'}\n"
          ]
        }
      ]
    },
    {
      "cell_type": "code",
      "source": [
        "df_real_sentiment_es['tokeinzed_Tags'] = df_real_sentiment_es['Tags'].apply(lambda x: label_to_num[x])"
      ],
      "metadata": {
        "id": "4emAuY-LWVuV"
      },
      "execution_count": null,
      "outputs": []
    },
    {
      "cell_type": "code",
      "source": [
        "df_real_sentiment_es['tokeinzed_Tags']"
      ],
      "metadata": {
        "colab": {
          "base_uri": "https://localhost:8080/"
        },
        "outputId": "e9ccf409-a1e8-4c5d-b169-8c050e3eecd5",
        "id": "j10FJbDnWVuV"
      },
      "execution_count": null,
      "outputs": [
        {
          "output_type": "execute_result",
          "data": {
            "text/plain": [
              "0     0\n",
              "1    -1\n",
              "2     1\n",
              "3     1\n",
              "4     0\n",
              "     ..\n",
              "94   -1\n",
              "95    0\n",
              "96    1\n",
              "97    1\n",
              "98    0\n",
              "Name: tokeinzed_Tags, Length: 99, dtype: int64"
            ]
          },
          "metadata": {},
          "execution_count": 11
        }
      ]
    },
    {
      "cell_type": "markdown",
      "source": [
        "#### ChatGPT"
      ],
      "metadata": {
        "id": "Pv9nnpavWtEu"
      }
    },
    {
      "cell_type": "code",
      "source": [
        "df['sentiment_es_ChatGPT'].value_counts()"
      ],
      "metadata": {
        "colab": {
          "base_uri": "https://localhost:8080/"
        },
        "id": "VhnuzVkqWnB4",
        "outputId": "26d02d5d-e548-4092-a195-c1733f90335f"
      },
      "execution_count": null,
      "outputs": [
        {
          "output_type": "execute_result",
          "data": {
            "text/plain": [
              "0 negative     1\n",
              "74 negative    1\n",
              "72 neutral     1\n",
              "71 negative    1\n",
              "70 positive    1\n",
              "              ..\n",
              "30 neutral     1\n",
              "29 positive    1\n",
              "28 positive    1\n",
              "27 negative    1\n",
              "98 neutral     1\n",
              "Name: sentiment_es_ChatGPT, Length: 99, dtype: int64"
            ]
          },
          "metadata": {},
          "execution_count": 80
        }
      ]
    },
    {
      "cell_type": "code",
      "source": [
        "def remove_substrings(df, column_name):\n",
        "  df[column_name] = df[column_name].str.replace('\\d+', '', regex=True)\n",
        "  df[column_name] = df[column_name].str.replace(' ', '')\n",
        "  return df"
      ],
      "metadata": {
        "id": "_SRK7FxXW5G1"
      },
      "execution_count": null,
      "outputs": []
    },
    {
      "cell_type": "code",
      "source": [
        "df = remove_substrings(df, 'sentiment_es_ChatGPT')"
      ],
      "metadata": {
        "id": "oPtyx4rtW5HB"
      },
      "execution_count": null,
      "outputs": []
    },
    {
      "cell_type": "code",
      "source": [
        "df['sentiment_es_ChatGPT'].unique()"
      ],
      "metadata": {
        "colab": {
          "base_uri": "https://localhost:8080/"
        },
        "outputId": "3f8e5fe6-daf7-42d2-851e-5cce64c1bfb8",
        "id": "iHCxJZf7W5HB"
      },
      "execution_count": null,
      "outputs": [
        {
          "output_type": "execute_result",
          "data": {
            "text/plain": [
              "array(['negative', 'positive', 'neutral', nan], dtype=object)"
            ]
          },
          "metadata": {},
          "execution_count": 83
        }
      ]
    },
    {
      "cell_type": "code",
      "source": [
        "df = df.dropna(subset=['sentiment_es_ChatGPT'])"
      ],
      "metadata": {
        "id": "zBpHvVrrY-kt"
      },
      "execution_count": null,
      "outputs": []
    },
    {
      "cell_type": "code",
      "source": [
        "df['sentiment_es_ChatGPT'].unique()"
      ],
      "metadata": {
        "colab": {
          "base_uri": "https://localhost:8080/"
        },
        "id": "5Hibk5cUZJZq",
        "outputId": "d6628e8a-057b-484c-f82e-cac6126ecab9"
      },
      "execution_count": null,
      "outputs": [
        {
          "output_type": "execute_result",
          "data": {
            "text/plain": [
              "array(['negative', 'positive', 'neutral'], dtype=object)"
            ]
          },
          "metadata": {},
          "execution_count": 85
        }
      ]
    },
    {
      "cell_type": "code",
      "source": [
        "label_to_num = {'negative': -1, 'neutral': 0, 'positive': 1}\n",
        "num_to_label = {-1: 'negative', 0: 'neutral', 1: 'positive'}"
      ],
      "metadata": {
        "id": "mZ37zIrFXOLX"
      },
      "execution_count": null,
      "outputs": []
    },
    {
      "cell_type": "code",
      "source": [
        "print(label_to_num)\n",
        "print(\" \")\n",
        "print(num_to_label)"
      ],
      "metadata": {
        "colab": {
          "base_uri": "https://localhost:8080/"
        },
        "outputId": "8954b19f-5b4e-4929-a3d3-c69269c44785",
        "id": "Pdh2V3DAXOLY"
      },
      "execution_count": null,
      "outputs": [
        {
          "output_type": "stream",
          "name": "stdout",
          "text": [
            "{'negative': -1, 'neutral': 0, 'positive': 1}\n",
            " \n",
            "{-1: 'negative', 0: 'neutral', 1: 'positive'}\n"
          ]
        }
      ]
    },
    {
      "cell_type": "code",
      "source": [
        "df['tokenized_sentiment_es_ChatGPT'] = df['sentiment_es_ChatGPT'].apply(lambda x: label_to_num[x])"
      ],
      "metadata": {
        "id": "Ri2s1x3lXOLY"
      },
      "execution_count": null,
      "outputs": []
    },
    {
      "cell_type": "code",
      "source": [
        "len(df['tokenized_sentiment_es_ChatGPT'])"
      ],
      "metadata": {
        "colab": {
          "base_uri": "https://localhost:8080/"
        },
        "id": "9FXS5yUuYW4l",
        "outputId": "85e5b0b6-ab9c-47dc-a6e1-5e68ebfb5282"
      },
      "execution_count": null,
      "outputs": [
        {
          "output_type": "execute_result",
          "data": {
            "text/plain": [
              "99"
            ]
          },
          "metadata": {},
          "execution_count": 89
        }
      ]
    },
    {
      "cell_type": "code",
      "source": [
        "calculate_metrics(df_real_sentiment_es['tokeinzed_Tags'], df['tokenized_sentiment_es_ChatGPT'], 'ChatGPT')"
      ],
      "metadata": {
        "colab": {
          "base_uri": "https://localhost:8080/"
        },
        "id": "262TVuzYXB2-",
        "outputId": "0ad9b4b2-6e93-45ac-f853-c3ebf2e89af8"
      },
      "execution_count": null,
      "outputs": [
        {
          "output_type": "stream",
          "name": "stdout",
          "text": [
            "F1 Micro ChatGPT :  0.696969696969697\n",
            "F1 Macro: ChatGPT :  0.6949626865671643\n",
            "Precision: ChatGPT :  0.6935483870967741\n",
            "Recall: ChatGPT :  0.696969696969697\n",
            "Accuracy: ChatGPT :  0.696969696969697\n"
          ]
        }
      ]
    },
    {
      "cell_type": "markdown",
      "source": [
        "#### Perplexity AI"
      ],
      "metadata": {
        "id": "-umNgciqZk_T"
      }
    },
    {
      "cell_type": "code",
      "source": [
        "df['sentiment_es_Perplexity AI'].value_counts()"
      ],
      "metadata": {
        "colab": {
          "base_uri": "https://localhost:8080/"
        },
        "outputId": "298f349a-4315-43d3-f5ae-6a65415dd67f",
        "id": "FAwsSK_xZpAN"
      },
      "execution_count": null,
      "outputs": [
        {
          "output_type": "execute_result",
          "data": {
            "text/plain": [
              "neutral     37\n",
              "positive    31\n",
              "negative    30\n",
              "mixed        1\n",
              "Name: sentiment_es_Perplexity AI, dtype: int64"
            ]
          },
          "metadata": {},
          "execution_count": 91
        }
      ]
    },
    {
      "cell_type": "code",
      "source": [
        "df['sentiment_es_Perplexity AI'].unique()"
      ],
      "metadata": {
        "colab": {
          "base_uri": "https://localhost:8080/"
        },
        "id": "PP7_XE4OZv_u",
        "outputId": "78cf23ea-8110-4f67-93df-0b50230b14e9"
      },
      "execution_count": null,
      "outputs": [
        {
          "output_type": "execute_result",
          "data": {
            "text/plain": [
              "array(['negative', 'positive', 'neutral', 'mixed'], dtype=object)"
            ]
          },
          "metadata": {},
          "execution_count": 92
        }
      ]
    },
    {
      "cell_type": "code",
      "source": [
        "def remove_substrings(df, column_name):\n",
        "  df[column_name] = df[column_name].str.replace('mixed', 'negative')\n",
        "  return df"
      ],
      "metadata": {
        "id": "hRMc9Y7WZpAc"
      },
      "execution_count": null,
      "outputs": []
    },
    {
      "cell_type": "code",
      "source": [
        "df = remove_substrings(df, 'sentiment_es_Perplexity AI')"
      ],
      "metadata": {
        "id": "OUp3r5nQZpAc"
      },
      "execution_count": null,
      "outputs": []
    },
    {
      "cell_type": "code",
      "source": [
        "df['sentiment_es_Perplexity AI'].unique()"
      ],
      "metadata": {
        "colab": {
          "base_uri": "https://localhost:8080/"
        },
        "outputId": "924ccb0b-18d4-42fe-ef0b-941da9fd2ff3",
        "id": "icLkv_-KZpAc"
      },
      "execution_count": null,
      "outputs": [
        {
          "output_type": "execute_result",
          "data": {
            "text/plain": [
              "array(['negative', 'positive', 'neutral'], dtype=object)"
            ]
          },
          "metadata": {},
          "execution_count": 96
        }
      ]
    },
    {
      "cell_type": "code",
      "source": [
        "label_to_num = {'negative': -1, 'neutral': 0, 'positive': 1}\n",
        "num_to_label = {-1: 'negative', 0: 'neutral', 1: 'positive'}"
      ],
      "metadata": {
        "id": "G5JGE89pZpAc"
      },
      "execution_count": null,
      "outputs": []
    },
    {
      "cell_type": "code",
      "source": [
        "print(label_to_num)\n",
        "print(\" \")\n",
        "print(num_to_label)"
      ],
      "metadata": {
        "colab": {
          "base_uri": "https://localhost:8080/"
        },
        "outputId": "994ebc54-2db4-4e2c-e644-b44101231654",
        "id": "ZL_8u_pKZpAc"
      },
      "execution_count": null,
      "outputs": [
        {
          "output_type": "stream",
          "name": "stdout",
          "text": [
            "{'negative': -1, 'neutral': 0, 'positive': 1}\n",
            " \n",
            "{-1: 'negative', 0: 'neutral', 1: 'positive'}\n"
          ]
        }
      ]
    },
    {
      "cell_type": "code",
      "source": [
        "df['tokenized_sentiment_es_Perplexity_AI'] = df['sentiment_es_Perplexity AI'].apply(lambda x: label_to_num[x])"
      ],
      "metadata": {
        "id": "wmELXjz7ZpAd"
      },
      "execution_count": null,
      "outputs": []
    },
    {
      "cell_type": "code",
      "source": [
        "len(df['tokenized_sentiment_es_Perplexity_AI'])"
      ],
      "metadata": {
        "colab": {
          "base_uri": "https://localhost:8080/"
        },
        "outputId": "f9e7ce7e-1176-4767-ce69-6b673d45d201",
        "id": "mNGtJsjvZpAd"
      },
      "execution_count": null,
      "outputs": [
        {
          "output_type": "execute_result",
          "data": {
            "text/plain": [
              "99"
            ]
          },
          "metadata": {},
          "execution_count": 100
        }
      ]
    },
    {
      "cell_type": "code",
      "source": [
        "calculate_metrics(df_real_sentiment_es['tokeinzed_Tags'], df['tokenized_sentiment_es_Perplexity_AI'], 'Perplexity AI')"
      ],
      "metadata": {
        "colab": {
          "base_uri": "https://localhost:8080/"
        },
        "outputId": "00e589fb-b7b1-4ec0-a0e6-969eba406066",
        "id": "bqFZb6-1ZpAd"
      },
      "execution_count": null,
      "outputs": [
        {
          "output_type": "stream",
          "name": "stdout",
          "text": [
            "F1 Micro Perplexity AI :  0.6565656565656566\n",
            "F1 Macro: Perplexity AI :  0.6601190476190476\n",
            "Precision: Perplexity AI :  0.6657948270851496\n",
            "Recall: Perplexity AI :  0.6565656565656566\n",
            "Accuracy: Perplexity AI :  0.6565656565656566\n"
          ]
        }
      ]
    },
    {
      "cell_type": "markdown",
      "source": [
        "#### pysentimiento"
      ],
      "metadata": {
        "id": "ijMHXGzXaSn5"
      }
    },
    {
      "cell_type": "code",
      "source": [
        "df_real_sentiment_es.head(3)"
      ],
      "metadata": {
        "colab": {
          "base_uri": "https://localhost:8080/",
          "height": 143
        },
        "id": "VN724Nvbac2G",
        "outputId": "ddfc9042-5645-4869-de0b-91380a76a6c5"
      },
      "execution_count": null,
      "outputs": [
        {
          "output_type": "execute_result",
          "data": {
            "text/plain": [
              "   Unnamed: 0                                               Text Tags  \\\n",
              "0           0     @lantoli podemos usar el término.equipo pepino  NEU   \n",
              "1           1  @ISanDesign @Hobby_Consolas jaja y por que lo ...    N   \n",
              "2           2  Cosas que enamora las tostadas calentitas a es...    P   \n",
              "\n",
              "   tokeinzed_Tags  \n",
              "0               0  \n",
              "1              -1  \n",
              "2               1  "
            ],
            "text/html": [
              "\n",
              "  <div id=\"df-70ec9888-e561-403f-b8d8-3171cbe03d53\">\n",
              "    <div class=\"colab-df-container\">\n",
              "      <div>\n",
              "<style scoped>\n",
              "    .dataframe tbody tr th:only-of-type {\n",
              "        vertical-align: middle;\n",
              "    }\n",
              "\n",
              "    .dataframe tbody tr th {\n",
              "        vertical-align: top;\n",
              "    }\n",
              "\n",
              "    .dataframe thead th {\n",
              "        text-align: right;\n",
              "    }\n",
              "</style>\n",
              "<table border=\"1\" class=\"dataframe\">\n",
              "  <thead>\n",
              "    <tr style=\"text-align: right;\">\n",
              "      <th></th>\n",
              "      <th>Unnamed: 0</th>\n",
              "      <th>Text</th>\n",
              "      <th>Tags</th>\n",
              "      <th>tokeinzed_Tags</th>\n",
              "    </tr>\n",
              "  </thead>\n",
              "  <tbody>\n",
              "    <tr>\n",
              "      <th>0</th>\n",
              "      <td>0</td>\n",
              "      <td>@lantoli podemos usar el término.equipo pepino</td>\n",
              "      <td>NEU</td>\n",
              "      <td>0</td>\n",
              "    </tr>\n",
              "    <tr>\n",
              "      <th>1</th>\n",
              "      <td>1</td>\n",
              "      <td>@ISanDesign @Hobby_Consolas jaja y por que lo ...</td>\n",
              "      <td>N</td>\n",
              "      <td>-1</td>\n",
              "    </tr>\n",
              "    <tr>\n",
              "      <th>2</th>\n",
              "      <td>2</td>\n",
              "      <td>Cosas que enamora las tostadas calentitas a es...</td>\n",
              "      <td>P</td>\n",
              "      <td>1</td>\n",
              "    </tr>\n",
              "  </tbody>\n",
              "</table>\n",
              "</div>\n",
              "      <button class=\"colab-df-convert\" onclick=\"convertToInteractive('df-70ec9888-e561-403f-b8d8-3171cbe03d53')\"\n",
              "              title=\"Convert this dataframe to an interactive table.\"\n",
              "              style=\"display:none;\">\n",
              "        \n",
              "  <svg xmlns=\"http://www.w3.org/2000/svg\" height=\"24px\"viewBox=\"0 0 24 24\"\n",
              "       width=\"24px\">\n",
              "    <path d=\"M0 0h24v24H0V0z\" fill=\"none\"/>\n",
              "    <path d=\"M18.56 5.44l.94 2.06.94-2.06 2.06-.94-2.06-.94-.94-2.06-.94 2.06-2.06.94zm-11 1L8.5 8.5l.94-2.06 2.06-.94-2.06-.94L8.5 2.5l-.94 2.06-2.06.94zm10 10l.94 2.06.94-2.06 2.06-.94-2.06-.94-.94-2.06-.94 2.06-2.06.94z\"/><path d=\"M17.41 7.96l-1.37-1.37c-.4-.4-.92-.59-1.43-.59-.52 0-1.04.2-1.43.59L10.3 9.45l-7.72 7.72c-.78.78-.78 2.05 0 2.83L4 21.41c.39.39.9.59 1.41.59.51 0 1.02-.2 1.41-.59l7.78-7.78 2.81-2.81c.8-.78.8-2.07 0-2.86zM5.41 20L4 18.59l7.72-7.72 1.47 1.35L5.41 20z\"/>\n",
              "  </svg>\n",
              "      </button>\n",
              "      \n",
              "  <style>\n",
              "    .colab-df-container {\n",
              "      display:flex;\n",
              "      flex-wrap:wrap;\n",
              "      gap: 12px;\n",
              "    }\n",
              "\n",
              "    .colab-df-convert {\n",
              "      background-color: #E8F0FE;\n",
              "      border: none;\n",
              "      border-radius: 50%;\n",
              "      cursor: pointer;\n",
              "      display: none;\n",
              "      fill: #1967D2;\n",
              "      height: 32px;\n",
              "      padding: 0 0 0 0;\n",
              "      width: 32px;\n",
              "    }\n",
              "\n",
              "    .colab-df-convert:hover {\n",
              "      background-color: #E2EBFA;\n",
              "      box-shadow: 0px 1px 2px rgba(60, 64, 67, 0.3), 0px 1px 3px 1px rgba(60, 64, 67, 0.15);\n",
              "      fill: #174EA6;\n",
              "    }\n",
              "\n",
              "    [theme=dark] .colab-df-convert {\n",
              "      background-color: #3B4455;\n",
              "      fill: #D2E3FC;\n",
              "    }\n",
              "\n",
              "    [theme=dark] .colab-df-convert:hover {\n",
              "      background-color: #434B5C;\n",
              "      box-shadow: 0px 1px 3px 1px rgba(0, 0, 0, 0.15);\n",
              "      filter: drop-shadow(0px 1px 2px rgba(0, 0, 0, 0.3));\n",
              "      fill: #FFFFFF;\n",
              "    }\n",
              "  </style>\n",
              "\n",
              "      <script>\n",
              "        const buttonEl =\n",
              "          document.querySelector('#df-70ec9888-e561-403f-b8d8-3171cbe03d53 button.colab-df-convert');\n",
              "        buttonEl.style.display =\n",
              "          google.colab.kernel.accessAllowed ? 'block' : 'none';\n",
              "\n",
              "        async function convertToInteractive(key) {\n",
              "          const element = document.querySelector('#df-70ec9888-e561-403f-b8d8-3171cbe03d53');\n",
              "          const dataTable =\n",
              "            await google.colab.kernel.invokeFunction('convertToInteractive',\n",
              "                                                     [key], {});\n",
              "          if (!dataTable) return;\n",
              "\n",
              "          const docLinkHtml = 'Like what you see? Visit the ' +\n",
              "            '<a target=\"_blank\" href=https://colab.research.google.com/notebooks/data_table.ipynb>data table notebook</a>'\n",
              "            + ' to learn more about interactive tables.';\n",
              "          element.innerHTML = '';\n",
              "          dataTable['output_type'] = 'display_data';\n",
              "          await google.colab.output.renderOutput(dataTable, element);\n",
              "          const docLink = document.createElement('div');\n",
              "          docLink.innerHTML = docLinkHtml;\n",
              "          element.appendChild(docLink);\n",
              "        }\n",
              "      </script>\n",
              "    </div>\n",
              "  </div>\n",
              "  "
            ]
          },
          "metadata": {},
          "execution_count": 12
        }
      ]
    },
    {
      "cell_type": "code",
      "source": [
        "df_predict_sentiment_es = df_real_sentiment_es[['Text']]"
      ],
      "metadata": {
        "id": "akMdWoE3aFGg"
      },
      "execution_count": null,
      "outputs": []
    },
    {
      "cell_type": "code",
      "source": [
        "df_predict_sentiment_es.head(3)"
      ],
      "metadata": {
        "colab": {
          "base_uri": "https://localhost:8080/",
          "height": 143
        },
        "id": "YGlly4yGafw3",
        "outputId": "f741e05c-1a30-426f-f33f-01a6f029353c"
      },
      "execution_count": null,
      "outputs": [
        {
          "output_type": "execute_result",
          "data": {
            "text/plain": [
              "                                                Text\n",
              "0     @lantoli podemos usar el término.equipo pepino\n",
              "1  @ISanDesign @Hobby_Consolas jaja y por que lo ...\n",
              "2  Cosas que enamora las tostadas calentitas a es..."
            ],
            "text/html": [
              "\n",
              "  <div id=\"df-43ef6dc1-db46-488a-a8c4-ba0a00a58227\">\n",
              "    <div class=\"colab-df-container\">\n",
              "      <div>\n",
              "<style scoped>\n",
              "    .dataframe tbody tr th:only-of-type {\n",
              "        vertical-align: middle;\n",
              "    }\n",
              "\n",
              "    .dataframe tbody tr th {\n",
              "        vertical-align: top;\n",
              "    }\n",
              "\n",
              "    .dataframe thead th {\n",
              "        text-align: right;\n",
              "    }\n",
              "</style>\n",
              "<table border=\"1\" class=\"dataframe\">\n",
              "  <thead>\n",
              "    <tr style=\"text-align: right;\">\n",
              "      <th></th>\n",
              "      <th>Text</th>\n",
              "    </tr>\n",
              "  </thead>\n",
              "  <tbody>\n",
              "    <tr>\n",
              "      <th>0</th>\n",
              "      <td>@lantoli podemos usar el término.equipo pepino</td>\n",
              "    </tr>\n",
              "    <tr>\n",
              "      <th>1</th>\n",
              "      <td>@ISanDesign @Hobby_Consolas jaja y por que lo ...</td>\n",
              "    </tr>\n",
              "    <tr>\n",
              "      <th>2</th>\n",
              "      <td>Cosas que enamora las tostadas calentitas a es...</td>\n",
              "    </tr>\n",
              "  </tbody>\n",
              "</table>\n",
              "</div>\n",
              "      <button class=\"colab-df-convert\" onclick=\"convertToInteractive('df-43ef6dc1-db46-488a-a8c4-ba0a00a58227')\"\n",
              "              title=\"Convert this dataframe to an interactive table.\"\n",
              "              style=\"display:none;\">\n",
              "        \n",
              "  <svg xmlns=\"http://www.w3.org/2000/svg\" height=\"24px\"viewBox=\"0 0 24 24\"\n",
              "       width=\"24px\">\n",
              "    <path d=\"M0 0h24v24H0V0z\" fill=\"none\"/>\n",
              "    <path d=\"M18.56 5.44l.94 2.06.94-2.06 2.06-.94-2.06-.94-.94-2.06-.94 2.06-2.06.94zm-11 1L8.5 8.5l.94-2.06 2.06-.94-2.06-.94L8.5 2.5l-.94 2.06-2.06.94zm10 10l.94 2.06.94-2.06 2.06-.94-2.06-.94-.94-2.06-.94 2.06-2.06.94z\"/><path d=\"M17.41 7.96l-1.37-1.37c-.4-.4-.92-.59-1.43-.59-.52 0-1.04.2-1.43.59L10.3 9.45l-7.72 7.72c-.78.78-.78 2.05 0 2.83L4 21.41c.39.39.9.59 1.41.59.51 0 1.02-.2 1.41-.59l7.78-7.78 2.81-2.81c.8-.78.8-2.07 0-2.86zM5.41 20L4 18.59l7.72-7.72 1.47 1.35L5.41 20z\"/>\n",
              "  </svg>\n",
              "      </button>\n",
              "      \n",
              "  <style>\n",
              "    .colab-df-container {\n",
              "      display:flex;\n",
              "      flex-wrap:wrap;\n",
              "      gap: 12px;\n",
              "    }\n",
              "\n",
              "    .colab-df-convert {\n",
              "      background-color: #E8F0FE;\n",
              "      border: none;\n",
              "      border-radius: 50%;\n",
              "      cursor: pointer;\n",
              "      display: none;\n",
              "      fill: #1967D2;\n",
              "      height: 32px;\n",
              "      padding: 0 0 0 0;\n",
              "      width: 32px;\n",
              "    }\n",
              "\n",
              "    .colab-df-convert:hover {\n",
              "      background-color: #E2EBFA;\n",
              "      box-shadow: 0px 1px 2px rgba(60, 64, 67, 0.3), 0px 1px 3px 1px rgba(60, 64, 67, 0.15);\n",
              "      fill: #174EA6;\n",
              "    }\n",
              "\n",
              "    [theme=dark] .colab-df-convert {\n",
              "      background-color: #3B4455;\n",
              "      fill: #D2E3FC;\n",
              "    }\n",
              "\n",
              "    [theme=dark] .colab-df-convert:hover {\n",
              "      background-color: #434B5C;\n",
              "      box-shadow: 0px 1px 3px 1px rgba(0, 0, 0, 0.15);\n",
              "      filter: drop-shadow(0px 1px 2px rgba(0, 0, 0, 0.3));\n",
              "      fill: #FFFFFF;\n",
              "    }\n",
              "  </style>\n",
              "\n",
              "      <script>\n",
              "        const buttonEl =\n",
              "          document.querySelector('#df-43ef6dc1-db46-488a-a8c4-ba0a00a58227 button.colab-df-convert');\n",
              "        buttonEl.style.display =\n",
              "          google.colab.kernel.accessAllowed ? 'block' : 'none';\n",
              "\n",
              "        async function convertToInteractive(key) {\n",
              "          const element = document.querySelector('#df-43ef6dc1-db46-488a-a8c4-ba0a00a58227');\n",
              "          const dataTable =\n",
              "            await google.colab.kernel.invokeFunction('convertToInteractive',\n",
              "                                                     [key], {});\n",
              "          if (!dataTable) return;\n",
              "\n",
              "          const docLinkHtml = 'Like what you see? Visit the ' +\n",
              "            '<a target=\"_blank\" href=https://colab.research.google.com/notebooks/data_table.ipynb>data table notebook</a>'\n",
              "            + ' to learn more about interactive tables.';\n",
              "          element.innerHTML = '';\n",
              "          dataTable['output_type'] = 'display_data';\n",
              "          await google.colab.output.renderOutput(dataTable, element);\n",
              "          const docLink = document.createElement('div');\n",
              "          docLink.innerHTML = docLinkHtml;\n",
              "          element.appendChild(docLink);\n",
              "        }\n",
              "      </script>\n",
              "    </div>\n",
              "  </div>\n",
              "  "
            ]
          },
          "metadata": {},
          "execution_count": 14
        }
      ]
    },
    {
      "cell_type": "code",
      "source": [
        "df_pred = analyzer.predict(df_predict_sentiment_es['Text'].tolist())"
      ],
      "metadata": {
        "colab": {
          "base_uri": "https://localhost:8080/",
          "height": 17,
          "referenced_widgets": [
            "6f438a3b385744f6aaf7e78b5d0d51fe",
            "2fc5350a77d144189f77d2eed765c365",
            "893c8c87af8e46f1b1b9382700c6a5a4",
            "5c1cf29269c247269235d25fa2b8103b",
            "d76eb86c9648422696b6b4ba913a26ca",
            "0fb6d0157dba428bae3a519c0b33c356",
            "8c5e22d7553c413190bcfe9da277668a",
            "bb948b0b35074fa7b038f1cba49e1521",
            "c91a702a1d9743a9a6ee380490f44490",
            "50a832e4b8cc48a7aa41bca380e5d052",
            "d57d1f39d7a44fcea2a7bb118ab6b316"
          ]
        },
        "id": "Iz9GVEmAahlv",
        "outputId": "8fdb4649-e4f4-490f-e5fb-e6351e980f90"
      },
      "execution_count": null,
      "outputs": [
        {
          "output_type": "display_data",
          "data": {
            "text/plain": [
              "Map:   0%|          | 0/99 [00:00<?, ? examples/s]"
            ],
            "application/vnd.jupyter.widget-view+json": {
              "version_major": 2,
              "version_minor": 0,
              "model_id": "6f438a3b385744f6aaf7e78b5d0d51fe"
            }
          },
          "metadata": {}
        }
      ]
    },
    {
      "cell_type": "code",
      "source": [
        "str(df_pred[0])[22:25]"
      ],
      "metadata": {
        "colab": {
          "base_uri": "https://localhost:8080/",
          "height": 35
        },
        "id": "GKuw7FqUIKR-",
        "outputId": "a58077ff-f404-4577-f533-9ece1181ad0a"
      },
      "execution_count": null,
      "outputs": [
        {
          "output_type": "execute_result",
          "data": {
            "text/plain": [
              "'NEU'"
            ],
            "application/vnd.google.colaboratory.intrinsic+json": {
              "type": "string"
            }
          },
          "metadata": {},
          "execution_count": 27
        }
      ]
    },
    {
      "cell_type": "code",
      "source": [
        "pred_list = list() \n",
        "for i in range(len(df_pred)):\n",
        "  pred_list.append(str(df_pred[i])[22:25])"
      ],
      "metadata": {
        "id": "YN0Mjjj3ISiZ"
      },
      "execution_count": null,
      "outputs": []
    },
    {
      "cell_type": "code",
      "source": [
        "print(pred_list)"
      ],
      "metadata": {
        "colab": {
          "base_uri": "https://localhost:8080/"
        },
        "id": "Vp1ft7lBJUuO",
        "outputId": "086cb15c-6d8f-48fb-a546-302c61777dd8"
      },
      "execution_count": null,
      "outputs": [
        {
          "output_type": "stream",
          "name": "stdout",
          "text": [
            "['NEU', 'NEG', 'POS', 'POS', 'NEU', 'NEG', 'POS', 'NEG', 'NEG', 'POS', 'NEU', 'POS', 'NEG', 'NEU', 'POS', 'NEU', 'NEG', 'POS', 'POS', 'NEG', 'NEU', 'NEG', 'POS', 'NEG', 'POS', 'NEU', 'POS', 'NEG', 'NEG', 'POS', 'POS', 'POS', 'NEG', 'NEG', 'NEU', 'NEG', 'NEU', 'NEG', 'NEU', 'POS', 'POS', 'NEU', 'NEG', 'POS', 'NEG', 'NEG', 'POS', 'NEG', 'POS', 'POS', 'POS', 'NEG', 'NEG', 'NEG', 'NEG', 'POS', 'NEG', 'POS', 'NEG', 'POS', 'POS', 'POS', 'POS', 'POS', 'POS', 'NEU', 'NEG', 'POS', 'NEU', 'NEU', 'POS', 'NEG', 'NEG', 'NEU', 'NEG', 'NEU', 'POS', 'NEG', 'NEG', 'NEG', 'NEU', 'NEG', 'NEG', 'POS', 'POS', 'NEU', 'NEU', 'POS', 'NEU', 'NEG', 'POS', 'NEG', 'NEG', 'NEG', 'NEG', 'POS', 'NEG', 'POS', 'NEU']\n"
          ]
        }
      ]
    },
    {
      "cell_type": "code",
      "source": [
        "df_prediction = pd.DataFrame(pred_list, columns=['Labels'])"
      ],
      "metadata": {
        "id": "rG6ESSgzJWRA"
      },
      "execution_count": null,
      "outputs": []
    },
    {
      "cell_type": "code",
      "source": [
        "df_prediction['Labels'].value_counts()"
      ],
      "metadata": {
        "colab": {
          "base_uri": "https://localhost:8080/"
        },
        "id": "9zWZNVi9JguR",
        "outputId": "4a3ade81-95cd-4342-f4ce-41df5459f126"
      },
      "execution_count": null,
      "outputs": [
        {
          "output_type": "execute_result",
          "data": {
            "text/plain": [
              "NEG    40\n",
              "POS    38\n",
              "NEU    21\n",
              "Name: Labels, dtype: int64"
            ]
          },
          "metadata": {},
          "execution_count": 31
        }
      ]
    },
    {
      "cell_type": "code",
      "source": [
        "label_to_num = {'NEG': -1, 'NEU': 0, 'POS': 1}\n",
        "num_to_label = {-1: 'NEG', 0: 'NEU', 1: 'POS'}"
      ],
      "metadata": {
        "id": "I1iv1HaaJje8"
      },
      "execution_count": null,
      "outputs": []
    },
    {
      "cell_type": "code",
      "source": [
        "print(label_to_num)\n",
        "print(\" \")\n",
        "print(num_to_label)"
      ],
      "metadata": {
        "colab": {
          "base_uri": "https://localhost:8080/"
        },
        "id": "MFfXdXHMJpSj",
        "outputId": "02744893-427a-44b6-f5d7-27f79ea460af"
      },
      "execution_count": null,
      "outputs": [
        {
          "output_type": "stream",
          "name": "stdout",
          "text": [
            "{'NEG': -1, 'NEU': 0, 'POS': 1}\n",
            " \n",
            "{-1: 'NEG', 0: 'NEU', 1: 'POS'}\n"
          ]
        }
      ]
    },
    {
      "cell_type": "code",
      "source": [
        "df_prediction['tokenized_sentiment_es_pysentimiento'] = df_prediction['Labels'].apply(lambda x: label_to_num[x])"
      ],
      "metadata": {
        "id": "NwJmhmETJq4U"
      },
      "execution_count": null,
      "outputs": []
    },
    {
      "cell_type": "code",
      "source": [
        "calculate_metrics(df_real_sentiment_es['tokeinzed_Tags'], df_prediction['tokenized_sentiment_es_pysentimiento'], 'pysentimiento')"
      ],
      "metadata": {
        "colab": {
          "base_uri": "https://localhost:8080/"
        },
        "id": "XjJcXNNDKKod",
        "outputId": "01c24777-8030-4165-9ec9-f7102b175426"
      },
      "execution_count": null,
      "outputs": [
        {
          "output_type": "stream",
          "name": "stdout",
          "text": [
            "F1 Micro pysentimiento :  0.7373737373737375\n",
            "F1 Macro: pysentimiento :  0.722068586046977\n",
            "Precision: pysentimiento :  0.7337092731829573\n",
            "Recall: pysentimiento :  0.7373737373737373\n",
            "Accuracy: pysentimiento :  0.7373737373737373\n"
          ]
        }
      ]
    }
  ]
}